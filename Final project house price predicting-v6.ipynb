{
 "cells": [
  {
   "cell_type": "markdown",
   "id": "heated-material",
   "metadata": {},
   "source": [
    "Library "
   ]
  },
  {
   "cell_type": "code",
   "execution_count": 1,
   "id": "imported-activity",
   "metadata": {},
   "outputs": [],
   "source": [
    "import pandas as pd\n",
    "import numpy as np\n",
    "from datetime import datetime\n",
    "import missingno as msno\n",
    "import glob\n",
    "\n",
    "import seaborn as sns\n",
    "import matplotlib.pyplot as plt\n",
    "import seaborn\n",
    "\n",
    "import warnings\n",
    "warnings.filterwarnings('ignore')"
   ]
  },
  {
   "cell_type": "markdown",
   "id": "related-western",
   "metadata": {},
   "source": [
    "# Import data"
   ]
  },
  {
   "cell_type": "markdown",
   "id": "accredited-activity",
   "metadata": {},
   "source": [
    "Importer les donnee avec géolocolisation"
   ]
  },
  {
   "cell_type": "code",
   "execution_count": 5,
   "id": "chemical-recipient",
   "metadata": {},
   "outputs": [],
   "source": [
    "# les columns a supprimer\n",
    "col_include = ['date_mutation', 'nature_mutation', 'valeur_fonciere',\n",
    "               'adresse_numero',  'code_postal', 'code_commune', 'nom_commune',\n",
    "               'code_departement', 'nombre_lots', 'code_type_local', 'type_local', 'surface_reelle_bati',\n",
    "               'nombre_pieces_principales','surface_terrain']\n",
    "# transformer la columne en datetime\n",
    "dateparse = lambda x: datetime.strptime(x, '%Y-%m-%d')\n",
    "data_types = {'code_postal':'string',\n",
    "              'adresse_numero': 'Int64',\n",
    "              'nombre_lots':'Int16',\n",
    "              'surface_reelle_bati': 'Float32',\n",
    "              'nombre_pieces_principales': 'Int8',\n",
    "              'surface_terrain':'Float32',\n",
    "              'code_commune':'object'}\n",
    "# dtype code postal string\n",
    "valeur_fonciere_geo_2020 = pd.read_csv('datasets/full2020.csv', sep=\",\", \n",
    "                                   parse_dates=['date_mutation'], date_parser=dateparse, \n",
    "                                   dtype=data_types,usecols=col_include)\n",
    "valeur_fonciere_geo_2019 = pd.read_csv('datasets/full2019.csv', sep=\",\", \n",
    "                                   parse_dates=['date_mutation'], date_parser=dateparse, \n",
    "                                   dtype=data_types,usecols=col_include)\n",
    "valeur_fonciere_geo_2018 = pd.read_csv('datasets/full2018.csv', sep=\",\", \n",
    "                                   parse_dates=['date_mutation'], date_parser=dateparse, \n",
    "                                   dtype=data_types,usecols=col_include)\n",
    "valeur_fonciere_geo_2017 = pd.read_csv('datasets/full2017.csv', sep=\",\", \n",
    "                                   parse_dates=['date_mutation'], date_parser=dateparse, \n",
    "                                   dtype=data_types,usecols=col_include)\n",
    "valeur_fonciere_geo_2016 = pd.read_csv('datasets/full2016.csv', sep=\",\", \n",
    "                                   parse_dates=['date_mutation'], date_parser=dateparse, \n",
    "                                   dtype=data_types,usecols=col_include)\n",
    "valeur_fonciere_geo_2015 = pd.read_csv('datasets/full2015.csv', sep=\",\", \n",
    "                                   parse_dates=['date_mutation'], date_parser=dateparse, \n",
    "                                   dtype=data_types,usecols=col_include)"
   ]
  },
  {
   "cell_type": "code",
   "execution_count": 7,
   "id": "average-royalty",
   "metadata": {},
   "outputs": [],
   "source": [
    "frames_geo = [valeur_fonciere_geo_2020, valeur_fonciere_geo_2019, valeur_fonciere_geo_2018, \n",
    "              valeur_fonciere_geo_2017, valeur_fonciere_geo_2016, valeur_fonciere_geo_2015]\n",
    "df_geo_foncier = pd.concat(frames_geo)"
   ]
  },
  {
   "cell_type": "code",
   "execution_count": 8,
   "id": "brutal-debate",
   "metadata": {
    "scrolled": false
   },
   "outputs": [
    {
     "name": "stdout",
     "output_type": "stream",
     "text": [
      "<class 'pandas.core.frame.DataFrame'>\n",
      "Int64Index: 16359982 entries, 0 to 2750304\n",
      "Data columns (total 14 columns):\n",
      " #   Column                     Dtype         \n",
      "---  ------                     -----         \n",
      " 0   date_mutation              datetime64[ns]\n",
      " 1   nature_mutation            object        \n",
      " 2   valeur_fonciere            float64       \n",
      " 3   adresse_numero             Int64         \n",
      " 4   code_postal                string        \n",
      " 5   code_commune               object        \n",
      " 6   nom_commune                object        \n",
      " 7   code_departement           object        \n",
      " 8   nombre_lots                Int16         \n",
      " 9   code_type_local            float64       \n",
      " 10  type_local                 object        \n",
      " 11  surface_reelle_bati        Float32       \n",
      " 12  nombre_pieces_principales  Int8          \n",
      " 13  surface_terrain            Float32       \n",
      "dtypes: Float32(2), Int16(1), Int64(1), Int8(1), datetime64[ns](1), float64(2), object(5), string(1)\n",
      "memory usage: 1.6+ GB\n"
     ]
    }
   ],
   "source": [
    "df_geo_foncier.info()"
   ]
  },
  {
   "cell_type": "markdown",
   "id": "armed-reader",
   "metadata": {},
   "source": [
    "Recherche des doublons"
   ]
  },
  {
   "cell_type": "code",
   "execution_count": 9,
   "id": "formal-donor",
   "metadata": {
    "scrolled": true
   },
   "outputs": [
    {
     "name": "stdout",
     "output_type": "stream",
     "text": [
      "Suppression des doublons: 1639201\n"
     ]
    }
   ],
   "source": [
    "# Drop duplicates\n",
    "initial_length = len(df_geo_foncier)\n",
    "df_geo_foncier.drop_duplicates(inplace=True)\n",
    "print(\"Suppression des doublons: {}\".format(initial_length-len(df_geo_foncier)))"
   ]
  },
  {
   "cell_type": "markdown",
   "id": "phantom-convergence",
   "metadata": {},
   "source": [
    "supprimer les transactions repetees"
   ]
  },
  {
   "cell_type": "code",
   "execution_count": 10,
   "id": "retained-cloud",
   "metadata": {},
   "outputs": [
    {
     "name": "stdout",
     "output_type": "stream",
     "text": [
      "origine 14720781\n",
      "apres 1009960\n"
     ]
    }
   ],
   "source": [
    "print('origine',len(df_geo_foncier.index))\n",
    "df_geo_foncier = df_geo_foncier.groupby(['date_mutation','valeur_fonciere']).filter(lambda x: len(x) == 1)\n",
    "print('apres',len(df_geo_foncier.index))"
   ]
  },
  {
   "cell_type": "markdown",
   "id": "psychological-parcel",
   "metadata": {},
   "source": [
    "Construire la dataframe de maison et appartement"
   ]
  },
  {
   "cell_type": "code",
   "execution_count": 11,
   "id": "terminal-peeing",
   "metadata": {
    "scrolled": true
   },
   "outputs": [
    {
     "data": {
      "text/html": [
       "<div>\n",
       "<style scoped>\n",
       "    .dataframe tbody tr th:only-of-type {\n",
       "        vertical-align: middle;\n",
       "    }\n",
       "\n",
       "    .dataframe tbody tr th {\n",
       "        vertical-align: top;\n",
       "    }\n",
       "\n",
       "    .dataframe thead th {\n",
       "        text-align: right;\n",
       "    }\n",
       "</style>\n",
       "<table border=\"1\" class=\"dataframe\">\n",
       "  <thead>\n",
       "    <tr style=\"text-align: right;\">\n",
       "      <th></th>\n",
       "      <th>date_mutation</th>\n",
       "      <th>nature_mutation</th>\n",
       "      <th>valeur_fonciere</th>\n",
       "      <th>adresse_numero</th>\n",
       "      <th>code_postal</th>\n",
       "      <th>Code INSEE</th>\n",
       "      <th>nom_commune</th>\n",
       "      <th>code_departement</th>\n",
       "      <th>nombre_lots</th>\n",
       "      <th>code_type_local</th>\n",
       "      <th>type_local</th>\n",
       "      <th>surface_reelle_bati</th>\n",
       "      <th>nombre_pieces_principales</th>\n",
       "      <th>surface_terrain</th>\n",
       "    </tr>\n",
       "  </thead>\n",
       "  <tbody>\n",
       "    <tr>\n",
       "      <th>4</th>\n",
       "      <td>2020-01-22</td>\n",
       "      <td>Vente</td>\n",
       "      <td>209950.0</td>\n",
       "      <td>11</td>\n",
       "      <td>01000</td>\n",
       "      <td>01053</td>\n",
       "      <td>Bourg-en-Bresse</td>\n",
       "      <td>1</td>\n",
       "      <td>0</td>\n",
       "      <td>1.0</td>\n",
       "      <td>Maison</td>\n",
       "      <td>78.0</td>\n",
       "      <td>5</td>\n",
       "      <td>242.0</td>\n",
       "    </tr>\n",
       "    <tr>\n",
       "      <th>9</th>\n",
       "      <td>2020-01-16</td>\n",
       "      <td>Vente</td>\n",
       "      <td>207170.0</td>\n",
       "      <td>10</td>\n",
       "      <td>01000</td>\n",
       "      <td>01053</td>\n",
       "      <td>Bourg-en-Bresse</td>\n",
       "      <td>1</td>\n",
       "      <td>1</td>\n",
       "      <td>1.0</td>\n",
       "      <td>Maison</td>\n",
       "      <td>106.0</td>\n",
       "      <td>4</td>\n",
       "      <td>&lt;NA&gt;</td>\n",
       "    </tr>\n",
       "    <tr>\n",
       "      <th>20</th>\n",
       "      <td>2020-01-30</td>\n",
       "      <td>Vente</td>\n",
       "      <td>164650.0</td>\n",
       "      <td>37</td>\n",
       "      <td>01000</td>\n",
       "      <td>01053</td>\n",
       "      <td>Bourg-en-Bresse</td>\n",
       "      <td>1</td>\n",
       "      <td>0</td>\n",
       "      <td>1.0</td>\n",
       "      <td>Maison</td>\n",
       "      <td>90.0</td>\n",
       "      <td>4</td>\n",
       "      <td>212.0</td>\n",
       "    </tr>\n",
       "    <tr>\n",
       "      <th>44</th>\n",
       "      <td>2020-01-16</td>\n",
       "      <td>Vente</td>\n",
       "      <td>167490.0</td>\n",
       "      <td>5065</td>\n",
       "      <td>01340</td>\n",
       "      <td>01229</td>\n",
       "      <td>Malafretaz</td>\n",
       "      <td>1</td>\n",
       "      <td>0</td>\n",
       "      <td>1.0</td>\n",
       "      <td>Maison</td>\n",
       "      <td>160.0</td>\n",
       "      <td>5</td>\n",
       "      <td>1278.0</td>\n",
       "    </tr>\n",
       "    <tr>\n",
       "      <th>63</th>\n",
       "      <td>2020-01-13</td>\n",
       "      <td>Vente</td>\n",
       "      <td>153248.0</td>\n",
       "      <td>1671</td>\n",
       "      <td>01290</td>\n",
       "      <td>01334</td>\n",
       "      <td>Saint-André-d'Huiriat</td>\n",
       "      <td>1</td>\n",
       "      <td>0</td>\n",
       "      <td>1.0</td>\n",
       "      <td>Maison</td>\n",
       "      <td>203.0</td>\n",
       "      <td>6</td>\n",
       "      <td>1673.0</td>\n",
       "    </tr>\n",
       "  </tbody>\n",
       "</table>\n",
       "</div>"
      ],
      "text/plain": [
       "   date_mutation nature_mutation  valeur_fonciere  adresse_numero code_postal  \\\n",
       "4     2020-01-22           Vente         209950.0              11       01000   \n",
       "9     2020-01-16           Vente         207170.0              10       01000   \n",
       "20    2020-01-30           Vente         164650.0              37       01000   \n",
       "44    2020-01-16           Vente         167490.0            5065       01340   \n",
       "63    2020-01-13           Vente         153248.0            1671       01290   \n",
       "\n",
       "   Code INSEE            nom_commune code_departement  nombre_lots  \\\n",
       "4       01053        Bourg-en-Bresse                1            0   \n",
       "9       01053        Bourg-en-Bresse                1            1   \n",
       "20      01053        Bourg-en-Bresse                1            0   \n",
       "44      01229             Malafretaz                1            0   \n",
       "63      01334  Saint-André-d'Huiriat                1            0   \n",
       "\n",
       "    code_type_local type_local  surface_reelle_bati  \\\n",
       "4               1.0     Maison                 78.0   \n",
       "9               1.0     Maison                106.0   \n",
       "20              1.0     Maison                 90.0   \n",
       "44              1.0     Maison                160.0   \n",
       "63              1.0     Maison                203.0   \n",
       "\n",
       "    nombre_pieces_principales  surface_terrain  \n",
       "4                           5            242.0  \n",
       "9                           4             <NA>  \n",
       "20                          4            212.0  \n",
       "44                          5           1278.0  \n",
       "63                          6           1673.0  "
      ]
     },
     "execution_count": 11,
     "metadata": {},
     "output_type": "execute_result"
    }
   ],
   "source": [
    "# df_MA = maison + appartment\n",
    "df_geo_foncier.rename(columns={'code_commune':'Code INSEE'}, inplace=True)\n",
    "df_MA = df_geo_foncier[(df_geo_foncier['type_local'].isin(['Maison','Appartement']))&(df_geo_foncier['nature_mutation']=='Vente')]\n",
    "\n",
    "df_MA.head()"
   ]
  },
  {
   "cell_type": "markdown",
   "id": "otherwise-weekly",
   "metadata": {},
   "source": [
    "# Clean data"
   ]
  },
  {
   "cell_type": "markdown",
   "id": "subjective-clinton",
   "metadata": {},
   "source": [
    "Présentation statistique les pourcentage des vides"
   ]
  },
  {
   "cell_type": "code",
   "execution_count": 12,
   "id": "protective-mining",
   "metadata": {},
   "outputs": [],
   "source": [
    "# Missing assessment function \n",
    "def missing_values_assessment(df):\n",
    "    nan_values = df.isnull().sum().sum()\n",
    "    print('Nombre d\\'observations: {:,}'.format(len(df.index)))\n",
    "    print('Nombre de valeurs: {:,}'.format(df.size))\n",
    "    print('Valeurs manquantes: {:,}'.format(nan_values))\n",
    "    print('Qualité des données: {}%'.format(100-round((nan_values/df.size)*100,2)))\n",
    "    print('Type de données:\\n {}%'.format(df.dtypes.value_counts()))\n",
    "    analysis = {'Manquant': df.isnull().sum(),\n",
    "                'Manquant %':round((df.isnull().sum()/len(df))*100, 2),\n",
    "                'Type':df.dtypes\n",
    "               }\n",
    "    return pd.DataFrame(analysis)"
   ]
  },
  {
   "cell_type": "code",
   "execution_count": 13,
   "id": "absolute-printing",
   "metadata": {
    "scrolled": true
   },
   "outputs": [
    {
     "name": "stdout",
     "output_type": "stream",
     "text": [
      "Nombre d'observations: 531,070\n",
      "Nombre de valeurs: 7,434,980\n",
      "Valeurs manquantes: 244,803\n",
      "Qualité des données: 96.71%\n",
      "Type de données:\n",
      " object            5\n",
      "Float32           2\n",
      "float64           2\n",
      "Int64             1\n",
      "datetime64[ns]    1\n",
      "Int8              1\n",
      "Int16             1\n",
      "string            1\n",
      "dtype: int64%\n"
     ]
    },
    {
     "data": {
      "text/html": [
       "<div>\n",
       "<style scoped>\n",
       "    .dataframe tbody tr th:only-of-type {\n",
       "        vertical-align: middle;\n",
       "    }\n",
       "\n",
       "    .dataframe tbody tr th {\n",
       "        vertical-align: top;\n",
       "    }\n",
       "\n",
       "    .dataframe thead th {\n",
       "        text-align: right;\n",
       "    }\n",
       "</style>\n",
       "<table border=\"1\" class=\"dataframe\">\n",
       "  <thead>\n",
       "    <tr style=\"text-align: right;\">\n",
       "      <th></th>\n",
       "      <th>Manquant</th>\n",
       "      <th>Manquant %</th>\n",
       "      <th>Type</th>\n",
       "    </tr>\n",
       "  </thead>\n",
       "  <tbody>\n",
       "    <tr>\n",
       "      <th>surface_terrain</th>\n",
       "      <td>241090</td>\n",
       "      <td>45.40</td>\n",
       "      <td>Float32</td>\n",
       "    </tr>\n",
       "    <tr>\n",
       "      <th>adresse_numero</th>\n",
       "      <td>3460</td>\n",
       "      <td>0.65</td>\n",
       "      <td>Int64</td>\n",
       "    </tr>\n",
       "    <tr>\n",
       "      <th>code_postal</th>\n",
       "      <td>235</td>\n",
       "      <td>0.04</td>\n",
       "      <td>string</td>\n",
       "    </tr>\n",
       "    <tr>\n",
       "      <th>date_mutation</th>\n",
       "      <td>0</td>\n",
       "      <td>0.00</td>\n",
       "      <td>datetime64[ns]</td>\n",
       "    </tr>\n",
       "    <tr>\n",
       "      <th>nature_mutation</th>\n",
       "      <td>0</td>\n",
       "      <td>0.00</td>\n",
       "      <td>object</td>\n",
       "    </tr>\n",
       "    <tr>\n",
       "      <th>valeur_fonciere</th>\n",
       "      <td>0</td>\n",
       "      <td>0.00</td>\n",
       "      <td>float64</td>\n",
       "    </tr>\n",
       "    <tr>\n",
       "      <th>Code INSEE</th>\n",
       "      <td>0</td>\n",
       "      <td>0.00</td>\n",
       "      <td>object</td>\n",
       "    </tr>\n",
       "    <tr>\n",
       "      <th>nom_commune</th>\n",
       "      <td>0</td>\n",
       "      <td>0.00</td>\n",
       "      <td>object</td>\n",
       "    </tr>\n",
       "    <tr>\n",
       "      <th>code_departement</th>\n",
       "      <td>0</td>\n",
       "      <td>0.00</td>\n",
       "      <td>object</td>\n",
       "    </tr>\n",
       "    <tr>\n",
       "      <th>nombre_lots</th>\n",
       "      <td>0</td>\n",
       "      <td>0.00</td>\n",
       "      <td>Int16</td>\n",
       "    </tr>\n",
       "    <tr>\n",
       "      <th>code_type_local</th>\n",
       "      <td>0</td>\n",
       "      <td>0.00</td>\n",
       "      <td>float64</td>\n",
       "    </tr>\n",
       "    <tr>\n",
       "      <th>type_local</th>\n",
       "      <td>0</td>\n",
       "      <td>0.00</td>\n",
       "      <td>object</td>\n",
       "    </tr>\n",
       "    <tr>\n",
       "      <th>surface_reelle_bati</th>\n",
       "      <td>9</td>\n",
       "      <td>0.00</td>\n",
       "      <td>Float32</td>\n",
       "    </tr>\n",
       "    <tr>\n",
       "      <th>nombre_pieces_principales</th>\n",
       "      <td>9</td>\n",
       "      <td>0.00</td>\n",
       "      <td>Int8</td>\n",
       "    </tr>\n",
       "  </tbody>\n",
       "</table>\n",
       "</div>"
      ],
      "text/plain": [
       "                           Manquant  Manquant %            Type\n",
       "surface_terrain              241090       45.40         Float32\n",
       "adresse_numero                 3460        0.65           Int64\n",
       "code_postal                     235        0.04          string\n",
       "date_mutation                     0        0.00  datetime64[ns]\n",
       "nature_mutation                   0        0.00          object\n",
       "valeur_fonciere                   0        0.00         float64\n",
       "Code INSEE                        0        0.00          object\n",
       "nom_commune                       0        0.00          object\n",
       "code_departement                  0        0.00          object\n",
       "nombre_lots                       0        0.00           Int16\n",
       "code_type_local                   0        0.00         float64\n",
       "type_local                        0        0.00          object\n",
       "surface_reelle_bati               9        0.00         Float32\n",
       "nombre_pieces_principales         9        0.00            Int8"
      ]
     },
     "execution_count": 13,
     "metadata": {},
     "output_type": "execute_result"
    }
   ],
   "source": [
    "missing_values_assessment(df_MA).sort_values('Manquant %', ascending=False)"
   ]
  },
  {
   "cell_type": "markdown",
   "id": "announced-empire",
   "metadata": {},
   "source": [
    "Supprimer les columns vides"
   ]
  },
  {
   "cell_type": "code",
   "execution_count": 14,
   "id": "functional-relaxation",
   "metadata": {},
   "outputs": [
    {
     "data": {
      "text/plain": [
       "<AxesSubplot:>"
      ]
     },
     "execution_count": 14,
     "metadata": {},
     "output_type": "execute_result"
    },
    {
     "data": {
      "image/png": "[encoded data removed]",
      "text/plain": [
       "<Figure size 1800x720 with 2 Axes>"
      ]
     },
     "metadata": {
      "needs_background": "light"
     },
     "output_type": "display_data"
    }
   ],
   "source": [
    "import missingno as msno\n",
    "msno.matrix(df_MA, sort='ascending')"
   ]
  },
  {
   "cell_type": "code",
   "execution_count": 15,
   "id": "defensive-survival",
   "metadata": {},
   "outputs": [],
   "source": [
    "df_MA['surface_terrain'].fillna(df_MA['surface_reelle_bati'], inplace=True)\n"
   ]
  },
  {
   "cell_type": "markdown",
   "id": "unusual-showcase",
   "metadata": {},
   "source": [
    "**Imputation**"
   ]
  },
  {
   "cell_type": "code",
   "execution_count": 17,
   "id": "bizarre-retro",
   "metadata": {},
   "outputs": [],
   "source": [
    "df_MA.dropna(how='any', axis=0, inplace=True)"
   ]
  },
  {
   "cell_type": "markdown",
   "id": "spectacular-bosnia",
   "metadata": {},
   "source": [
    "Ajouter les columns Years et Months"
   ]
  },
  {
   "cell_type": "code",
   "execution_count": 18,
   "id": "indie-milton",
   "metadata": {},
   "outputs": [],
   "source": [
    "df_MA['Year'] = pd.DatetimeIndex(df_MA['date_mutation']).year\n",
    "df_MA['Month'] = pd.DatetimeIndex(df_MA['date_mutation']).month"
   ]
  },
  {
   "cell_type": "code",
   "execution_count": 19,
   "id": "typical-frame",
   "metadata": {},
   "outputs": [],
   "source": [
    "df_MA['Prix_m2']=df_MA['valeur_fonciere']/df_MA['surface_reelle_bati']"
   ]
  },
  {
   "cell_type": "markdown",
   "id": "agricultural-bryan",
   "metadata": {},
   "source": [
    "Export the data"
   ]
  },
  {
   "cell_type": "code",
   "execution_count": 21,
   "id": "unlimited-headquarters",
   "metadata": {},
   "outputs": [],
   "source": [
    "df_MA.to_csv(r'datasets/fonciere_geo.csv', index = None, header=True)"
   ]
  },
  {
   "cell_type": "markdown",
   "id": "tracked-jefferson",
   "metadata": {},
   "source": [
    "# EDA"
   ]
  },
  {
   "cell_type": "code",
   "execution_count": 22,
   "id": "practical-validation",
   "metadata": {},
   "outputs": [
    {
     "data": {
      "text/plain": [
       "array([1, 2, 3, 4, 5, 6, 7, 8, 9, 10, 11, 12, 13, 14, 16, 17, 18, 19, 21,\n",
       "       22, 23, 24, 25, 26, 27, 28, '28', '29', '2A', '30', 30, 31, 32, 33,\n",
       "       34, 35, 36, 37, 38, 39, 40, 41, 42, 43, 44, 45, 46, 47, 48, 49, 50,\n",
       "       51, 52, 53, 54, 55, 56, 58, 59, 60, 61, 62, 63, 64, 65, 66, 69, 70,\n",
       "       71, 72, 73, 74, 76, 77, 78, 79, 80, 81, 82, 83, 84, 85, 86, 87, 88,\n",
       "       89, 90, 91, 92, 93, 94, 95, 971, 972, 973, 974, 75, 15, 29, '2B'],\n",
       "      dtype=object)"
      ]
     },
     "execution_count": 22,
     "metadata": {},
     "output_type": "execute_result"
    }
   ],
   "source": [
    "df_MA['code_departement'].unique()"
   ]
  },
  {
   "cell_type": "code",
   "execution_count": 23,
   "id": "clinical-learning",
   "metadata": {},
   "outputs": [
    {
     "data": {
      "text/html": [
       "<div>\n",
       "<style scoped>\n",
       "    .dataframe tbody tr th:only-of-type {\n",
       "        vertical-align: middle;\n",
       "    }\n",
       "\n",
       "    .dataframe tbody tr th {\n",
       "        vertical-align: top;\n",
       "    }\n",
       "\n",
       "    .dataframe thead th {\n",
       "        text-align: right;\n",
       "    }\n",
       "</style>\n",
       "<table border=\"1\" class=\"dataframe\">\n",
       "  <thead>\n",
       "    <tr style=\"text-align: right;\">\n",
       "      <th></th>\n",
       "      <th>date_mutation</th>\n",
       "      <th>nature_mutation</th>\n",
       "      <th>valeur_fonciere</th>\n",
       "      <th>adresse_numero</th>\n",
       "      <th>code_postal</th>\n",
       "      <th>Code INSEE</th>\n",
       "      <th>nom_commune</th>\n",
       "      <th>code_departement</th>\n",
       "      <th>nombre_lots</th>\n",
       "      <th>code_type_local</th>\n",
       "      <th>type_local</th>\n",
       "      <th>surface_reelle_bati</th>\n",
       "      <th>nombre_pieces_principales</th>\n",
       "      <th>surface_terrain</th>\n",
       "      <th>Year</th>\n",
       "      <th>Month</th>\n",
       "      <th>Prix_m2</th>\n",
       "    </tr>\n",
       "  </thead>\n",
       "  <tbody>\n",
       "    <tr>\n",
       "      <th>573719</th>\n",
       "      <td>2020-01-06</td>\n",
       "      <td>Vente</td>\n",
       "      <td>257000.0</td>\n",
       "      <td>17</td>\n",
       "      <td>77170</td>\n",
       "      <td>77450</td>\n",
       "      <td>Servon</td>\n",
       "      <td>77</td>\n",
       "      <td>1</td>\n",
       "      <td>1.0</td>\n",
       "      <td>Maison</td>\n",
       "      <td>107.0</td>\n",
       "      <td>5</td>\n",
       "      <td>107.0</td>\n",
       "      <td>2020</td>\n",
       "      <td>1</td>\n",
       "      <td>2401.869159</td>\n",
       "    </tr>\n",
       "    <tr>\n",
       "      <th>573720</th>\n",
       "      <td>2020-01-02</td>\n",
       "      <td>Vente</td>\n",
       "      <td>320500.0</td>\n",
       "      <td>15</td>\n",
       "      <td>77380</td>\n",
       "      <td>77122</td>\n",
       "      <td>Combs-la-Ville</td>\n",
       "      <td>77</td>\n",
       "      <td>0</td>\n",
       "      <td>1.0</td>\n",
       "      <td>Maison</td>\n",
       "      <td>85.0</td>\n",
       "      <td>5</td>\n",
       "      <td>347.0</td>\n",
       "      <td>2020</td>\n",
       "      <td>1</td>\n",
       "      <td>3770.588235</td>\n",
       "    </tr>\n",
       "    <tr>\n",
       "      <th>573723</th>\n",
       "      <td>2020-01-08</td>\n",
       "      <td>Vente</td>\n",
       "      <td>386700.0</td>\n",
       "      <td>20</td>\n",
       "      <td>77170</td>\n",
       "      <td>77053</td>\n",
       "      <td>Brie-Comte-Robert</td>\n",
       "      <td>77</td>\n",
       "      <td>0</td>\n",
       "      <td>1.0</td>\n",
       "      <td>Maison</td>\n",
       "      <td>129.0</td>\n",
       "      <td>6</td>\n",
       "      <td>507.0</td>\n",
       "      <td>2020</td>\n",
       "      <td>1</td>\n",
       "      <td>2997.674419</td>\n",
       "    </tr>\n",
       "    <tr>\n",
       "      <th>573728</th>\n",
       "      <td>2020-01-09</td>\n",
       "      <td>Vente</td>\n",
       "      <td>349000.0</td>\n",
       "      <td>55</td>\n",
       "      <td>77310</td>\n",
       "      <td>77040</td>\n",
       "      <td>Boissise-le-Roi</td>\n",
       "      <td>77</td>\n",
       "      <td>0</td>\n",
       "      <td>1.0</td>\n",
       "      <td>Maison</td>\n",
       "      <td>122.0</td>\n",
       "      <td>4</td>\n",
       "      <td>854.0</td>\n",
       "      <td>2020</td>\n",
       "      <td>1</td>\n",
       "      <td>2860.655738</td>\n",
       "    </tr>\n",
       "    <tr>\n",
       "      <th>573756</th>\n",
       "      <td>2020-01-07</td>\n",
       "      <td>Vente</td>\n",
       "      <td>608974.0</td>\n",
       "      <td>42</td>\n",
       "      <td>77310</td>\n",
       "      <td>77407</td>\n",
       "      <td>Saint-Fargeau-Ponthierry</td>\n",
       "      <td>77</td>\n",
       "      <td>0</td>\n",
       "      <td>1.0</td>\n",
       "      <td>Maison</td>\n",
       "      <td>172.0</td>\n",
       "      <td>6</td>\n",
       "      <td>2103.0</td>\n",
       "      <td>2020</td>\n",
       "      <td>1</td>\n",
       "      <td>3540.546512</td>\n",
       "    </tr>\n",
       "  </tbody>\n",
       "</table>\n",
       "</div>"
      ],
      "text/plain": [
       "       date_mutation nature_mutation  valeur_fonciere  adresse_numero  \\\n",
       "573719    2020-01-06           Vente         257000.0              17   \n",
       "573720    2020-01-02           Vente         320500.0              15   \n",
       "573723    2020-01-08           Vente         386700.0              20   \n",
       "573728    2020-01-09           Vente         349000.0              55   \n",
       "573756    2020-01-07           Vente         608974.0              42   \n",
       "\n",
       "       code_postal Code INSEE               nom_commune code_departement  \\\n",
       "573719       77170      77450                    Servon               77   \n",
       "573720       77380      77122            Combs-la-Ville               77   \n",
       "573723       77170      77053         Brie-Comte-Robert               77   \n",
       "573728       77310      77040           Boissise-le-Roi               77   \n",
       "573756       77310      77407  Saint-Fargeau-Ponthierry               77   \n",
       "\n",
       "        nombre_lots  code_type_local type_local  surface_reelle_bati  \\\n",
       "573719            1              1.0     Maison                107.0   \n",
       "573720            0              1.0     Maison                 85.0   \n",
       "573723            0              1.0     Maison                129.0   \n",
       "573728            0              1.0     Maison                122.0   \n",
       "573756            0              1.0     Maison                172.0   \n",
       "\n",
       "        nombre_pieces_principales  surface_terrain  Year  Month      Prix_m2  \n",
       "573719                          5            107.0  2020      1  2401.869159  \n",
       "573720                          5            347.0  2020      1  3770.588235  \n",
       "573723                          6            507.0  2020      1  2997.674419  \n",
       "573728                          4            854.0  2020      1  2860.655738  \n",
       "573756                          6           2103.0  2020      1  3540.546512  "
      ]
     },
     "execution_count": 23,
     "metadata": {},
     "output_type": "execute_result"
    }
   ],
   "source": [
    "df_MA_IDF=df_MA[(df_MA['code_departement'].isin([75,91,92,93,94,95,77,78]))]\n",
    "df_MA_IDF.head()"
   ]
  },
  {
   "cell_type": "markdown",
   "id": "incorporate-public",
   "metadata": {},
   "source": [
    "Distribution Valeur Fonciere"
   ]
  },
  {
   "cell_type": "code",
   "execution_count": 24,
   "id": "running-benefit",
   "metadata": {},
   "outputs": [
    {
     "data": {
      "image/png": "[encoded data removed]",
      "text/plain": [
       "<Figure size 720x504 with 2 Axes>"
      ]
     },
     "metadata": {
      "needs_background": "light"
     },
     "output_type": "display_data"
    }
   ],
   "source": [
    "#visualizing valeur_fonciere\n",
    "fig = plt.figure(figsize=(10,7))\n",
    "fig.add_subplot(2,1,1)\n",
    "sns.distplot(df_MA_IDF[df_MA_IDF['valeur_fonciere']<8000000]['valeur_fonciere'])\n",
    "fig.add_subplot(2,1,2)\n",
    "sns.boxplot(df_MA_IDF[df_MA_IDF['valeur_fonciere']<8000000]['valeur_fonciere'])\n",
    "plt.tight_layout()"
   ]
  },
  {
   "cell_type": "markdown",
   "id": "judicial-metropolitan",
   "metadata": {},
   "source": [
    "Etude corrélation des features"
   ]
  },
  {
   "cell_type": "code",
   "execution_count": 25,
   "id": "yellow-third",
   "metadata": {
    "scrolled": false
   },
   "outputs": [
    {
     "data": {
      "text/plain": [
       "<AxesSubplot:>"
      ]
     },
     "execution_count": 25,
     "metadata": {},
     "output_type": "execute_result"
    },
    {
     "data": {
      "image/png": "[encoded data removed]",
      "text/plain": [
       "<Figure size 720x432 with 2 Axes>"
      ]
     },
     "metadata": {
      "needs_background": "light"
     },
     "output_type": "display_data"
    }
   ],
   "source": [
    "#correlation matrix\n",
    "k = 8 #number of variables for heatmap\n",
    "cols = df_MA_IDF.corr().nlargest(k, 'valeur_fonciere')['valeur_fonciere'].index\n",
    "cm = df_MA_IDF[cols].corr() \n",
    "plt.figure(figsize=(10,6))\n",
    "sns.heatmap(cm, annot=True, cmap = 'viridis')"
   ]
  },
  {
   "cell_type": "code",
   "execution_count": 26,
   "id": "devoted-summit",
   "metadata": {
    "scrolled": false
   },
   "outputs": [
    {
     "data": {
      "text/plain": [
       "<AxesSubplot:xlabel='surface_terrain', ylabel='valeur_fonciere'>"
      ]
     },
     "execution_count": 26,
     "metadata": {},
     "output_type": "execute_result"
    },
    {
     "data": {
      "image/png": "[encoded data removed]",
      "text/plain": [
       "<Figure size 1152x360 with 2 Axes>"
      ]
     },
     "metadata": {
      "needs_background": "light"
     },
     "output_type": "display_data"
    }
   ],
   "source": [
    "\n",
    "fig = plt.figure(figsize=(16,5))\n",
    "fig.add_subplot(1,2,1)\n",
    "sns.scatterplot(df_MA_IDF['surface_reelle_bati'], df_MA_IDF['valeur_fonciere'])\n",
    "fig.add_subplot(1,2,2)\n",
    "sns.scatterplot(df_MA_IDF['surface_terrain'],df_MA_IDF['valeur_fonciere'])"
   ]
  },
  {
   "cell_type": "code",
   "execution_count": 27,
   "id": "defensive-ending",
   "metadata": {},
   "outputs": [
    {
     "data": {
      "text/plain": [
       "<AxesSubplot:xlabel='nombre_pieces_principales', ylabel='count'>"
      ]
     },
     "execution_count": 27,
     "metadata": {},
     "output_type": "execute_result"
    },
    {
     "data": {
      "image/png": "[encoded data removed]",
      "text/plain": [
       "<Figure size 1152x504 with 4 Axes>"
      ]
     },
     "metadata": {
      "needs_background": "light"
     },
     "output_type": "display_data"
    }
   ],
   "source": [
    "\n",
    "fig = plt.figure(figsize=(16,7))\n",
    "fig.add_subplot(2,2,1)\n",
    "sns.countplot(df_MA_IDF['code_departement'])\n",
    "fig.add_subplot(2,2,2)\n",
    "sns.countplot(df_MA_IDF['nombre_lots'])\n",
    "fig.add_subplot(2,2,3)\n",
    "sns.countplot(df_MA_IDF['type_local'])\n",
    "fig.add_subplot(2,2,4)\n",
    "sns.countplot(df_MA_IDF['nombre_pieces_principales'])"
   ]
  },
  {
   "cell_type": "markdown",
   "id": "conscious-cooperative",
   "metadata": {},
   "source": [
    "Mutation par Mois"
   ]
  },
  {
   "cell_type": "code",
   "execution_count": 29,
   "id": "level-breach",
   "metadata": {},
   "outputs": [
    {
     "data": {
      "text/plain": [
       "Text(0, 0.5, 'Nombre de mutation')"
      ]
     },
     "execution_count": 29,
     "metadata": {},
     "output_type": "execute_result"
    },
    {
     "data": {
      "image/png": "[encoded data removed]",
      "text/plain": [
       "<Figure size 720x360 with 1 Axes>"
      ]
     },
     "metadata": {
      "needs_background": "light"
     },
     "output_type": "display_data"
    }
   ],
   "source": [
    "\n",
    "plt.figure(figsize=(10,5))\n",
    "ax = sns.countplot(x=df_MA_IDF.Month)\n",
    "ax.set_title('Nombre de mutation par mois')\n",
    "ax.set_xlabel('Mois')\n",
    "ax.set_ylabel('Nombre de mutation')"
   ]
  },
  {
   "cell_type": "code",
   "execution_count": 30,
   "id": "cross-lexington",
   "metadata": {
    "scrolled": false
   },
   "outputs": [
    {
     "data": {
      "text/plain": [
       "Text(0, 0.5, 'Nombre de mutation')"
      ]
     },
     "execution_count": 30,
     "metadata": {},
     "output_type": "execute_result"
    },
    {
     "data": {
      "image/png": "[encoded data removed]",
      "text/plain": [
       "<Figure size 648x360 with 1 Axes>"
      ]
     },
     "metadata": {
      "needs_background": "light"
     },
     "output_type": "display_data"
    }
   ],
   "source": [
    "plt.figure(figsize=(9,5))\n",
    "df_MA_IDF['jour_de_semaine'] = df_MA_IDF['date_mutation'].map(lambda x: x.dayofweek)\n",
    "ax = sns.countplot(x=df_MA_IDF['jour_de_semaine'])\n",
    "ax.set_title('Nombre de mutation par jour de semaine')\n",
    "ax.set_xlabel('Jour de semaine')\n",
    "ax.set_xticklabels(['Lundi','Mardi','Mercredi','Jeudi','Vendredi','Samedi','Dimanche'],rotation=45)\n",
    "ax.set_ylabel('Nombre de mutation')"
   ]
  },
  {
   "cell_type": "markdown",
   "id": "universal-klein",
   "metadata": {},
   "source": [
    "Detect the outliers"
   ]
  },
  {
   "cell_type": "code",
   "execution_count": 31,
   "id": "cardiovascular-denial",
   "metadata": {},
   "outputs": [
    {
     "name": "stdout",
     "output_type": "stream",
     "text": [
      "The \"Surface terrain\" where we reach the 90th/10th quantile is : 619.0 30.0 m2 \n",
      " The \"Surface reelle bati\" where we reach the 95th quantile is : 162.0 m2 \n",
      " The \"Nombre pieces principales\" where we reach the 99,95th quantile is : 11.0 piece \n",
      " The \"Valeur fonciere\" where we reach the 99,95th quantile is : 695000.0 euros\n"
     ]
    }
   ],
   "source": [
    "print('The \"Surface terrain\" where we reach the 90th/10th quantile is :',\n",
    "      df_MA_IDF['surface_terrain'].quantile(q=0.95),df_MA_IDF['surface_terrain'].quantile(q=0.10),'m2',\n",
    "      '\\n',\n",
    "      'The \"Surface reelle bati\" where we reach the 95th quantile is :',\n",
    "      df_MA_IDF['surface_reelle_bati'].quantile(q=0.95),'m2',\n",
    "      '\\n',\n",
    "     'The \"Nombre pieces principales\" where we reach the 99,95th quantile is :',\n",
    "      df_MA_IDF['nombre_pieces_principales'].quantile(q=0.9995),'piece',\n",
    "     '\\n',\n",
    "     'The \"Valeur fonciere\" where we reach the 99,95th quantile is :',\n",
    "      df_MA_IDF['valeur_fonciere'].quantile(q=0.8),'euros')"
   ]
  },
  {
   "cell_type": "code",
   "execution_count": 32,
   "id": "loaded-cancer",
   "metadata": {},
   "outputs": [
    {
     "data": {
      "text/plain": [
       "{'whiskers': [<matplotlib.lines.Line2D at 0x245dc67e2e0>,\n",
       "  <matplotlib.lines.Line2D at 0x245dc67e640>],\n",
       " 'caps': [<matplotlib.lines.Line2D at 0x245dc67e9a0>,\n",
       "  <matplotlib.lines.Line2D at 0x245dc67ed00>],\n",
       " 'boxes': [<matplotlib.lines.Line2D at 0x245dc665f40>],\n",
       " 'medians': [<matplotlib.lines.Line2D at 0x245dc6490a0>],\n",
       " 'fliers': [<matplotlib.lines.Line2D at 0x245dc649400>],\n",
       " 'means': []}"
      ]
     },
     "execution_count": 32,
     "metadata": {},
     "output_type": "execute_result"
    },
    {
     "data": {
      "image/png": "[encoded data removed]",
      "text/plain": [
       "<Figure size 432x288 with 1 Axes>"
      ]
     },
     "metadata": {
      "needs_background": "light"
     },
     "output_type": "display_data"
    }
   ],
   "source": [
    "df_test = df_MA_IDF[(df_MA_IDF['surface_terrain']<600.0)&(df_MA_IDF['surface_terrain']>50.0)]\n",
    "plt.boxplot(df_test['surface_terrain'])\n"
   ]
  },
  {
   "cell_type": "code",
   "execution_count": 33,
   "id": "recognized-sailing",
   "metadata": {
    "scrolled": false
   },
   "outputs": [
    {
     "data": {
      "text/plain": [
       "{'whiskers': [<matplotlib.lines.Line2D at 0x2457ac62f40>,\n",
       "  <matplotlib.lines.Line2D at 0x245b992b2e0>],\n",
       " 'caps': [<matplotlib.lines.Line2D at 0x245b992b640>,\n",
       "  <matplotlib.lines.Line2D at 0x245b992b9a0>],\n",
       " 'boxes': [<matplotlib.lines.Line2D at 0x2457ac62be0>],\n",
       " 'medians': [<matplotlib.lines.Line2D at 0x245b992bd00>],\n",
       " 'fliers': [<matplotlib.lines.Line2D at 0x245b991d0a0>],\n",
       " 'means': []}"
      ]
     },
     "execution_count": 33,
     "metadata": {},
     "output_type": "execute_result"
    },
    {
     "data": {
      "image/png": "[encoded data removed]",
      "text/plain": [
       "<Figure size 432x288 with 1 Axes>"
      ]
     },
     "metadata": {
      "needs_background": "light"
     },
     "output_type": "display_data"
    }
   ],
   "source": [
    "df_test = df_MA_IDF[(df_MA_IDF['surface_reelle_bati']<162)&(df_MA_IDF['surface_reelle_bati']>5)]\n",
    "plt.boxplot(df_test['surface_reelle_bati'])"
   ]
  },
  {
   "cell_type": "markdown",
   "id": "proprietary-defensive",
   "metadata": {},
   "source": [
    "Outliers pour Nombre pieces principales"
   ]
  },
  {
   "cell_type": "code",
   "execution_count": 34,
   "id": "familiar-cigarette",
   "metadata": {},
   "outputs": [
    {
     "data": {
      "text/plain": [
       "{'whiskers': [<matplotlib.lines.Line2D at 0x245e829aa60>,\n",
       "  <matplotlib.lines.Line2D at 0x245e829adc0>],\n",
       " 'caps': [<matplotlib.lines.Line2D at 0x245e82a8160>,\n",
       "  <matplotlib.lines.Line2D at 0x245e82a84c0>],\n",
       " 'boxes': [<matplotlib.lines.Line2D at 0x245e829a700>],\n",
       " 'medians': [<matplotlib.lines.Line2D at 0x245e82a8820>],\n",
       " 'fliers': [<matplotlib.lines.Line2D at 0x245e82a8b80>],\n",
       " 'means': []}"
      ]
     },
     "execution_count": 34,
     "metadata": {},
     "output_type": "execute_result"
    },
    {
     "data": {
      "image/png": "[encoded data removed]",
      "text/plain": [
       "<Figure size 432x288 with 1 Axes>"
      ]
     },
     "metadata": {
      "needs_background": "light"
     },
     "output_type": "display_data"
    }
   ],
   "source": [
    "df_test = df_MA_IDF[(df_MA_IDF['nombre_pieces_principales']<11)&(df_MA_IDF['nombre_pieces_principales']>1)]\n",
    "plt.boxplot(df_test['nombre_pieces_principales'])"
   ]
  },
  {
   "cell_type": "code",
   "execution_count": 35,
   "id": "contrary-miniature",
   "metadata": {
    "scrolled": false
   },
   "outputs": [
    {
     "data": {
      "text/plain": [
       "{'whiskers': [<matplotlib.lines.Line2D at 0x2456553d5b0>,\n",
       "  <matplotlib.lines.Line2D at 0x2456553d910>],\n",
       " 'caps': [<matplotlib.lines.Line2D at 0x2456553dc70>,\n",
       "  <matplotlib.lines.Line2D at 0x2456553dfd0>],\n",
       " 'boxes': [<matplotlib.lines.Line2D at 0x2456553d250>],\n",
       " 'medians': [<matplotlib.lines.Line2D at 0x2456676a370>],\n",
       " 'fliers': [<matplotlib.lines.Line2D at 0x2456676a6d0>],\n",
       " 'means': []}"
      ]
     },
     "execution_count": 35,
     "metadata": {},
     "output_type": "execute_result"
    },
    {
     "data": {
      "image/png": "[encoded data removed]",
      "text/plain": [
       "<Figure size 432x288 with 1 Axes>"
      ]
     },
     "metadata": {
      "needs_background": "light"
     },
     "output_type": "display_data"
    }
   ],
   "source": [
    "df_test = df_MA_IDF[(df_MA_IDF['valeur_fonciere']<695000)&(df_MA_IDF['valeur_fonciere']>50000)]\n",
    "plt.boxplot(df_test['valeur_fonciere'])"
   ]
  },
  {
   "cell_type": "markdown",
   "id": "administrative-singer",
   "metadata": {},
   "source": [
    "Construire le dataframe final"
   ]
  },
  {
   "cell_type": "markdown",
   "id": "aboriginal-custom",
   "metadata": {},
   "source": [
    "The \"Surface terrain\" where we reach the 90th/10th quantile is : 702.0 159.0 m2 \n",
    " The \"Surface reelle bati\" where we reach the 95th quantile is : 185.0 m2 \n",
    " The \"Nombre pieces principales\" where we reach the 99,95th quantile is : 13.0 piece \n",
    " The \"Valeur fonciere\" where we reach the 99,95th quantile is : 655119.9999999998 euros"
   ]
  },
  {
   "cell_type": "code",
   "execution_count": 36,
   "id": "balanced-roman",
   "metadata": {},
   "outputs": [
    {
     "data": {
      "text/html": [
       "<div>\n",
       "<style scoped>\n",
       "    .dataframe tbody tr th:only-of-type {\n",
       "        vertical-align: middle;\n",
       "    }\n",
       "\n",
       "    .dataframe tbody tr th {\n",
       "        vertical-align: top;\n",
       "    }\n",
       "\n",
       "    .dataframe thead th {\n",
       "        text-align: right;\n",
       "    }\n",
       "</style>\n",
       "<table border=\"1\" class=\"dataframe\">\n",
       "  <thead>\n",
       "    <tr style=\"text-align: right;\">\n",
       "      <th></th>\n",
       "      <th>date_mutation</th>\n",
       "      <th>nature_mutation</th>\n",
       "      <th>valeur_fonciere</th>\n",
       "      <th>adresse_numero</th>\n",
       "      <th>code_postal</th>\n",
       "      <th>Code INSEE</th>\n",
       "      <th>nom_commune</th>\n",
       "      <th>code_departement</th>\n",
       "      <th>nombre_lots</th>\n",
       "      <th>code_type_local</th>\n",
       "      <th>type_local</th>\n",
       "      <th>surface_reelle_bati</th>\n",
       "      <th>nombre_pieces_principales</th>\n",
       "      <th>surface_terrain</th>\n",
       "      <th>Year</th>\n",
       "      <th>Month</th>\n",
       "      <th>Prix_m2</th>\n",
       "      <th>jour_de_semaine</th>\n",
       "    </tr>\n",
       "  </thead>\n",
       "  <tbody>\n",
       "    <tr>\n",
       "      <th>573719</th>\n",
       "      <td>2020-01-06</td>\n",
       "      <td>Vente</td>\n",
       "      <td>257000.0</td>\n",
       "      <td>17</td>\n",
       "      <td>77170</td>\n",
       "      <td>77450</td>\n",
       "      <td>Servon</td>\n",
       "      <td>77</td>\n",
       "      <td>1</td>\n",
       "      <td>1.0</td>\n",
       "      <td>Maison</td>\n",
       "      <td>107.0</td>\n",
       "      <td>5</td>\n",
       "      <td>107.0</td>\n",
       "      <td>2020</td>\n",
       "      <td>1</td>\n",
       "      <td>2401.869159</td>\n",
       "      <td>0</td>\n",
       "    </tr>\n",
       "    <tr>\n",
       "      <th>573720</th>\n",
       "      <td>2020-01-02</td>\n",
       "      <td>Vente</td>\n",
       "      <td>320500.0</td>\n",
       "      <td>15</td>\n",
       "      <td>77380</td>\n",
       "      <td>77122</td>\n",
       "      <td>Combs-la-Ville</td>\n",
       "      <td>77</td>\n",
       "      <td>0</td>\n",
       "      <td>1.0</td>\n",
       "      <td>Maison</td>\n",
       "      <td>85.0</td>\n",
       "      <td>5</td>\n",
       "      <td>347.0</td>\n",
       "      <td>2020</td>\n",
       "      <td>1</td>\n",
       "      <td>3770.588235</td>\n",
       "      <td>3</td>\n",
       "    </tr>\n",
       "    <tr>\n",
       "      <th>573723</th>\n",
       "      <td>2020-01-08</td>\n",
       "      <td>Vente</td>\n",
       "      <td>386700.0</td>\n",
       "      <td>20</td>\n",
       "      <td>77170</td>\n",
       "      <td>77053</td>\n",
       "      <td>Brie-Comte-Robert</td>\n",
       "      <td>77</td>\n",
       "      <td>0</td>\n",
       "      <td>1.0</td>\n",
       "      <td>Maison</td>\n",
       "      <td>129.0</td>\n",
       "      <td>6</td>\n",
       "      <td>507.0</td>\n",
       "      <td>2020</td>\n",
       "      <td>1</td>\n",
       "      <td>2997.674419</td>\n",
       "      <td>2</td>\n",
       "    </tr>\n",
       "    <tr>\n",
       "      <th>573765</th>\n",
       "      <td>2020-01-09</td>\n",
       "      <td>Vente</td>\n",
       "      <td>239900.0</td>\n",
       "      <td>1</td>\n",
       "      <td>77380</td>\n",
       "      <td>77122</td>\n",
       "      <td>Combs-la-Ville</td>\n",
       "      <td>77</td>\n",
       "      <td>0</td>\n",
       "      <td>1.0</td>\n",
       "      <td>Maison</td>\n",
       "      <td>79.0</td>\n",
       "      <td>4</td>\n",
       "      <td>138.0</td>\n",
       "      <td>2020</td>\n",
       "      <td>1</td>\n",
       "      <td>3036.708861</td>\n",
       "      <td>3</td>\n",
       "    </tr>\n",
       "    <tr>\n",
       "      <th>573790</th>\n",
       "      <td>2020-01-02</td>\n",
       "      <td>Vente</td>\n",
       "      <td>356900.0</td>\n",
       "      <td>1</td>\n",
       "      <td>77127</td>\n",
       "      <td>77251</td>\n",
       "      <td>Lieusaint</td>\n",
       "      <td>77</td>\n",
       "      <td>0</td>\n",
       "      <td>1.0</td>\n",
       "      <td>Maison</td>\n",
       "      <td>110.0</td>\n",
       "      <td>5</td>\n",
       "      <td>404.0</td>\n",
       "      <td>2020</td>\n",
       "      <td>1</td>\n",
       "      <td>3244.545455</td>\n",
       "      <td>3</td>\n",
       "    </tr>\n",
       "  </tbody>\n",
       "</table>\n",
       "</div>"
      ],
      "text/plain": [
       "       date_mutation nature_mutation  valeur_fonciere  adresse_numero  \\\n",
       "573719    2020-01-06           Vente         257000.0              17   \n",
       "573720    2020-01-02           Vente         320500.0              15   \n",
       "573723    2020-01-08           Vente         386700.0              20   \n",
       "573765    2020-01-09           Vente         239900.0               1   \n",
       "573790    2020-01-02           Vente         356900.0               1   \n",
       "\n",
       "       code_postal Code INSEE        nom_commune code_departement  \\\n",
       "573719       77170      77450             Servon               77   \n",
       "573720       77380      77122     Combs-la-Ville               77   \n",
       "573723       77170      77053  Brie-Comte-Robert               77   \n",
       "573765       77380      77122     Combs-la-Ville               77   \n",
       "573790       77127      77251          Lieusaint               77   \n",
       "\n",
       "        nombre_lots  code_type_local type_local  surface_reelle_bati  \\\n",
       "573719            1              1.0     Maison                107.0   \n",
       "573720            0              1.0     Maison                 85.0   \n",
       "573723            0              1.0     Maison                129.0   \n",
       "573765            0              1.0     Maison                 79.0   \n",
       "573790            0              1.0     Maison                110.0   \n",
       "\n",
       "        nombre_pieces_principales  surface_terrain  Year  Month      Prix_m2  \\\n",
       "573719                          5            107.0  2020      1  2401.869159   \n",
       "573720                          5            347.0  2020      1  3770.588235   \n",
       "573723                          6            507.0  2020      1  2997.674419   \n",
       "573765                          4            138.0  2020      1  3036.708861   \n",
       "573790                          5            404.0  2020      1  3244.545455   \n",
       "\n",
       "        jour_de_semaine  \n",
       "573719                0  \n",
       "573720                3  \n",
       "573723                2  \n",
       "573765                3  \n",
       "573790                3  "
      ]
     },
     "execution_count": 36,
     "metadata": {},
     "output_type": "execute_result"
    }
   ],
   "source": [
    "df_fonciere_final = df_MA_IDF[(df_MA_IDF['valeur_fonciere']<695000)&(df_MA_IDF['valeur_fonciere']>50000)&\n",
    "                     (df_MA_IDF['nombre_pieces_principales']<11)&(df_MA_IDF['nombre_pieces_principales']>1)&\n",
    "                       (df_MA_IDF['surface_terrain']<600)&(df_MA_IDF['surface_terrain']>50)&\n",
    "                     (df_MA_IDF['surface_reelle_bati']<162)&(df_MA_IDF['surface_reelle_bati']>5)]\n",
    "\n",
    "df_fonciere_final.head()"
   ]
  },
  {
   "cell_type": "code",
   "execution_count": 37,
   "id": "spanish-camping",
   "metadata": {},
   "outputs": [],
   "source": [
    "df_fonciere_final.drop(['date_mutation','nature_mutation','code_postal','type_local'],axis = 1, inplace = True)"
   ]
  },
  {
   "cell_type": "code",
   "execution_count": 38,
   "id": "accepting-final",
   "metadata": {
    "scrolled": true
   },
   "outputs": [
    {
     "data": {
      "text/html": [
       "<div>\n",
       "<style scoped>\n",
       "    .dataframe tbody tr th:only-of-type {\n",
       "        vertical-align: middle;\n",
       "    }\n",
       "\n",
       "    .dataframe tbody tr th {\n",
       "        vertical-align: top;\n",
       "    }\n",
       "\n",
       "    .dataframe thead th {\n",
       "        text-align: right;\n",
       "    }\n",
       "</style>\n",
       "<table border=\"1\" class=\"dataframe\">\n",
       "  <thead>\n",
       "    <tr style=\"text-align: right;\">\n",
       "      <th></th>\n",
       "      <th>valeur_fonciere</th>\n",
       "      <th>adresse_numero</th>\n",
       "      <th>Code INSEE</th>\n",
       "      <th>nom_commune</th>\n",
       "      <th>code_departement</th>\n",
       "      <th>nombre_lots</th>\n",
       "      <th>code_type_local</th>\n",
       "      <th>surface_reelle_bati</th>\n",
       "      <th>nombre_pieces_principales</th>\n",
       "      <th>surface_terrain</th>\n",
       "      <th>Year</th>\n",
       "      <th>Month</th>\n",
       "      <th>Prix_m2</th>\n",
       "      <th>jour_de_semaine</th>\n",
       "    </tr>\n",
       "  </thead>\n",
       "  <tbody>\n",
       "    <tr>\n",
       "      <th>573719</th>\n",
       "      <td>257000.0</td>\n",
       "      <td>17</td>\n",
       "      <td>77450</td>\n",
       "      <td>Servon</td>\n",
       "      <td>77</td>\n",
       "      <td>1</td>\n",
       "      <td>1.0</td>\n",
       "      <td>107.0</td>\n",
       "      <td>5</td>\n",
       "      <td>107.0</td>\n",
       "      <td>2020</td>\n",
       "      <td>1</td>\n",
       "      <td>2401.869159</td>\n",
       "      <td>0</td>\n",
       "    </tr>\n",
       "    <tr>\n",
       "      <th>573720</th>\n",
       "      <td>320500.0</td>\n",
       "      <td>15</td>\n",
       "      <td>77122</td>\n",
       "      <td>Combs-la-Ville</td>\n",
       "      <td>77</td>\n",
       "      <td>0</td>\n",
       "      <td>1.0</td>\n",
       "      <td>85.0</td>\n",
       "      <td>5</td>\n",
       "      <td>347.0</td>\n",
       "      <td>2020</td>\n",
       "      <td>1</td>\n",
       "      <td>3770.588235</td>\n",
       "      <td>3</td>\n",
       "    </tr>\n",
       "    <tr>\n",
       "      <th>573723</th>\n",
       "      <td>386700.0</td>\n",
       "      <td>20</td>\n",
       "      <td>77053</td>\n",
       "      <td>Brie-Comte-Robert</td>\n",
       "      <td>77</td>\n",
       "      <td>0</td>\n",
       "      <td>1.0</td>\n",
       "      <td>129.0</td>\n",
       "      <td>6</td>\n",
       "      <td>507.0</td>\n",
       "      <td>2020</td>\n",
       "      <td>1</td>\n",
       "      <td>2997.674419</td>\n",
       "      <td>2</td>\n",
       "    </tr>\n",
       "    <tr>\n",
       "      <th>573765</th>\n",
       "      <td>239900.0</td>\n",
       "      <td>1</td>\n",
       "      <td>77122</td>\n",
       "      <td>Combs-la-Ville</td>\n",
       "      <td>77</td>\n",
       "      <td>0</td>\n",
       "      <td>1.0</td>\n",
       "      <td>79.0</td>\n",
       "      <td>4</td>\n",
       "      <td>138.0</td>\n",
       "      <td>2020</td>\n",
       "      <td>1</td>\n",
       "      <td>3036.708861</td>\n",
       "      <td>3</td>\n",
       "    </tr>\n",
       "    <tr>\n",
       "      <th>573790</th>\n",
       "      <td>356900.0</td>\n",
       "      <td>1</td>\n",
       "      <td>77251</td>\n",
       "      <td>Lieusaint</td>\n",
       "      <td>77</td>\n",
       "      <td>0</td>\n",
       "      <td>1.0</td>\n",
       "      <td>110.0</td>\n",
       "      <td>5</td>\n",
       "      <td>404.0</td>\n",
       "      <td>2020</td>\n",
       "      <td>1</td>\n",
       "      <td>3244.545455</td>\n",
       "      <td>3</td>\n",
       "    </tr>\n",
       "  </tbody>\n",
       "</table>\n",
       "</div>"
      ],
      "text/plain": [
       "        valeur_fonciere  adresse_numero Code INSEE        nom_commune  \\\n",
       "573719         257000.0              17      77450             Servon   \n",
       "573720         320500.0              15      77122     Combs-la-Ville   \n",
       "573723         386700.0              20      77053  Brie-Comte-Robert   \n",
       "573765         239900.0               1      77122     Combs-la-Ville   \n",
       "573790         356900.0               1      77251          Lieusaint   \n",
       "\n",
       "       code_departement  nombre_lots  code_type_local  surface_reelle_bati  \\\n",
       "573719               77            1              1.0                107.0   \n",
       "573720               77            0              1.0                 85.0   \n",
       "573723               77            0              1.0                129.0   \n",
       "573765               77            0              1.0                 79.0   \n",
       "573790               77            0              1.0                110.0   \n",
       "\n",
       "        nombre_pieces_principales  surface_terrain  Year  Month      Prix_m2  \\\n",
       "573719                          5            107.0  2020      1  2401.869159   \n",
       "573720                          5            347.0  2020      1  3770.588235   \n",
       "573723                          6            507.0  2020      1  2997.674419   \n",
       "573765                          4            138.0  2020      1  3036.708861   \n",
       "573790                          5            404.0  2020      1  3244.545455   \n",
       "\n",
       "        jour_de_semaine  \n",
       "573719                0  \n",
       "573720                3  \n",
       "573723                2  \n",
       "573765                3  \n",
       "573790                3  "
      ]
     },
     "execution_count": 38,
     "metadata": {},
     "output_type": "execute_result"
    }
   ],
   "source": [
    "df_fonciere_final.head()"
   ]
  },
  {
   "cell_type": "markdown",
   "id": "floral-ethiopia",
   "metadata": {},
   "source": [
    "Concat data popu "
   ]
  },
  {
   "cell_type": "code",
   "execution_count": 39,
   "id": "capital-notice",
   "metadata": {},
   "outputs": [
    {
     "data": {
      "text/html": [
       "<div>\n",
       "<style scoped>\n",
       "    .dataframe tbody tr th:only-of-type {\n",
       "        vertical-align: middle;\n",
       "    }\n",
       "\n",
       "    .dataframe tbody tr th {\n",
       "        vertical-align: top;\n",
       "    }\n",
       "\n",
       "    .dataframe thead th {\n",
       "        text-align: right;\n",
       "    }\n",
       "</style>\n",
       "<table border=\"1\" class=\"dataframe\">\n",
       "  <thead>\n",
       "    <tr style=\"text-align: right;\">\n",
       "      <th></th>\n",
       "      <th>Code INSEE</th>\n",
       "      <th>nom_comm</th>\n",
       "      <th>code_dept</th>\n",
       "      <th>code_reg</th>\n",
       "      <th>superficie_km2</th>\n",
       "      <th>lat</th>\n",
       "      <th>lng</th>\n",
       "      <th>age_mean</th>\n",
       "      <th>age_std</th>\n",
       "      <th>age_median</th>\n",
       "      <th>population</th>\n",
       "      <th>merge1</th>\n",
       "      <th>Foyer</th>\n",
       "      <th>Nbr_p_Foyer</th>\n",
       "      <th>revenue_median</th>\n",
       "      <th>revenue_inequalities</th>\n",
       "      <th>merge2</th>\n",
       "      <th>density</th>\n",
       "    </tr>\n",
       "  </thead>\n",
       "  <tbody>\n",
       "    <tr>\n",
       "      <th>0</th>\n",
       "      <td>91645</td>\n",
       "      <td>VERRIERES-LE-BUISSON</td>\n",
       "      <td>91.0</td>\n",
       "      <td>11.0</td>\n",
       "      <td>9.99</td>\n",
       "      <td>48.750443</td>\n",
       "      <td>2.251713</td>\n",
       "      <td>43.180904</td>\n",
       "      <td>25.055513</td>\n",
       "      <td>46.0</td>\n",
       "      <td>15434.0</td>\n",
       "      <td>both</td>\n",
       "      <td>6224.0</td>\n",
       "      <td>15843.0</td>\n",
       "      <td>34210.0</td>\n",
       "      <td>4.2</td>\n",
       "      <td>both</td>\n",
       "      <td>1544.944945</td>\n",
       "    </tr>\n",
       "    <tr>\n",
       "      <th>1</th>\n",
       "      <td>77133</td>\n",
       "      <td>COURCELLES-EN-BASSEE</td>\n",
       "      <td>77.0</td>\n",
       "      <td>11.0</td>\n",
       "      <td>10.82</td>\n",
       "      <td>48.412561</td>\n",
       "      <td>3.052941</td>\n",
       "      <td>46.291262</td>\n",
       "      <td>22.518442</td>\n",
       "      <td>51.0</td>\n",
       "      <td>219.0</td>\n",
       "      <td>both</td>\n",
       "      <td>89.0</td>\n",
       "      <td>217.0</td>\n",
       "      <td>25610.0</td>\n",
       "      <td>NaN</td>\n",
       "      <td>both</td>\n",
       "      <td>20.240296</td>\n",
       "    </tr>\n",
       "    <tr>\n",
       "      <th>2</th>\n",
       "      <td>91378</td>\n",
       "      <td>MAUCHAMPS</td>\n",
       "      <td>91.0</td>\n",
       "      <td>11.0</td>\n",
       "      <td>3.13</td>\n",
       "      <td>48.527268</td>\n",
       "      <td>2.197182</td>\n",
       "      <td>40.643885</td>\n",
       "      <td>22.728120</td>\n",
       "      <td>44.0</td>\n",
       "      <td>273.0</td>\n",
       "      <td>both</td>\n",
       "      <td>102.0</td>\n",
       "      <td>283.0</td>\n",
       "      <td>28080.0</td>\n",
       "      <td>NaN</td>\n",
       "      <td>both</td>\n",
       "      <td>87.220447</td>\n",
       "    </tr>\n",
       "    <tr>\n",
       "      <th>3</th>\n",
       "      <td>77243</td>\n",
       "      <td>LAGNY-SUR-MARNE</td>\n",
       "      <td>77.0</td>\n",
       "      <td>11.0</td>\n",
       "      <td>5.79</td>\n",
       "      <td>48.873070</td>\n",
       "      <td>2.709781</td>\n",
       "      <td>38.360069</td>\n",
       "      <td>23.270647</td>\n",
       "      <td>38.0</td>\n",
       "      <td>21264.0</td>\n",
       "      <td>both</td>\n",
       "      <td>9047.0</td>\n",
       "      <td>21301.0</td>\n",
       "      <td>23290.0</td>\n",
       "      <td>3.5</td>\n",
       "      <td>both</td>\n",
       "      <td>3672.538860</td>\n",
       "    </tr>\n",
       "    <tr>\n",
       "      <th>4</th>\n",
       "      <td>94003</td>\n",
       "      <td>ARCUEIL</td>\n",
       "      <td>94.0</td>\n",
       "      <td>11.0</td>\n",
       "      <td>2.32</td>\n",
       "      <td>48.805880</td>\n",
       "      <td>2.333510</td>\n",
       "      <td>37.410927</td>\n",
       "      <td>22.696750</td>\n",
       "      <td>36.0</td>\n",
       "      <td>21567.0</td>\n",
       "      <td>both</td>\n",
       "      <td>8811.0</td>\n",
       "      <td>20197.0</td>\n",
       "      <td>21750.0</td>\n",
       "      <td>4.0</td>\n",
       "      <td>both</td>\n",
       "      <td>9296.120690</td>\n",
       "    </tr>\n",
       "  </tbody>\n",
       "</table>\n",
       "</div>"
      ],
      "text/plain": [
       "  Code INSEE              nom_comm  code_dept  code_reg  superficie_km2  \\\n",
       "0      91645  VERRIERES-LE-BUISSON       91.0      11.0            9.99   \n",
       "1      77133  COURCELLES-EN-BASSEE       77.0      11.0           10.82   \n",
       "2      91378             MAUCHAMPS       91.0      11.0            3.13   \n",
       "3      77243       LAGNY-SUR-MARNE       77.0      11.0            5.79   \n",
       "4      94003               ARCUEIL       94.0      11.0            2.32   \n",
       "\n",
       "         lat       lng   age_mean    age_std  age_median  population merge1  \\\n",
       "0  48.750443  2.251713  43.180904  25.055513        46.0     15434.0   both   \n",
       "1  48.412561  3.052941  46.291262  22.518442        51.0       219.0   both   \n",
       "2  48.527268  2.197182  40.643885  22.728120        44.0       273.0   both   \n",
       "3  48.873070  2.709781  38.360069  23.270647        38.0     21264.0   both   \n",
       "4  48.805880  2.333510  37.410927  22.696750        36.0     21567.0   both   \n",
       "\n",
       "    Foyer  Nbr_p_Foyer  revenue_median  revenue_inequalities merge2  \\\n",
       "0  6224.0      15843.0         34210.0                   4.2   both   \n",
       "1    89.0        217.0         25610.0                   NaN   both   \n",
       "2   102.0        283.0         28080.0                   NaN   both   \n",
       "3  9047.0      21301.0         23290.0                   3.5   both   \n",
       "4  8811.0      20197.0         21750.0                   4.0   both   \n",
       "\n",
       "       density  \n",
       "0  1544.944945  \n",
       "1    20.240296  \n",
       "2    87.220447  \n",
       "3  3672.538860  \n",
       "4  9296.120690  "
      ]
     },
     "execution_count": 39,
     "metadata": {},
     "output_type": "execute_result"
    }
   ],
   "source": [
    "all_data=pd.read_csv('datasets/all_dataset.csv')\n",
    "all_data.head()"
   ]
  },
  {
   "cell_type": "code",
   "execution_count": 40,
   "id": "coordinated-designer",
   "metadata": {
    "scrolled": true
   },
   "outputs": [
    {
     "data": {
      "text/html": [
       "<div>\n",
       "<style scoped>\n",
       "    .dataframe tbody tr th:only-of-type {\n",
       "        vertical-align: middle;\n",
       "    }\n",
       "\n",
       "    .dataframe tbody tr th {\n",
       "        vertical-align: top;\n",
       "    }\n",
       "\n",
       "    .dataframe thead th {\n",
       "        text-align: right;\n",
       "    }\n",
       "</style>\n",
       "<table border=\"1\" class=\"dataframe\">\n",
       "  <thead>\n",
       "    <tr style=\"text-align: right;\">\n",
       "      <th></th>\n",
       "      <th>valeur_fonciere</th>\n",
       "      <th>adresse_numero</th>\n",
       "      <th>Code INSEE</th>\n",
       "      <th>nom_commune</th>\n",
       "      <th>code_departement</th>\n",
       "      <th>nombre_lots</th>\n",
       "      <th>code_type_local</th>\n",
       "      <th>surface_reelle_bati</th>\n",
       "      <th>nombre_pieces_principales</th>\n",
       "      <th>surface_terrain</th>\n",
       "      <th>...</th>\n",
       "      <th>age_median</th>\n",
       "      <th>population</th>\n",
       "      <th>merge1</th>\n",
       "      <th>Foyer</th>\n",
       "      <th>Nbr_p_Foyer</th>\n",
       "      <th>revenue_median</th>\n",
       "      <th>revenue_inequalities</th>\n",
       "      <th>merge2</th>\n",
       "      <th>density</th>\n",
       "      <th>_merge</th>\n",
       "    </tr>\n",
       "  </thead>\n",
       "  <tbody>\n",
       "    <tr>\n",
       "      <th>0</th>\n",
       "      <td>257000.0</td>\n",
       "      <td>17</td>\n",
       "      <td>77450</td>\n",
       "      <td>Servon</td>\n",
       "      <td>77</td>\n",
       "      <td>1</td>\n",
       "      <td>1.0</td>\n",
       "      <td>107.0</td>\n",
       "      <td>5</td>\n",
       "      <td>107.0</td>\n",
       "      <td>...</td>\n",
       "      <td>40.0</td>\n",
       "      <td>3233.0</td>\n",
       "      <td>both</td>\n",
       "      <td>1225.0</td>\n",
       "      <td>3328.0</td>\n",
       "      <td>28500.0</td>\n",
       "      <td>2.8</td>\n",
       "      <td>both</td>\n",
       "      <td>438.075881</td>\n",
       "      <td>both</td>\n",
       "    </tr>\n",
       "    <tr>\n",
       "      <th>1</th>\n",
       "      <td>320500.0</td>\n",
       "      <td>15</td>\n",
       "      <td>77122</td>\n",
       "      <td>Combs-la-Ville</td>\n",
       "      <td>77</td>\n",
       "      <td>0</td>\n",
       "      <td>1.0</td>\n",
       "      <td>85.0</td>\n",
       "      <td>5</td>\n",
       "      <td>347.0</td>\n",
       "      <td>...</td>\n",
       "      <td>37.0</td>\n",
       "      <td>22212.0</td>\n",
       "      <td>both</td>\n",
       "      <td>8368.0</td>\n",
       "      <td>22173.0</td>\n",
       "      <td>23470.0</td>\n",
       "      <td>3.1</td>\n",
       "      <td>both</td>\n",
       "      <td>1525.549451</td>\n",
       "      <td>both</td>\n",
       "    </tr>\n",
       "    <tr>\n",
       "      <th>2</th>\n",
       "      <td>386700.0</td>\n",
       "      <td>20</td>\n",
       "      <td>77053</td>\n",
       "      <td>Brie-Comte-Robert</td>\n",
       "      <td>77</td>\n",
       "      <td>0</td>\n",
       "      <td>1.0</td>\n",
       "      <td>129.0</td>\n",
       "      <td>6</td>\n",
       "      <td>507.0</td>\n",
       "      <td>...</td>\n",
       "      <td>36.0</td>\n",
       "      <td>17200.0</td>\n",
       "      <td>both</td>\n",
       "      <td>7468.0</td>\n",
       "      <td>17477.0</td>\n",
       "      <td>23290.0</td>\n",
       "      <td>3.0</td>\n",
       "      <td>both</td>\n",
       "      <td>863.453815</td>\n",
       "      <td>both</td>\n",
       "    </tr>\n",
       "    <tr>\n",
       "      <th>3</th>\n",
       "      <td>239900.0</td>\n",
       "      <td>1</td>\n",
       "      <td>77122</td>\n",
       "      <td>Combs-la-Ville</td>\n",
       "      <td>77</td>\n",
       "      <td>0</td>\n",
       "      <td>1.0</td>\n",
       "      <td>79.0</td>\n",
       "      <td>4</td>\n",
       "      <td>138.0</td>\n",
       "      <td>...</td>\n",
       "      <td>37.0</td>\n",
       "      <td>22212.0</td>\n",
       "      <td>both</td>\n",
       "      <td>8368.0</td>\n",
       "      <td>22173.0</td>\n",
       "      <td>23470.0</td>\n",
       "      <td>3.1</td>\n",
       "      <td>both</td>\n",
       "      <td>1525.549451</td>\n",
       "      <td>both</td>\n",
       "    </tr>\n",
       "    <tr>\n",
       "      <th>4</th>\n",
       "      <td>356900.0</td>\n",
       "      <td>1</td>\n",
       "      <td>77251</td>\n",
       "      <td>Lieusaint</td>\n",
       "      <td>77</td>\n",
       "      <td>0</td>\n",
       "      <td>1.0</td>\n",
       "      <td>110.0</td>\n",
       "      <td>5</td>\n",
       "      <td>404.0</td>\n",
       "      <td>...</td>\n",
       "      <td>29.0</td>\n",
       "      <td>13363.0</td>\n",
       "      <td>both</td>\n",
       "      <td>4546.0</td>\n",
       "      <td>12673.0</td>\n",
       "      <td>22200.0</td>\n",
       "      <td>2.8</td>\n",
       "      <td>both</td>\n",
       "      <td>1121.998321</td>\n",
       "      <td>both</td>\n",
       "    </tr>\n",
       "  </tbody>\n",
       "</table>\n",
       "<p>5 rows × 32 columns</p>\n",
       "</div>"
      ],
      "text/plain": [
       "   valeur_fonciere  adresse_numero Code INSEE        nom_commune  \\\n",
       "0         257000.0              17      77450             Servon   \n",
       "1         320500.0              15      77122     Combs-la-Ville   \n",
       "2         386700.0              20      77053  Brie-Comte-Robert   \n",
       "3         239900.0               1      77122     Combs-la-Ville   \n",
       "4         356900.0               1      77251          Lieusaint   \n",
       "\n",
       "  code_departement  nombre_lots  code_type_local  surface_reelle_bati  \\\n",
       "0               77            1              1.0                107.0   \n",
       "1               77            0              1.0                 85.0   \n",
       "2               77            0              1.0                129.0   \n",
       "3               77            0              1.0                 79.0   \n",
       "4               77            0              1.0                110.0   \n",
       "\n",
       "   nombre_pieces_principales  surface_terrain  ...  age_median  population  \\\n",
       "0                          5            107.0  ...        40.0      3233.0   \n",
       "1                          5            347.0  ...        37.0     22212.0   \n",
       "2                          6            507.0  ...        36.0     17200.0   \n",
       "3                          4            138.0  ...        37.0     22212.0   \n",
       "4                          5            404.0  ...        29.0     13363.0   \n",
       "\n",
       "   merge1   Foyer Nbr_p_Foyer  revenue_median  revenue_inequalities  merge2  \\\n",
       "0    both  1225.0      3328.0         28500.0                   2.8    both   \n",
       "1    both  8368.0     22173.0         23470.0                   3.1    both   \n",
       "2    both  7468.0     17477.0         23290.0                   3.0    both   \n",
       "3    both  8368.0     22173.0         23470.0                   3.1    both   \n",
       "4    both  4546.0     12673.0         22200.0                   2.8    both   \n",
       "\n",
       "       density  _merge  \n",
       "0   438.075881    both  \n",
       "1  1525.549451    both  \n",
       "2   863.453815    both  \n",
       "3  1525.549451    both  \n",
       "4  1121.998321    both  \n",
       "\n",
       "[5 rows x 32 columns]"
      ]
     },
     "execution_count": 40,
     "metadata": {},
     "output_type": "execute_result"
    }
   ],
   "source": [
    "#test_df = df_final[df_final['Code INSEE']=='94003']\n",
    "\n",
    "df_merged = pd.merge(df_fonciere_final,all_data,on='Code INSEE',how='left', indicator=True)\n",
    "df_merged.head()"
   ]
  },
  {
   "cell_type": "code",
   "execution_count": 41,
   "id": "excellent-anxiety",
   "metadata": {},
   "outputs": [
    {
     "data": {
      "text/html": [
       "<div>\n",
       "<style scoped>\n",
       "    .dataframe tbody tr th:only-of-type {\n",
       "        vertical-align: middle;\n",
       "    }\n",
       "\n",
       "    .dataframe tbody tr th {\n",
       "        vertical-align: top;\n",
       "    }\n",
       "\n",
       "    .dataframe thead th {\n",
       "        text-align: right;\n",
       "    }\n",
       "</style>\n",
       "<table border=\"1\" class=\"dataframe\">\n",
       "  <thead>\n",
       "    <tr style=\"text-align: right;\">\n",
       "      <th></th>\n",
       "      <th>valeur_fonciere</th>\n",
       "      <th>adresse_numero</th>\n",
       "      <th>Code INSEE</th>\n",
       "      <th>nom_commune</th>\n",
       "      <th>code_departement</th>\n",
       "      <th>nombre_lots</th>\n",
       "      <th>code_type_local</th>\n",
       "      <th>surface_reelle_bati</th>\n",
       "      <th>nombre_pieces_principales</th>\n",
       "      <th>surface_terrain</th>\n",
       "      <th>...</th>\n",
       "      <th>age_median</th>\n",
       "      <th>population</th>\n",
       "      <th>merge1</th>\n",
       "      <th>Foyer</th>\n",
       "      <th>Nbr_p_Foyer</th>\n",
       "      <th>revenue_median</th>\n",
       "      <th>revenue_inequalities</th>\n",
       "      <th>merge2</th>\n",
       "      <th>density</th>\n",
       "      <th>_merge</th>\n",
       "    </tr>\n",
       "  </thead>\n",
       "  <tbody>\n",
       "    <tr>\n",
       "      <th>4331</th>\n",
       "      <td>544000.0</td>\n",
       "      <td>35</td>\n",
       "      <td>75101</td>\n",
       "      <td>Paris 1er Arrondissement</td>\n",
       "      <td>75</td>\n",
       "      <td>1</td>\n",
       "      <td>2.0</td>\n",
       "      <td>52.0</td>\n",
       "      <td>2</td>\n",
       "      <td>52.0</td>\n",
       "      <td>...</td>\n",
       "      <td>40.0</td>\n",
       "      <td>16252.0</td>\n",
       "      <td>both</td>\n",
       "      <td>8533.0</td>\n",
       "      <td>15560.0</td>\n",
       "      <td>32890.0</td>\n",
       "      <td>7.2</td>\n",
       "      <td>both</td>\n",
       "      <td>8979.005525</td>\n",
       "      <td>both</td>\n",
       "    </tr>\n",
       "    <tr>\n",
       "      <th>4332</th>\n",
       "      <td>605000.0</td>\n",
       "      <td>21</td>\n",
       "      <td>75108</td>\n",
       "      <td>Paris 8e Arrondissement</td>\n",
       "      <td>75</td>\n",
       "      <td>2</td>\n",
       "      <td>2.0</td>\n",
       "      <td>61.0</td>\n",
       "      <td>3</td>\n",
       "      <td>61.0</td>\n",
       "      <td>...</td>\n",
       "      <td>38.0</td>\n",
       "      <td>36453.0</td>\n",
       "      <td>both</td>\n",
       "      <td>17387.0</td>\n",
       "      <td>37343.0</td>\n",
       "      <td>41270.0</td>\n",
       "      <td>8.6</td>\n",
       "      <td>both</td>\n",
       "      <td>9468.311688</td>\n",
       "      <td>both</td>\n",
       "    </tr>\n",
       "    <tr>\n",
       "      <th>4333</th>\n",
       "      <td>632000.0</td>\n",
       "      <td>10</td>\n",
       "      <td>75101</td>\n",
       "      <td>Paris 1er Arrondissement</td>\n",
       "      <td>75</td>\n",
       "      <td>1</td>\n",
       "      <td>2.0</td>\n",
       "      <td>103.0</td>\n",
       "      <td>3</td>\n",
       "      <td>103.0</td>\n",
       "      <td>...</td>\n",
       "      <td>40.0</td>\n",
       "      <td>16252.0</td>\n",
       "      <td>both</td>\n",
       "      <td>8533.0</td>\n",
       "      <td>15560.0</td>\n",
       "      <td>32890.0</td>\n",
       "      <td>7.2</td>\n",
       "      <td>both</td>\n",
       "      <td>8979.005525</td>\n",
       "      <td>both</td>\n",
       "    </tr>\n",
       "    <tr>\n",
       "      <th>4334</th>\n",
       "      <td>625000.0</td>\n",
       "      <td>119</td>\n",
       "      <td>75101</td>\n",
       "      <td>Paris 1er Arrondissement</td>\n",
       "      <td>75</td>\n",
       "      <td>1</td>\n",
       "      <td>2.0</td>\n",
       "      <td>52.0</td>\n",
       "      <td>3</td>\n",
       "      <td>52.0</td>\n",
       "      <td>...</td>\n",
       "      <td>40.0</td>\n",
       "      <td>16252.0</td>\n",
       "      <td>both</td>\n",
       "      <td>8533.0</td>\n",
       "      <td>15560.0</td>\n",
       "      <td>32890.0</td>\n",
       "      <td>7.2</td>\n",
       "      <td>both</td>\n",
       "      <td>8979.005525</td>\n",
       "      <td>both</td>\n",
       "    </tr>\n",
       "    <tr>\n",
       "      <th>4335</th>\n",
       "      <td>51875.0</td>\n",
       "      <td>53</td>\n",
       "      <td>75108</td>\n",
       "      <td>Paris 8e Arrondissement</td>\n",
       "      <td>75</td>\n",
       "      <td>4</td>\n",
       "      <td>2.0</td>\n",
       "      <td>118.0</td>\n",
       "      <td>3</td>\n",
       "      <td>118.0</td>\n",
       "      <td>...</td>\n",
       "      <td>38.0</td>\n",
       "      <td>36453.0</td>\n",
       "      <td>both</td>\n",
       "      <td>17387.0</td>\n",
       "      <td>37343.0</td>\n",
       "      <td>41270.0</td>\n",
       "      <td>8.6</td>\n",
       "      <td>both</td>\n",
       "      <td>9468.311688</td>\n",
       "      <td>both</td>\n",
       "    </tr>\n",
       "    <tr>\n",
       "      <th>...</th>\n",
       "      <td>...</td>\n",
       "      <td>...</td>\n",
       "      <td>...</td>\n",
       "      <td>...</td>\n",
       "      <td>...</td>\n",
       "      <td>...</td>\n",
       "      <td>...</td>\n",
       "      <td>...</td>\n",
       "      <td>...</td>\n",
       "      <td>...</td>\n",
       "      <td>...</td>\n",
       "      <td>...</td>\n",
       "      <td>...</td>\n",
       "      <td>...</td>\n",
       "      <td>...</td>\n",
       "      <td>...</td>\n",
       "      <td>...</td>\n",
       "      <td>...</td>\n",
       "      <td>...</td>\n",
       "      <td>...</td>\n",
       "      <td>...</td>\n",
       "    </tr>\n",
       "    <tr>\n",
       "      <th>62951</th>\n",
       "      <td>510000.0</td>\n",
       "      <td>113</td>\n",
       "      <td>75104</td>\n",
       "      <td>Paris 4e Arrondissement</td>\n",
       "      <td>75</td>\n",
       "      <td>3</td>\n",
       "      <td>2.0</td>\n",
       "      <td>52.0</td>\n",
       "      <td>2</td>\n",
       "      <td>52.0</td>\n",
       "      <td>...</td>\n",
       "      <td>39.0</td>\n",
       "      <td>27487.0</td>\n",
       "      <td>both</td>\n",
       "      <td>14043.0</td>\n",
       "      <td>25626.0</td>\n",
       "      <td>31200.0</td>\n",
       "      <td>6.7</td>\n",
       "      <td>both</td>\n",
       "      <td>17179.375000</td>\n",
       "      <td>both</td>\n",
       "    </tr>\n",
       "    <tr>\n",
       "      <th>62952</th>\n",
       "      <td>504000.0</td>\n",
       "      <td>2</td>\n",
       "      <td>75104</td>\n",
       "      <td>Paris 4e Arrondissement</td>\n",
       "      <td>75</td>\n",
       "      <td>2</td>\n",
       "      <td>2.0</td>\n",
       "      <td>58.0</td>\n",
       "      <td>3</td>\n",
       "      <td>58.0</td>\n",
       "      <td>...</td>\n",
       "      <td>39.0</td>\n",
       "      <td>27487.0</td>\n",
       "      <td>both</td>\n",
       "      <td>14043.0</td>\n",
       "      <td>25626.0</td>\n",
       "      <td>31200.0</td>\n",
       "      <td>6.7</td>\n",
       "      <td>both</td>\n",
       "      <td>17179.375000</td>\n",
       "      <td>both</td>\n",
       "    </tr>\n",
       "    <tr>\n",
       "      <th>62953</th>\n",
       "      <td>613000.0</td>\n",
       "      <td>10</td>\n",
       "      <td>75102</td>\n",
       "      <td>Paris 2e Arrondissement</td>\n",
       "      <td>75</td>\n",
       "      <td>2</td>\n",
       "      <td>2.0</td>\n",
       "      <td>55.0</td>\n",
       "      <td>2</td>\n",
       "      <td>55.0</td>\n",
       "      <td>...</td>\n",
       "      <td>35.0</td>\n",
       "      <td>20260.0</td>\n",
       "      <td>both</td>\n",
       "      <td>11557.0</td>\n",
       "      <td>20803.0</td>\n",
       "      <td>31470.0</td>\n",
       "      <td>7.1</td>\n",
       "      <td>both</td>\n",
       "      <td>20464.646465</td>\n",
       "      <td>both</td>\n",
       "    </tr>\n",
       "    <tr>\n",
       "      <th>62954</th>\n",
       "      <td>507850.0</td>\n",
       "      <td>199</td>\n",
       "      <td>75102</td>\n",
       "      <td>Paris 2e Arrondissement</td>\n",
       "      <td>75</td>\n",
       "      <td>2</td>\n",
       "      <td>2.0</td>\n",
       "      <td>64.0</td>\n",
       "      <td>3</td>\n",
       "      <td>64.0</td>\n",
       "      <td>...</td>\n",
       "      <td>35.0</td>\n",
       "      <td>20260.0</td>\n",
       "      <td>both</td>\n",
       "      <td>11557.0</td>\n",
       "      <td>20803.0</td>\n",
       "      <td>31470.0</td>\n",
       "      <td>7.1</td>\n",
       "      <td>both</td>\n",
       "      <td>20464.646465</td>\n",
       "      <td>both</td>\n",
       "    </tr>\n",
       "    <tr>\n",
       "      <th>62955</th>\n",
       "      <td>642500.0</td>\n",
       "      <td>29</td>\n",
       "      <td>75104</td>\n",
       "      <td>Paris 4e Arrondissement</td>\n",
       "      <td>75</td>\n",
       "      <td>1</td>\n",
       "      <td>2.0</td>\n",
       "      <td>51.0</td>\n",
       "      <td>3</td>\n",
       "      <td>51.0</td>\n",
       "      <td>...</td>\n",
       "      <td>39.0</td>\n",
       "      <td>27487.0</td>\n",
       "      <td>both</td>\n",
       "      <td>14043.0</td>\n",
       "      <td>25626.0</td>\n",
       "      <td>31200.0</td>\n",
       "      <td>6.7</td>\n",
       "      <td>both</td>\n",
       "      <td>17179.375000</td>\n",
       "      <td>both</td>\n",
       "    </tr>\n",
       "  </tbody>\n",
       "</table>\n",
       "<p>12063 rows × 32 columns</p>\n",
       "</div>"
      ],
      "text/plain": [
       "       valeur_fonciere  adresse_numero Code INSEE               nom_commune  \\\n",
       "4331          544000.0              35      75101  Paris 1er Arrondissement   \n",
       "4332          605000.0              21      75108   Paris 8e Arrondissement   \n",
       "4333          632000.0              10      75101  Paris 1er Arrondissement   \n",
       "4334          625000.0             119      75101  Paris 1er Arrondissement   \n",
       "4335           51875.0              53      75108   Paris 8e Arrondissement   \n",
       "...                ...             ...        ...                       ...   \n",
       "62951         510000.0             113      75104   Paris 4e Arrondissement   \n",
       "62952         504000.0               2      75104   Paris 4e Arrondissement   \n",
       "62953         613000.0              10      75102   Paris 2e Arrondissement   \n",
       "62954         507850.0             199      75102   Paris 2e Arrondissement   \n",
       "62955         642500.0              29      75104   Paris 4e Arrondissement   \n",
       "\n",
       "      code_departement  nombre_lots  code_type_local  surface_reelle_bati  \\\n",
       "4331                75            1              2.0                 52.0   \n",
       "4332                75            2              2.0                 61.0   \n",
       "4333                75            1              2.0                103.0   \n",
       "4334                75            1              2.0                 52.0   \n",
       "4335                75            4              2.0                118.0   \n",
       "...                ...          ...              ...                  ...   \n",
       "62951               75            3              2.0                 52.0   \n",
       "62952               75            2              2.0                 58.0   \n",
       "62953               75            2              2.0                 55.0   \n",
       "62954               75            2              2.0                 64.0   \n",
       "62955               75            1              2.0                 51.0   \n",
       "\n",
       "       nombre_pieces_principales  surface_terrain  ...  age_median  \\\n",
       "4331                           2             52.0  ...        40.0   \n",
       "4332                           3             61.0  ...        38.0   \n",
       "4333                           3            103.0  ...        40.0   \n",
       "4334                           3             52.0  ...        40.0   \n",
       "4335                           3            118.0  ...        38.0   \n",
       "...                          ...              ...  ...         ...   \n",
       "62951                          2             52.0  ...        39.0   \n",
       "62952                          3             58.0  ...        39.0   \n",
       "62953                          2             55.0  ...        35.0   \n",
       "62954                          3             64.0  ...        35.0   \n",
       "62955                          3             51.0  ...        39.0   \n",
       "\n",
       "       population  merge1    Foyer Nbr_p_Foyer  revenue_median  \\\n",
       "4331      16252.0    both   8533.0     15560.0         32890.0   \n",
       "4332      36453.0    both  17387.0     37343.0         41270.0   \n",
       "4333      16252.0    both   8533.0     15560.0         32890.0   \n",
       "4334      16252.0    both   8533.0     15560.0         32890.0   \n",
       "4335      36453.0    both  17387.0     37343.0         41270.0   \n",
       "...           ...     ...      ...         ...             ...   \n",
       "62951     27487.0    both  14043.0     25626.0         31200.0   \n",
       "62952     27487.0    both  14043.0     25626.0         31200.0   \n",
       "62953     20260.0    both  11557.0     20803.0         31470.0   \n",
       "62954     20260.0    both  11557.0     20803.0         31470.0   \n",
       "62955     27487.0    both  14043.0     25626.0         31200.0   \n",
       "\n",
       "       revenue_inequalities  merge2       density  _merge  \n",
       "4331                    7.2    both   8979.005525    both  \n",
       "4332                    8.6    both   9468.311688    both  \n",
       "4333                    7.2    both   8979.005525    both  \n",
       "4334                    7.2    both   8979.005525    both  \n",
       "4335                    8.6    both   9468.311688    both  \n",
       "...                     ...     ...           ...     ...  \n",
       "62951                   6.7    both  17179.375000    both  \n",
       "62952                   6.7    both  17179.375000    both  \n",
       "62953                   7.1    both  20464.646465    both  \n",
       "62954                   7.1    both  20464.646465    both  \n",
       "62955                   6.7    both  17179.375000    both  \n",
       "\n",
       "[12063 rows x 32 columns]"
      ]
     },
     "execution_count": 41,
     "metadata": {},
     "output_type": "execute_result"
    }
   ],
   "source": [
    "df_merged[df_merged['code_departement']==75]"
   ]
  },
  {
   "cell_type": "code",
   "execution_count": 42,
   "id": "smooth-advance",
   "metadata": {
    "scrolled": true
   },
   "outputs": [
    {
     "ename": "TypeError",
     "evalue": "ufunc 'isfinite' not supported for the input types, and the inputs could not be safely coerced to any supported types according to the casting rule ''safe''",
     "output_type": "error",
     "traceback": [
      "\u001b[1;31m---------------------------------------------------------------------------\u001b[0m",
      "\u001b[1;31mTypeError\u001b[0m                                 Traceback (most recent call last)",
      "\u001b[1;32m<ipython-input-42-4cefd8aad8f0>\u001b[0m in \u001b[0;36m<module>\u001b[1;34m\u001b[0m\n\u001b[0;32m     21\u001b[0m \u001b[1;33m\u001b[0m\u001b[0m\n\u001b[0;32m     22\u001b[0m \u001b[1;31m# Plot Prix_m2\u001b[0m\u001b[1;33m\u001b[0m\u001b[1;33m\u001b[0m\u001b[1;33m\u001b[0m\u001b[0m\n\u001b[1;32m---> 23\u001b[1;33m \u001b[0msns\u001b[0m\u001b[1;33m.\u001b[0m\u001b[0mboxenplot\u001b[0m\u001b[1;33m(\u001b[0m\u001b[0mdf_merged\u001b[0m\u001b[1;33m[\u001b[0m\u001b[1;34m'Prix_m2'\u001b[0m\u001b[1;33m]\u001b[0m\u001b[1;33m,\u001b[0m\u001b[0max\u001b[0m\u001b[1;33m=\u001b[0m\u001b[0max4\u001b[0m\u001b[1;33m)\u001b[0m\u001b[1;33m\u001b[0m\u001b[1;33m\u001b[0m\u001b[0m\n\u001b[0m\u001b[0;32m     24\u001b[0m \u001b[0max4\u001b[0m\u001b[1;33m.\u001b[0m\u001b[0mset_xlabel\u001b[0m\u001b[1;33m(\u001b[0m\u001b[1;34m'Distribution of the mean price of houses per m2 ( in €/m2). This plot was cropped '\u001b[0m\u001b[1;33m)\u001b[0m\u001b[1;33m\u001b[0m\u001b[1;33m\u001b[0m\u001b[0m\n\u001b[0;32m     25\u001b[0m \u001b[0max4\u001b[0m\u001b[1;33m.\u001b[0m\u001b[0mset_ylabel\u001b[0m\u001b[1;33m(\u001b[0m\u001b[1;34m'Commune \\n frequency'\u001b[0m\u001b[1;33m)\u001b[0m\u001b[1;33m\u001b[0m\u001b[1;33m\u001b[0m\u001b[0m\n",
      "\u001b[1;32m~\\anaconda3\\envs\\tf\\lib\\site-packages\\seaborn\\_decorators.py\u001b[0m in \u001b[0;36minner_f\u001b[1;34m(*args, **kwargs)\u001b[0m\n\u001b[0;32m     44\u001b[0m             )\n\u001b[0;32m     45\u001b[0m         \u001b[0mkwargs\u001b[0m\u001b[1;33m.\u001b[0m\u001b[0mupdate\u001b[0m\u001b[1;33m(\u001b[0m\u001b[1;33m{\u001b[0m\u001b[0mk\u001b[0m\u001b[1;33m:\u001b[0m \u001b[0marg\u001b[0m \u001b[1;32mfor\u001b[0m \u001b[0mk\u001b[0m\u001b[1;33m,\u001b[0m \u001b[0marg\u001b[0m \u001b[1;32min\u001b[0m \u001b[0mzip\u001b[0m\u001b[1;33m(\u001b[0m\u001b[0msig\u001b[0m\u001b[1;33m.\u001b[0m\u001b[0mparameters\u001b[0m\u001b[1;33m,\u001b[0m \u001b[0margs\u001b[0m\u001b[1;33m)\u001b[0m\u001b[1;33m}\u001b[0m\u001b[1;33m)\u001b[0m\u001b[1;33m\u001b[0m\u001b[1;33m\u001b[0m\u001b[0m\n\u001b[1;32m---> 46\u001b[1;33m         \u001b[1;32mreturn\u001b[0m \u001b[0mf\u001b[0m\u001b[1;33m(\u001b[0m\u001b[1;33m**\u001b[0m\u001b[0mkwargs\u001b[0m\u001b[1;33m)\u001b[0m\u001b[1;33m\u001b[0m\u001b[1;33m\u001b[0m\u001b[0m\n\u001b[0m\u001b[0;32m     47\u001b[0m     \u001b[1;32mreturn\u001b[0m \u001b[0minner_f\u001b[0m\u001b[1;33m\u001b[0m\u001b[1;33m\u001b[0m\u001b[0m\n\u001b[0;32m     48\u001b[0m \u001b[1;33m\u001b[0m\u001b[0m\n",
      "\u001b[1;32m~\\anaconda3\\envs\\tf\\lib\\site-packages\\seaborn\\categorical.py\u001b[0m in \u001b[0;36mboxenplot\u001b[1;34m(x, y, hue, data, order, hue_order, orient, color, palette, saturation, width, dodge, k_depth, linewidth, scale, outlier_prop, trust_alpha, showfliers, ax, **kwargs)\u001b[0m\n\u001b[0;32m   2637\u001b[0m         \u001b[0max\u001b[0m \u001b[1;33m=\u001b[0m \u001b[0mplt\u001b[0m\u001b[1;33m.\u001b[0m\u001b[0mgca\u001b[0m\u001b[1;33m(\u001b[0m\u001b[1;33m)\u001b[0m\u001b[1;33m\u001b[0m\u001b[1;33m\u001b[0m\u001b[0m\n\u001b[0;32m   2638\u001b[0m \u001b[1;33m\u001b[0m\u001b[0m\n\u001b[1;32m-> 2639\u001b[1;33m     \u001b[0mplotter\u001b[0m\u001b[1;33m.\u001b[0m\u001b[0mplot\u001b[0m\u001b[1;33m(\u001b[0m\u001b[0max\u001b[0m\u001b[1;33m,\u001b[0m \u001b[0mkwargs\u001b[0m\u001b[1;33m)\u001b[0m\u001b[1;33m\u001b[0m\u001b[1;33m\u001b[0m\u001b[0m\n\u001b[0m\u001b[0;32m   2640\u001b[0m     \u001b[1;32mreturn\u001b[0m \u001b[0max\u001b[0m\u001b[1;33m\u001b[0m\u001b[1;33m\u001b[0m\u001b[0m\n\u001b[0;32m   2641\u001b[0m \u001b[1;33m\u001b[0m\u001b[0m\n",
      "\u001b[1;32m~\\anaconda3\\envs\\tf\\lib\\site-packages\\seaborn\\categorical.py\u001b[0m in \u001b[0;36mplot\u001b[1;34m(self, ax, boxplot_kws)\u001b[0m\n\u001b[0;32m   2060\u001b[0m     \u001b[1;32mdef\u001b[0m \u001b[0mplot\u001b[0m\u001b[1;33m(\u001b[0m\u001b[0mself\u001b[0m\u001b[1;33m,\u001b[0m \u001b[0max\u001b[0m\u001b[1;33m,\u001b[0m \u001b[0mboxplot_kws\u001b[0m\u001b[1;33m)\u001b[0m\u001b[1;33m:\u001b[0m\u001b[1;33m\u001b[0m\u001b[1;33m\u001b[0m\u001b[0m\n\u001b[0;32m   2061\u001b[0m         \u001b[1;34m\"\"\"Make the plot.\"\"\"\u001b[0m\u001b[1;33m\u001b[0m\u001b[1;33m\u001b[0m\u001b[0m\n\u001b[1;32m-> 2062\u001b[1;33m         \u001b[0mself\u001b[0m\u001b[1;33m.\u001b[0m\u001b[0mdraw_letter_value_plot\u001b[0m\u001b[1;33m(\u001b[0m\u001b[0max\u001b[0m\u001b[1;33m,\u001b[0m \u001b[0mboxplot_kws\u001b[0m\u001b[1;33m)\u001b[0m\u001b[1;33m\u001b[0m\u001b[1;33m\u001b[0m\u001b[0m\n\u001b[0m\u001b[0;32m   2063\u001b[0m         \u001b[0mself\u001b[0m\u001b[1;33m.\u001b[0m\u001b[0mannotate_axes\u001b[0m\u001b[1;33m(\u001b[0m\u001b[0max\u001b[0m\u001b[1;33m)\u001b[0m\u001b[1;33m\u001b[0m\u001b[1;33m\u001b[0m\u001b[0m\n\u001b[0;32m   2064\u001b[0m         \u001b[1;32mif\u001b[0m \u001b[0mself\u001b[0m\u001b[1;33m.\u001b[0m\u001b[0morient\u001b[0m \u001b[1;33m==\u001b[0m \u001b[1;34m\"h\"\u001b[0m\u001b[1;33m:\u001b[0m\u001b[1;33m\u001b[0m\u001b[1;33m\u001b[0m\u001b[0m\n",
      "\u001b[1;32m~\\anaconda3\\envs\\tf\\lib\\site-packages\\seaborn\\categorical.py\u001b[0m in \u001b[0;36mdraw_letter_value_plot\u001b[1;34m(self, ax, kws)\u001b[0m\n\u001b[0;32m   2019\u001b[0m                 \u001b[0mcolor\u001b[0m \u001b[1;33m=\u001b[0m \u001b[0mself\u001b[0m\u001b[1;33m.\u001b[0m\u001b[0mcolors\u001b[0m\u001b[1;33m[\u001b[0m\u001b[0mi\u001b[0m\u001b[1;33m]\u001b[0m\u001b[1;33m\u001b[0m\u001b[1;33m\u001b[0m\u001b[0m\n\u001b[0;32m   2020\u001b[0m \u001b[1;33m\u001b[0m\u001b[0m\n\u001b[1;32m-> 2021\u001b[1;33m                 self._lvplot(box_data,\n\u001b[0m\u001b[0;32m   2022\u001b[0m                              \u001b[0mpositions\u001b[0m\u001b[1;33m=\u001b[0m\u001b[1;33m[\u001b[0m\u001b[0mi\u001b[0m\u001b[1;33m]\u001b[0m\u001b[1;33m,\u001b[0m\u001b[1;33m\u001b[0m\u001b[1;33m\u001b[0m\u001b[0m\n\u001b[0;32m   2023\u001b[0m                              \u001b[0mcolor\u001b[0m\u001b[1;33m=\u001b[0m\u001b[0mcolor\u001b[0m\u001b[1;33m,\u001b[0m\u001b[1;33m\u001b[0m\u001b[1;33m\u001b[0m\u001b[0m\n",
      "\u001b[1;32m~\\anaconda3\\envs\\tf\\lib\\site-packages\\seaborn\\categorical.py\u001b[0m in \u001b[0;36m_lvplot\u001b[1;34m(self, box_data, positions, color, widths, ax, **kws)\u001b[0m\n\u001b[0;32m   1913\u001b[0m             \u001b[1;31m# Get the number of data points and calculate \"depth\" of\u001b[0m\u001b[1;33m\u001b[0m\u001b[1;33m\u001b[0m\u001b[1;33m\u001b[0m\u001b[0m\n\u001b[0;32m   1914\u001b[0m             \u001b[1;31m# letter-value plot\u001b[0m\u001b[1;33m\u001b[0m\u001b[1;33m\u001b[0m\u001b[1;33m\u001b[0m\u001b[0m\n\u001b[1;32m-> 1915\u001b[1;33m             \u001b[0mbox_ends\u001b[0m\u001b[1;33m,\u001b[0m \u001b[0mk\u001b[0m \u001b[1;33m=\u001b[0m \u001b[0mself\u001b[0m\u001b[1;33m.\u001b[0m\u001b[0m_lv_box_ends\u001b[0m\u001b[1;33m(\u001b[0m\u001b[0mbox_data\u001b[0m\u001b[1;33m)\u001b[0m\u001b[1;33m\u001b[0m\u001b[1;33m\u001b[0m\u001b[0m\n\u001b[0m\u001b[0;32m   1916\u001b[0m \u001b[1;33m\u001b[0m\u001b[0m\n\u001b[0;32m   1917\u001b[0m             \u001b[1;31m# Anonymous functions for calculating the width and height\u001b[0m\u001b[1;33m\u001b[0m\u001b[1;33m\u001b[0m\u001b[1;33m\u001b[0m\u001b[0m\n",
      "\u001b[1;32m~\\anaconda3\\envs\\tf\\lib\\site-packages\\seaborn\\categorical.py\u001b[0m in \u001b[0;36m_lv_box_ends\u001b[1;34m(self, vals)\u001b[0m\n\u001b[0;32m   1843\u001b[0m         letter-value plot.\"\"\"\n\u001b[0;32m   1844\u001b[0m         \u001b[0mvals\u001b[0m \u001b[1;33m=\u001b[0m \u001b[0mnp\u001b[0m\u001b[1;33m.\u001b[0m\u001b[0masarray\u001b[0m\u001b[1;33m(\u001b[0m\u001b[0mvals\u001b[0m\u001b[1;33m)\u001b[0m\u001b[1;33m\u001b[0m\u001b[1;33m\u001b[0m\u001b[0m\n\u001b[1;32m-> 1845\u001b[1;33m         \u001b[0mvals\u001b[0m \u001b[1;33m=\u001b[0m \u001b[0mvals\u001b[0m\u001b[1;33m[\u001b[0m\u001b[0mnp\u001b[0m\u001b[1;33m.\u001b[0m\u001b[0misfinite\u001b[0m\u001b[1;33m(\u001b[0m\u001b[0mvals\u001b[0m\u001b[1;33m)\u001b[0m\u001b[1;33m]\u001b[0m\u001b[1;33m\u001b[0m\u001b[1;33m\u001b[0m\u001b[0m\n\u001b[0m\u001b[0;32m   1846\u001b[0m         \u001b[0mn\u001b[0m \u001b[1;33m=\u001b[0m \u001b[0mlen\u001b[0m\u001b[1;33m(\u001b[0m\u001b[0mvals\u001b[0m\u001b[1;33m)\u001b[0m\u001b[1;33m\u001b[0m\u001b[1;33m\u001b[0m\u001b[0m\n\u001b[0;32m   1847\u001b[0m         \u001b[0mp\u001b[0m \u001b[1;33m=\u001b[0m \u001b[0mself\u001b[0m\u001b[1;33m.\u001b[0m\u001b[0moutlier_prop\u001b[0m\u001b[1;33m\u001b[0m\u001b[1;33m\u001b[0m\u001b[0m\n",
      "\u001b[1;31mTypeError\u001b[0m: ufunc 'isfinite' not supported for the input types, and the inputs could not be safely coerced to any supported types according to the casting rule ''safe''"
     ]
    },
    {
     "data": {
      "image/png": "[encoded data removed]",
      "text/plain": [
       "<Figure size 720x720 with 4 Axes>"
      ]
     },
     "metadata": {
      "needs_background": "light"
     },
     "output_type": "display_data"
    }
   ],
   "source": [
    "# Define subplots object\n",
    "fig, (ax1, ax2, ax3, ax4) = plt.subplots(4, 1, figsize=(10,10) , gridspec_kw={'hspace': 0.5})\n",
    "\n",
    "fig.suptitle('Distribution of the Communes acrosss the studied features', fontsize=16)\n",
    "\n",
    "# Plot density\n",
    "sns.boxenplot(df_merged['density'],ax=ax1)\n",
    "ax1.set_xlabel('Distribution of the density of population (in uninhabitant/km2). This plot was cropped')\n",
    "ax1.set_ylabel('Commune \\n frequency')\n",
    "ax1.set_xlim(0,1000)\n",
    "\n",
    "# Plot revenue_median\n",
    "sns.boxenplot(df_merged['revenue_median'],ax=ax2)\n",
    "ax2.set_xlabel('Distribution of the median standard of living of households (in €/an)')\n",
    "ax2.set_ylabel('Commune \\n frequency')\n",
    "\n",
    "# Plot age_median\n",
    "sns.boxenplot(df_merged['age_median'],ax=ax3)\n",
    "ax3.set_xlabel('Distribution of the age median')\n",
    "ax3.set_ylabel('Commune \\n frequency')\n",
    "\n",
    "# Plot Prix_m2\n",
    "sns.boxenplot(df_merged['Prix_m2'],ax=ax4)\n",
    "ax4.set_xlabel('Distribution of the mean price of houses per m2 ( in €/m2). This plot was cropped ')\n",
    "ax4.set_ylabel('Commune \\n frequency')\n",
    "ax4.set_xlim(0,6000)"
   ]
  },
  {
   "cell_type": "code",
   "execution_count": 43,
   "id": "national-charter",
   "metadata": {},
   "outputs": [
    {
     "name": "stdout",
     "output_type": "stream",
     "text": [
      "(62956, 32)\n"
     ]
    }
   ],
   "source": [
    "print(df_merged.shape)"
   ]
  },
  {
   "cell_type": "code",
   "execution_count": 44,
   "id": "circular-transportation",
   "metadata": {},
   "outputs": [
    {
     "name": "stdout",
     "output_type": "stream",
     "text": [
      "(62956, 32)\n",
      "(61224, 32)\n"
     ]
    }
   ],
   "source": [
    "print(df_merged.shape)\n",
    "df_merged.dropna(how='any', axis=0, inplace=True)\n",
    "print(df_merged.shape)"
   ]
  },
  {
   "cell_type": "code",
   "execution_count": 45,
   "id": "stunning-reliance",
   "metadata": {},
   "outputs": [],
   "source": [
    "df_merged.to_csv('datasets/df_merged_dataset.csv', index=False)"
   ]
  },
  {
   "cell_type": "markdown",
   "id": "nasty-halifax",
   "metadata": {},
   "source": [
    "**Encode**"
   ]
  },
  {
   "cell_type": "code",
   "execution_count": 46,
   "id": "valuable-collins",
   "metadata": {},
   "outputs": [
    {
     "data": {
      "text/plain": [
       "Index(['valeur_fonciere', 'adresse_numero', 'Code INSEE', 'nom_commune',\n",
       "       'code_departement', 'nombre_lots', 'code_type_local',\n",
       "       'surface_reelle_bati', 'nombre_pieces_principales', 'surface_terrain',\n",
       "       'Year', 'Month', 'Prix_m2', 'jour_de_semaine', 'nom_comm', 'code_dept',\n",
       "       'code_reg', 'superficie_km2', 'lat', 'lng', 'age_mean', 'age_std',\n",
       "       'age_median', 'population', 'merge1', 'Foyer', 'Nbr_p_Foyer',\n",
       "       'revenue_median', 'revenue_inequalities', 'merge2', 'density',\n",
       "       '_merge'],\n",
       "      dtype='object')"
      ]
     },
     "execution_count": 46,
     "metadata": {},
     "output_type": "execute_result"
    }
   ],
   "source": [
    "df_merged.columns"
   ]
  },
  {
   "cell_type": "markdown",
   "id": "straight-brass",
   "metadata": {},
   "source": [
    "Fonction graphe"
   ]
  },
  {
   "cell_type": "code",
   "execution_count": 205,
   "id": "cubic-nowhere",
   "metadata": {},
   "outputs": [],
   "source": [
    "def plotmodel(ytest,ypred) :\n",
    "    width=7\n",
    "    height=5\n",
    "    plt.figure(figsize=(width, height))\n",
    "\n",
    "\n",
    "    ax1 = sns.distplot(ytest, hist=False, color=\"r\", label=\"test Value\")\n",
    "    sns.distplot(ypred, hist=False, color=\"b\", label=\"Fit Values\" , ax=ax1)\n",
    "\n",
    "\n",
    "    plt.title('Actual vs pred')\n",
    "    plt.xlabel('Prix')\n",
    "    plt.ylabel('Densité')\n",
    "\n",
    "    plt.show()\n",
    "    plt.close()"
   ]
  },
  {
   "cell_type": "markdown",
   "id": "loaded-ministry",
   "metadata": {},
   "source": [
    "# Machine learning"
   ]
  },
  {
   "cell_type": "markdown",
   "id": "smooth-electric",
   "metadata": {},
   "source": [
    "Dataset Preparation (Splitting and Scaling)"
   ]
  },
  {
   "cell_type": "code",
   "execution_count": 47,
   "id": "authorized-block",
   "metadata": {},
   "outputs": [],
   "source": [
    "from sklearn.model_selection import train_test_split\n",
    "\n",
    "numeric_features = ['nombre_lots','surface_reelle_bati','nombre_pieces_principales','surface_terrain','superficie_km2',\n",
    "                    'age_median','revenue_median','population','density']\n",
    "categorical_features = ['adresse_numero','code_type_local','Month','code_departement']\n",
    "\n",
    "col_X = numeric_features+categorical_features\n",
    "\n",
    "X = df_merged[col_X].values\n",
    "y = df_merged['valeur_fonciere'].values\n",
    "\n",
    "X_train, X_test, y_train, y_test = train_test_split(X, y, test_size=0.25)"
   ]
  },
  {
   "cell_type": "code",
   "execution_count": 48,
   "id": "former-sample",
   "metadata": {},
   "outputs": [],
   "source": [
    "from sklearn.preprocessing import StandardScaler\n",
    "s_scaler = StandardScaler()\n",
    "X_train = s_scaler.fit_transform(X_train.astype(np.float))\n",
    "X_test = s_scaler.transform(X_test.astype(np.float))"
   ]
  },
  {
   "cell_type": "markdown",
   "id": "traditional-wrapping",
   "metadata": {},
   "source": [
    "LinearRegression"
   ]
  },
  {
   "cell_type": "code",
   "execution_count": 158,
   "id": "known-stomach",
   "metadata": {},
   "outputs": [
    {
     "name": "stdout",
     "output_type": "stream",
     "text": [
      "-133952.6\n",
      "[ 2.9116514e+03  1.8776770e+03 -3.3388447e+03  4.2979988e+01\n",
      "  3.8510312e+02 -1.3831154e+03  1.3232124e+01  6.6430664e-01\n",
      "  7.8502808e+00 -5.8495264e+00 -8.4918266e+04  2.8846930e+02\n",
      "  9.1893115e+02]\n"
     ]
    }
   ],
   "source": [
    "# Multiple Liner Regression\n",
    "from sklearn.linear_model import LinearRegression\n",
    "model_regressor = LinearRegression()  \n",
    "model_regressor.fit(X_train, y_train)\n",
    "\n",
    "#evaluate the model (intercept and slope)\n",
    "print(model_regressor.intercept_)\n",
    "print(model_regressor.coef_)\n",
    "\n",
    "#predicting the test set result\n",
    "y_pred_model1 = model_regressor.predict(X_test)\n"
   ]
  },
  {
   "cell_type": "code",
   "execution_count": 159,
   "id": "portuguese-montgomery",
   "metadata": {},
   "outputs": [
    {
     "name": "stdout",
     "output_type": "stream",
     "text": [
      "model R2 score: 0.533\n",
      "model regressor MSE is:  10849682314.1255\n"
     ]
    }
   ],
   "source": [
    "print(\"model R2 score: %.3f\" % model_regressor.score(X_test, y_test))\n",
    "\n",
    "from sklearn.metrics import mean_squared_error\n",
    "\n",
    "MSE = mean_squared_error(y_test, y_pred_model1)\n",
    "print('model regressor MSE is: ', MSE)\n"
   ]
  },
  {
   "cell_type": "code",
   "execution_count": 160,
   "id": "extreme-ambassador",
   "metadata": {
    "scrolled": true
   },
   "outputs": [
    {
     "data": {
      "text/html": [
       "<div>\n",
       "<style scoped>\n",
       "    .dataframe tbody tr th:only-of-type {\n",
       "        vertical-align: middle;\n",
       "    }\n",
       "\n",
       "    .dataframe tbody tr th {\n",
       "        vertical-align: top;\n",
       "    }\n",
       "\n",
       "    .dataframe thead th {\n",
       "        text-align: right;\n",
       "    }\n",
       "</style>\n",
       "<table border=\"1\" class=\"dataframe\">\n",
       "  <thead>\n",
       "    <tr style=\"text-align: right;\">\n",
       "      <th></th>\n",
       "      <th>Model</th>\n",
       "      <th>R2</th>\n",
       "      <th>MSE</th>\n",
       "    </tr>\n",
       "  </thead>\n",
       "  <tbody>\n",
       "    <tr>\n",
       "      <th>0</th>\n",
       "      <td>LinearRegression</td>\n",
       "      <td>0.533473</td>\n",
       "      <td>1.084968e+10</td>\n",
       "    </tr>\n",
       "  </tbody>\n",
       "</table>\n",
       "</div>"
      ],
      "text/plain": [
       "              Model        R2           MSE\n",
       "0  LinearRegression  0.533473  1.084968e+10"
      ]
     },
     "execution_count": 160,
     "metadata": {},
     "output_type": "execute_result"
    }
   ],
   "source": [
    "#score collector\n",
    "score_data = {'Model':['LinearRegression'],'R2':[model_regressor.score(X_test, y_test)],'MSE':[MSE]}\n",
    "score_collector = pd.DataFrame(score_data)\n",
    "score_collector"
   ]
  },
  {
   "cell_type": "code",
   "execution_count": 162,
   "id": "increasing-syndicate",
   "metadata": {},
   "outputs": [
    {
     "data": {
      "image/png": "[encoded data removed]",
      "text/plain": [
       "<Figure size 504x360 with 1 Axes>"
      ]
     },
     "metadata": {
      "needs_background": "light"
     },
     "output_type": "display_data"
    },
    {
     "data": {
      "text/plain": [
       "<AxesSubplot:ylabel='Density'>"
      ]
     },
     "execution_count": 162,
     "metadata": {},
     "output_type": "execute_result"
    },
    {
     "data": {
      "image/png": "[encoded data removed]",
      "text/plain": [
       "<Figure size 576x288 with 1 Axes>"
      ]
     },
     "metadata": {
      "needs_background": "light"
     },
     "output_type": "display_data"
    }
   ],
   "source": [
    "# Distribution predicted prix et actual prix\n",
    "plotmodel(y_test, y_pred_model1)\n",
    "\n",
    "# visualizing residuals\n",
    "fig = plt.figure(figsize=(8,4))\n",
    "residuals = (y_test- y_pred_model1)\n",
    "sns.distplot(residuals)"
   ]
  },
  {
   "cell_type": "code",
   "execution_count": 208,
   "id": "stainless-hunger",
   "metadata": {},
   "outputs": [
    {
     "data": {
      "text/plain": [
       "[<matplotlib.lines.Line2D at 0x2526b6cdfa0>]"
      ]
     },
     "execution_count": 208,
     "metadata": {},
     "output_type": "execute_result"
    },
    {
     "data": {
      "image/png": "[encoded data removed]",
      "text/plain": [
       "<Figure size 720x360 with 1 Axes>"
      ]
     },
     "metadata": {
      "needs_background": "light"
     },
     "output_type": "display_data"
    }
   ],
   "source": [
    "# Visualizing Our predictions\n",
    "fig = plt.figure(figsize=(10,5))\n",
    "plt.scatter(y_test,y_pred_model1)\n",
    "# Perfect predictions\n",
    "plt.plot(y_test,y_test,'r')"
   ]
  },
  {
   "cell_type": "markdown",
   "id": "functioning-drunk",
   "metadata": {},
   "source": [
    "Ensemble Learning -Boosting -Xgboost"
   ]
  },
  {
   "cell_type": "code",
   "execution_count": 54,
   "id": "impossible-optimization",
   "metadata": {},
   "outputs": [
    {
     "name": "stdout",
     "output_type": "stream",
     "text": [
      "model score: 0.683\n"
     ]
    }
   ],
   "source": [
    "import xgboost as xgb \n",
    "\n",
    "model_xgb = xgb.XGBRegressor(objective ='reg:squarederror', n_estimators = 200, verbosity=1)\n",
    "\n",
    "model_xgb.fit(X_train, y_train)\n",
    "print(\"model score: %.3f\" % model_xgb.score(X_test, y_test))"
   ]
  },
  {
   "cell_type": "markdown",
   "id": "grateful-harassment",
   "metadata": {},
   "source": [
    "XGBoosting with GridSearch"
   ]
  },
  {
   "cell_type": "code",
   "execution_count": 55,
   "id": "further-departure",
   "metadata": {},
   "outputs": [
    {
     "name": "stdout",
     "output_type": "stream",
     "text": [
      "-7020554250.198816\n",
      "{'n_estimators': 200}\n"
     ]
    }
   ],
   "source": [
    "from sklearn.model_selection import GridSearchCV\n",
    "\n",
    "# Round 1 Grid search for n_estimators\n",
    "xgb_model_r1 = xgb.XGBRegressor(max_depth=5,learning_rate= 0.1, verbosity=1, \n",
    "                              objective='reg:squarederror',random_state=1)\n",
    "\n",
    "grid_r1= GridSearchCV(xgb_model_r1, {'n_estimators': [20,50,100,150,200]}, scoring='neg_mean_squared_error', cv=10)\n",
    "grid_r1.fit(X_train,y_train)\n",
    "\n",
    "#get the best score and parameters\n",
    "\n",
    "print(grid_r1.best_score_)\n",
    "print(grid_r1.best_params_)\n",
    "\n"
   ]
  },
  {
   "cell_type": "code",
   "execution_count": 56,
   "id": "corresponding-aurora",
   "metadata": {
    "scrolled": true
   },
   "outputs": [
    {
     "name": "stdout",
     "output_type": "stream",
     "text": [
      "-6909028069.351796\n",
      "{'max_depth': 7, 'min_child_weight': 5}\n"
     ]
    }
   ],
   "source": [
    "# Round 2 Grid search for max_depth and min_child_weight\n",
    "xgb_model_r2 = xgb.XGBRegressor(n_estimators=200, learning_rate= 0.1, verbosity=1,\n",
    "                                 objective='reg:squarederror',random_state=1)\n",
    "param_r2 = {\n",
    " 'max_depth':range(3,12,1),\n",
    " 'min_child_weight':range(1,6,2)}\n",
    "\n",
    "grid_r2= GridSearchCV(xgb_model_r2, param_grid = param_r2, scoring='neg_mean_squared_error', cv=10)\n",
    "grid_r2.fit(X_train,y_train)\n",
    "\n",
    "#get the best score and parameters\n",
    "print(grid_r2.best_score_)\n",
    "print(grid_r2.best_params_)"
   ]
  },
  {
   "cell_type": "code",
   "execution_count": 164,
   "id": "romance-teddy",
   "metadata": {},
   "outputs": [
    {
     "name": "stdout",
     "output_type": "stream",
     "text": [
      "model R2 score: 0.700\n",
      "model xgboost MSE is:  6968045653.300115\n"
     ]
    }
   ],
   "source": [
    "xgb_model_final = xgb.XGBRegressor(n_estimators=200, max_depth=7, min_child_weight=1, learning_rate= 0.1, verbosity=1,\n",
    "                                   objective='reg:squarederror',random_state=1)\n",
    "\n",
    "xgb_model_final.fit(X_train,y_train)\n",
    "y_pred_final = xgb_model_final.predict(X_test)\n",
    "\n",
    "print(\"model R2 score: %.3f\" % xgb_model_final.score(X_test, y_test))\n",
    "MSE_xgb_test = mean_squared_error(y_test, y_pred_final)\n",
    "print('model xgboost MSE is: ', MSE_xgb_test)"
   ]
  },
  {
   "cell_type": "code",
   "execution_count": 165,
   "id": "technological-characteristic",
   "metadata": {},
   "outputs": [
    {
     "data": {
      "text/html": [
       "<div>\n",
       "<style scoped>\n",
       "    .dataframe tbody tr th:only-of-type {\n",
       "        vertical-align: middle;\n",
       "    }\n",
       "\n",
       "    .dataframe tbody tr th {\n",
       "        vertical-align: top;\n",
       "    }\n",
       "\n",
       "    .dataframe thead th {\n",
       "        text-align: right;\n",
       "    }\n",
       "</style>\n",
       "<table border=\"1\" class=\"dataframe\">\n",
       "  <thead>\n",
       "    <tr style=\"text-align: right;\">\n",
       "      <th></th>\n",
       "      <th>Model</th>\n",
       "      <th>R2</th>\n",
       "      <th>MSE</th>\n",
       "    </tr>\n",
       "  </thead>\n",
       "  <tbody>\n",
       "    <tr>\n",
       "      <th>0</th>\n",
       "      <td>LinearRegression</td>\n",
       "      <td>0.533473</td>\n",
       "      <td>1.084968e+10</td>\n",
       "    </tr>\n",
       "    <tr>\n",
       "      <th>1</th>\n",
       "      <td>XGBRegressor</td>\n",
       "      <td>0.700380</td>\n",
       "      <td>6.968046e+09</td>\n",
       "    </tr>\n",
       "  </tbody>\n",
       "</table>\n",
       "</div>"
      ],
      "text/plain": [
       "              Model        R2           MSE\n",
       "0  LinearRegression  0.533473  1.084968e+10\n",
       "1      XGBRegressor  0.700380  6.968046e+09"
      ]
     },
     "execution_count": 165,
     "metadata": {},
     "output_type": "execute_result"
    }
   ],
   "source": [
    "#score collector\n",
    "\n",
    "score_collector=score_collector.append({'Model':'XGBRegressor','R2':xgb_model_final.score(X_test, y_test),'MSE':MSE_xgb_test}, ignore_index=True)\n",
    "\n",
    "score_collector"
   ]
  },
  {
   "cell_type": "code",
   "execution_count": 166,
   "id": "gentle-inquiry",
   "metadata": {},
   "outputs": [
    {
     "data": {
      "image/png": "[encoded data removed]",
      "text/plain": [
       "<Figure size 504x360 with 1 Axes>"
      ]
     },
     "metadata": {
      "needs_background": "light"
     },
     "output_type": "display_data"
    },
    {
     "data": {
      "text/plain": [
       "<AxesSubplot:ylabel='Density'>"
      ]
     },
     "execution_count": 166,
     "metadata": {},
     "output_type": "execute_result"
    },
    {
     "data": {
      "image/png": "[encoded data removed]",
      "text/plain": [
       "<Figure size 576x288 with 1 Axes>"
      ]
     },
     "metadata": {
      "needs_background": "light"
     },
     "output_type": "display_data"
    }
   ],
   "source": [
    "# Distribution predicted prix et actual prix\n",
    "plotmodel(y_test, y_pred_final)\n",
    "\n",
    "# visualizing residuals\n",
    "fig = plt.figure(figsize=(8,4))\n",
    "residuals = (y_test- y_pred_final)\n",
    "sns.distplot(residuals)"
   ]
  },
  {
   "cell_type": "markdown",
   "id": "minor-triangle",
   "metadata": {},
   "source": [
    "Ensemble Learning -Bagging -RandomForestRegressor"
   ]
  },
  {
   "cell_type": "code",
   "execution_count": 60,
   "id": "russian-apple",
   "metadata": {},
   "outputs": [
    {
     "name": "stdout",
     "output_type": "stream",
     "text": [
      "Fitting 10 folds for each of 8 candidates, totalling 80 fits\n"
     ]
    },
    {
     "name": "stderr",
     "output_type": "stream",
     "text": [
      "[Parallel(n_jobs=1)]: Using backend SequentialBackend with 1 concurrent workers.\n",
      "[Parallel(n_jobs=1)]: Done  80 out of  80 | elapsed:  6.8min finished\n"
     ]
    },
    {
     "name": "stdout",
     "output_type": "stream",
     "text": [
      "-7844177260.806643\n",
      "{'n_estimators': 200}\n"
     ]
    }
   ],
   "source": [
    "from sklearn.ensemble import RandomForestRegressor\n",
    "\n",
    "#Grid CV round1\n",
    "param_test1 = {'n_estimators':[10,20,40,60,80,100,150,200]}\n",
    "gsearch1 = GridSearchCV(estimator = RandomForestRegressor(min_samples_split=100,min_samples_leaf=20,\n",
    "                                                          max_depth=8,max_features='auto' ,random_state=10), \n",
    "                        param_grid = param_test1, scoring='neg_mean_squared_error',cv=10, verbose=1)\n",
    "\n",
    "gsearch1.fit(X_train,y_train)\n",
    "\n",
    "#get the best score and parameters\n",
    "print(gsearch1.best_score_)\n",
    "print(gsearch1.best_params_)"
   ]
  },
  {
   "cell_type": "code",
   "execution_count": 61,
   "id": "previous-trademark",
   "metadata": {},
   "outputs": [
    {
     "name": "stdout",
     "output_type": "stream",
     "text": [
      "Fitting 10 folds for each of 48 candidates, totalling 480 fits\n"
     ]
    },
    {
     "name": "stderr",
     "output_type": "stream",
     "text": [
      "[Parallel(n_jobs=1)]: Using backend SequentialBackend with 1 concurrent workers.\n",
      "[Parallel(n_jobs=1)]: Done 480 out of 480 | elapsed: 70.7min finished\n"
     ]
    },
    {
     "name": "stdout",
     "output_type": "stream",
     "text": [
      "-7208592404.664482\n",
      "{'max_depth': 13, 'min_samples_split': 50}\n"
     ]
    }
   ],
   "source": [
    "#Grid CV round2\n",
    "param_test2 = {'max_depth':[3,5,7,9,11,13], 'min_samples_split':[50,70,90,110,130,150,170,190]}\n",
    "gsearch2 = GridSearchCV(estimator = RandomForestRegressor(n_estimators= 150, min_samples_leaf=20,\n",
    "                                                           max_features='auto',oob_score=True, random_state=10),\n",
    "                        param_grid = param_test2, scoring='neg_mean_squared_error',iid=False, cv=10, verbose=1)\n",
    "\n",
    "gsearch2.fit(X_train,y_train)\n",
    "\n",
    "#get the best score and parameters\n",
    "print(gsearch2.best_score_)\n",
    "print(gsearch2.best_params_)\n"
   ]
  },
  {
   "cell_type": "code",
   "execution_count": 62,
   "id": "behavioral-image",
   "metadata": {},
   "outputs": [
    {
     "name": "stdout",
     "output_type": "stream",
     "text": [
      "0.6920295468334512\n"
     ]
    }
   ],
   "source": [
    "#validation data)\n",
    "rf1 = RandomForestRegressor(n_estimators= 150, max_depth=13, min_samples_split=50,\n",
    "                                  min_samples_leaf=20,max_features='auto' ,oob_score=True, random_state=10)\n",
    "rf1.fit(X_train,y_train)\n",
    "#\n",
    "print (rf1.oob_score_)"
   ]
  },
  {
   "cell_type": "code",
   "execution_count": 167,
   "id": "hollow-particular",
   "metadata": {},
   "outputs": [
    {
     "name": "stdout",
     "output_type": "stream",
     "text": [
      "model R2 score: 0.688\n",
      "model Random Forest MSE is:  7262022960.978384\n"
     ]
    }
   ],
   "source": [
    "rf_model_final = RandomForestRegressor(n_estimators= 150, max_depth=13 , min_samples_split=50,min_samples_leaf=20,\n",
    "                                       max_features='auto', random_state=10)\n",
    "\n",
    "rf_model_final.fit(X_train,y_train)\n",
    "y_pred_rf_final = rf_model_final.predict(X_test)\n",
    "\n",
    "print(\"model R2 score: %.3f\" % rf_model_final.score(X_test, y_test))\n",
    "MSE_rf_test = mean_squared_error(y_test, y_pred_rf_final)\n",
    "print('model Random Forest MSE is: ', MSE_rf_test)"
   ]
  },
  {
   "cell_type": "code",
   "execution_count": 168,
   "id": "loaded-furniture",
   "metadata": {},
   "outputs": [
    {
     "data": {
      "text/html": [
       "<div>\n",
       "<style scoped>\n",
       "    .dataframe tbody tr th:only-of-type {\n",
       "        vertical-align: middle;\n",
       "    }\n",
       "\n",
       "    .dataframe tbody tr th {\n",
       "        vertical-align: top;\n",
       "    }\n",
       "\n",
       "    .dataframe thead th {\n",
       "        text-align: right;\n",
       "    }\n",
       "</style>\n",
       "<table border=\"1\" class=\"dataframe\">\n",
       "  <thead>\n",
       "    <tr style=\"text-align: right;\">\n",
       "      <th></th>\n",
       "      <th>Model</th>\n",
       "      <th>R2</th>\n",
       "      <th>MSE</th>\n",
       "    </tr>\n",
       "  </thead>\n",
       "  <tbody>\n",
       "    <tr>\n",
       "      <th>0</th>\n",
       "      <td>LinearRegression</td>\n",
       "      <td>0.533473</td>\n",
       "      <td>1.084968e+10</td>\n",
       "    </tr>\n",
       "    <tr>\n",
       "      <th>1</th>\n",
       "      <td>XGBRegressor</td>\n",
       "      <td>0.700380</td>\n",
       "      <td>6.968046e+09</td>\n",
       "    </tr>\n",
       "    <tr>\n",
       "      <th>2</th>\n",
       "      <td>RandomForestRegressor</td>\n",
       "      <td>0.687739</td>\n",
       "      <td>7.262023e+09</td>\n",
       "    </tr>\n",
       "  </tbody>\n",
       "</table>\n",
       "</div>"
      ],
      "text/plain": [
       "                   Model        R2           MSE\n",
       "0       LinearRegression  0.533473  1.084968e+10\n",
       "1           XGBRegressor  0.700380  6.968046e+09\n",
       "2  RandomForestRegressor  0.687739  7.262023e+09"
      ]
     },
     "execution_count": 168,
     "metadata": {},
     "output_type": "execute_result"
    }
   ],
   "source": [
    "#score collector\n",
    "\n",
    "score_collector=score_collector.append({'Model':'RandomForestRegressor','R2':rf_model_final.score(X_test, y_test),'MSE':MSE_rf_test}, ignore_index=True)\n",
    "\n",
    "score_collector"
   ]
  },
  {
   "cell_type": "code",
   "execution_count": 169,
   "id": "acknowledged-teach",
   "metadata": {},
   "outputs": [
    {
     "data": {
      "image/png": "[encoded data removed]",
      "text/plain": [
       "<Figure size 504x360 with 1 Axes>"
      ]
     },
     "metadata": {
      "needs_background": "light"
     },
     "output_type": "display_data"
    },
    {
     "data": {
      "text/plain": [
       "<AxesSubplot:ylabel='Density'>"
      ]
     },
     "execution_count": 169,
     "metadata": {},
     "output_type": "execute_result"
    },
    {
     "data": {
      "image/png": "[encoded data removed]",
      "text/plain": [
       "<Figure size 576x288 with 1 Axes>"
      ]
     },
     "metadata": {
      "needs_background": "light"
     },
     "output_type": "display_data"
    }
   ],
   "source": [
    "# Distribution predicted prix et actual prix\n",
    "plotmodel(y_test, y_pred_rf_final)\n",
    "\n",
    "# visualizing residuals\n",
    "fig = plt.figure(figsize=(8,4))\n",
    "residuals = (y_test- y_pred_rf_final)\n",
    "sns.distplot(residuals)"
   ]
  },
  {
   "cell_type": "markdown",
   "id": "thrown-handle",
   "metadata": {},
   "source": [
    "# Deep Learning neural network model"
   ]
  },
  {
   "cell_type": "markdown",
   "id": "oriented-hungary",
   "metadata": {},
   "source": [
    "Split data in train, validation and test data"
   ]
  },
  {
   "cell_type": "code",
   "execution_count": 65,
   "id": "informational-michael",
   "metadata": {},
   "outputs": [
    {
     "name": "stdout",
     "output_type": "stream",
     "text": [
      "(61224, 13)\n",
      "(36734, 13)\n",
      "(12245, 13)\n",
      "(12245, 13)\n"
     ]
    }
   ],
   "source": [
    "X = np.asarray(X).astype('float32')\n",
    "\n",
    "X_train_val, X_test, y_train_val, y_test = train_test_split(X, y, test_size=0.2, random_state=1)\n",
    "\n",
    "X_train, X_val, y_train, y_val = train_test_split(X_train_val, y_train_val, test_size=0.25, random_state=1) # 0.25 x 0.8 = 0.2\n",
    "    \n",
    "print(X.shape)\n",
    "print(X_train.shape)\n",
    "print(X_val.shape)\n",
    "print(X_test.shape)\n"
   ]
  },
  {
   "cell_type": "code",
   "execution_count": 66,
   "id": "commercial-allowance",
   "metadata": {},
   "outputs": [],
   "source": [
    "# Creating a Neural Network Model\n",
    "from tensorflow.keras.models import Sequential\n",
    "from keras import layers\n",
    "from tensorflow.keras.layers import Dense, Activation\n",
    "from tensorflow.keras.optimizers import Adam"
   ]
  },
  {
   "cell_type": "code",
   "execution_count": 67,
   "id": "binary-measurement",
   "metadata": {},
   "outputs": [
    {
     "name": "stdout",
     "output_type": "stream",
     "text": [
      "Model: \"sequential\"\n",
      "_________________________________________________________________\n",
      "Layer (type)                 Output Shape              Param #   \n",
      "=================================================================\n",
      "dense (Dense)                (None, 64)                896       \n",
      "_________________________________________________________________\n",
      "dense_1 (Dense)              (None, 64)                4160      \n",
      "_________________________________________________________________\n",
      "dense_2 (Dense)              (None, 64)                4160      \n",
      "_________________________________________________________________\n",
      "dense_3 (Dense)              (None, 1)                 65        \n",
      "=================================================================\n",
      "Total params: 9,281\n",
      "Trainable params: 9,281\n",
      "Non-trainable params: 0\n",
      "_________________________________________________________________\n"
     ]
    }
   ],
   "source": [
    "# Build neuron model\n",
    "model_dl = Sequential() \n",
    "model_dl.add(layers.Dense(64, activation='relu',input_shape=(X_train.shape[1],))) \n",
    "model_dl.add(layers.Dense(64, activation='relu'))\n",
    "model_dl.add(layers.Dense(64, activation='relu'))\n",
    "model_dl.add(layers.Dense(1))\n",
    "\n",
    "model_dl.summary()"
   ]
  },
  {
   "cell_type": "code",
   "execution_count": 68,
   "id": "thermal-officer",
   "metadata": {
    "scrolled": true
   },
   "outputs": [
    {
     "name": "stdout",
     "output_type": "stream",
     "text": [
      "Epoch 1/500\n",
      "287/287 [==============================] - 1s 2ms/step - loss: 37416747008.0000 - mae: 144096.0938 - val_loss: 14917073920.0000 - val_mae: 96382.7969\n",
      "Epoch 2/500\n",
      "287/287 [==============================] - 0s 861us/step - loss: 14658473984.0000 - mae: 95329.5000 - val_loss: 14578128896.0000 - val_mae: 95062.4688\n",
      "Epoch 3/500\n",
      "287/287 [==============================] - 0s 834us/step - loss: 14390757376.0000 - mae: 94332.9141 - val_loss: 14446290944.0000 - val_mae: 94577.9219\n",
      "Epoch 4/500\n",
      "287/287 [==============================] - 0s 825us/step - loss: 14079041536.0000 - mae: 93204.7500 - val_loss: 13932697600.0000 - val_mae: 92577.6094\n",
      "Epoch 5/500\n",
      "287/287 [==============================] - 0s 836us/step - loss: 13676538880.0000 - mae: 91775.0391 - val_loss: 13535930368.0000 - val_mae: 91190.7031\n",
      "Epoch 6/500\n",
      "287/287 [==============================] - 0s 830us/step - loss: 13190585344.0000 - mae: 89963.0391 - val_loss: 13036129280.0000 - val_mae: 90102.5781\n",
      "Epoch 7/500\n",
      "287/287 [==============================] - 0s 831us/step - loss: 12826232832.0000 - mae: 88595.8047 - val_loss: 12704358400.0000 - val_mae: 88156.1250\n",
      "Epoch 8/500\n",
      "287/287 [==============================] - 0s 842us/step - loss: 12649476096.0000 - mae: 88044.3984 - val_loss: 12530370560.0000 - val_mae: 87974.2891\n",
      "Epoch 9/500\n",
      "287/287 [==============================] - 0s 787us/step - loss: 12507379712.0000 - mae: 87576.1016 - val_loss: 12596231168.0000 - val_mae: 88740.3281\n",
      "Epoch 10/500\n",
      "287/287 [==============================] - 0s 816us/step - loss: 12465872896.0000 - mae: 87364.0391 - val_loss: 12513371136.0000 - val_mae: 87652.0078\n",
      "Epoch 11/500\n",
      "287/287 [==============================] - 0s 778us/step - loss: 12415050752.0000 - mae: 87191.5234 - val_loss: 12427793408.0000 - val_mae: 87474.6328\n",
      "Epoch 12/500\n",
      "287/287 [==============================] - 0s 813us/step - loss: 12319349760.0000 - mae: 86722.7969 - val_loss: 12578238464.0000 - val_mae: 88458.3672\n",
      "Epoch 13/500\n",
      "287/287 [==============================] - 0s 824us/step - loss: 12261346304.0000 - mae: 86583.0781 - val_loss: 12184130560.0000 - val_mae: 86798.1719\n",
      "Epoch 14/500\n",
      "287/287 [==============================] - 0s 776us/step - loss: 12149433344.0000 - mae: 86102.5703 - val_loss: 12193639424.0000 - val_mae: 85801.3672\n",
      "Epoch 15/500\n",
      "287/287 [==============================] - 0s 821us/step - loss: 12080274432.0000 - mae: 85809.7578 - val_loss: 12004249600.0000 - val_mae: 85462.1328\n",
      "Epoch 16/500\n",
      "287/287 [==============================] - 0s 770us/step - loss: 12022251520.0000 - mae: 85501.4922 - val_loss: 12056980480.0000 - val_mae: 85818.9531\n",
      "Epoch 17/500\n",
      "287/287 [==============================] - 0s 823us/step - loss: 11929667584.0000 - mae: 85203.4219 - val_loss: 11801745408.0000 - val_mae: 84783.0625\n",
      "Epoch 18/500\n",
      "287/287 [==============================] - 0s 773us/step - loss: 11834774528.0000 - mae: 84760.6875 - val_loss: 11743793152.0000 - val_mae: 84596.6797\n",
      "Epoch 19/500\n",
      "287/287 [==============================] - 0s 781us/step - loss: 11813685248.0000 - mae: 84642.2266 - val_loss: 11643566080.0000 - val_mae: 84094.2109\n",
      "Epoch 20/500\n",
      "287/287 [==============================] - 0s 870us/step - loss: 11643235328.0000 - mae: 83945.5703 - val_loss: 12028857344.0000 - val_mae: 86114.1484\n",
      "Epoch 21/500\n",
      "287/287 [==============================] - 0s 842us/step - loss: 11557335040.0000 - mae: 83552.3125 - val_loss: 11399405568.0000 - val_mae: 83122.5234\n",
      "Epoch 22/500\n",
      "287/287 [==============================] - 0s 785us/step - loss: 11474862080.0000 - mae: 83139.1641 - val_loss: 11605779456.0000 - val_mae: 84451.0234\n",
      "Epoch 23/500\n",
      "287/287 [==============================] - 0s 842us/step - loss: 11434147840.0000 - mae: 82978.8906 - val_loss: 11244264448.0000 - val_mae: 81987.3047\n",
      "Epoch 24/500\n",
      "287/287 [==============================] - 0s 847us/step - loss: 11286139904.0000 - mae: 82224.2734 - val_loss: 11310870528.0000 - val_mae: 83345.1562\n",
      "Epoch 25/500\n",
      "287/287 [==============================] - 0s 774us/step - loss: 11228141568.0000 - mae: 81923.9062 - val_loss: 11111592960.0000 - val_mae: 82491.6094\n",
      "Epoch 26/500\n",
      "287/287 [==============================] - 0s 866us/step - loss: 11108619264.0000 - mae: 81491.7344 - val_loss: 10937997312.0000 - val_mae: 80743.2344\n",
      "Epoch 27/500\n",
      "287/287 [==============================] - 0s 838us/step - loss: 10941461504.0000 - mae: 80701.6641 - val_loss: 11058458624.0000 - val_mae: 81334.5859\n",
      "Epoch 28/500\n",
      "287/287 [==============================] - 0s 772us/step - loss: 11016950784.0000 - mae: 80860.7188 - val_loss: 11528371200.0000 - val_mae: 83168.6094\n",
      "Epoch 29/500\n",
      "287/287 [==============================] - 0s 832us/step - loss: 10801310720.0000 - mae: 80063.1875 - val_loss: 10843711488.0000 - val_mae: 80285.1406\n",
      "Epoch 30/500\n",
      "287/287 [==============================] - 0s 802us/step - loss: 10734401536.0000 - mae: 79633.3906 - val_loss: 10610477056.0000 - val_mae: 78747.2031\n",
      "Epoch 31/500\n",
      "287/287 [==============================] - 0s 767us/step - loss: 10643602432.0000 - mae: 79119.7734 - val_loss: 10955688960.0000 - val_mae: 81192.7500\n",
      "Epoch 32/500\n",
      "287/287 [==============================] - 0s 774us/step - loss: 10581057536.0000 - mae: 78796.4297 - val_loss: 10413364224.0000 - val_mae: 78059.1172\n",
      "Epoch 33/500\n",
      "287/287 [==============================] - 0s 820us/step - loss: 10574024704.0000 - mae: 78538.3047 - val_loss: 10377907200.0000 - val_mae: 78179.0625\n",
      "Epoch 34/500\n",
      "287/287 [==============================] - 0s 775us/step - loss: 10492778496.0000 - mae: 78290.1406 - val_loss: 10697097216.0000 - val_mae: 79829.8516\n",
      "Epoch 35/500\n",
      "287/287 [==============================] - 0s 806us/step - loss: 10439917568.0000 - mae: 77953.3125 - val_loss: 10238916608.0000 - val_mae: 77249.5078\n",
      "Epoch 36/500\n",
      "287/287 [==============================] - 0s 843us/step - loss: 10339813376.0000 - mae: 77385.0547 - val_loss: 10487201792.0000 - val_mae: 78771.5781\n",
      "Epoch 37/500\n",
      "287/287 [==============================] - 0s 824us/step - loss: 10298227712.0000 - mae: 77144.9766 - val_loss: 10422495232.0000 - val_mae: 78222.2656\n",
      "Epoch 38/500\n",
      "287/287 [==============================] - 0s 776us/step - loss: 10239047680.0000 - mae: 76946.8984 - val_loss: 10525590528.0000 - val_mae: 77628.3828\n",
      "Epoch 39/500\n",
      "287/287 [==============================] - 0s 824us/step - loss: 10257482752.0000 - mae: 76929.4609 - val_loss: 10075568128.0000 - val_mae: 76230.2656\n",
      "Epoch 40/500\n",
      "287/287 [==============================] - 0s 843us/step - loss: 10258239488.0000 - mae: 76851.4844 - val_loss: 11131595776.0000 - val_mae: 81228.4219\n",
      "Epoch 41/500\n",
      "287/287 [==============================] - 0s 831us/step - loss: 10269029376.0000 - mae: 76877.3672 - val_loss: 10139063296.0000 - val_mae: 77246.3594\n",
      "Epoch 42/500\n",
      "287/287 [==============================] - 0s 779us/step - loss: 10089491456.0000 - mae: 76097.9531 - val_loss: 9971460096.0000 - val_mae: 76740.8047\n",
      "Epoch 43/500\n",
      "287/287 [==============================] - 0s 785us/step - loss: 10080468992.0000 - mae: 75994.5000 - val_loss: 9872199680.0000 - val_mae: 75359.5391\n",
      "Epoch 44/500\n",
      "287/287 [==============================] - 0s 823us/step - loss: 9976053760.0000 - mae: 75496.5859 - val_loss: 10481032192.0000 - val_mae: 78256.3359\n",
      "Epoch 45/500\n",
      "287/287 [==============================] - 0s 829us/step - loss: 9996172288.0000 - mae: 75616.2422 - val_loss: 9823724544.0000 - val_mae: 74943.0625\n",
      "Epoch 46/500\n",
      "287/287 [==============================] - 0s 774us/step - loss: 9957168128.0000 - mae: 75432.5703 - val_loss: 9815949312.0000 - val_mae: 75014.9219\n",
      "Epoch 47/500\n",
      "287/287 [==============================] - 0s 771us/step - loss: 10004103168.0000 - mae: 75509.8984 - val_loss: 9741400064.0000 - val_mae: 75035.3906\n",
      "Epoch 48/500\n",
      "287/287 [==============================] - 0s 774us/step - loss: 9848385536.0000 - mae: 74762.5312 - val_loss: 9748361216.0000 - val_mae: 75317.4297\n",
      "Epoch 49/500\n",
      "287/287 [==============================] - 0s 777us/step - loss: 9840657408.0000 - mae: 74670.3125 - val_loss: 9729495040.0000 - val_mae: 74652.0312\n",
      "Epoch 50/500\n",
      "287/287 [==============================] - 0s 834us/step - loss: 9803549696.0000 - mae: 74498.5938 - val_loss: 9809506304.0000 - val_mae: 74695.3984\n",
      "Epoch 51/500\n"
     ]
    },
    {
     "name": "stdout",
     "output_type": "stream",
     "text": [
      "287/287 [==============================] - 0s 901us/step - loss: 9933877248.0000 - mae: 74976.5625 - val_loss: 9681883136.0000 - val_mae: 74888.0312\n",
      "Epoch 52/500\n",
      "287/287 [==============================] - 0s 946us/step - loss: 9833167872.0000 - mae: 74694.6641 - val_loss: 9796503552.0000 - val_mae: 74551.3359\n",
      "Epoch 53/500\n",
      "287/287 [==============================] - 0s 832us/step - loss: 9820562432.0000 - mae: 74481.8438 - val_loss: 10030696448.0000 - val_mae: 75383.9531\n",
      "Epoch 54/500\n",
      "287/287 [==============================] - 0s 829us/step - loss: 9844639744.0000 - mae: 74703.0547 - val_loss: 10347851776.0000 - val_mae: 77150.9375\n",
      "Epoch 55/500\n",
      "287/287 [==============================] - 0s 776us/step - loss: 9718295552.0000 - mae: 74004.9219 - val_loss: 9586341888.0000 - val_mae: 73984.5000\n",
      "Epoch 56/500\n",
      "287/287 [==============================] - 0s 773us/step - loss: 9897856000.0000 - mae: 74909.4375 - val_loss: 9765274624.0000 - val_mae: 74106.2656\n",
      "Epoch 57/500\n",
      "287/287 [==============================] - 0s 791us/step - loss: 9707215872.0000 - mae: 74020.3125 - val_loss: 9682188288.0000 - val_mae: 74328.9609\n",
      "Epoch 58/500\n",
      "287/287 [==============================] - 0s 861us/step - loss: 9708426240.0000 - mae: 73987.6328 - val_loss: 9793292288.0000 - val_mae: 75673.2109\n",
      "Epoch 59/500\n",
      "287/287 [==============================] - 0s 832us/step - loss: 9865484288.0000 - mae: 74591.6562 - val_loss: 9531365376.0000 - val_mae: 73850.9844\n",
      "Epoch 60/500\n",
      "287/287 [==============================] - 0s 775us/step - loss: 9763394560.0000 - mae: 74298.9453 - val_loss: 10176219136.0000 - val_mae: 76174.1406\n",
      "Epoch 61/500\n",
      "287/287 [==============================] - 0s 773us/step - loss: 9778591744.0000 - mae: 74383.4688 - val_loss: 9646310400.0000 - val_mae: 74449.9922\n",
      "Epoch 62/500\n",
      "287/287 [==============================] - 0s 824us/step - loss: 9642162176.0000 - mae: 73670.7109 - val_loss: 9823427584.0000 - val_mae: 75971.7344\n",
      "Epoch 63/500\n",
      "287/287 [==============================] - 0s 830us/step - loss: 9802731520.0000 - mae: 74432.5938 - val_loss: 9894052864.0000 - val_mae: 75106.7031\n",
      "Epoch 64/500\n",
      "287/287 [==============================] - 0s 787us/step - loss: 9762200576.0000 - mae: 74171.1172 - val_loss: 9998480384.0000 - val_mae: 75367.4531\n",
      "Epoch 65/500\n",
      "287/287 [==============================] - 0s 874us/step - loss: 9627512832.0000 - mae: 73579.8672 - val_loss: 9490605056.0000 - val_mae: 73200.5312\n",
      "Epoch 66/500\n",
      "287/287 [==============================] - 0s 825us/step - loss: 9682909184.0000 - mae: 73819.2891 - val_loss: 9502112768.0000 - val_mae: 73453.8828\n",
      "Epoch 67/500\n",
      "287/287 [==============================] - 0s 830us/step - loss: 9584911360.0000 - mae: 73436.7422 - val_loss: 9649416192.0000 - val_mae: 74096.2656\n",
      "Epoch 68/500\n",
      "287/287 [==============================] - 0s 885us/step - loss: 9664236544.0000 - mae: 73650.1562 - val_loss: 9624081408.0000 - val_mae: 74370.4375\n",
      "Epoch 69/500\n",
      "287/287 [==============================] - 1s 2ms/step - loss: 9639781376.0000 - mae: 73556.8750 - val_loss: 9439710208.0000 - val_mae: 72845.3672\n",
      "Epoch 70/500\n",
      "287/287 [==============================] - 0s 1ms/step - loss: 9666781184.0000 - mae: 73660.1484 - val_loss: 9668913152.0000 - val_mae: 74398.4609\n",
      "Epoch 71/500\n",
      "287/287 [==============================] - 0s 788us/step - loss: 9640534016.0000 - mae: 73601.6797 - val_loss: 9465249792.0000 - val_mae: 73611.1719\n",
      "Epoch 72/500\n",
      "287/287 [==============================] - 0s 825us/step - loss: 9633717248.0000 - mae: 73621.0703 - val_loss: 9617641472.0000 - val_mae: 74036.2344\n",
      "Epoch 73/500\n",
      "287/287 [==============================] - 0s 773us/step - loss: 9552118784.0000 - mae: 73226.6250 - val_loss: 9782899712.0000 - val_mae: 75127.0234\n",
      "Epoch 74/500\n",
      "287/287 [==============================] - 0s 823us/step - loss: 9715996672.0000 - mae: 73774.4219 - val_loss: 9465057280.0000 - val_mae: 72963.1719\n",
      "Epoch 75/500\n",
      "287/287 [==============================] - 0s 823us/step - loss: 9636349952.0000 - mae: 73506.2656 - val_loss: 9864858624.0000 - val_mae: 74745.8516\n",
      "Epoch 76/500\n",
      "287/287 [==============================] - 0s 827us/step - loss: 9599399936.0000 - mae: 73411.6016 - val_loss: 9459997696.0000 - val_mae: 73384.3906\n",
      "Epoch 77/500\n",
      "287/287 [==============================] - 0s 831us/step - loss: 9617585152.0000 - mae: 73314.1875 - val_loss: 9997235200.0000 - val_mae: 76030.3516\n",
      "Epoch 78/500\n",
      "287/287 [==============================] - 0s 831us/step - loss: 9547373568.0000 - mae: 73151.4062 - val_loss: 9711021056.0000 - val_mae: 74203.6953\n",
      "Epoch 79/500\n",
      "287/287 [==============================] - 0s 774us/step - loss: 9529970688.0000 - mae: 73032.9141 - val_loss: 9659101184.0000 - val_mae: 73982.7422\n",
      "Epoch 80/500\n",
      "287/287 [==============================] - 0s 762us/step - loss: 9609794560.0000 - mae: 73422.6016 - val_loss: 9507661824.0000 - val_mae: 73624.1016\n",
      "Epoch 81/500\n",
      "287/287 [==============================] - 0s 777us/step - loss: 9495027712.0000 - mae: 72982.6797 - val_loss: 9601592320.0000 - val_mae: 73942.3359\n",
      "Epoch 82/500\n",
      "287/287 [==============================] - ETA: 0s - loss: 9562448896.0000 - mae: 73205.92 - 0s 770us/step - loss: 9550753792.0000 - mae: 73150.6562 - val_loss: 9477765120.0000 - val_mae: 73217.9531\n",
      "Epoch 83/500\n",
      "287/287 [==============================] - 0s 768us/step - loss: 9569387520.0000 - mae: 73248.0625 - val_loss: 10040549376.0000 - val_mae: 76729.8047\n",
      "Epoch 84/500\n",
      "287/287 [==============================] - 0s 770us/step - loss: 9498566656.0000 - mae: 72825.5781 - val_loss: 10042384384.0000 - val_mae: 75979.2891\n",
      "Epoch 85/500\n",
      "287/287 [==============================] - 0s 823us/step - loss: 9636336640.0000 - mae: 73521.0859 - val_loss: 9394199552.0000 - val_mae: 72907.0156\n",
      "Epoch 86/500\n",
      "287/287 [==============================] - 0s 832us/step - loss: 9532349440.0000 - mae: 73083.8359 - val_loss: 9907928064.0000 - val_mae: 74757.5312\n",
      "Epoch 87/500\n",
      "287/287 [==============================] - 0s 831us/step - loss: 9562575872.0000 - mae: 73204.9062 - val_loss: 9570074624.0000 - val_mae: 73663.7109\n",
      "Epoch 88/500\n",
      "287/287 [==============================] - 0s 832us/step - loss: 9481881600.0000 - mae: 72827.6016 - val_loss: 9314811904.0000 - val_mae: 72804.0625\n",
      "Epoch 89/500\n",
      "287/287 [==============================] - ETA: 0s - loss: 9569427456.0000 - mae: 73160.11 - 0s 774us/step - loss: 9501617152.0000 - mae: 72892.1172 - val_loss: 9807051776.0000 - val_mae: 74183.6328\n",
      "Epoch 90/500\n",
      "287/287 [==============================] - 0s 769us/step - loss: 9502386176.0000 - mae: 73032.0391 - val_loss: 9300845568.0000 - val_mae: 72781.3359\n",
      "Epoch 91/500\n",
      "287/287 [==============================] - 0s 838us/step - loss: 9516452864.0000 - mae: 73025.0234 - val_loss: 11241011200.0000 - val_mae: 80758.5781\n",
      "Epoch 92/500\n",
      "287/287 [==============================] - 0s 846us/step - loss: 9506305024.0000 - mae: 72990.6094 - val_loss: 9340902400.0000 - val_mae: 72849.0000\n",
      "Epoch 93/500\n",
      "287/287 [==============================] - 0s 787us/step - loss: 9508771840.0000 - mae: 72976.6172 - val_loss: 9465559040.0000 - val_mae: 72536.4531\n",
      "Epoch 94/500\n",
      "287/287 [==============================] - 0s 777us/step - loss: 9472509952.0000 - mae: 72800.0156 - val_loss: 9389462528.0000 - val_mae: 73581.5000\n",
      "Epoch 95/500\n",
      "287/287 [==============================] - 0s 778us/step - loss: 9499258880.0000 - mae: 72889.2266 - val_loss: 9626390528.0000 - val_mae: 73906.1094\n",
      "Epoch 96/500\n",
      "287/287 [==============================] - 0s 780us/step - loss: 9500916736.0000 - mae: 72957.4609 - val_loss: 9323337728.0000 - val_mae: 72324.5391\n",
      "Epoch 97/500\n",
      "287/287 [==============================] - 0s 825us/step - loss: 9542265856.0000 - mae: 73108.0625 - val_loss: 9369773056.0000 - val_mae: 72857.7500\n",
      "Epoch 98/500\n",
      "287/287 [==============================] - 0s 798us/step - loss: 9500821504.0000 - mae: 72906.4141 - val_loss: 9270620160.0000 - val_mae: 72442.8125\n",
      "Epoch 99/500\n",
      "287/287 [==============================] - 0s 922us/step - loss: 9457096704.0000 - mae: 72810.4766 - val_loss: 9324115968.0000 - val_mae: 73149.4609\n",
      "Epoch 100/500\n",
      "287/287 [==============================] - 1s 2ms/step - loss: 9519995904.0000 - mae: 73046.9688 - val_loss: 9307557888.0000 - val_mae: 72719.7266\n",
      "Epoch 101/500\n"
     ]
    },
    {
     "name": "stdout",
     "output_type": "stream",
     "text": [
      "287/287 [==============================] - 0s 1ms/step - loss: 9446772736.0000 - mae: 72760.2031 - val_loss: 9302996992.0000 - val_mae: 72741.3828\n",
      "Epoch 102/500\n",
      "287/287 [==============================] - 1s 2ms/step - loss: 9525924864.0000 - mae: 73079.4297 - val_loss: 9265850368.0000 - val_mae: 72532.0547\n",
      "Epoch 103/500\n",
      "287/287 [==============================] - 0s 1ms/step - loss: 9416101888.0000 - mae: 72578.5078 - val_loss: 9548482560.0000 - val_mae: 73943.0312\n",
      "Epoch 104/500\n",
      "287/287 [==============================] - 1s 3ms/step - loss: 9459354624.0000 - mae: 72701.5391 - val_loss: 9473361920.0000 - val_mae: 73788.0469\n",
      "Epoch 105/500\n",
      "287/287 [==============================] - 0s 918us/step - loss: 9579538432.0000 - mae: 73308.7031 - val_loss: 9695336448.0000 - val_mae: 74535.5938\n",
      "Epoch 106/500\n",
      "287/287 [==============================] - 0s 782us/step - loss: 9409458176.0000 - mae: 72572.8438 - val_loss: 9339616256.0000 - val_mae: 72550.0859\n",
      "Epoch 107/500\n",
      "287/287 [==============================] - 0s 823us/step - loss: 9412092928.0000 - mae: 72528.9766 - val_loss: 10319400960.0000 - val_mae: 76987.3984\n",
      "Epoch 108/500\n",
      "287/287 [==============================] - 0s 823us/step - loss: 9487647744.0000 - mae: 72836.9375 - val_loss: 9378810880.0000 - val_mae: 73690.6719\n",
      "Epoch 109/500\n",
      "287/287 [==============================] - 0s 918us/step - loss: 9469969408.0000 - mae: 72907.8672 - val_loss: 9694544896.0000 - val_mae: 74139.1328\n",
      "Epoch 110/500\n",
      "287/287 [==============================] - 0s 926us/step - loss: 9464546304.0000 - mae: 72721.2031 - val_loss: 9474756608.0000 - val_mae: 72712.8594\n",
      "Epoch 111/500\n",
      "287/287 [==============================] - 0s 819us/step - loss: 9374046208.0000 - mae: 72402.6328 - val_loss: 9329340416.0000 - val_mae: 72992.7422\n",
      "Epoch 112/500\n",
      "287/287 [==============================] - 0s 783us/step - loss: 9413704704.0000 - mae: 72605.1172 - val_loss: 10073923584.0000 - val_mae: 75641.7812\n",
      "Epoch 113/500\n",
      "287/287 [==============================] - 0s 818us/step - loss: 9404289024.0000 - mae: 72515.2734 - val_loss: 9222975488.0000 - val_mae: 72192.9531\n",
      "Epoch 114/500\n",
      "287/287 [==============================] - 0s 825us/step - loss: 9497390080.0000 - mae: 73026.0938 - val_loss: 9327800320.0000 - val_mae: 73096.1562\n",
      "Epoch 115/500\n",
      "287/287 [==============================] - 0s 838us/step - loss: 9391005696.0000 - mae: 72494.0703 - val_loss: 9221986304.0000 - val_mae: 72420.5234\n",
      "Epoch 116/500\n",
      "287/287 [==============================] - 0s 789us/step - loss: 9484996608.0000 - mae: 72825.8984 - val_loss: 9265000448.0000 - val_mae: 72426.3906\n",
      "Epoch 117/500\n",
      "287/287 [==============================] - 0s 790us/step - loss: 9379861504.0000 - mae: 72557.4531 - val_loss: 9351664640.0000 - val_mae: 72478.3281\n",
      "Epoch 118/500\n",
      "287/287 [==============================] - 0s 807us/step - loss: 9373926400.0000 - mae: 72440.3516 - val_loss: 9282911232.0000 - val_mae: 72745.4375\n",
      "Epoch 119/500\n",
      "287/287 [==============================] - 0s 814us/step - loss: 9321750528.0000 - mae: 72184.9375 - val_loss: 9289653248.0000 - val_mae: 72406.1328\n",
      "Epoch 120/500\n",
      "287/287 [==============================] - 0s 780us/step - loss: 9331082240.0000 - mae: 72225.3906 - val_loss: 9271118848.0000 - val_mae: 72741.6406\n",
      "Epoch 121/500\n",
      "287/287 [==============================] - 0s 782us/step - loss: 9441413120.0000 - mae: 72656.3672 - val_loss: 9706562560.0000 - val_mae: 74457.2578\n",
      "Epoch 122/500\n",
      "287/287 [==============================] - 0s 869us/step - loss: 9325758464.0000 - mae: 72235.5469 - val_loss: 9349934080.0000 - val_mae: 72515.1016\n",
      "Epoch 123/500\n",
      "287/287 [==============================] - 0s 832us/step - loss: 9322848256.0000 - mae: 72170.8359 - val_loss: 9631940608.0000 - val_mae: 74210.6406\n",
      "Epoch 124/500\n",
      "287/287 [==============================] - 0s 833us/step - loss: 9431412736.0000 - mae: 72656.0234 - val_loss: 9606770688.0000 - val_mae: 74231.9219\n",
      "Epoch 125/500\n",
      "287/287 [==============================] - 0s 775us/step - loss: 9333604352.0000 - mae: 72185.4141 - val_loss: 9176403968.0000 - val_mae: 72291.8906\n",
      "Epoch 126/500\n",
      "287/287 [==============================] - 0s 821us/step - loss: 9268919296.0000 - mae: 71955.7188 - val_loss: 9941249024.0000 - val_mae: 75421.0391\n",
      "Epoch 127/500\n",
      "287/287 [==============================] - 0s 826us/step - loss: 9329713152.0000 - mae: 72209.8516 - val_loss: 9213509632.0000 - val_mae: 71945.0078\n",
      "Epoch 128/500\n",
      "287/287 [==============================] - 0s 779us/step - loss: 9359952896.0000 - mae: 72307.3828 - val_loss: 9210763264.0000 - val_mae: 72335.8594\n",
      "Epoch 129/500\n",
      "287/287 [==============================] - 0s 780us/step - loss: 9421224960.0000 - mae: 72735.6641 - val_loss: 10429266944.0000 - val_mae: 77209.0000\n",
      "Epoch 130/500\n",
      "287/287 [==============================] - 0s 783us/step - loss: 9364205568.0000 - mae: 72366.5078 - val_loss: 9904799744.0000 - val_mae: 74880.4062\n",
      "Epoch 131/500\n",
      "287/287 [==============================] - 0s 820us/step - loss: 9374888960.0000 - mae: 72412.2734 - val_loss: 9572894720.0000 - val_mae: 73824.8516\n",
      "Epoch 132/500\n",
      "287/287 [==============================] - 0s 775us/step - loss: 9274656768.0000 - mae: 72002.4375 - val_loss: 9207473152.0000 - val_mae: 72465.6641\n",
      "Epoch 133/500\n",
      "287/287 [==============================] - 0s 786us/step - loss: 9306563584.0000 - mae: 72133.8203 - val_loss: 9205359616.0000 - val_mae: 71889.7891\n",
      "Epoch 134/500\n",
      "287/287 [==============================] - 0s 919us/step - loss: 9335487488.0000 - mae: 72155.3984 - val_loss: 9306889216.0000 - val_mae: 72562.8828\n",
      "Epoch 135/500\n",
      "287/287 [==============================] - 1s 2ms/step - loss: 9415279616.0000 - mae: 72559.7188 - val_loss: 9730092032.0000 - val_mae: 74351.3047\n",
      "Epoch 136/500\n",
      "287/287 [==============================] - 0s 1ms/step - loss: 9298464768.0000 - mae: 72040.1719 - val_loss: 9486475264.0000 - val_mae: 73131.1797\n",
      "Epoch 137/500\n",
      "287/287 [==============================] - 0s 792us/step - loss: 9262792704.0000 - mae: 71818.4844 - val_loss: 9312177152.0000 - val_mae: 72328.1953\n",
      "Epoch 138/500\n",
      "287/287 [==============================] - 0s 824us/step - loss: 9352125440.0000 - mae: 72332.0469 - val_loss: 9511142400.0000 - val_mae: 73419.7344\n",
      "Epoch 139/500\n",
      "287/287 [==============================] - 0s 776us/step - loss: 9349416960.0000 - mae: 72270.7031 - val_loss: 9203217408.0000 - val_mae: 72195.5156\n",
      "Epoch 140/500\n",
      "287/287 [==============================] - 0s 799us/step - loss: 9274448896.0000 - mae: 72018.8359 - val_loss: 9198375936.0000 - val_mae: 72354.2656\n",
      "Epoch 141/500\n",
      "287/287 [==============================] - 0s 798us/step - loss: 9318372352.0000 - mae: 72141.1328 - val_loss: 9145862144.0000 - val_mae: 71479.3359\n",
      "Epoch 142/500\n",
      "287/287 [==============================] - 0s 827us/step - loss: 9258810368.0000 - mae: 71882.5234 - val_loss: 9362227200.0000 - val_mae: 72742.5000\n",
      "Epoch 143/500\n",
      "287/287 [==============================] - 0s 778us/step - loss: 9274208256.0000 - mae: 71936.5703 - val_loss: 9601838080.0000 - val_mae: 74215.5391\n",
      "Epoch 144/500\n",
      "287/287 [==============================] - 0s 806us/step - loss: 9332216832.0000 - mae: 72184.8516 - val_loss: 9667346432.0000 - val_mae: 74147.5391\n",
      "Epoch 145/500\n",
      "287/287 [==============================] - 0s 813us/step - loss: 9316240384.0000 - mae: 72154.4297 - val_loss: 9563571200.0000 - val_mae: 74268.0703\n",
      "Epoch 146/500\n",
      "287/287 [==============================] - 0s 856us/step - loss: 9286598656.0000 - mae: 72062.0000 - val_loss: 9164559360.0000 - val_mae: 71430.0078\n",
      "Epoch 147/500\n",
      "287/287 [==============================] - 0s 782us/step - loss: 9265629184.0000 - mae: 71950.7500 - val_loss: 9229723648.0000 - val_mae: 72146.4375\n",
      "Epoch 148/500\n",
      "287/287 [==============================] - 0s 826us/step - loss: 9245468672.0000 - mae: 71872.0625 - val_loss: 9479977984.0000 - val_mae: 72991.1719\n",
      "Epoch 149/500\n",
      "287/287 [==============================] - 0s 774us/step - loss: 9197580288.0000 - mae: 71706.6484 - val_loss: 9352732672.0000 - val_mae: 72040.2422\n",
      "Epoch 150/500\n",
      "287/287 [==============================] - 0s 776us/step - loss: 9174433792.0000 - mae: 71513.1719 - val_loss: 9205121024.0000 - val_mae: 72287.2344\n",
      "Epoch 151/500\n"
     ]
    },
    {
     "name": "stdout",
     "output_type": "stream",
     "text": [
      "287/287 [==============================] - 0s 872us/step - loss: 9224728576.0000 - mae: 71694.4844 - val_loss: 9131508736.0000 - val_mae: 72064.9844\n",
      "Epoch 152/500\n",
      "287/287 [==============================] - 0s 797us/step - loss: 9228937216.0000 - mae: 71709.1797 - val_loss: 9096458240.0000 - val_mae: 71925.7500\n",
      "Epoch 153/500\n",
      "287/287 [==============================] - 0s 845us/step - loss: 9232836608.0000 - mae: 71850.8047 - val_loss: 9248890880.0000 - val_mae: 72400.2578\n",
      "Epoch 154/500\n",
      "287/287 [==============================] - 0s 817us/step - loss: 9245840384.0000 - mae: 71833.4531 - val_loss: 9220777984.0000 - val_mae: 72231.2422\n",
      "Epoch 155/500\n",
      "287/287 [==============================] - 0s 827us/step - loss: 9208506368.0000 - mae: 71682.1250 - val_loss: 9206441984.0000 - val_mae: 72050.6172\n",
      "Epoch 156/500\n",
      "287/287 [==============================] - 0s 778us/step - loss: 9186794496.0000 - mae: 71555.2500 - val_loss: 9247012864.0000 - val_mae: 72471.4922\n",
      "Epoch 157/500\n",
      "287/287 [==============================] - 0s 769us/step - loss: 9240256512.0000 - mae: 71757.8594 - val_loss: 9577616384.0000 - val_mae: 73315.5625\n",
      "Epoch 158/500\n",
      "287/287 [==============================] - 0s 797us/step - loss: 9207052288.0000 - mae: 71642.0078 - val_loss: 9177746432.0000 - val_mae: 71458.2344\n",
      "Epoch 159/500\n",
      "287/287 [==============================] - 0s 855us/step - loss: 9198947328.0000 - mae: 71568.9844 - val_loss: 9302530048.0000 - val_mae: 72961.2109\n",
      "Epoch 160/500\n",
      "287/287 [==============================] - 0s 819us/step - loss: 9238965248.0000 - mae: 71829.0625 - val_loss: 9129990144.0000 - val_mae: 71785.5391\n",
      "Epoch 161/500\n",
      "287/287 [==============================] - 0s 831us/step - loss: 9204469760.0000 - mae: 71654.7656 - val_loss: 10198683648.0000 - val_mae: 76320.2500\n",
      "Epoch 162/500\n",
      "287/287 [==============================] - 0s 782us/step - loss: 9264437248.0000 - mae: 72010.3672 - val_loss: 9568494592.0000 - val_mae: 73641.2812\n",
      "Epoch 163/500\n",
      "287/287 [==============================] - 0s 821us/step - loss: 9175451648.0000 - mae: 71548.9375 - val_loss: 9104013312.0000 - val_mae: 71419.4922\n",
      "Epoch 164/500\n",
      "287/287 [==============================] - 0s 775us/step - loss: 9285647360.0000 - mae: 71979.9766 - val_loss: 9245248512.0000 - val_mae: 72362.9297\n",
      "Epoch 165/500\n",
      "287/287 [==============================] - 0s 797us/step - loss: 9179484160.0000 - mae: 71518.6875 - val_loss: 9053026304.0000 - val_mae: 71212.3828\n",
      "Epoch 166/500\n",
      "287/287 [==============================] - 0s 827us/step - loss: 9170140160.0000 - mae: 71462.4453 - val_loss: 9188737024.0000 - val_mae: 72018.3672\n",
      "Epoch 167/500\n",
      "287/287 [==============================] - 0s 818us/step - loss: 9208402944.0000 - mae: 71619.6875 - val_loss: 9145856000.0000 - val_mae: 71599.9531\n",
      "Epoch 168/500\n",
      "287/287 [==============================] - 0s 812us/step - loss: 9367833600.0000 - mae: 72485.6250 - val_loss: 9157071872.0000 - val_mae: 72095.2734\n",
      "Epoch 169/500\n",
      "287/287 [==============================] - 0s 772us/step - loss: 9138219008.0000 - mae: 71279.8281 - val_loss: 9164608512.0000 - val_mae: 71527.1875\n",
      "Epoch 170/500\n",
      "287/287 [==============================] - 0s 807us/step - loss: 9190703104.0000 - mae: 71567.7344 - val_loss: 9306031104.0000 - val_mae: 72754.5078\n",
      "Epoch 171/500\n",
      "287/287 [==============================] - 0s 822us/step - loss: 9219916800.0000 - mae: 71781.2656 - val_loss: 9553776640.0000 - val_mae: 73176.1875\n",
      "Epoch 172/500\n",
      "287/287 [==============================] - 0s 796us/step - loss: 9292339200.0000 - mae: 72076.2812 - val_loss: 9175642112.0000 - val_mae: 71728.4453\n",
      "Epoch 173/500\n",
      "287/287 [==============================] - 0s 831us/step - loss: 9179327488.0000 - mae: 71629.4922 - val_loss: 9137385472.0000 - val_mae: 71300.1484\n",
      "Epoch 174/500\n",
      "287/287 [==============================] - 0s 921us/step - loss: 9137910784.0000 - mae: 71380.7422 - val_loss: 9559185408.0000 - val_mae: 73481.6562\n",
      "Epoch 175/500\n",
      "287/287 [==============================] - 0s 948us/step - loss: 9231623168.0000 - mae: 71783.2109 - val_loss: 9096933376.0000 - val_mae: 72045.4062\n",
      "Epoch 176/500\n",
      "287/287 [==============================] - 0s 864us/step - loss: 9221030912.0000 - mae: 71770.9922 - val_loss: 9182420992.0000 - val_mae: 72048.9453\n",
      "Epoch 177/500\n",
      "287/287 [==============================] - 0s 799us/step - loss: 9222044672.0000 - mae: 71838.0078 - val_loss: 9251255296.0000 - val_mae: 72431.9688\n",
      "Epoch 178/500\n",
      "287/287 [==============================] - 0s 777us/step - loss: 9145636864.0000 - mae: 71426.6641 - val_loss: 9142924288.0000 - val_mae: 71356.0000\n",
      "Epoch 179/500\n",
      "287/287 [==============================] - 0s 781us/step - loss: 9150563328.0000 - mae: 71420.3828 - val_loss: 9610963968.0000 - val_mae: 73018.9531\n",
      "Epoch 180/500\n",
      "287/287 [==============================] - 0s 821us/step - loss: 9196071936.0000 - mae: 71654.0703 - val_loss: 9099433984.0000 - val_mae: 72103.2422\n",
      "Epoch 181/500\n",
      "287/287 [==============================] - 0s 828us/step - loss: 9135842304.0000 - mae: 71352.7344 - val_loss: 9038085120.0000 - val_mae: 71636.2969\n",
      "Epoch 182/500\n",
      "287/287 [==============================] - 0s 776us/step - loss: 9169542144.0000 - mae: 71551.3438 - val_loss: 9271628800.0000 - val_mae: 71659.1328\n",
      "Epoch 183/500\n",
      "287/287 [==============================] - 0s 827us/step - loss: 9217851392.0000 - mae: 71719.1406 - val_loss: 9029089280.0000 - val_mae: 70911.0703\n",
      "Epoch 184/500\n",
      "287/287 [==============================] - 0s 775us/step - loss: 9143656448.0000 - mae: 71303.7109 - val_loss: 9047463936.0000 - val_mae: 71604.2422\n",
      "Epoch 185/500\n",
      "287/287 [==============================] - 0s 829us/step - loss: 9177629696.0000 - mae: 71535.0547 - val_loss: 9091128320.0000 - val_mae: 71359.2812\n",
      "Epoch 186/500\n",
      "287/287 [==============================] - 0s 827us/step - loss: 9151563776.0000 - mae: 71474.8672 - val_loss: 9477474304.0000 - val_mae: 73138.6484\n",
      "Epoch 187/500\n",
      "287/287 [==============================] - 0s 779us/step - loss: 9122212864.0000 - mae: 71242.6094 - val_loss: 9017805824.0000 - val_mae: 70930.9766\n",
      "Epoch 188/500\n",
      "287/287 [==============================] - 0s 770us/step - loss: 9130294272.0000 - mae: 71284.7422 - val_loss: 9356560384.0000 - val_mae: 72543.5078\n",
      "Epoch 189/500\n",
      "287/287 [==============================] - 0s 819us/step - loss: 9164610560.0000 - mae: 71472.9141 - val_loss: 9119808512.0000 - val_mae: 71208.9297\n",
      "Epoch 190/500\n",
      "287/287 [==============================] - 0s 826us/step - loss: 9144268800.0000 - mae: 71486.7422 - val_loss: 9332964352.0000 - val_mae: 72918.8828\n",
      "Epoch 191/500\n",
      "287/287 [==============================] - 0s 777us/step - loss: 9140113408.0000 - mae: 71387.3672 - val_loss: 9038998528.0000 - val_mae: 71620.6797\n",
      "Epoch 192/500\n",
      "287/287 [==============================] - 0s 771us/step - loss: 9207181312.0000 - mae: 71648.9141 - val_loss: 9107222528.0000 - val_mae: 71118.0781\n",
      "Epoch 193/500\n",
      "287/287 [==============================] - 0s 837us/step - loss: 9129790464.0000 - mae: 71274.9922 - val_loss: 9263336448.0000 - val_mae: 71891.5312\n",
      "Epoch 194/500\n",
      "287/287 [==============================] - 1s 2ms/step - loss: 9133761536.0000 - mae: 71433.0625 - val_loss: 9144542208.0000 - val_mae: 71059.7578\n",
      "Epoch 195/500\n",
      "287/287 [==============================] - 0s 1ms/step - loss: 9091664896.0000 - mae: 71161.2969 - val_loss: 9043935232.0000 - val_mae: 71088.1250\n",
      "Epoch 196/500\n",
      "287/287 [==============================] - 0s 994us/step - loss: 9127731200.0000 - mae: 71189.2656 - val_loss: 9046181888.0000 - val_mae: 71628.6484\n",
      "Epoch 197/500\n",
      "287/287 [==============================] - 0s 820us/step - loss: 9111750656.0000 - mae: 71199.6719 - val_loss: 9402942464.0000 - val_mae: 72622.8594\n",
      "Epoch 198/500\n",
      "287/287 [==============================] - 0s 831us/step - loss: 9080437760.0000 - mae: 71101.6250 - val_loss: 9200654336.0000 - val_mae: 71976.3984\n",
      "Epoch 199/500\n",
      "287/287 [==============================] - 0s 822us/step - loss: 9114330112.0000 - mae: 71227.3594 - val_loss: 9136267264.0000 - val_mae: 71694.9609\n",
      "Epoch 200/500\n",
      "287/287 [==============================] - 0s 908us/step - loss: 9077753856.0000 - mae: 71119.3594 - val_loss: 9068551168.0000 - val_mae: 71379.0234\n",
      "Epoch 201/500\n"
     ]
    },
    {
     "name": "stdout",
     "output_type": "stream",
     "text": [
      "287/287 [==============================] - 0s 790us/step - loss: 9155501056.0000 - mae: 71451.3750 - val_loss: 8989177856.0000 - val_mae: 71338.0469\n",
      "Epoch 202/500\n",
      "287/287 [==============================] - 0s 818us/step - loss: 9097536512.0000 - mae: 71189.1484 - val_loss: 9013739520.0000 - val_mae: 71377.4219\n",
      "Epoch 203/500\n",
      "287/287 [==============================] - 0s 806us/step - loss: 9106808832.0000 - mae: 71192.9297 - val_loss: 9215394816.0000 - val_mae: 72880.5547\n",
      "Epoch 204/500\n",
      "287/287 [==============================] - 0s 801us/step - loss: 9149556736.0000 - mae: 71417.5469 - val_loss: 8974301184.0000 - val_mae: 70776.8828\n",
      "Epoch 205/500\n",
      "287/287 [==============================] - 0s 827us/step - loss: 9154095104.0000 - mae: 71457.0000 - val_loss: 9034302464.0000 - val_mae: 71562.7188\n",
      "Epoch 206/500\n",
      "287/287 [==============================] - 0s 824us/step - loss: 9106962432.0000 - mae: 71247.8125 - val_loss: 9274084352.0000 - val_mae: 72732.1953\n",
      "Epoch 207/500\n",
      "287/287 [==============================] - 0s 825us/step - loss: 9100436480.0000 - mae: 71167.4453 - val_loss: 9327789056.0000 - val_mae: 72845.2734\n",
      "Epoch 208/500\n",
      "287/287 [==============================] - 0s 776us/step - loss: 9141364736.0000 - mae: 71302.0625 - val_loss: 9667167232.0000 - val_mae: 74692.0312\n",
      "Epoch 209/500\n",
      "287/287 [==============================] - 0s 770us/step - loss: 9069905920.0000 - mae: 71144.2422 - val_loss: 9258932224.0000 - val_mae: 72032.1719\n",
      "Epoch 210/500\n",
      "287/287 [==============================] - 0s 884us/step - loss: 9171168256.0000 - mae: 71516.7109 - val_loss: 9003875328.0000 - val_mae: 71285.3516\n",
      "Epoch 211/500\n",
      "287/287 [==============================] - 1s 2ms/step - loss: 9054515200.0000 - mae: 70972.0000 - val_loss: 9096530944.0000 - val_mae: 71914.4453\n",
      "Epoch 212/500\n",
      "287/287 [==============================] - 0s 1ms/step - loss: 9048983552.0000 - mae: 70998.8672 - val_loss: 9126073344.0000 - val_mae: 72110.1172\n",
      "Epoch 213/500\n",
      "287/287 [==============================] - 0s 1ms/step - loss: 9055035392.0000 - mae: 70940.4688 - val_loss: 9186207744.0000 - val_mae: 72554.8203\n",
      "Epoch 214/500\n",
      "287/287 [==============================] - 0s 857us/step - loss: 9094761472.0000 - mae: 71100.0000 - val_loss: 8964002816.0000 - val_mae: 70962.4766\n",
      "Epoch 215/500\n",
      "287/287 [==============================] - 0s 832us/step - loss: 9098427392.0000 - mae: 71199.5859 - val_loss: 9130801152.0000 - val_mae: 72021.2188\n",
      "Epoch 216/500\n",
      "287/287 [==============================] - 0s 830us/step - loss: 9097904128.0000 - mae: 71274.0312 - val_loss: 9006270464.0000 - val_mae: 71195.7500\n",
      "Epoch 217/500\n",
      "287/287 [==============================] - 0s 827us/step - loss: 9038544896.0000 - mae: 70864.8359 - val_loss: 8979121152.0000 - val_mae: 70879.8594\n",
      "Epoch 218/500\n",
      "287/287 [==============================] - 0s 831us/step - loss: 9067202560.0000 - mae: 71042.3672 - val_loss: 9366149120.0000 - val_mae: 72424.3359\n",
      "Epoch 219/500\n",
      "287/287 [==============================] - 0s 827us/step - loss: 9113412608.0000 - mae: 71333.8906 - val_loss: 9070820352.0000 - val_mae: 70839.0391\n",
      "Epoch 220/500\n",
      "287/287 [==============================] - 0s 779us/step - loss: 9163949056.0000 - mae: 71473.0469 - val_loss: 9029951488.0000 - val_mae: 70692.1250\n",
      "Epoch 221/500\n",
      "287/287 [==============================] - 0s 778us/step - loss: 9086413824.0000 - mae: 71283.7109 - val_loss: 8994621440.0000 - val_mae: 71241.1641\n",
      "Epoch 222/500\n",
      "287/287 [==============================] - 0s 771us/step - loss: 9004949504.0000 - mae: 70772.8125 - val_loss: 9123551232.0000 - val_mae: 71628.5312\n",
      "Epoch 223/500\n",
      "287/287 [==============================] - 0s 826us/step - loss: 9075505152.0000 - mae: 71113.7578 - val_loss: 9369960448.0000 - val_mae: 73364.6719\n",
      "Epoch 224/500\n",
      "287/287 [==============================] - 0s 802us/step - loss: 9083345920.0000 - mae: 71085.6641 - val_loss: 9271062528.0000 - val_mae: 73283.7344\n",
      "Epoch 225/500\n",
      "287/287 [==============================] - 0s 806us/step - loss: 9045002240.0000 - mae: 70882.7891 - val_loss: 9462095872.0000 - val_mae: 72786.6094\n",
      "Epoch 226/500\n",
      "287/287 [==============================] - 0s 799us/step - loss: 9017938944.0000 - mae: 70773.1641 - val_loss: 9122288640.0000 - val_mae: 71140.3750\n",
      "Epoch 227/500\n",
      "287/287 [==============================] - 0s 809us/step - loss: 9020570624.0000 - mae: 70697.1719 - val_loss: 8987187200.0000 - val_mae: 70816.1094\n",
      "Epoch 228/500\n",
      "287/287 [==============================] - 0s 799us/step - loss: 9068518400.0000 - mae: 70900.0391 - val_loss: 9114464256.0000 - val_mae: 71837.8516\n",
      "Epoch 229/500\n",
      "287/287 [==============================] - 0s 796us/step - loss: 9095855104.0000 - mae: 71101.5781 - val_loss: 8924670976.0000 - val_mae: 71012.6562\n",
      "Epoch 230/500\n",
      "287/287 [==============================] - 0s 773us/step - loss: 9013320704.0000 - mae: 70709.9922 - val_loss: 8915283968.0000 - val_mae: 70246.8125\n",
      "Epoch 231/500\n",
      "287/287 [==============================] - 0s 797us/step - loss: 9009811456.0000 - mae: 70662.3906 - val_loss: 8998178816.0000 - val_mae: 71032.9375\n",
      "Epoch 232/500\n",
      "287/287 [==============================] - 0s 854us/step - loss: 8978942976.0000 - mae: 70581.6094 - val_loss: 9275568128.0000 - val_mae: 72397.5000\n",
      "Epoch 233/500\n",
      "287/287 [==============================] - 0s 825us/step - loss: 9031731200.0000 - mae: 70747.4531 - val_loss: 8915574784.0000 - val_mae: 70822.3359\n",
      "Epoch 234/500\n",
      "287/287 [==============================] - 0s 781us/step - loss: 8976965632.0000 - mae: 70505.5469 - val_loss: 8859302912.0000 - val_mae: 70310.2734\n",
      "Epoch 235/500\n",
      "287/287 [==============================] - 0s 810us/step - loss: 8994279424.0000 - mae: 70600.0078 - val_loss: 8969907200.0000 - val_mae: 71136.8203\n",
      "Epoch 236/500\n",
      "287/287 [==============================] - 0s 838us/step - loss: 9018350592.0000 - mae: 70721.7891 - val_loss: 8899384320.0000 - val_mae: 70729.6250\n",
      "Epoch 237/500\n",
      "287/287 [==============================] - 0s 911us/step - loss: 9014851584.0000 - mae: 70706.3359 - val_loss: 8883464192.0000 - val_mae: 70554.8359\n",
      "Epoch 238/500\n",
      "287/287 [==============================] - 0s 912us/step - loss: 9082948608.0000 - mae: 71148.8281 - val_loss: 8897141760.0000 - val_mae: 70676.4766\n",
      "Epoch 239/500\n",
      "287/287 [==============================] - 0s 837us/step - loss: 8972112896.0000 - mae: 70510.9297 - val_loss: 9573383168.0000 - val_mae: 73704.5156\n",
      "Epoch 240/500\n",
      "287/287 [==============================] - 0s 799us/step - loss: 9002805248.0000 - mae: 70663.7812 - val_loss: 8900384768.0000 - val_mae: 69906.5625\n",
      "Epoch 241/500\n",
      "287/287 [==============================] - 0s 910us/step - loss: 9019212800.0000 - mae: 70770.2969 - val_loss: 9705085952.0000 - val_mae: 73901.5625\n",
      "Epoch 242/500\n",
      "287/287 [==============================] - 0s 1ms/step - loss: 9001790464.0000 - mae: 70687.0547 - val_loss: 9103792128.0000 - val_mae: 72353.2344\n",
      "Epoch 243/500\n",
      "287/287 [==============================] - 0s 1ms/step - loss: 8988391424.0000 - mae: 70555.2734 - val_loss: 8867176448.0000 - val_mae: 70622.2656\n",
      "Epoch 244/500\n",
      "287/287 [==============================] - 0s 947us/step - loss: 8991950848.0000 - mae: 70575.8672 - val_loss: 8980879360.0000 - val_mae: 70600.6562\n",
      "Epoch 245/500\n",
      "287/287 [==============================] - 0s 899us/step - loss: 9002718208.0000 - mae: 70670.5078 - val_loss: 8878261248.0000 - val_mae: 70594.9766\n",
      "Epoch 246/500\n",
      "287/287 [==============================] - 0s 913us/step - loss: 8960497664.0000 - mae: 70498.5625 - val_loss: 9001385984.0000 - val_mae: 71574.4531\n",
      "Epoch 247/500\n",
      "287/287 [==============================] - 0s 766us/step - loss: 8966933504.0000 - mae: 70493.3047 - val_loss: 8952183808.0000 - val_mae: 70833.8125\n",
      "Epoch 248/500\n",
      "287/287 [==============================] - 0s 824us/step - loss: 8993913856.0000 - mae: 70613.3672 - val_loss: 9180421120.0000 - val_mae: 71657.0781\n",
      "Epoch 249/500\n",
      "287/287 [==============================] - 0s 913us/step - loss: 8951154688.0000 - mae: 70426.8750 - val_loss: 8864168960.0000 - val_mae: 70398.0234\n",
      "Epoch 250/500\n",
      "287/287 [==============================] - 1s 2ms/step - loss: 9014832128.0000 - mae: 70676.8281 - val_loss: 8869947392.0000 - val_mae: 70691.6328\n",
      "Epoch 251/500\n"
     ]
    },
    {
     "name": "stdout",
     "output_type": "stream",
     "text": [
      "287/287 [==============================] - 0s 1ms/step - loss: 8995620864.0000 - mae: 70579.1797 - val_loss: 8874814464.0000 - val_mae: 70135.6250\n",
      "Epoch 252/500\n",
      "287/287 [==============================] - 0s 1ms/step - loss: 8922127360.0000 - mae: 70225.9297 - val_loss: 8926931968.0000 - val_mae: 70803.9688\n",
      "Epoch 253/500\n",
      "287/287 [==============================] - 0s 1ms/step - loss: 8952100864.0000 - mae: 70494.3438 - val_loss: 8992840704.0000 - val_mae: 70563.0469\n",
      "Epoch 254/500\n",
      "287/287 [==============================] - 0s 860us/step - loss: 9013457920.0000 - mae: 70778.0312 - val_loss: 8864619520.0000 - val_mae: 70575.3906\n",
      "Epoch 255/500\n",
      "287/287 [==============================] - 0s 861us/step - loss: 8976759808.0000 - mae: 70554.3672 - val_loss: 8965959680.0000 - val_mae: 70764.0859\n",
      "Epoch 256/500\n",
      "287/287 [==============================] - 0s 832us/step - loss: 8992739328.0000 - mae: 70678.3438 - val_loss: 8925334528.0000 - val_mae: 70457.7188\n",
      "Epoch 257/500\n",
      "287/287 [==============================] - 0s 783us/step - loss: 8915146752.0000 - mae: 70273.3438 - val_loss: 8830067712.0000 - val_mae: 69851.3125\n",
      "Epoch 258/500\n",
      "287/287 [==============================] - 0s 819us/step - loss: 8986938368.0000 - mae: 70512.0469 - val_loss: 8860907520.0000 - val_mae: 70418.0703\n",
      "Epoch 259/500\n",
      "287/287 [==============================] - 0s 835us/step - loss: 8983786496.0000 - mae: 70550.9219 - val_loss: 9044938752.0000 - val_mae: 71101.5078\n",
      "Epoch 260/500\n",
      "287/287 [==============================] - 0s 780us/step - loss: 8989261824.0000 - mae: 70625.7734 - val_loss: 8903305216.0000 - val_mae: 70885.8438\n",
      "Epoch 261/500\n",
      "287/287 [==============================] - 0s 817us/step - loss: 8939466752.0000 - mae: 70310.6328 - val_loss: 9035554816.0000 - val_mae: 71539.3750\n",
      "Epoch 262/500\n",
      "287/287 [==============================] - 0s 831us/step - loss: 8894610432.0000 - mae: 70148.8750 - val_loss: 9117809664.0000 - val_mae: 71489.7734\n",
      "Epoch 263/500\n",
      "287/287 [==============================] - 0s 825us/step - loss: 9013129216.0000 - mae: 70730.1016 - val_loss: 8853865472.0000 - val_mae: 70704.3281\n",
      "Epoch 264/500\n",
      "287/287 [==============================] - 0s 828us/step - loss: 8985808896.0000 - mae: 70597.6172 - val_loss: 8941402112.0000 - val_mae: 71341.7031\n",
      "Epoch 265/500\n",
      "287/287 [==============================] - 0s 775us/step - loss: 8899918848.0000 - mae: 70294.1797 - val_loss: 9079036928.0000 - val_mae: 71917.7188\n",
      "Epoch 266/500\n",
      "287/287 [==============================] - 0s 768us/step - loss: 8916764672.0000 - mae: 70303.2969 - val_loss: 9945247744.0000 - val_mae: 74344.6719\n",
      "Epoch 267/500\n",
      "287/287 [==============================] - 0s 821us/step - loss: 8912533504.0000 - mae: 70190.1875 - val_loss: 8836035584.0000 - val_mae: 70246.8281\n",
      "Epoch 268/500\n",
      "287/287 [==============================] - 0s 826us/step - loss: 8982642688.0000 - mae: 70580.9062 - val_loss: 9318004736.0000 - val_mae: 71869.4141\n",
      "Epoch 269/500\n",
      "287/287 [==============================] - 0s 786us/step - loss: 8996989952.0000 - mae: 70535.9688 - val_loss: 9022326784.0000 - val_mae: 71501.7969\n",
      "Epoch 270/500\n",
      "287/287 [==============================] - 0s 781us/step - loss: 8909340672.0000 - mae: 70215.3828 - val_loss: 8890036224.0000 - val_mae: 70042.3359\n",
      "Epoch 271/500\n",
      "287/287 [==============================] - 0s 833us/step - loss: 8886656000.0000 - mae: 70142.8047 - val_loss: 8888640512.0000 - val_mae: 69682.9297\n",
      "Epoch 272/500\n",
      "287/287 [==============================] - 0s 859us/step - loss: 8864572416.0000 - mae: 70089.6250 - val_loss: 9126011904.0000 - val_mae: 70930.3281\n",
      "Epoch 273/500\n",
      "287/287 [==============================] - 0s 779us/step - loss: 9002074112.0000 - mae: 70614.3516 - val_loss: 8846604288.0000 - val_mae: 70650.3359\n",
      "Epoch 274/500\n",
      "287/287 [==============================] - 0s 773us/step - loss: 8991866880.0000 - mae: 70636.3516 - val_loss: 8833839104.0000 - val_mae: 70091.6562\n",
      "Epoch 275/500\n",
      "287/287 [==============================] - 0s 772us/step - loss: 8947189760.0000 - mae: 70452.0391 - val_loss: 8980112384.0000 - val_mae: 71358.5156\n",
      "Epoch 276/500\n",
      "287/287 [==============================] - 0s 822us/step - loss: 8912463872.0000 - mae: 70251.0859 - val_loss: 8858823680.0000 - val_mae: 69962.6719\n",
      "Epoch 277/500\n",
      "287/287 [==============================] - 0s 763us/step - loss: 9018616832.0000 - mae: 70856.2891 - val_loss: 8807965696.0000 - val_mae: 69811.6250\n",
      "Epoch 278/500\n",
      "287/287 [==============================] - 0s 774us/step - loss: 8843412480.0000 - mae: 70010.0312 - val_loss: 8946498560.0000 - val_mae: 71064.3203\n",
      "Epoch 279/500\n",
      "287/287 [==============================] - 0s 773us/step - loss: 8818377728.0000 - mae: 69827.7109 - val_loss: 9011369984.0000 - val_mae: 70970.6953\n",
      "Epoch 280/500\n",
      "287/287 [==============================] - 0s 867us/step - loss: 8939499520.0000 - mae: 70346.1016 - val_loss: 8906404864.0000 - val_mae: 70668.1641\n",
      "Epoch 281/500\n",
      "287/287 [==============================] - 0s 836us/step - loss: 8894532608.0000 - mae: 70269.5781 - val_loss: 8877858816.0000 - val_mae: 70497.2188\n",
      "Epoch 282/500\n",
      "287/287 [==============================] - 0s 781us/step - loss: 8880689152.0000 - mae: 70138.5234 - val_loss: 8921115648.0000 - val_mae: 71192.7031\n",
      "Epoch 283/500\n",
      "287/287 [==============================] - 0s 819us/step - loss: 8991312896.0000 - mae: 70735.6094 - val_loss: 9087943680.0000 - val_mae: 71133.5078\n",
      "Epoch 284/500\n",
      "287/287 [==============================] - 0s 776us/step - loss: 8879834112.0000 - mae: 70072.6406 - val_loss: 9079620608.0000 - val_mae: 71649.8125\n",
      "Epoch 285/500\n",
      "287/287 [==============================] - 0s 782us/step - loss: 8837312512.0000 - mae: 69888.2344 - val_loss: 9212996608.0000 - val_mae: 71541.2266\n",
      "Epoch 286/500\n",
      "287/287 [==============================] - 0s 814us/step - loss: 8858800128.0000 - mae: 70056.2344 - val_loss: 8814120960.0000 - val_mae: 70408.2734\n",
      "Epoch 287/500\n",
      "287/287 [==============================] - 0s 784us/step - loss: 8857834496.0000 - mae: 70033.5859 - val_loss: 9316856832.0000 - val_mae: 71718.1016\n",
      "Epoch 288/500\n",
      "287/287 [==============================] - 0s 770us/step - loss: 8887073792.0000 - mae: 70109.1094 - val_loss: 8799952896.0000 - val_mae: 70522.8516\n",
      "Epoch 289/500\n",
      "287/287 [==============================] - 0s 833us/step - loss: 8805567488.0000 - mae: 69743.3906 - val_loss: 8936777728.0000 - val_mae: 70597.9453\n",
      "Epoch 290/500\n",
      "287/287 [==============================] - 0s 797us/step - loss: 8838801408.0000 - mae: 70088.1875 - val_loss: 9004409856.0000 - val_mae: 70227.4609\n",
      "Epoch 291/500\n",
      "287/287 [==============================] - 0s 822us/step - loss: 8876518400.0000 - mae: 70092.8281 - val_loss: 8842372096.0000 - val_mae: 70229.9688\n",
      "Epoch 292/500\n",
      "287/287 [==============================] - 0s 777us/step - loss: 8828460032.0000 - mae: 69820.9609 - val_loss: 8895470592.0000 - val_mae: 70085.5703\n",
      "Epoch 293/500\n",
      "287/287 [==============================] - 0s 778us/step - loss: 8882437120.0000 - mae: 70078.6094 - val_loss: 8852209664.0000 - val_mae: 70019.1562\n",
      "Epoch 294/500\n",
      "287/287 [==============================] - 0s 774us/step - loss: 8819900416.0000 - mae: 69861.8047 - val_loss: 8897306624.0000 - val_mae: 70982.0781\n",
      "Epoch 295/500\n",
      "287/287 [==============================] - 0s 818us/step - loss: 8839519232.0000 - mae: 69954.1484 - val_loss: 8958121984.0000 - val_mae: 70532.5469\n",
      "Epoch 296/500\n",
      "287/287 [==============================] - 0s 830us/step - loss: 8867863552.0000 - mae: 70079.3906 - val_loss: 8690830336.0000 - val_mae: 69336.6484\n",
      "Epoch 297/500\n",
      "287/287 [==============================] - 0s 784us/step - loss: 8820343808.0000 - mae: 69852.7188 - val_loss: 8965765120.0000 - val_mae: 71332.3594\n",
      "Epoch 298/500\n",
      "287/287 [==============================] - 0s 761us/step - loss: 8878475264.0000 - mae: 70101.2656 - val_loss: 9085859840.0000 - val_mae: 71259.4297\n",
      "Epoch 299/500\n",
      "287/287 [==============================] - ETA: 0s - loss: 8768889856.0000 - mae: 69611.18 - 0s 772us/step - loss: 8858695680.0000 - mae: 69921.7031 - val_loss: 9482840064.0000 - val_mae: 73340.3281\n",
      "Epoch 300/500\n",
      "287/287 [==============================] - 0s 904us/step - loss: 8850640896.0000 - mae: 69944.7656 - val_loss: 9300470784.0000 - val_mae: 72604.1406\n",
      "Epoch 301/500\n"
     ]
    },
    {
     "name": "stdout",
     "output_type": "stream",
     "text": [
      "287/287 [==============================] - 0s 935us/step - loss: 8855706624.0000 - mae: 69979.7734 - val_loss: 9037807616.0000 - val_mae: 70706.2188\n",
      "Epoch 302/500\n",
      "287/287 [==============================] - 0s 822us/step - loss: 8773241856.0000 - mae: 69581.7344 - val_loss: 8789300224.0000 - val_mae: 70104.5234\n",
      "Epoch 303/500\n",
      "287/287 [==============================] - 0s 867us/step - loss: 8809651200.0000 - mae: 69731.7188 - val_loss: 8776911872.0000 - val_mae: 70038.0938\n",
      "Epoch 304/500\n",
      "287/287 [==============================] - 0s 764us/step - loss: 8804943872.0000 - mae: 69846.4688 - val_loss: 8861814784.0000 - val_mae: 70126.5312\n",
      "Epoch 305/500\n",
      "287/287 [==============================] - 0s 772us/step - loss: 8867762176.0000 - mae: 70071.0312 - val_loss: 8738044928.0000 - val_mae: 69370.0234\n",
      "Epoch 306/500\n",
      "287/287 [==============================] - 0s 778us/step - loss: 8795038720.0000 - mae: 69798.1797 - val_loss: 8781123584.0000 - val_mae: 70054.7578\n",
      "Epoch 307/500\n",
      "287/287 [==============================] - 0s 819us/step - loss: 8835098624.0000 - mae: 69980.2891 - val_loss: 9462215680.0000 - val_mae: 72375.4531\n",
      "Epoch 308/500\n",
      "287/287 [==============================] - 0s 823us/step - loss: 8827732992.0000 - mae: 69939.5391 - val_loss: 8777326592.0000 - val_mae: 69922.9688\n",
      "Epoch 309/500\n",
      "287/287 [==============================] - 0s 777us/step - loss: 8758973440.0000 - mae: 69536.9062 - val_loss: 9014171648.0000 - val_mae: 71610.1484\n",
      "Epoch 310/500\n",
      "287/287 [==============================] - 0s 823us/step - loss: 8858059776.0000 - mae: 69999.7656 - val_loss: 9018440704.0000 - val_mae: 72082.4531\n",
      "Epoch 311/500\n",
      "287/287 [==============================] - 0s 820us/step - loss: 8788186112.0000 - mae: 69692.8984 - val_loss: 8890763264.0000 - val_mae: 70151.4453\n",
      "Epoch 312/500\n",
      "287/287 [==============================] - 0s 775us/step - loss: 8783278080.0000 - mae: 69632.5547 - val_loss: 8987725824.0000 - val_mae: 70929.0234\n",
      "Epoch 313/500\n",
      "287/287 [==============================] - 0s 826us/step - loss: 8862474240.0000 - mae: 69977.8828 - val_loss: 8707412992.0000 - val_mae: 69578.9844\n",
      "Epoch 314/500\n",
      "287/287 [==============================] - 0s 829us/step - loss: 8821011456.0000 - mae: 69859.4297 - val_loss: 9237075968.0000 - val_mae: 70869.1641\n",
      "Epoch 315/500\n",
      "287/287 [==============================] - 0s 823us/step - loss: 8763862016.0000 - mae: 69633.9141 - val_loss: 8770131968.0000 - val_mae: 69337.2891\n",
      "Epoch 316/500\n",
      "287/287 [==============================] - 0s 782us/step - loss: 8806175744.0000 - mae: 69718.6250 - val_loss: 8723573760.0000 - val_mae: 69913.2109\n",
      "Epoch 317/500\n",
      "287/287 [==============================] - 0s 775us/step - loss: 8850157568.0000 - mae: 70001.4922 - val_loss: 8710728704.0000 - val_mae: 69708.7344\n",
      "Epoch 318/500\n",
      "287/287 [==============================] - 0s 792us/step - loss: 8801580032.0000 - mae: 69773.7812 - val_loss: 8939389952.0000 - val_mae: 71199.9766\n",
      "Epoch 319/500\n",
      "287/287 [==============================] - 0s 806us/step - loss: 8786743296.0000 - mae: 69616.2969 - val_loss: 8654918656.0000 - val_mae: 69397.6875\n",
      "Epoch 320/500\n",
      "287/287 [==============================] - 0s 769us/step - loss: 8791638016.0000 - mae: 69717.1719 - val_loss: 8945388544.0000 - val_mae: 71234.6641\n",
      "Epoch 321/500\n",
      "287/287 [==============================] - 0s 770us/step - loss: 8821651456.0000 - mae: 69932.5312 - val_loss: 8766187520.0000 - val_mae: 70260.0391\n",
      "Epoch 322/500\n",
      "287/287 [==============================] - 0s 775us/step - loss: 8758473728.0000 - mae: 69485.0625 - val_loss: 9429713920.0000 - val_mae: 74085.5234\n",
      "Epoch 323/500\n",
      "287/287 [==============================] - 0s 805us/step - loss: 8748518400.0000 - mae: 69546.1797 - val_loss: 8694922240.0000 - val_mae: 69213.6719\n",
      "Epoch 324/500\n",
      "287/287 [==============================] - 0s 871us/step - loss: 8845394944.0000 - mae: 69931.0312 - val_loss: 8735370240.0000 - val_mae: 69816.5859\n",
      "Epoch 325/500\n",
      "287/287 [==============================] - 0s 833us/step - loss: 8824506368.0000 - mae: 69858.2734 - val_loss: 8671510528.0000 - val_mae: 69193.4375\n",
      "Epoch 326/500\n",
      "287/287 [==============================] - 0s 783us/step - loss: 8786337792.0000 - mae: 69672.6797 - val_loss: 8771203072.0000 - val_mae: 69480.5391\n",
      "Epoch 327/500\n",
      "287/287 [==============================] - 0s 776us/step - loss: 8791336960.0000 - mae: 69672.5156 - val_loss: 8739752960.0000 - val_mae: 69748.5312\n",
      "Epoch 328/500\n",
      "287/287 [==============================] - 0s 816us/step - loss: 8730323968.0000 - mae: 69344.8906 - val_loss: 8857852928.0000 - val_mae: 70242.7812\n",
      "Epoch 329/500\n",
      "287/287 [==============================] - 0s 780us/step - loss: 8844361728.0000 - mae: 69916.3516 - val_loss: 8649961472.0000 - val_mae: 69355.8672\n",
      "Epoch 330/500\n",
      "287/287 [==============================] - 0s 867us/step - loss: 8752951296.0000 - mae: 69491.1172 - val_loss: 8821261312.0000 - val_mae: 69671.7812\n",
      "Epoch 331/500\n",
      "287/287 [==============================] - 0s 802us/step - loss: 8691938304.0000 - mae: 69279.4297 - val_loss: 8728623104.0000 - val_mae: 69338.9609\n",
      "Epoch 332/500\n",
      "287/287 [==============================] - 0s 810us/step - loss: 8771720192.0000 - mae: 69647.0078 - val_loss: 8720889856.0000 - val_mae: 69835.0000\n",
      "Epoch 333/500\n",
      "287/287 [==============================] - 0s 776us/step - loss: 8703073280.0000 - mae: 69270.3672 - val_loss: 8724537344.0000 - val_mae: 69641.6172\n",
      "Epoch 334/500\n",
      "287/287 [==============================] - 0s 771us/step - loss: 8789117952.0000 - mae: 69703.2266 - val_loss: 8880057344.0000 - val_mae: 70033.1875\n",
      "Epoch 335/500\n",
      "287/287 [==============================] - 0s 826us/step - loss: 8741729280.0000 - mae: 69515.0312 - val_loss: 9040147456.0000 - val_mae: 70956.5391\n",
      "Epoch 336/500\n",
      "287/287 [==============================] - 0s 771us/step - loss: 8811366400.0000 - mae: 69840.6562 - val_loss: 8780824576.0000 - val_mae: 69967.1797\n",
      "Epoch 337/500\n",
      "287/287 [==============================] - 0s 772us/step - loss: 8762796032.0000 - mae: 69596.2188 - val_loss: 9106221056.0000 - val_mae: 71761.0312\n",
      "Epoch 338/500\n",
      "287/287 [==============================] - 0s 819us/step - loss: 8721192960.0000 - mae: 69294.8047 - val_loss: 9160762368.0000 - val_mae: 72723.0938\n",
      "Epoch 339/500\n",
      "287/287 [==============================] - 0s 779us/step - loss: 8778832896.0000 - mae: 69628.0469 - val_loss: 8776366080.0000 - val_mae: 69590.8438\n",
      "Epoch 340/500\n",
      "287/287 [==============================] - 0s 773us/step - loss: 8817213440.0000 - mae: 69822.4219 - val_loss: 8894842880.0000 - val_mae: 71354.9609\n",
      "Epoch 341/500\n",
      "287/287 [==============================] - 0s 771us/step - loss: 8731394048.0000 - mae: 69405.8125 - val_loss: 8854012928.0000 - val_mae: 69929.9766\n",
      "Epoch 342/500\n",
      "287/287 [==============================] - 0s 774us/step - loss: 8692084736.0000 - mae: 69272.8828 - val_loss: 9309789184.0000 - val_mae: 72342.0625\n",
      "Epoch 343/500\n",
      "287/287 [==============================] - 0s 818us/step - loss: 8785175552.0000 - mae: 69737.3047 - val_loss: 8692022272.0000 - val_mae: 69601.5234\n",
      "Epoch 344/500\n",
      "287/287 [==============================] - 0s 825us/step - loss: 8660474880.0000 - mae: 69086.8828 - val_loss: 8966243328.0000 - val_mae: 70843.4141\n",
      "Epoch 345/500\n",
      "287/287 [==============================] - 0s 826us/step - loss: 8785662976.0000 - mae: 69623.9609 - val_loss: 8655247360.0000 - val_mae: 69588.3359\n",
      "Epoch 346/500\n",
      "287/287 [==============================] - 0s 782us/step - loss: 8742747136.0000 - mae: 69585.7812 - val_loss: 8826478592.0000 - val_mae: 70102.4062\n",
      "Epoch 347/500\n",
      "287/287 [==============================] - 0s 801us/step - loss: 8717041664.0000 - mae: 69518.7188 - val_loss: 8754096128.0000 - val_mae: 69653.3750\n",
      "Epoch 348/500\n",
      "287/287 [==============================] - 0s 799us/step - loss: 8703679488.0000 - mae: 69296.3594 - val_loss: 8643825664.0000 - val_mae: 68881.2500\n",
      "Epoch 349/500\n",
      "287/287 [==============================] - 0s 771us/step - loss: 8761135104.0000 - mae: 69528.2031 - val_loss: 8749133824.0000 - val_mae: 69861.7969\n",
      "Epoch 350/500\n",
      "287/287 [==============================] - 0s 776us/step - loss: 8636057600.0000 - mae: 68901.8125 - val_loss: 8733429760.0000 - val_mae: 69606.2734\n",
      "Epoch 351/500\n"
     ]
    },
    {
     "name": "stdout",
     "output_type": "stream",
     "text": [
      "287/287 [==============================] - 0s 780us/step - loss: 8680836096.0000 - mae: 69254.9688 - val_loss: 8884248576.0000 - val_mae: 70600.8516\n",
      "Epoch 352/500\n",
      "287/287 [==============================] - 0s 816us/step - loss: 8656671744.0000 - mae: 69123.3281 - val_loss: 8807323648.0000 - val_mae: 69452.3828\n",
      "Epoch 353/500\n",
      "287/287 [==============================] - 0s 825us/step - loss: 8676049920.0000 - mae: 69132.0156 - val_loss: 8744911872.0000 - val_mae: 69067.7656\n",
      "Epoch 354/500\n",
      "287/287 [==============================] - 0s 832us/step - loss: 8687069184.0000 - mae: 69125.6641 - val_loss: 9854918656.0000 - val_mae: 74557.6094\n",
      "Epoch 355/500\n",
      "287/287 [==============================] - 0s 794us/step - loss: 8764539904.0000 - mae: 69595.8594 - val_loss: 8706663424.0000 - val_mae: 69282.0781\n",
      "Epoch 356/500\n",
      "287/287 [==============================] - 0s 815us/step - loss: 8708843520.0000 - mae: 69264.9062 - val_loss: 9404738560.0000 - val_mae: 72033.3438\n",
      "Epoch 357/500\n",
      "287/287 [==============================] - 0s 776us/step - loss: 8743319552.0000 - mae: 69390.7734 - val_loss: 8779045888.0000 - val_mae: 69977.3516\n",
      "Epoch 358/500\n",
      "287/287 [==============================] - 0s 869us/step - loss: 8774946816.0000 - mae: 69658.7891 - val_loss: 8670266368.0000 - val_mae: 69584.0078\n",
      "Epoch 359/500\n",
      "287/287 [==============================] - 0s 777us/step - loss: 8730572800.0000 - mae: 69432.4297 - val_loss: 9054072832.0000 - val_mae: 70926.7031\n",
      "Epoch 360/500\n",
      "287/287 [==============================] - 0s 798us/step - loss: 8702008320.0000 - mae: 69318.9766 - val_loss: 8758001664.0000 - val_mae: 69971.0234\n",
      "Epoch 361/500\n",
      "287/287 [==============================] - 0s 802us/step - loss: 8677382144.0000 - mae: 69194.1328 - val_loss: 8834596864.0000 - val_mae: 70078.4297\n",
      "Epoch 362/500\n",
      "287/287 [==============================] - 0s 797us/step - loss: 8764585984.0000 - mae: 69648.8672 - val_loss: 8623554560.0000 - val_mae: 68922.7031\n",
      "Epoch 363/500\n",
      "287/287 [==============================] - 0s 853us/step - loss: 8750118912.0000 - mae: 69463.4531 - val_loss: 8670145536.0000 - val_mae: 68972.8516\n",
      "Epoch 364/500\n",
      "287/287 [==============================] - 0s 775us/step - loss: 8701321216.0000 - mae: 69353.2812 - val_loss: 8611398656.0000 - val_mae: 68856.1016\n",
      "Epoch 365/500\n",
      "287/287 [==============================] - 0s 821us/step - loss: 8664902656.0000 - mae: 69040.1484 - val_loss: 8789053440.0000 - val_mae: 69591.8359\n",
      "Epoch 366/500\n",
      "287/287 [==============================] - 0s 783us/step - loss: 8731159552.0000 - mae: 69399.2891 - val_loss: 8684579840.0000 - val_mae: 69205.1875\n",
      "Epoch 367/500\n",
      "287/287 [==============================] - 0s 914us/step - loss: 8695886848.0000 - mae: 69263.5859 - val_loss: 9066201088.0000 - val_mae: 70659.9219\n",
      "Epoch 368/500\n",
      "287/287 [==============================] - 0s 949us/step - loss: 8648067072.0000 - mae: 69073.7656 - val_loss: 8617187328.0000 - val_mae: 69004.2578\n",
      "Epoch 369/500\n",
      "287/287 [==============================] - 0s 838us/step - loss: 8679439360.0000 - mae: 69169.4297 - val_loss: 8577690624.0000 - val_mae: 68766.8984\n",
      "Epoch 370/500\n",
      "287/287 [==============================] - 0s 810us/step - loss: 8737080320.0000 - mae: 69493.1250 - val_loss: 8707059712.0000 - val_mae: 69227.3828\n",
      "Epoch 371/500\n",
      "287/287 [==============================] - 0s 847us/step - loss: 8693700608.0000 - mae: 69314.0781 - val_loss: 8651906048.0000 - val_mae: 69222.6641\n",
      "Epoch 372/500\n",
      "287/287 [==============================] - 0s 835us/step - loss: 8644952064.0000 - mae: 69016.9453 - val_loss: 8662532096.0000 - val_mae: 69209.1172\n",
      "Epoch 373/500\n",
      "287/287 [==============================] - 0s 884us/step - loss: 8598354944.0000 - mae: 68792.7578 - val_loss: 8653932544.0000 - val_mae: 69004.7500\n",
      "Epoch 374/500\n",
      "287/287 [==============================] - 1s 2ms/step - loss: 8625424384.0000 - mae: 68916.3438 - val_loss: 8683250688.0000 - val_mae: 69068.7969\n",
      "Epoch 375/500\n",
      "287/287 [==============================] - 0s 927us/step - loss: 8672886784.0000 - mae: 69168.8281 - val_loss: 8979747840.0000 - val_mae: 70285.6328\n",
      "Epoch 376/500\n",
      "287/287 [==============================] - 0s 853us/step - loss: 8717079552.0000 - mae: 69358.8828 - val_loss: 8830848000.0000 - val_mae: 69956.4609\n",
      "Epoch 377/500\n",
      "287/287 [==============================] - 0s 772us/step - loss: 8671035392.0000 - mae: 69232.1250 - val_loss: 9061712896.0000 - val_mae: 71051.0312\n",
      "Epoch 378/500\n",
      "287/287 [==============================] - 0s 826us/step - loss: 8634932224.0000 - mae: 68930.0625 - val_loss: 8775587840.0000 - val_mae: 69621.3984\n",
      "Epoch 379/500\n",
      "287/287 [==============================] - 0s 825us/step - loss: 8644786176.0000 - mae: 69000.9219 - val_loss: 8799186944.0000 - val_mae: 70052.6406\n",
      "Epoch 380/500\n",
      "287/287 [==============================] - 0s 830us/step - loss: 8667653120.0000 - mae: 69227.4141 - val_loss: 8647678976.0000 - val_mae: 69166.2266\n",
      "Epoch 381/500\n",
      "287/287 [==============================] - 0s 771us/step - loss: 8626352128.0000 - mae: 68925.4531 - val_loss: 8502249984.0000 - val_mae: 68359.8125\n",
      "Epoch 382/500\n",
      "287/287 [==============================] - 0s 826us/step - loss: 8668860416.0000 - mae: 69164.3281 - val_loss: 8563402240.0000 - val_mae: 68678.3594\n",
      "Epoch 383/500\n",
      "287/287 [==============================] - 0s 829us/step - loss: 8670624768.0000 - mae: 69122.9062 - val_loss: 8859771904.0000 - val_mae: 70192.8984\n",
      "Epoch 384/500\n",
      "287/287 [==============================] - 0s 780us/step - loss: 8667975680.0000 - mae: 69240.5156 - val_loss: 8913124352.0000 - val_mae: 70397.0859\n",
      "Epoch 385/500\n",
      "287/287 [==============================] - 0s 774us/step - loss: 8660271104.0000 - mae: 69110.8359 - val_loss: 8610553856.0000 - val_mae: 69105.9609\n",
      "Epoch 386/500\n",
      "287/287 [==============================] - 0s 925us/step - loss: 8663948288.0000 - mae: 69082.6250 - val_loss: 8857163776.0000 - val_mae: 70393.6328\n",
      "Epoch 387/500\n",
      "287/287 [==============================] - 1s 2ms/step - loss: 8671144960.0000 - mae: 69187.0859 - val_loss: 8630793216.0000 - val_mae: 69696.5312\n",
      "Epoch 388/500\n",
      "287/287 [==============================] - 0s 1ms/step - loss: 8717867008.0000 - mae: 69365.1172 - val_loss: 8672414720.0000 - val_mae: 68864.6328\n",
      "Epoch 389/500\n",
      "287/287 [==============================] - 0s 962us/step - loss: 8613462016.0000 - mae: 68857.6328 - val_loss: 8645679104.0000 - val_mae: 69010.3594\n",
      "Epoch 390/500\n",
      "287/287 [==============================] - 0s 775us/step - loss: 8652945408.0000 - mae: 69036.4766 - val_loss: 8882160640.0000 - val_mae: 71361.1250\n",
      "Epoch 391/500\n",
      "287/287 [==============================] - 0s 832us/step - loss: 8627871744.0000 - mae: 68972.2266 - val_loss: 8586922496.0000 - val_mae: 69475.7031\n",
      "Epoch 392/500\n",
      "287/287 [==============================] - 0s 774us/step - loss: 8594248704.0000 - mae: 68744.1016 - val_loss: 8528636416.0000 - val_mae: 68364.1719\n",
      "Epoch 393/500\n",
      "287/287 [==============================] - 0s 825us/step - loss: 8716785664.0000 - mae: 69481.0938 - val_loss: 8624134144.0000 - val_mae: 69290.3438\n",
      "Epoch 394/500\n",
      "287/287 [==============================] - 0s 779us/step - loss: 8619187200.0000 - mae: 68881.0703 - val_loss: 8659735552.0000 - val_mae: 69776.6250\n",
      "Epoch 395/500\n",
      "287/287 [==============================] - 0s 824us/step - loss: 8590638080.0000 - mae: 68801.9922 - val_loss: 8826934272.0000 - val_mae: 70563.7812\n",
      "Epoch 396/500\n",
      "287/287 [==============================] - 0s 791us/step - loss: 8603029504.0000 - mae: 68863.0312 - val_loss: 8714645504.0000 - val_mae: 69346.6562\n",
      "Epoch 397/500\n",
      "287/287 [==============================] - 0s 822us/step - loss: 8593517568.0000 - mae: 68820.6562 - val_loss: 8616459264.0000 - val_mae: 68334.0781\n",
      "Epoch 398/500\n",
      "287/287 [==============================] - 0s 771us/step - loss: 8664833024.0000 - mae: 69045.5312 - val_loss: 8659018752.0000 - val_mae: 68748.4922\n",
      "Epoch 399/500\n",
      "287/287 [==============================] - 0s 819us/step - loss: 8633249792.0000 - mae: 68924.1641 - val_loss: 8563323392.0000 - val_mae: 68427.1094\n",
      "Epoch 400/500\n",
      "287/287 [==============================] - 0s 781us/step - loss: 8589840384.0000 - mae: 68820.4609 - val_loss: 8549659648.0000 - val_mae: 68760.8828\n",
      "Epoch 401/500\n"
     ]
    },
    {
     "name": "stdout",
     "output_type": "stream",
     "text": [
      "287/287 [==============================] - 0s 774us/step - loss: 8612954112.0000 - mae: 68920.1797 - val_loss: 8704226304.0000 - val_mae: 70177.8828\n",
      "Epoch 402/500\n",
      "287/287 [==============================] - 0s 773us/step - loss: 8731678720.0000 - mae: 69431.6016 - val_loss: 8557181440.0000 - val_mae: 68754.7031\n",
      "Epoch 403/500\n",
      "287/287 [==============================] - 0s 794us/step - loss: 8608492544.0000 - mae: 68931.6641 - val_loss: 8936726528.0000 - val_mae: 70410.5547\n",
      "Epoch 404/500\n",
      "287/287 [==============================] - 0s 852us/step - loss: 8597626880.0000 - mae: 68816.5938 - val_loss: 8903832576.0000 - val_mae: 71044.1016\n",
      "Epoch 405/500\n",
      "287/287 [==============================] - 0s 775us/step - loss: 8620529664.0000 - mae: 68926.5078 - val_loss: 8530521088.0000 - val_mae: 68263.0078\n",
      "Epoch 406/500\n",
      "287/287 [==============================] - 0s 822us/step - loss: 8546256384.0000 - mae: 68685.1875 - val_loss: 8822078464.0000 - val_mae: 70046.0859\n",
      "Epoch 407/500\n",
      "287/287 [==============================] - 0s 823us/step - loss: 8680372224.0000 - mae: 69237.2031 - val_loss: 9026962432.0000 - val_mae: 70376.8750\n",
      "Epoch 408/500\n",
      "287/287 [==============================] - 0s 834us/step - loss: 8637125632.0000 - mae: 68953.1406 - val_loss: 8562600448.0000 - val_mae: 68580.0000\n",
      "Epoch 409/500\n",
      "287/287 [==============================] - 0s 767us/step - loss: 8575930368.0000 - mae: 68683.3125 - val_loss: 8750632960.0000 - val_mae: 69366.6562\n",
      "Epoch 410/500\n",
      "287/287 [==============================] - 0s 796us/step - loss: 8575851008.0000 - mae: 68683.6875 - val_loss: 8509715456.0000 - val_mae: 68040.3906\n",
      "Epoch 411/500\n",
      "287/287 [==============================] - 0s 803us/step - loss: 8578940416.0000 - mae: 68870.0703 - val_loss: 8822104064.0000 - val_mae: 70300.5391\n",
      "Epoch 412/500\n",
      "287/287 [==============================] - 0s 776us/step - loss: 8607017984.0000 - mae: 68821.9609 - val_loss: 8528979456.0000 - val_mae: 68815.1875\n",
      "Epoch 413/500\n",
      "287/287 [==============================] - 0s 770us/step - loss: 8537403392.0000 - mae: 68504.1719 - val_loss: 8843707392.0000 - val_mae: 68993.7734\n",
      "Epoch 414/500\n",
      "287/287 [==============================] - 0s 806us/step - loss: 8541200384.0000 - mae: 68545.9062 - val_loss: 8606332928.0000 - val_mae: 69207.2734\n",
      "Epoch 415/500\n",
      "287/287 [==============================] - 0s 802us/step - loss: 8620960768.0000 - mae: 68859.7656 - val_loss: 8671093760.0000 - val_mae: 69980.6250\n",
      "Epoch 416/500\n",
      "287/287 [==============================] - 0s 823us/step - loss: 8560015872.0000 - mae: 68596.9766 - val_loss: 9145632768.0000 - val_mae: 70766.8203\n",
      "Epoch 417/500\n",
      "287/287 [==============================] - 0s 778us/step - loss: 8523844096.0000 - mae: 68438.9609 - val_loss: 8677852160.0000 - val_mae: 69252.9609\n",
      "Epoch 418/500\n",
      "287/287 [==============================] - 0s 770us/step - loss: 8613531648.0000 - mae: 68839.8594 - val_loss: 8781974528.0000 - val_mae: 69551.1250\n",
      "Epoch 419/500\n",
      "287/287 [==============================] - 0s 775us/step - loss: 8544637952.0000 - mae: 68522.8906 - val_loss: 8882466816.0000 - val_mae: 70625.0234\n",
      "Epoch 420/500\n",
      "287/287 [==============================] - 0s 821us/step - loss: 8601794560.0000 - mae: 68852.3281 - val_loss: 8726924288.0000 - val_mae: 70232.6328\n",
      "Epoch 421/500\n",
      "287/287 [==============================] - 0s 772us/step - loss: 8570899456.0000 - mae: 68626.8281 - val_loss: 9073784832.0000 - val_mae: 71656.7578\n",
      "Epoch 422/500\n",
      "287/287 [==============================] - 0s 824us/step - loss: 8519965696.0000 - mae: 68377.0000 - val_loss: 8909151232.0000 - val_mae: 69880.8359\n",
      "Epoch 423/500\n",
      "287/287 [==============================] - ETA: 0s - loss: 8461141504.0000 - mae: 68356.76 - 0s 774us/step - loss: 8545176576.0000 - mae: 68604.4219 - val_loss: 8707061760.0000 - val_mae: 69273.1719\n",
      "Epoch 424/500\n",
      "287/287 [==============================] - 0s 798us/step - loss: 8514991104.0000 - mae: 68495.3281 - val_loss: 9483453440.0000 - val_mae: 73390.4531\n",
      "Epoch 425/500\n",
      "287/287 [==============================] - 0s 775us/step - loss: 8528085504.0000 - mae: 68468.8047 - val_loss: 8628703232.0000 - val_mae: 68680.7109\n",
      "Epoch 426/500\n",
      "287/287 [==============================] - 0s 817us/step - loss: 8576230400.0000 - mae: 68699.3594 - val_loss: 8562622976.0000 - val_mae: 69040.1172\n",
      "Epoch 427/500\n",
      "287/287 [==============================] - 0s 772us/step - loss: 8545096192.0000 - mae: 68687.7344 - val_loss: 8865797120.0000 - val_mae: 69716.4375\n",
      "Epoch 428/500\n",
      "287/287 [==============================] - 0s 803us/step - loss: 8607280128.0000 - mae: 68845.1953 - val_loss: 8711527424.0000 - val_mae: 68433.5859\n",
      "Epoch 429/500\n",
      "287/287 [==============================] - 0s 854us/step - loss: 8563186176.0000 - mae: 68605.2969 - val_loss: 8541952512.0000 - val_mae: 68235.4297\n",
      "Epoch 430/500\n",
      "287/287 [==============================] - 0s 844us/step - loss: 8542868480.0000 - mae: 68557.8750 - val_loss: 9114479616.0000 - val_mae: 72211.3984\n",
      "Epoch 431/500\n",
      "287/287 [==============================] - 0s 928us/step - loss: 8522740736.0000 - mae: 68368.7891 - val_loss: 8547740160.0000 - val_mae: 68374.1172\n",
      "Epoch 432/500\n",
      "287/287 [==============================] - 0s 931us/step - loss: 8517286400.0000 - mae: 68364.5000 - val_loss: 8695031808.0000 - val_mae: 68807.4453\n",
      "Epoch 433/500\n",
      "287/287 [==============================] - 0s 838us/step - loss: 8529078272.0000 - mae: 68496.7031 - val_loss: 8563317760.0000 - val_mae: 68934.1797\n",
      "Epoch 434/500\n",
      "287/287 [==============================] - 0s 792us/step - loss: 8589647872.0000 - mae: 68769.3516 - val_loss: 8509595136.0000 - val_mae: 68628.8750\n",
      "Epoch 435/500\n",
      "287/287 [==============================] - 0s 769us/step - loss: 8511703552.0000 - mae: 68417.3828 - val_loss: 8620162048.0000 - val_mae: 68685.3984\n",
      "Epoch 436/500\n",
      "287/287 [==============================] - 0s 771us/step - loss: 8496806400.0000 - mae: 68361.5781 - val_loss: 9108824064.0000 - val_mae: 71737.4062\n",
      "Epoch 437/500\n",
      "287/287 [==============================] - 0s 794us/step - loss: 8531806720.0000 - mae: 68466.2656 - val_loss: 8753081344.0000 - val_mae: 70111.2109\n",
      "Epoch 438/500\n",
      "287/287 [==============================] - 0s 812us/step - loss: 8576762880.0000 - mae: 68724.2812 - val_loss: 8546101248.0000 - val_mae: 68382.8125\n",
      "Epoch 439/500\n",
      "287/287 [==============================] - 0s 833us/step - loss: 8507849728.0000 - mae: 68392.3984 - val_loss: 8513149952.0000 - val_mae: 68162.2500\n",
      "Epoch 440/500\n",
      "287/287 [==============================] - 0s 841us/step - loss: 8509472768.0000 - mae: 68358.2188 - val_loss: 8566788096.0000 - val_mae: 68626.4844\n",
      "Epoch 441/500\n",
      "287/287 [==============================] - 0s 823us/step - loss: 8520539136.0000 - mae: 68397.0391 - val_loss: 8573986816.0000 - val_mae: 69274.8672\n",
      "Epoch 442/500\n",
      "287/287 [==============================] - 0s 850us/step - loss: 8496272896.0000 - mae: 68296.6484 - val_loss: 8596277248.0000 - val_mae: 68344.4062\n",
      "Epoch 443/500\n",
      "287/287 [==============================] - 0s 836us/step - loss: 8613238784.0000 - mae: 68900.2500 - val_loss: 8796260352.0000 - val_mae: 69512.8594\n",
      "Epoch 444/500\n",
      "287/287 [==============================] - 0s 780us/step - loss: 8495103488.0000 - mae: 68318.0391 - val_loss: 8810992640.0000 - val_mae: 69618.2734\n",
      "Epoch 445/500\n",
      "287/287 [==============================] - 0s 771us/step - loss: 8537734144.0000 - mae: 68496.8438 - val_loss: 8625639424.0000 - val_mae: 68743.7812\n",
      "Epoch 446/500\n",
      "287/287 [==============================] - 0s 774us/step - loss: 8470175744.0000 - mae: 68117.2266 - val_loss: 8407641600.0000 - val_mae: 68036.8203\n",
      "Epoch 447/500\n",
      "287/287 [==============================] - 0s 819us/step - loss: 8500917760.0000 - mae: 68290.5078 - val_loss: 8497789440.0000 - val_mae: 68143.2656\n",
      "Epoch 448/500\n",
      "287/287 [==============================] - 0s 824us/step - loss: 8468777984.0000 - mae: 68141.7578 - val_loss: 8530404352.0000 - val_mae: 68442.3672\n",
      "Epoch 449/500\n",
      "287/287 [==============================] - 0s 827us/step - loss: 8530154496.0000 - mae: 68417.0469 - val_loss: 8811968512.0000 - val_mae: 70256.6797\n",
      "Epoch 450/500\n",
      "287/287 [==============================] - 0s 826us/step - loss: 8540476928.0000 - mae: 68528.6719 - val_loss: 8420978176.0000 - val_mae: 68033.4688\n",
      "Epoch 451/500\n"
     ]
    },
    {
     "name": "stdout",
     "output_type": "stream",
     "text": [
      "287/287 [==============================] - 0s 827us/step - loss: 8515134464.0000 - mae: 68404.4531 - val_loss: 8407109632.0000 - val_mae: 67844.3203\n",
      "Epoch 452/500\n",
      "287/287 [==============================] - 0s 828us/step - loss: 8499210240.0000 - mae: 68228.3594 - val_loss: 8432762368.0000 - val_mae: 68168.8359\n",
      "Epoch 453/500\n",
      "287/287 [==============================] - 0s 828us/step - loss: 8474499072.0000 - mae: 68198.0000 - val_loss: 8457469952.0000 - val_mae: 68386.4453\n",
      "Epoch 454/500\n",
      "287/287 [==============================] - 0s 778us/step - loss: 8623687680.0000 - mae: 68913.2812 - val_loss: 8899503104.0000 - val_mae: 69969.5781\n",
      "Epoch 455/500\n",
      "287/287 [==============================] - 0s 825us/step - loss: 8470944768.0000 - mae: 68242.2344 - val_loss: 8495158272.0000 - val_mae: 68559.6719\n",
      "Epoch 456/500\n",
      "287/287 [==============================] - 0s 827us/step - loss: 8489664000.0000 - mae: 68296.5234 - val_loss: 8660707328.0000 - val_mae: 69120.7734\n",
      "Epoch 457/500\n",
      "287/287 [==============================] - 0s 773us/step - loss: 8511564800.0000 - mae: 68333.5859 - val_loss: 8546796032.0000 - val_mae: 69126.3281\n",
      "Epoch 458/500\n",
      "287/287 [==============================] - 0s 774us/step - loss: 8480666624.0000 - mae: 68219.8125 - val_loss: 8626738176.0000 - val_mae: 68433.3750\n",
      "Epoch 459/500\n",
      "287/287 [==============================] - 0s 770us/step - loss: 8501109760.0000 - mae: 68459.4297 - val_loss: 8832979968.0000 - val_mae: 70204.6094\n",
      "Epoch 460/500\n",
      "287/287 [==============================] - 0s 804us/step - loss: 8493079552.0000 - mae: 68318.8828 - val_loss: 8879982592.0000 - val_mae: 70375.9453\n",
      "Epoch 461/500\n",
      "287/287 [==============================] - 0s 822us/step - loss: 8436320768.0000 - mae: 68076.4062 - val_loss: 8694311936.0000 - val_mae: 69202.2969\n",
      "Epoch 462/500\n",
      "287/287 [==============================] - 0s 804us/step - loss: 8440352768.0000 - mae: 67985.2031 - val_loss: 8569203712.0000 - val_mae: 67905.1797\n",
      "Epoch 463/500\n",
      "287/287 [==============================] - 0s 772us/step - loss: 8457881600.0000 - mae: 68139.3203 - val_loss: 8509479424.0000 - val_mae: 68484.3281\n",
      "Epoch 464/500\n",
      "287/287 [==============================] - 0s 765us/step - loss: 8597219328.0000 - mae: 68829.1094 - val_loss: 9019872256.0000 - val_mae: 71218.3672\n",
      "Epoch 465/500\n",
      "287/287 [==============================] - 0s 823us/step - loss: 8429575168.0000 - mae: 68073.0781 - val_loss: 8531240448.0000 - val_mae: 68515.3906\n",
      "Epoch 466/500\n",
      "287/287 [==============================] - 0s 824us/step - loss: 8423926272.0000 - mae: 67994.3906 - val_loss: 8442068480.0000 - val_mae: 67945.6641\n",
      "Epoch 467/500\n",
      "287/287 [==============================] - 0s 834us/step - loss: 8484895232.0000 - mae: 68230.0625 - val_loss: 8428895232.0000 - val_mae: 67583.0312\n",
      "Epoch 468/500\n",
      "287/287 [==============================] - 0s 833us/step - loss: 8487639040.0000 - mae: 68220.3203 - val_loss: 8401363456.0000 - val_mae: 67534.4688\n",
      "Epoch 469/500\n",
      "287/287 [==============================] - 0s 791us/step - loss: 8513905152.0000 - mae: 68429.5000 - val_loss: 8489007616.0000 - val_mae: 68626.1016\n",
      "Epoch 470/500\n",
      "287/287 [==============================] - 0s 779us/step - loss: 8449560064.0000 - mae: 68196.4219 - val_loss: 8937170944.0000 - val_mae: 70825.9453\n",
      "Epoch 471/500\n",
      "287/287 [==============================] - 0s 819us/step - loss: 8422134784.0000 - mae: 67993.1797 - val_loss: 8436561920.0000 - val_mae: 68626.6484\n",
      "Epoch 472/500\n",
      "287/287 [==============================] - 0s 775us/step - loss: 8448760832.0000 - mae: 68072.4453 - val_loss: 8817850368.0000 - val_mae: 70366.8047\n",
      "Epoch 473/500\n",
      "287/287 [==============================] - 0s 781us/step - loss: 8540887040.0000 - mae: 68523.3516 - val_loss: 8588097024.0000 - val_mae: 68998.2734\n",
      "Epoch 474/500\n",
      "287/287 [==============================] - 0s 863us/step - loss: 8419774464.0000 - mae: 68048.6094 - val_loss: 8612254720.0000 - val_mae: 68286.3672\n",
      "Epoch 475/500\n",
      "287/287 [==============================] - 0s 825us/step - loss: 8461477888.0000 - mae: 68143.2812 - val_loss: 8801881088.0000 - val_mae: 69879.9375\n",
      "Epoch 476/500\n",
      "287/287 [==============================] - 0s 831us/step - loss: 8446008832.0000 - mae: 68027.0391 - val_loss: 8522019328.0000 - val_mae: 67671.2969\n",
      "Epoch 477/500\n",
      "287/287 [==============================] - 0s 833us/step - loss: 8460638720.0000 - mae: 68155.6094 - val_loss: 8662005760.0000 - val_mae: 69088.4297\n",
      "Epoch 478/500\n",
      "287/287 [==============================] - 0s 825us/step - loss: 8469542912.0000 - mae: 68151.6953 - val_loss: 8710035456.0000 - val_mae: 69409.4297\n",
      "Epoch 479/500\n",
      "287/287 [==============================] - 0s 832us/step - loss: 8426079232.0000 - mae: 68077.4844 - val_loss: 8577177088.0000 - val_mae: 67922.5938\n",
      "Epoch 480/500\n",
      "287/287 [==============================] - 0s 816us/step - loss: 8427269632.0000 - mae: 67855.3984 - val_loss: 8482652672.0000 - val_mae: 68003.4766\n",
      "Epoch 481/500\n",
      "287/287 [==============================] - 0s 838us/step - loss: 8517707776.0000 - mae: 68533.6953 - val_loss: 8508555776.0000 - val_mae: 68026.9062\n",
      "Epoch 482/500\n",
      "287/287 [==============================] - 0s 821us/step - loss: 8404861952.0000 - mae: 67955.3203 - val_loss: 8406019584.0000 - val_mae: 67616.7422\n",
      "Epoch 483/500\n",
      "287/287 [==============================] - 0s 853us/step - loss: 8418287616.0000 - mae: 67940.7188 - val_loss: 8501152256.0000 - val_mae: 68535.1641\n",
      "Epoch 484/500\n",
      "287/287 [==============================] - 0s 780us/step - loss: 8396957696.0000 - mae: 67817.1016 - val_loss: 8483469312.0000 - val_mae: 68770.3125\n",
      "Epoch 485/500\n",
      "287/287 [==============================] - 0s 824us/step - loss: 8461040640.0000 - mae: 68120.4219 - val_loss: 8408559104.0000 - val_mae: 68172.0234\n",
      "Epoch 486/500\n",
      "287/287 [==============================] - 0s 779us/step - loss: 8404625920.0000 - mae: 67867.1172 - val_loss: 8408496128.0000 - val_mae: 67858.7656\n",
      "Epoch 487/500\n",
      "287/287 [==============================] - 0s 822us/step - loss: 8493528064.0000 - mae: 68204.7031 - val_loss: 8771003392.0000 - val_mae: 69517.2969\n",
      "Epoch 488/500\n",
      "287/287 [==============================] - 0s 843us/step - loss: 8470795264.0000 - mae: 68220.1172 - val_loss: 8620503040.0000 - val_mae: 68803.2109\n",
      "Epoch 489/500\n",
      "287/287 [==============================] - 1s 2ms/step - loss: 8422528512.0000 - mae: 68012.0547 - val_loss: 8487946240.0000 - val_mae: 69009.9453\n",
      "Epoch 490/500\n",
      "287/287 [==============================] - 0s 985us/step - loss: 8425817088.0000 - mae: 67971.2266 - val_loss: 8647522304.0000 - val_mae: 68160.3125\n",
      "Epoch 491/500\n",
      "287/287 [==============================] - 0s 854us/step - loss: 8381043712.0000 - mae: 67793.1562 - val_loss: 8686898176.0000 - val_mae: 68646.1719\n",
      "Epoch 492/500\n",
      "287/287 [==============================] - 0s 797us/step - loss: 8452170752.0000 - mae: 67987.4844 - val_loss: 8477344256.0000 - val_mae: 67904.2266\n",
      "Epoch 493/500\n",
      "287/287 [==============================] - 0s 834us/step - loss: 8443823616.0000 - mae: 68164.7031 - val_loss: 8423406592.0000 - val_mae: 68204.6641\n",
      "Epoch 494/500\n",
      "287/287 [==============================] - 0s 821us/step - loss: 8409568768.0000 - mae: 67906.4531 - val_loss: 8484049920.0000 - val_mae: 67669.3203\n",
      "Epoch 495/500\n",
      "287/287 [==============================] - 0s 776us/step - loss: 8464078336.0000 - mae: 68197.9375 - val_loss: 8669766656.0000 - val_mae: 68861.7031\n",
      "Epoch 496/500\n",
      "287/287 [==============================] - 0s 878us/step - loss: 8455233536.0000 - mae: 68140.1719 - val_loss: 8457398784.0000 - val_mae: 68451.2969\n",
      "Epoch 497/500\n",
      "287/287 [==============================] - 0s 949us/step - loss: 8395305472.0000 - mae: 67867.5938 - val_loss: 8791454720.0000 - val_mae: 69627.3359\n",
      "Epoch 498/500\n",
      "287/287 [==============================] - 0s 921us/step - loss: 8444044800.0000 - mae: 68071.9219 - val_loss: 8445313536.0000 - val_mae: 68679.3516\n",
      "Epoch 499/500\n",
      "287/287 [==============================] - 0s 814us/step - loss: 8392596992.0000 - mae: 67836.6328 - val_loss: 8685511680.0000 - val_mae: 69624.4922\n",
      "Epoch 500/500\n",
      "287/287 [==============================] - 0s 797us/step - loss: 8425408000.0000 - mae: 67971.3906 - val_loss: 8671577088.0000 - val_mae: 69589.8125\n"
     ]
    },
    {
     "data": {
      "text/plain": [
       "<tensorflow.python.keras.callbacks.History at 0x246f95c4700>"
      ]
     },
     "execution_count": 68,
     "metadata": {},
     "output_type": "execute_result"
    }
   ],
   "source": [
    "# Adam optimiser MAE loss，mean absolute error)\n",
    "model_dl.compile(optimizer='Adam', loss='mse', metrics=['mae'])\n",
    "\n",
    "#fit\n",
    "model_dl.fit(x=X_train, y=y_train, validation_data=(X_val, y_val),\n",
    "             epochs=500, batch_size=128, verbose=1)\n"
   ]
  },
  {
   "cell_type": "code",
   "execution_count": 69,
   "id": "pregnant-cabin",
   "metadata": {
    "scrolled": false
   },
   "outputs": [
    {
     "data": {
      "text/plain": [
       "Text(0, 0.5, 'Metric')"
      ]
     },
     "execution_count": 69,
     "metadata": {},
     "output_type": "execute_result"
    },
    {
     "data": {
      "image/png": "[encoded data removed]",
      "text/plain": [
       "<Figure size 1224x360 with 2 Axes>"
      ]
     },
     "metadata": {
      "needs_background": "light"
     },
     "output_type": "display_data"
    }
   ],
   "source": [
    "#history curve\n",
    "history_df = pd.DataFrame(model_dl.history.history) \n",
    "\n",
    "\n",
    "fig, (ax1, ax2) = plt.subplots(1, 2, figsize=(17,5) , gridspec_kw={'hspace': 0.5})\n",
    "\n",
    "history_df.loc[:,['loss','val_loss']].plot(ax=ax1)\n",
    "ax1.set_xlabel('nombre epoch')\n",
    "ax1.set_ylabel('Loss')\n",
    "\n",
    "history_df.loc[:,['mae','val_mae']].plot(ax=ax2)\n",
    "ax2.set_xlabel('nombre epoch')\n",
    "ax2.set_ylabel('Metric')"
   ]
  },
  {
   "cell_type": "code",
   "execution_count": 170,
   "id": "respective-subdivision",
   "metadata": {},
   "outputs": [
    {
     "name": "stdout",
     "output_type": "stream",
     "text": [
      "MAE: 68401.04110072988\n",
      "MSE: 8495661659.330331\n",
      "RMSE: 92171.91361434529\n",
      "R2: 0.6346940365581841\n"
     ]
    }
   ],
   "source": [
    "y_pred_dl = model_dl.predict(X_test)\n",
    "from sklearn import metrics\n",
    "from sklearn.metrics import r2_score\n",
    "\n",
    "print('MAE:', metrics.mean_absolute_error(y_test, y_pred_dl))  \n",
    "print('MSE:', metrics.mean_squared_error(y_test, y_pred_dl))  \n",
    "print('RMSE:', np.sqrt(metrics.mean_squared_error(y_test, y_pred_dl)))\n",
    "print('R2:', metrics.r2_score(y_test, y_pred_dl))\n"
   ]
  },
  {
   "cell_type": "code",
   "execution_count": 171,
   "id": "peaceful-rhythm",
   "metadata": {},
   "outputs": [
    {
     "data": {
      "text/html": [
       "<div>\n",
       "<style scoped>\n",
       "    .dataframe tbody tr th:only-of-type {\n",
       "        vertical-align: middle;\n",
       "    }\n",
       "\n",
       "    .dataframe tbody tr th {\n",
       "        vertical-align: top;\n",
       "    }\n",
       "\n",
       "    .dataframe thead th {\n",
       "        text-align: right;\n",
       "    }\n",
       "</style>\n",
       "<table border=\"1\" class=\"dataframe\">\n",
       "  <thead>\n",
       "    <tr style=\"text-align: right;\">\n",
       "      <th></th>\n",
       "      <th>Model</th>\n",
       "      <th>R2</th>\n",
       "      <th>MSE</th>\n",
       "    </tr>\n",
       "  </thead>\n",
       "  <tbody>\n",
       "    <tr>\n",
       "      <th>0</th>\n",
       "      <td>LinearRegression</td>\n",
       "      <td>0.533473</td>\n",
       "      <td>1.084968e+10</td>\n",
       "    </tr>\n",
       "    <tr>\n",
       "      <th>1</th>\n",
       "      <td>XGBRegressor</td>\n",
       "      <td>0.700380</td>\n",
       "      <td>6.968046e+09</td>\n",
       "    </tr>\n",
       "    <tr>\n",
       "      <th>2</th>\n",
       "      <td>RandomForestRegressor</td>\n",
       "      <td>0.687739</td>\n",
       "      <td>7.262023e+09</td>\n",
       "    </tr>\n",
       "    <tr>\n",
       "      <th>3</th>\n",
       "      <td>Neural network</td>\n",
       "      <td>0.634694</td>\n",
       "      <td>8.495662e+09</td>\n",
       "    </tr>\n",
       "  </tbody>\n",
       "</table>\n",
       "</div>"
      ],
      "text/plain": [
       "                   Model        R2           MSE\n",
       "0       LinearRegression  0.533473  1.084968e+10\n",
       "1           XGBRegressor  0.700380  6.968046e+09\n",
       "2  RandomForestRegressor  0.687739  7.262023e+09\n",
       "3         Neural network  0.634694  8.495662e+09"
      ]
     },
     "execution_count": 171,
     "metadata": {},
     "output_type": "execute_result"
    }
   ],
   "source": [
    "#score collector\n",
    "\n",
    "score_collector=score_collector.append({'Model':'Neural network','R2':metrics.r2_score(y_test, y_pred_dl),\n",
    "                                        'MSE':metrics.mean_squared_error(y_test, y_pred_dl)}, ignore_index=True)\n",
    "\n",
    "score_collector"
   ]
  },
  {
   "cell_type": "code",
   "execution_count": 206,
   "id": "corporate-franklin",
   "metadata": {
    "scrolled": true
   },
   "outputs": [
    {
     "data": {
      "image/png": "[encoded data removed]",
      "text/plain": [
       "<Figure size 504x360 with 1 Axes>"
      ]
     },
     "metadata": {
      "needs_background": "light"
     },
     "output_type": "display_data"
    }
   ],
   "source": [
    "# Distribution predicted prix et actual prix\n",
    "plotmodel(y_test, y_pred_dl)"
   ]
  },
  {
   "cell_type": "code",
   "execution_count": 207,
   "id": "intimate-vinyl",
   "metadata": {},
   "outputs": [
    {
     "data": {
      "text/plain": [
       "[<matplotlib.lines.Line2D at 0x2526b64f2b0>]"
      ]
     },
     "execution_count": 207,
     "metadata": {},
     "output_type": "execute_result"
    },
    {
     "data": {
      "image/png": "[encoded data removed]",
      "text/plain": [
       "<Figure size 720x360 with 1 Axes>"
      ]
     },
     "metadata": {
      "needs_background": "light"
     },
     "output_type": "display_data"
    }
   ],
   "source": [
    "# Visualizing Our predictions\n",
    "fig = plt.figure(figsize=(10,5))\n",
    "plt.scatter(y_test,y_pred_dl)\n",
    "# Perfect predictions\n",
    "plt.plot(y_test,y_test,'r')"
   ]
  },
  {
   "cell_type": "code",
   "execution_count": 72,
   "id": "underlying-cancellation",
   "metadata": {},
   "outputs": [],
   "source": [
    "from __future__ import print_function\n",
    "from ipywidgets import interact, interactive, fixed, interact_manual\n",
    "import ipywidgets as widgets"
   ]
  },
  {
   "cell_type": "code",
   "execution_count": null,
   "id": "noticed-vehicle",
   "metadata": {},
   "outputs": [],
   "source": [
    "Nb_pieces,surface_reelle_bati, Surface_terrain, nombre_lots, code_type_local, \n",
    "             adresse_numero, code_departement, Month, superficie_km2, age_median, \n",
    "             revenue_median, population, density"
   ]
  },
  {
   "cell_type": "code",
   "execution_count": 81,
   "id": "substantial-boulder",
   "metadata": {
    "scrolled": false
   },
   "outputs": [
    {
     "data": {
      "text/html": [
       "<div>\n",
       "<style scoped>\n",
       "    .dataframe tbody tr th:only-of-type {\n",
       "        vertical-align: middle;\n",
       "    }\n",
       "\n",
       "    .dataframe tbody tr th {\n",
       "        vertical-align: top;\n",
       "    }\n",
       "\n",
       "    .dataframe thead th {\n",
       "        text-align: right;\n",
       "    }\n",
       "</style>\n",
       "<table border=\"1\" class=\"dataframe\">\n",
       "  <thead>\n",
       "    <tr style=\"text-align: right;\">\n",
       "      <th></th>\n",
       "      <th>nombre_lots</th>\n",
       "      <th>surface_reelle_bati</th>\n",
       "      <th>nombre_pieces_principales</th>\n",
       "      <th>surface_terrain</th>\n",
       "      <th>superficie_km2</th>\n",
       "      <th>age_median</th>\n",
       "      <th>revenue_median</th>\n",
       "      <th>population</th>\n",
       "      <th>density</th>\n",
       "      <th>adresse_numero</th>\n",
       "      <th>code_type_local</th>\n",
       "      <th>Month</th>\n",
       "    </tr>\n",
       "  </thead>\n",
       "  <tbody>\n",
       "    <tr>\n",
       "      <th>count</th>\n",
       "      <td>61224.000000</td>\n",
       "      <td>61224.000000</td>\n",
       "      <td>61224.000000</td>\n",
       "      <td>61224.000000</td>\n",
       "      <td>61224.000000</td>\n",
       "      <td>61224.000000</td>\n",
       "      <td>61224.000000</td>\n",
       "      <td>61224.000000</td>\n",
       "      <td>61224.000000</td>\n",
       "      <td>61224.000000</td>\n",
       "      <td>61224.000000</td>\n",
       "      <td>61224.000000</td>\n",
       "    </tr>\n",
       "    <tr>\n",
       "      <th>mean</th>\n",
       "      <td>0.978374</td>\n",
       "      <td>82.275215</td>\n",
       "      <td>3.852917</td>\n",
       "      <td>192.109192</td>\n",
       "      <td>8.527808</td>\n",
       "      <td>37.412493</td>\n",
       "      <td>25991.388181</td>\n",
       "      <td>60176.995198</td>\n",
       "      <td>10188.131406</td>\n",
       "      <td>86.818519</td>\n",
       "      <td>1.469816</td>\n",
       "      <td>6.396348</td>\n",
       "    </tr>\n",
       "    <tr>\n",
       "      <th>std</th>\n",
       "      <td>1.098288</td>\n",
       "      <td>25.880770</td>\n",
       "      <td>1.142312</td>\n",
       "      <td>159.962708</td>\n",
       "      <td>9.687120</td>\n",
       "      <td>2.928743</td>\n",
       "      <td>5351.047196</td>\n",
       "      <td>59324.963094</td>\n",
       "      <td>10311.196282</td>\n",
       "      <td>659.931064</td>\n",
       "      <td>0.499092</td>\n",
       "      <td>3.293752</td>\n",
       "    </tr>\n",
       "    <tr>\n",
       "      <th>min</th>\n",
       "      <td>0.000000</td>\n",
       "      <td>17.000000</td>\n",
       "      <td>2.000000</td>\n",
       "      <td>51.000000</td>\n",
       "      <td>0.690000</td>\n",
       "      <td>28.000000</td>\n",
       "      <td>13320.000000</td>\n",
       "      <td>1905.000000</td>\n",
       "      <td>86.482567</td>\n",
       "      <td>1.000000</td>\n",
       "      <td>1.000000</td>\n",
       "      <td>1.000000</td>\n",
       "    </tr>\n",
       "    <tr>\n",
       "      <th>25%</th>\n",
       "      <td>0.000000</td>\n",
       "      <td>62.000000</td>\n",
       "      <td>3.000000</td>\n",
       "      <td>65.000000</td>\n",
       "      <td>4.180000</td>\n",
       "      <td>36.000000</td>\n",
       "      <td>22330.000000</td>\n",
       "      <td>18084.000000</td>\n",
       "      <td>2549.315068</td>\n",
       "      <td>8.000000</td>\n",
       "      <td>1.000000</td>\n",
       "      <td>4.000000</td>\n",
       "    </tr>\n",
       "    <tr>\n",
       "      <th>50%</th>\n",
       "      <td>1.000000</td>\n",
       "      <td>76.000000</td>\n",
       "      <td>4.000000</td>\n",
       "      <td>96.000000</td>\n",
       "      <td>6.440000</td>\n",
       "      <td>37.000000</td>\n",
       "      <td>25460.000000</td>\n",
       "      <td>34788.000000</td>\n",
       "      <td>6140.828402</td>\n",
       "      <td>20.000000</td>\n",
       "      <td>1.000000</td>\n",
       "      <td>6.000000</td>\n",
       "    </tr>\n",
       "    <tr>\n",
       "      <th>75%</th>\n",
       "      <td>2.000000</td>\n",
       "      <td>98.000000</td>\n",
       "      <td>5.000000</td>\n",
       "      <td>318.000000</td>\n",
       "      <td>10.230000</td>\n",
       "      <td>39.000000</td>\n",
       "      <td>29610.000000</td>\n",
       "      <td>85346.000000</td>\n",
       "      <td>14915.251300</td>\n",
       "      <td>47.000000</td>\n",
       "      <td>2.000000</td>\n",
       "      <td>9.000000</td>\n",
       "    </tr>\n",
       "    <tr>\n",
       "      <th>max</th>\n",
       "      <td>15.000000</td>\n",
       "      <td>161.000000</td>\n",
       "      <td>10.000000</td>\n",
       "      <td>599.000000</td>\n",
       "      <td>172.370000</td>\n",
       "      <td>49.000000</td>\n",
       "      <td>44370.000000</td>\n",
       "      <td>233484.000000</td>\n",
       "      <td>40168.579235</td>\n",
       "      <td>9181.000000</td>\n",
       "      <td>2.000000</td>\n",
       "      <td>12.000000</td>\n",
       "    </tr>\n",
       "  </tbody>\n",
       "</table>\n",
       "</div>"
      ],
      "text/plain": [
       "        nombre_lots  surface_reelle_bati  nombre_pieces_principales  \\\n",
       "count  61224.000000         61224.000000               61224.000000   \n",
       "mean       0.978374            82.275215                   3.852917   \n",
       "std        1.098288            25.880770                   1.142312   \n",
       "min        0.000000            17.000000                   2.000000   \n",
       "25%        0.000000            62.000000                   3.000000   \n",
       "50%        1.000000            76.000000                   4.000000   \n",
       "75%        2.000000            98.000000                   5.000000   \n",
       "max       15.000000           161.000000                  10.000000   \n",
       "\n",
       "       surface_terrain  superficie_km2    age_median  revenue_median  \\\n",
       "count     61224.000000    61224.000000  61224.000000    61224.000000   \n",
       "mean        192.109192        8.527808     37.412493    25991.388181   \n",
       "std         159.962708        9.687120      2.928743     5351.047196   \n",
       "min          51.000000        0.690000     28.000000    13320.000000   \n",
       "25%          65.000000        4.180000     36.000000    22330.000000   \n",
       "50%          96.000000        6.440000     37.000000    25460.000000   \n",
       "75%         318.000000       10.230000     39.000000    29610.000000   \n",
       "max         599.000000      172.370000     49.000000    44370.000000   \n",
       "\n",
       "          population       density  adresse_numero  code_type_local  \\\n",
       "count   61224.000000  61224.000000    61224.000000     61224.000000   \n",
       "mean    60176.995198  10188.131406       86.818519         1.469816   \n",
       "std     59324.963094  10311.196282      659.931064         0.499092   \n",
       "min      1905.000000     86.482567        1.000000         1.000000   \n",
       "25%     18084.000000   2549.315068        8.000000         1.000000   \n",
       "50%     34788.000000   6140.828402       20.000000         1.000000   \n",
       "75%     85346.000000  14915.251300       47.000000         2.000000   \n",
       "max    233484.000000  40168.579235     9181.000000         2.000000   \n",
       "\n",
       "              Month  \n",
       "count  61224.000000  \n",
       "mean       6.396348  \n",
       "std        3.293752  \n",
       "min        1.000000  \n",
       "25%        4.000000  \n",
       "50%        6.000000  \n",
       "75%        9.000000  \n",
       "max       12.000000  "
      ]
     },
     "execution_count": 81,
     "metadata": {},
     "output_type": "execute_result"
    }
   ],
   "source": [
    "df_merged[col_X].describe()"
   ]
  },
  {
   "cell_type": "code",
   "execution_count": 88,
   "id": "differential-contrast",
   "metadata": {},
   "outputs": [
    {
     "data": {
      "text/plain": [
       "array([[ 0., 73.,  2., ...,  1., 10., 78.],\n",
       "       [ 2., 67.,  3., ...,  2.,  9., 75.],\n",
       "       [ 4., 55.,  2., ...,  2.,  5., 75.],\n",
       "       ...,\n",
       "       [ 2., 59.,  2., ...,  2., 10., 75.],\n",
       "       [ 2., 51.,  2., ...,  2.,  5., 75.],\n",
       "       [ 2., 51.,  2., ...,  2.,  8., 92.]], dtype=float32)"
      ]
     },
     "execution_count": 88,
     "metadata": {},
     "output_type": "execute_result"
    }
   ],
   "source": [
    "X_test"
   ]
  },
  {
   "cell_type": "code",
   "execution_count": 116,
   "id": "cloudy-preference",
   "metadata": {
    "scrolled": true
   },
   "outputs": [],
   "source": [
    "from sklearn.linear_model import LinearRegression\n",
    "# Defining and trainning model to be used\n",
    "lm = LinearRegression()\n",
    "lm.fit(X_train,y_train)\n",
    "\n",
    "# Defining a function to estimate the price\n",
    "def estimate(Nb_pieces,surface_reelle_bati, Surface_terrain, nombre_lots, code_type_local, \n",
    "             adresse_numero, code_departement, Month, superficie_km2, age_median, \n",
    "             revenue_median, population, density):\n",
    "    \n",
    "    x={'nombre_pieces_principales':[Nb_pieces],\n",
    "       'surface_reelle_bati':[surface_reelle_bati], \n",
    "       'surface_terrain' :[Surface_terrain],\n",
    "       'nombre_lots' :[nombre_lots],\n",
    "       'code_type_local' :[code_type_local],\n",
    "       'adresse_numero' :[adresse_numero],\n",
    "       'code_departement' :[code_departement],\n",
    "       'Month' :[Month],\n",
    "       'superficie_km2' :[superficie_km2],\n",
    "       'age_median' :[age_median],\n",
    "       'revenue_median' :[revenue_median],\n",
    "       'population' :[population],\n",
    "       'density' :[density],\n",
    "      }, \n",
    "    \n",
    "    x_estim=pd.DataFrame.from_dict(x, orient='columns')\n",
    "    x_estim= np.array(x_estim)\n",
    "    x_estim = s_scaler.transform(x_estim.astype(np.float))\n",
    "    return print('Estimated price :',lm.predict(x_estim)[0])"
   ]
  },
  {
   "cell_type": "code",
   "execution_count": null,
   "id": "received-plumbing",
   "metadata": {},
   "outputs": [],
   "source": [
    "numeric_features = ['nombre_lots','surface_reelle_bati','nombre_pieces_principales','surface_terrain',\n",
    "                    'superficie_km2',\n",
    "                    'age_median','revenue_median','population','density']\n",
    "categorical_features = ['adresse_numero','code_type_local','Month','code_departement']\n",
    "\n",
    "col_X = numeric_features+categorical_features\n",
    "X = df_merged[col_X].values\n",
    "y = df_merged['valeur_fonciere'].values"
   ]
  },
  {
   "cell_type": "code",
   "execution_count": 145,
   "id": "manufactured-knife",
   "metadata": {},
   "outputs": [
    {
     "data": {
      "text/html": [
       "<div>\n",
       "<style scoped>\n",
       "    .dataframe tbody tr th:only-of-type {\n",
       "        vertical-align: middle;\n",
       "    }\n",
       "\n",
       "    .dataframe tbody tr th {\n",
       "        vertical-align: top;\n",
       "    }\n",
       "\n",
       "    .dataframe thead th {\n",
       "        text-align: right;\n",
       "    }\n",
       "</style>\n",
       "<table border=\"1\" class=\"dataframe\">\n",
       "  <thead>\n",
       "    <tr style=\"text-align: right;\">\n",
       "      <th></th>\n",
       "      <th>superficie_km2</th>\n",
       "      <th>age_median</th>\n",
       "      <th>revenue_median</th>\n",
       "      <th>population</th>\n",
       "      <th>density</th>\n",
       "    </tr>\n",
       "    <tr>\n",
       "      <th>code_departement</th>\n",
       "      <th></th>\n",
       "      <th></th>\n",
       "      <th></th>\n",
       "      <th></th>\n",
       "      <th></th>\n",
       "    </tr>\n",
       "  </thead>\n",
       "  <tbody>\n",
       "    <tr>\n",
       "      <th>78</th>\n",
       "      <td>11.742486</td>\n",
       "      <td>38.824681</td>\n",
       "      <td>27725.146015</td>\n",
       "      <td>25846.594504</td>\n",
       "      <td>2836.135779</td>\n",
       "    </tr>\n",
       "  </tbody>\n",
       "</table>\n",
       "</div>"
      ],
      "text/plain": [
       "                  superficie_km2  age_median  revenue_median    population  \\\n",
       "code_departement                                                             \n",
       "78                     11.742486   38.824681    27725.146015  25846.594504   \n",
       "\n",
       "                      density  \n",
       "code_departement               \n",
       "78                2836.135779  "
      ]
     },
     "execution_count": 145,
     "metadata": {},
     "output_type": "execute_result"
    }
   ],
   "source": [
    "df_estimator = df_merged[df_merged['code_departement']==78][['code_departement','superficie_km2',\n",
    "                    'age_median','revenue_median','population','density']]\n",
    "df_estimator.groupby(['code_departement']).mean()"
   ]
  },
  {
   "cell_type": "code",
   "execution_count": 152,
   "id": "beginning-communication",
   "metadata": {},
   "outputs": [
    {
     "data": {
      "text/plain": [
       "array([421012.88], dtype=float32)"
      ]
     },
     "execution_count": 152,
     "metadata": {},
     "output_type": "execute_result"
    }
   ],
   "source": [
    "e_featuers=np.array([[4,200,5,200,6,38,27000,25000,30000,1,0,5,78]])\n",
    "x_estim = s_scaler.transform(e_featuers.astype(np.float))\n",
    "xgb_model_final.predict(x_estim)"
   ]
  },
  {
   "cell_type": "code",
   "execution_count": 120,
   "id": "taken-robert",
   "metadata": {},
   "outputs": [
    {
     "ename": "TypeError",
     "evalue": "array() takes at most 6 keyword arguments (13 given)",
     "output_type": "error",
     "traceback": [
      "\u001b[1;31m---------------------------------------------------------------------------\u001b[0m",
      "\u001b[1;31mTypeError\u001b[0m                                 Traceback (most recent call last)",
      "\u001b[1;32m<ipython-input-120-6f4c8c4366c4>\u001b[0m in \u001b[0;36m<module>\u001b[1;34m\u001b[0m\n\u001b[1;32m----> 1\u001b[1;33m e_featuers=np.array(Nb_pieces=4,surface_reelle_bati=100, \n\u001b[0m\u001b[0;32m      2\u001b[0m          \u001b[0mSurface_terrain\u001b[0m\u001b[1;33m=\u001b[0m\u001b[1;36m100\u001b[0m\u001b[1;33m,\u001b[0m\u001b[0mnombre_lots\u001b[0m\u001b[1;33m=\u001b[0m\u001b[1;36m2\u001b[0m\u001b[1;33m,\u001b[0m\u001b[0mcode_type_local\u001b[0m\u001b[1;33m=\u001b[0m\u001b[1;36m0\u001b[0m\u001b[1;33m,\u001b[0m\u001b[1;33m\u001b[0m\u001b[1;33m\u001b[0m\u001b[0m\n\u001b[0;32m      3\u001b[0m              \u001b[0madresse_numero\u001b[0m\u001b[1;33m=\u001b[0m\u001b[1;36m10\u001b[0m\u001b[1;33m,\u001b[0m \u001b[0mcode_departement\u001b[0m\u001b[1;33m=\u001b[0m\u001b[1;36m78\u001b[0m\u001b[1;33m,\u001b[0m \u001b[0mMonth\u001b[0m\u001b[1;33m=\u001b[0m\u001b[1;36m10\u001b[0m\u001b[1;33m,\u001b[0m\u001b[1;33m\u001b[0m\u001b[1;33m\u001b[0m\u001b[0m\n\u001b[0;32m      4\u001b[0m          \u001b[0msuperficie_km2\u001b[0m\u001b[1;33m=\u001b[0m\u001b[1;36m5\u001b[0m\u001b[1;33m,\u001b[0m \u001b[0mage_median\u001b[0m\u001b[1;33m=\u001b[0m\u001b[1;36m36\u001b[0m\u001b[1;33m,\u001b[0m\u001b[1;33m\u001b[0m\u001b[1;33m\u001b[0m\u001b[0m\n\u001b[0;32m      5\u001b[0m              revenue_median=20000, population=25000, density=30000)\n",
      "\u001b[1;31mTypeError\u001b[0m: array() takes at most 6 keyword arguments (13 given)"
     ]
    }
   ],
   "source": [
    "e_featuers=np.array(Nb_pieces=4,surface_reelle_bati=100, \n",
    "         Surface_terrain=100,nombre_lots=2,code_type_local=0, \n",
    "             adresse_numero=10, code_departement=78, Month=10, \n",
    "         superficie_km2=5, age_median=36, \n",
    "             revenue_median=20000, population=25000, density=30000)\n",
    "e_featuers"
   ]
  },
  {
   "cell_type": "code",
   "execution_count": 103,
   "id": "running-express",
   "metadata": {},
   "outputs": [
    {
     "data": {
      "text/plain": [
       "array([FloatSlider(value=4.0, description='NB pieces', max=6.0, min=1.0, step=1.0),\n",
       "       FloatSlider(value=100.0, description='surface_bati', max=150.0, min=50.0, step=10.0),\n",
       "       FloatSlider(value=200.0, description='S terrain', max=600.0, min=60.0, step=25.0),\n",
       "       FloatSlider(value=5.0, description='nombre_lots', max=15.0, step=15.0),\n",
       "       FloatSlider(value=1.0, description='code_type_local', max=2.0, min=1.0, step=1.0),\n",
       "       FloatSlider(value=20.0, description='adresse_numero', max=600.0, min=1.0, step=25.0),\n",
       "       FloatSlider(value=92.0, description='code_departement', max=95.0, min=75.0, step=1.0),\n",
       "       FloatSlider(value=5.0, description='Month', max=12.0, min=1.0, step=1.0),\n",
       "       FloatSlider(value=5.0, description='superficie_km2', max=10.0, min=4.0, step=1.0),\n",
       "       FloatSlider(value=36.0, description='age_median', max=49.0, min=28.0, step=2.0),\n",
       "       FloatSlider(value=20000.0, description='revenue_median', max=44370.0, min=13320.0, step=5000.0),\n",
       "       FloatSlider(value=25000.0, description='population', max=85346.0, min=18084.0, step=1000.0),\n",
       "       FloatSlider(value=30000.0, description='density', max=40168.0, min=2549.0, step=2500.0)],\n",
       "      dtype=object)"
      ]
     },
     "execution_count": 103,
     "metadata": {},
     "output_type": "execute_result"
    }
   ],
   "source": [
    "Nb_pieces=widgets.FloatSlider(value=4,min=1, max=6, step=1, description='NB pieces')\n",
    "surface_reelle_bati=widgets.FloatSlider(value=100,min=50, max=150, step=10, description='surface_bati')\n",
    "Surface_terrain=widgets.FloatSlider(value=200,min=60, max=600, step=25, description='S terrain')\n",
    "nombre_lots=widgets.FloatSlider(value=5,min=0, max=15, step=15, description='nombre_lots')\n",
    "adresse_numero=widgets.FloatSlider(value=20,min=1, max=600, step=25, description='adresse_numero')\n",
    "code_departement=widgets.FloatSlider(value=92,min=75, max=95, step=1, description='code_departement')\n",
    "Month=widgets.FloatSlider(value=5,min=1, max=12, step=1, description='Month')\n",
    "superficie_km2=widgets.FloatSlider(value=5,min=4, max=10, step=1, description='superficie_km2')\n",
    "age_median=widgets.FloatSlider(value=36,min=28, max=49, step=2, description='age_median')\n",
    "revenue_median=widgets.FloatSlider(value=20000,min=13320, max=44370, step=5000, description='revenue_median')\n",
    "population=widgets.FloatSlider(value=25000,min=18084, max=85346, step=1000, description='population')\n",
    "density=widgets.FloatSlider(value=30000,min=2549, max=40168, step=2500, description='density')\n",
    "code_type_local=widgets.FloatSlider(value=1,min=1, max=2, step=1, description='code_type_local')\n",
    "\n",
    "\n",
    "estimator_features"
   ]
  },
  {
   "cell_type": "code",
   "execution_count": 105,
   "id": "possible-narrow",
   "metadata": {
    "scrolled": true
   },
   "outputs": [
    {
     "ename": "TypeError",
     "evalue": "__call__() takes from 1 to 2 positional arguments but 3 were given",
     "output_type": "error",
     "traceback": [
      "\u001b[1;31m---------------------------------------------------------------------------\u001b[0m",
      "\u001b[1;31mTypeError\u001b[0m                                 Traceback (most recent call last)",
      "\u001b[1;32m<ipython-input-105-0ff69e554906>\u001b[0m in \u001b[0;36m<module>\u001b[1;34m\u001b[0m\n\u001b[1;32m----> 1\u001b[1;33m \u001b[0minteract\u001b[0m\u001b[1;33m(\u001b[0m\u001b[0mestimate\u001b[0m\u001b[1;33m,\u001b[0m \u001b[0mestimator_features\u001b[0m\u001b[1;33m)\u001b[0m\u001b[1;33m\u001b[0m\u001b[1;33m\u001b[0m\u001b[0m\n\u001b[0m",
      "\u001b[1;31mTypeError\u001b[0m: __call__() takes from 1 to 2 positional arguments but 3 were given"
     ]
    }
   ],
   "source": [
    "interact(estimate, estimator_features)"
   ]
  },
  {
   "cell_type": "code",
   "execution_count": 117,
   "id": "incorporate-consolidation",
   "metadata": {},
   "outputs": [
    {
     "data": {
      "application/vnd.jupyter.widget-view+json": {
       "model_id": "9e0415a50614483a877e9d7da4426172",
       "version_major": 2,
       "version_minor": 0
      },
      "text/plain": [
       "interactive(children=(FloatSlider(value=4.0, description='NB pieces', max=6.0, min=1.0, step=1.0), FloatSlider…"
      ]
     },
     "metadata": {},
     "output_type": "display_data"
    },
    {
     "data": {
      "text/plain": [
       "<function __main__.estimate(Nb_pieces, surface_reelle_bati, Surface_terrain, nombre_lots, code_type_local, adresse_numero, code_departement, Month, superficie_km2, age_median, revenue_median, population, density)>"
      ]
     },
     "execution_count": 117,
     "metadata": {},
     "output_type": "execute_result"
    }
   ],
   "source": [
    "# Let\"s define widgets to use the estimator function\n",
    "\n",
    "Nb_pieces=widgets.FloatSlider(value=4,min=1, max=6, step=1, description='NB pieces')\n",
    "surface_reelle_bati=widgets.FloatSlider(value=100,min=50, max=150, step=10, description='surface_bati')\n",
    "Surface_terrain=widgets.FloatSlider(value=200,min=60, max=600, step=25, description='S terrain')\n",
    "nombre_lots=widgets.FloatSlider(value=5,min=0, max=15, step=15, description='nombre_lots')\n",
    "adresse_numero=widgets.FloatSlider(value=20,min=1, max=600, step=25, description='adresse_numero')\n",
    "code_departement=widgets.FloatSlider(value=92,min=75, max=95, step=1, description='code_departement')\n",
    "Month=widgets.FloatSlider(value=5,min=1, max=12, step=1, description='Month')\n",
    "superficie_km2=widgets.FloatSlider(value=5,min=4, max=10, step=1, description='superficie_km2')\n",
    "age_median=widgets.FloatSlider(value=36,min=28, max=49, step=2, description='age_median')\n",
    "revenue_median=widgets.FloatSlider(value=20000,min=13320, max=44370, step=5000, description='revenue_median')\n",
    "population=widgets.FloatSlider(value=25000,min=18084, max=85346, step=1000, description='population')\n",
    "density=widgets.FloatSlider(value=30000,min=2549, max=40168, step=2500, description='density')\n",
    "code_type_local=widgets.FloatSlider(value=1,min=1, max=2, step=1, description='code_type_local')\n",
    "\n",
    "interact(estimate, Nb_pieces=Nb_pieces,surface_reelle_bati=surface_reelle_bati, \n",
    "         Surface_terrain=Surface_terrain,nombre_lots=nombre_lots,code_type_local=code_type_local, \n",
    "             adresse_numero=adresse_numero, code_departement=code_departement, Month=Month, \n",
    "         superficie_km2=superficie_km2, age_median=age_median, \n",
    "             revenue_median=revenue_median, population=population, density=density)\n"
   ]
  },
  {
   "cell_type": "code",
   "execution_count": null,
   "id": "sealed-ethnic",
   "metadata": {},
   "outputs": [],
   "source": []
  },
  {
   "cell_type": "code",
   "execution_count": null,
   "id": "auburn-princeton",
   "metadata": {},
   "outputs": [],
   "source": []
  }
 ],
 "metadata": {
  "kernelspec": {
   "display_name": "Python 3",
   "language": "python",
   "name": "python3"
  },
  "language_info": {
   "codemirror_mode": {
    "name": "ipython",
    "version": 3
   },
   "file_extension": ".py",
   "mimetype": "text/x-python",
   "name": "python",
   "nbconvert_exporter": "python",
   "pygments_lexer": "ipython3",
   "version": "3.8.5"
  },
  "toc": {
   "base_numbering": 1,
   "nav_menu": {},
   "number_sections": true,
   "sideBar": true,
   "skip_h1_title": false,
   "title_cell": "Table of Contents",
   "title_sidebar": "Contents",
   "toc_cell": false,
   "toc_position": {},
   "toc_section_display": true,
   "toc_window_display": true
  }
 },
 "nbformat": 4,
 "nbformat_minor": 5
}

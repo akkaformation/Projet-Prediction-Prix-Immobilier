{
 "cells": [
  {
   "cell_type": "markdown",
   "id": "alleged-eating",
   "metadata": {},
   "source": [
    "Library "
   ]
  },
  {
   "cell_type": "code",
   "execution_count": 3,
   "id": "insured-peoples",
   "metadata": {},
   "outputs": [],
   "source": [
    "import pandas as pd\n",
    "import numpy as np\n",
    "from datetime import datetime\n",
    "import missingno as msno\n",
    "import glob\n",
    "\n",
    "import seaborn as sns\n",
    "import matplotlib.pyplot as plt\n",
    "import seaborn\n",
    "\n",
    "import warnings\n",
    "warnings.filterwarnings('ignore')"
   ]
  },
  {
   "cell_type": "code",
   "execution_count": 51,
   "id": "likely-responsibility",
   "metadata": {
    "scrolled": true
   },
   "outputs": [
    {
     "name": "stdout",
     "output_type": "stream",
     "text": [
      "Collecting xgboost\n",
      "  Using cached xgboost-1.3.3-py3-none-win_amd64.whl (95.2 MB)\n",
      "Requirement already satisfied: scipy in c:\\users\\administrateur\\anaconda3\\envs\\tf\\lib\\site-packages (from xgboost) (1.6.0)\n",
      "Requirement already satisfied: numpy in c:\\users\\administrateur\\anaconda3\\envs\\tf\\lib\\site-packages (from xgboost) (1.19.2)\n",
      "Installing collected packages: xgboost\n",
      "Successfully installed xgboost-1.3.3\n"
     ]
    }
   ],
   "source": [
    "!pip install xgboost"
   ]
  },
  {
   "cell_type": "markdown",
   "id": "wicked-alignment",
   "metadata": {},
   "source": [
    "# Import data"
   ]
  },
  {
   "cell_type": "code",
   "execution_count": 4,
   "id": "hired-praise",
   "metadata": {
    "scrolled": true
   },
   "outputs": [
    {
     "name": "stderr",
     "output_type": "stream",
     "text": [
      "C:\\Users\\Administrateur\\anaconda3\\envs\\tf\\lib\\site-packages\\IPython\\core\\interactiveshell.py:3146: DtypeWarning: Columns (18,23,41) have mixed types.Specify dtype option on import or set low_memory=False.\n",
      "  has_raised = await self.run_ast_nodes(code_ast.body, cell_name,\n",
      "C:\\Users\\Administrateur\\anaconda3\\envs\\tf\\lib\\site-packages\\IPython\\core\\interactiveshell.py:3146: DtypeWarning: Columns (14,18,23,41) have mixed types.Specify dtype option on import or set low_memory=False.\n",
      "  has_raised = await self.run_ast_nodes(code_ast.body, cell_name,\n"
     ]
    }
   ],
   "source": [
    "# les columns a supprimer\n",
    "col_exclude = ['Code service CH', 'Reference document', '1 Articles CGI',\n",
    "               '2 Articles CGI', '3 Articles CGI', '4 Articles CGI', '5 Articles CGI', 'Identifiant local',\n",
    "               '5eme lot', '4eme lot', '3eme lot', '2eme lot', '1er lot']\n",
    "# transformer la columne en datetime\n",
    "dateparse = lambda x: datetime.strptime(x, '%d/%m/%Y')\n",
    "data_types = {'Code postal':'string',\n",
    "              'No voie': 'Int64',\n",
    "              'Surface Carrez du 1er lot':'Float16',\n",
    "              'Surface Carrez du 2eme lot':'Float16',\n",
    "              'Surface Carrez du 3eme lot':'Float16',\n",
    "              'Surface Carrez du 4eme lot':'Float16',\n",
    "              'Surface Carrez du 5eme lot':'Float16',\n",
    "              'Nombre de lots':'Int16',\n",
    "              'Nombre de lots':'Int16',\n",
    "              'Surface reelle bati': 'Float32',\n",
    "              'Nombre pieces principales': 'Int8',\n",
    "              'Surface terrain':'Float32'}\n",
    "# dtype code postal string\n",
    "valeur_fonciere_2020 = pd.read_csv('datasets/valeursfoncieres-2020.txt', sep='|', decimal=\",\", \n",
    "                                   parse_dates=['Date mutation'], date_parser=dateparse, \n",
    "                                   dtype=data_types,usecols=lambda col: col not in col_exclude)\n",
    "valeur_fonciere_2019 = pd.read_csv('datasets/valeursfoncieres-2019.txt', sep='|', decimal=\",\",\n",
    "                                   parse_dates=['Date mutation'], date_parser=dateparse, \n",
    "                                   dtype=data_types,usecols=lambda col: col not in col_exclude)\n",
    "valeur_fonciere_2018 = pd.read_csv('datasets/valeursfoncieres-2018.txt', sep='|', decimal=\",\",\n",
    "                                   parse_dates=['Date mutation'], date_parser=dateparse, \n",
    "                                   dtype=data_types,usecols=lambda col: col not in col_exclude)\n",
    "valeur_fonciere_2017 = pd.read_csv('datasets/valeursfoncieres-2017.txt', sep='|', decimal=\",\",\n",
    "                                   parse_dates=['Date mutation'], date_parser=dateparse, \n",
    "                                   dtype=data_types,usecols=lambda col: col not in col_exclude)\n",
    "valeur_fonciere_2016 = pd.read_csv('datasets/valeursfoncieres-2016.txt', sep='|', decimal=\",\",\n",
    "                                   parse_dates=['Date mutation'], date_parser=dateparse, \n",
    "                                   dtype=data_types,usecols=lambda col: col not in col_exclude)\n",
    "valeur_fonciere_2015 = pd.read_csv('datasets/valeursfoncieres-2015-s2.txt', sep='|', decimal=\",\",\n",
    "                                   parse_dates=['Date mutation'], date_parser=dateparse, \n",
    "                                   dtype=data_types,usecols=lambda col: col not in col_exclude)"
   ]
  },
  {
   "cell_type": "markdown",
   "id": "included-wonder",
   "metadata": {},
   "source": [
    "Importer les donnee avec géolocolisation"
   ]
  },
  {
   "cell_type": "code",
   "execution_count": 5,
   "id": "upset-homeless",
   "metadata": {},
   "outputs": [
    {
     "name": "stderr",
     "output_type": "stream",
     "text": [
      "C:\\Users\\Administrateur\\anaconda3\\envs\\tf\\lib\\site-packages\\IPython\\core\\interactiveshell.py:3146: DtypeWarning: Columns (10,12,17,18,20,22,35,36) have mixed types.Specify dtype option on import or set low_memory=False.\n",
      "  has_raised = await self.run_ast_nodes(code_ast.body, cell_name,\n"
     ]
    }
   ],
   "source": [
    "valeur_fonciere_geo_2020 = pd.read_csv('datasets/full2020.csv', sep=',')"
   ]
  },
  {
   "cell_type": "code",
   "execution_count": 6,
   "id": "adjustable-seventh",
   "metadata": {},
   "outputs": [
    {
     "name": "stdout",
     "output_type": "stream",
     "text": [
      "Index(['id_mutation', 'date_mutation', 'numero_disposition', 'nature_mutation',\n",
      "       'valeur_fonciere', 'adresse_numero', 'adresse_suffixe',\n",
      "       'adresse_nom_voie', 'adresse_code_voie', 'code_postal', 'code_commune',\n",
      "       'nom_commune', 'code_departement', 'ancien_code_commune',\n",
      "       'ancien_nom_commune', 'id_parcelle', 'ancien_id_parcelle',\n",
      "       'numero_volume', 'lot1_numero', 'lot1_surface_carrez', 'lot2_numero',\n",
      "       'lot2_surface_carrez', 'lot3_numero', 'lot3_surface_carrez',\n",
      "       'lot4_numero', 'lot4_surface_carrez', 'lot5_numero',\n",
      "       'lot5_surface_carrez', 'nombre_lots', 'code_type_local', 'type_local',\n",
      "       'surface_reelle_bati', 'nombre_pieces_principales',\n",
      "       'code_nature_culture', 'nature_culture', 'code_nature_culture_speciale',\n",
      "       'nature_culture_speciale', 'surface_terrain', 'longitude', 'latitude'],\n",
      "      dtype='object')\n"
     ]
    },
    {
     "data": {
      "text/html": [
       "<div>\n",
       "<style scoped>\n",
       "    .dataframe tbody tr th:only-of-type {\n",
       "        vertical-align: middle;\n",
       "    }\n",
       "\n",
       "    .dataframe tbody tr th {\n",
       "        vertical-align: top;\n",
       "    }\n",
       "\n",
       "    .dataframe thead th {\n",
       "        text-align: right;\n",
       "    }\n",
       "</style>\n",
       "<table border=\"1\" class=\"dataframe\">\n",
       "  <thead>\n",
       "    <tr style=\"text-align: right;\">\n",
       "      <th></th>\n",
       "      <th>id_mutation</th>\n",
       "      <th>date_mutation</th>\n",
       "      <th>numero_disposition</th>\n",
       "      <th>nature_mutation</th>\n",
       "      <th>valeur_fonciere</th>\n",
       "      <th>adresse_numero</th>\n",
       "      <th>adresse_suffixe</th>\n",
       "      <th>adresse_nom_voie</th>\n",
       "      <th>adresse_code_voie</th>\n",
       "      <th>code_postal</th>\n",
       "      <th>...</th>\n",
       "      <th>type_local</th>\n",
       "      <th>surface_reelle_bati</th>\n",
       "      <th>nombre_pieces_principales</th>\n",
       "      <th>code_nature_culture</th>\n",
       "      <th>nature_culture</th>\n",
       "      <th>code_nature_culture_speciale</th>\n",
       "      <th>nature_culture_speciale</th>\n",
       "      <th>surface_terrain</th>\n",
       "      <th>longitude</th>\n",
       "      <th>latitude</th>\n",
       "    </tr>\n",
       "  </thead>\n",
       "  <tbody>\n",
       "    <tr>\n",
       "      <th>0</th>\n",
       "      <td>2020-1</td>\n",
       "      <td>2020-01-07</td>\n",
       "      <td>1</td>\n",
       "      <td>Vente</td>\n",
       "      <td>8000.0</td>\n",
       "      <td>NaN</td>\n",
       "      <td>NaN</td>\n",
       "      <td>FORTUNAT</td>\n",
       "      <td>B063</td>\n",
       "      <td>1250.0</td>\n",
       "      <td>...</td>\n",
       "      <td>NaN</td>\n",
       "      <td>NaN</td>\n",
       "      <td>NaN</td>\n",
       "      <td>T</td>\n",
       "      <td>terres</td>\n",
       "      <td>NaN</td>\n",
       "      <td>NaN</td>\n",
       "      <td>1061.0</td>\n",
       "      <td>5.323522</td>\n",
       "      <td>46.171899</td>\n",
       "    </tr>\n",
       "    <tr>\n",
       "      <th>1</th>\n",
       "      <td>2020-2</td>\n",
       "      <td>2020-01-07</td>\n",
       "      <td>1</td>\n",
       "      <td>Vente</td>\n",
       "      <td>75000.0</td>\n",
       "      <td>NaN</td>\n",
       "      <td>NaN</td>\n",
       "      <td>RUE DE LA CHARTREUSE</td>\n",
       "      <td>0064</td>\n",
       "      <td>1960.0</td>\n",
       "      <td>...</td>\n",
       "      <td>NaN</td>\n",
       "      <td>NaN</td>\n",
       "      <td>NaN</td>\n",
       "      <td>AB</td>\n",
       "      <td>terrains a bâtir</td>\n",
       "      <td>NaN</td>\n",
       "      <td>NaN</td>\n",
       "      <td>610.0</td>\n",
       "      <td>5.226197</td>\n",
       "      <td>46.184538</td>\n",
       "    </tr>\n",
       "    <tr>\n",
       "      <th>2</th>\n",
       "      <td>2020-3</td>\n",
       "      <td>2020-01-14</td>\n",
       "      <td>1</td>\n",
       "      <td>Vente</td>\n",
       "      <td>89000.0</td>\n",
       "      <td>NaN</td>\n",
       "      <td>NaN</td>\n",
       "      <td>VACAGNOLE</td>\n",
       "      <td>B112</td>\n",
       "      <td>1340.0</td>\n",
       "      <td>...</td>\n",
       "      <td>NaN</td>\n",
       "      <td>NaN</td>\n",
       "      <td>NaN</td>\n",
       "      <td>AB</td>\n",
       "      <td>terrains a bâtir</td>\n",
       "      <td>NaN</td>\n",
       "      <td>NaN</td>\n",
       "      <td>600.0</td>\n",
       "      <td>NaN</td>\n",
       "      <td>NaN</td>\n",
       "    </tr>\n",
       "    <tr>\n",
       "      <th>3</th>\n",
       "      <td>2020-3</td>\n",
       "      <td>2020-01-14</td>\n",
       "      <td>1</td>\n",
       "      <td>Vente</td>\n",
       "      <td>89000.0</td>\n",
       "      <td>NaN</td>\n",
       "      <td>NaN</td>\n",
       "      <td>VACAGNOLE</td>\n",
       "      <td>B112</td>\n",
       "      <td>1340.0</td>\n",
       "      <td>...</td>\n",
       "      <td>NaN</td>\n",
       "      <td>NaN</td>\n",
       "      <td>NaN</td>\n",
       "      <td>AB</td>\n",
       "      <td>terrains a bâtir</td>\n",
       "      <td>NaN</td>\n",
       "      <td>NaN</td>\n",
       "      <td>491.0</td>\n",
       "      <td>NaN</td>\n",
       "      <td>NaN</td>\n",
       "    </tr>\n",
       "    <tr>\n",
       "      <th>4</th>\n",
       "      <td>2020-4</td>\n",
       "      <td>2020-01-22</td>\n",
       "      <td>1</td>\n",
       "      <td>Vente</td>\n",
       "      <td>209950.0</td>\n",
       "      <td>11.0</td>\n",
       "      <td>NaN</td>\n",
       "      <td>RUE REYER</td>\n",
       "      <td>3340</td>\n",
       "      <td>1000.0</td>\n",
       "      <td>...</td>\n",
       "      <td>Maison</td>\n",
       "      <td>78.0</td>\n",
       "      <td>5.0</td>\n",
       "      <td>S</td>\n",
       "      <td>sols</td>\n",
       "      <td>NaN</td>\n",
       "      <td>NaN</td>\n",
       "      <td>242.0</td>\n",
       "      <td>5.219902</td>\n",
       "      <td>46.196484</td>\n",
       "    </tr>\n",
       "  </tbody>\n",
       "</table>\n",
       "<p>5 rows × 40 columns</p>\n",
       "</div>"
      ],
      "text/plain": [
       "  id_mutation date_mutation  numero_disposition nature_mutation  \\\n",
       "0      2020-1    2020-01-07                   1           Vente   \n",
       "1      2020-2    2020-01-07                   1           Vente   \n",
       "2      2020-3    2020-01-14                   1           Vente   \n",
       "3      2020-3    2020-01-14                   1           Vente   \n",
       "4      2020-4    2020-01-22                   1           Vente   \n",
       "\n",
       "   valeur_fonciere  adresse_numero adresse_suffixe      adresse_nom_voie  \\\n",
       "0           8000.0             NaN             NaN              FORTUNAT   \n",
       "1          75000.0             NaN             NaN  RUE DE LA CHARTREUSE   \n",
       "2          89000.0             NaN             NaN             VACAGNOLE   \n",
       "3          89000.0             NaN             NaN             VACAGNOLE   \n",
       "4         209950.0            11.0             NaN             RUE REYER   \n",
       "\n",
       "  adresse_code_voie  code_postal  ... type_local surface_reelle_bati  \\\n",
       "0              B063       1250.0  ...        NaN                 NaN   \n",
       "1              0064       1960.0  ...        NaN                 NaN   \n",
       "2              B112       1340.0  ...        NaN                 NaN   \n",
       "3              B112       1340.0  ...        NaN                 NaN   \n",
       "4              3340       1000.0  ...     Maison                78.0   \n",
       "\n",
       "  nombre_pieces_principales  code_nature_culture    nature_culture  \\\n",
       "0                       NaN                    T            terres   \n",
       "1                       NaN                   AB  terrains a bâtir   \n",
       "2                       NaN                   AB  terrains a bâtir   \n",
       "3                       NaN                   AB  terrains a bâtir   \n",
       "4                       5.0                    S              sols   \n",
       "\n",
       "  code_nature_culture_speciale  nature_culture_speciale surface_terrain  \\\n",
       "0                          NaN                      NaN          1061.0   \n",
       "1                          NaN                      NaN           610.0   \n",
       "2                          NaN                      NaN           600.0   \n",
       "3                          NaN                      NaN           491.0   \n",
       "4                          NaN                      NaN           242.0   \n",
       "\n",
       "  longitude   latitude  \n",
       "0  5.323522  46.171899  \n",
       "1  5.226197  46.184538  \n",
       "2       NaN        NaN  \n",
       "3       NaN        NaN  \n",
       "4  5.219902  46.196484  \n",
       "\n",
       "[5 rows x 40 columns]"
      ]
     },
     "execution_count": 6,
     "metadata": {},
     "output_type": "execute_result"
    }
   ],
   "source": [
    "print(valeur_fonciere_geo_2020.columns)\n",
    "valeur_fonciere_geo_2020.head()"
   ]
  },
  {
   "cell_type": "code",
   "execution_count": 7,
   "id": "addressed-mambo",
   "metadata": {},
   "outputs": [
    {
     "name": "stderr",
     "output_type": "stream",
     "text": [
      "C:\\Users\\Administrateur\\anaconda3\\envs\\tf\\lib\\site-packages\\IPython\\core\\interactiveshell.py:3146: DtypeWarning: Columns (12) have mixed types.Specify dtype option on import or set low_memory=False.\n",
      "  has_raised = await self.run_ast_nodes(code_ast.body, cell_name,\n"
     ]
    }
   ],
   "source": [
    "# les columns a supprimer\n",
    "col_include = ['date_mutation', 'nature_mutation', 'valeur_fonciere',\n",
    "               'adresse_numero',  'code_postal', 'code_commune', 'nom_commune',\n",
    "               'code_departement', 'nombre_lots', 'code_type_local', 'type_local', 'surface_reelle_bati',\n",
    "               'nombre_pieces_principales','surface_terrain']\n",
    "# transformer la columne en datetime\n",
    "dateparse = lambda x: datetime.strptime(x, '%Y-%m-%d')\n",
    "data_types = {'code_postal':'string',\n",
    "              'adresse_numero': 'Int64',\n",
    "              'nombre_lots':'Int16',\n",
    "              'surface_reelle_bati': 'Float32',\n",
    "              'nombre_pieces_principales': 'Int8',\n",
    "              'surface_terrain':'Float32',\n",
    "              'code_commune':'object'}\n",
    "# dtype code postal string\n",
    "valeur_fonciere_geo_2020 = pd.read_csv('datasets/full2020.csv', sep=\",\", \n",
    "                                   parse_dates=['date_mutation'], date_parser=dateparse, \n",
    "                                   dtype=data_types,usecols=col_include)\n",
    "valeur_fonciere_geo_2019 = pd.read_csv('datasets/full2019.csv', sep=\",\", \n",
    "                                   parse_dates=['date_mutation'], date_parser=dateparse, \n",
    "                                   dtype=data_types,usecols=col_include)\n",
    "valeur_fonciere_geo_2018 = pd.read_csv('datasets/full2018.csv', sep=\",\", \n",
    "                                   parse_dates=['date_mutation'], date_parser=dateparse, \n",
    "                                   dtype=data_types,usecols=col_include)\n",
    "valeur_fonciere_geo_2017 = pd.read_csv('datasets/full2017.csv', sep=\",\", \n",
    "                                   parse_dates=['date_mutation'], date_parser=dateparse, \n",
    "                                   dtype=data_types,usecols=col_include)\n",
    "valeur_fonciere_geo_2016 = pd.read_csv('datasets/full2016.csv', sep=\",\", \n",
    "                                   parse_dates=['date_mutation'], date_parser=dateparse, \n",
    "                                   dtype=data_types,usecols=col_include)\n",
    "valeur_fonciere_geo_2015 = pd.read_csv('datasets/full2015.csv', sep=\",\", \n",
    "                                   parse_dates=['date_mutation'], date_parser=dateparse, \n",
    "                                   dtype=data_types,usecols=col_include)"
   ]
  },
  {
   "cell_type": "code",
   "execution_count": 8,
   "id": "bridal-stress",
   "metadata": {
    "scrolled": true
   },
   "outputs": [],
   "source": [
    "frames = [valeur_fonciere_2020, valeur_fonciere_2019, valeur_fonciere_2018, valeur_fonciere_2017\n",
    "         , valeur_fonciere_2016, valeur_fonciere_2015]\n",
    "df_foncier = pd.concat(frames)"
   ]
  },
  {
   "cell_type": "code",
   "execution_count": 69,
   "id": "prospective-mortgage",
   "metadata": {},
   "outputs": [],
   "source": [
    "frames_geo = [valeur_fonciere_geo_2020, valeur_fonciere_geo_2019, valeur_fonciere_geo_2018, \n",
    "              valeur_fonciere_geo_2017, valeur_fonciere_geo_2016, valeur_fonciere_geo_2015]\n",
    "df_geo_foncier = pd.concat(frames_geo)"
   ]
  },
  {
   "cell_type": "code",
   "execution_count": 70,
   "id": "prepared-insurance",
   "metadata": {
    "scrolled": false
   },
   "outputs": [
    {
     "name": "stdout",
     "output_type": "stream",
     "text": [
      "<class 'pandas.core.frame.DataFrame'>\n",
      "Int64Index: 16359982 entries, 0 to 2750304\n",
      "Data columns (total 14 columns):\n",
      " #   Column                     Dtype         \n",
      "---  ------                     -----         \n",
      " 0   date_mutation              datetime64[ns]\n",
      " 1   nature_mutation            object        \n",
      " 2   valeur_fonciere            float64       \n",
      " 3   adresse_numero             Int64         \n",
      " 4   code_postal                string        \n",
      " 5   code_commune               object        \n",
      " 6   nom_commune                object        \n",
      " 7   code_departement           object        \n",
      " 8   nombre_lots                Int16         \n",
      " 9   code_type_local            float64       \n",
      " 10  type_local                 object        \n",
      " 11  surface_reelle_bati        Float32       \n",
      " 12  nombre_pieces_principales  Int8          \n",
      " 13  surface_terrain            Float32       \n",
      "dtypes: Float32(2), Int16(1), Int64(1), Int8(1), datetime64[ns](1), float64(2), object(5), string(1)\n",
      "memory usage: 1.6+ GB\n"
     ]
    }
   ],
   "source": [
    "df_geo_foncier.info()"
   ]
  },
  {
   "cell_type": "markdown",
   "id": "ordered-dover",
   "metadata": {},
   "source": [
    "Recherche des doublons"
   ]
  },
  {
   "cell_type": "code",
   "execution_count": 71,
   "id": "textile-karma",
   "metadata": {
    "scrolled": true
   },
   "outputs": [
    {
     "name": "stdout",
     "output_type": "stream",
     "text": [
      "Suppression des doublons: 1639201\n"
     ]
    }
   ],
   "source": [
    "# Drop duplicates\n",
    "initial_length = len(df_geo_foncier)\n",
    "df_geo_foncier.drop_duplicates(inplace=True)\n",
    "print(\"Suppression des doublons: {}\".format(initial_length-len(df_geo_foncier)))"
   ]
  },
  {
   "cell_type": "markdown",
   "id": "middle-nothing",
   "metadata": {},
   "source": [
    "supprimer les transactions repetees"
   ]
  },
  {
   "cell_type": "code",
   "execution_count": 72,
   "id": "starting-posting",
   "metadata": {},
   "outputs": [
    {
     "name": "stdout",
     "output_type": "stream",
     "text": [
      "origine 14720781\n",
      "apres 1009960\n"
     ]
    }
   ],
   "source": [
    "print('origine',len(df_geo_foncier.index))\n",
    "df_geo_foncier = df_geo_foncier.groupby(['date_mutation','valeur_fonciere']).filter(lambda x: len(x) == 1)\n",
    "print('apres',len(df_geo_foncier.index))"
   ]
  },
  {
   "cell_type": "markdown",
   "id": "christian-crown",
   "metadata": {},
   "source": [
    "Construire la dataframe de maison et appartement"
   ]
  },
  {
   "cell_type": "code",
   "execution_count": 73,
   "id": "lesbian-perry",
   "metadata": {
    "scrolled": true
   },
   "outputs": [
    {
     "data": {
      "text/html": [
       "<div>\n",
       "<style scoped>\n",
       "    .dataframe tbody tr th:only-of-type {\n",
       "        vertical-align: middle;\n",
       "    }\n",
       "\n",
       "    .dataframe tbody tr th {\n",
       "        vertical-align: top;\n",
       "    }\n",
       "\n",
       "    .dataframe thead th {\n",
       "        text-align: right;\n",
       "    }\n",
       "</style>\n",
       "<table border=\"1\" class=\"dataframe\">\n",
       "  <thead>\n",
       "    <tr style=\"text-align: right;\">\n",
       "      <th></th>\n",
       "      <th>date_mutation</th>\n",
       "      <th>nature_mutation</th>\n",
       "      <th>valeur_fonciere</th>\n",
       "      <th>adresse_numero</th>\n",
       "      <th>code_postal</th>\n",
       "      <th>Code INSEE</th>\n",
       "      <th>nom_commune</th>\n",
       "      <th>code_departement</th>\n",
       "      <th>nombre_lots</th>\n",
       "      <th>code_type_local</th>\n",
       "      <th>type_local</th>\n",
       "      <th>surface_reelle_bati</th>\n",
       "      <th>nombre_pieces_principales</th>\n",
       "      <th>surface_terrain</th>\n",
       "    </tr>\n",
       "  </thead>\n",
       "  <tbody>\n",
       "    <tr>\n",
       "      <th>4</th>\n",
       "      <td>2020-01-22</td>\n",
       "      <td>Vente</td>\n",
       "      <td>209950.0</td>\n",
       "      <td>11</td>\n",
       "      <td>01000</td>\n",
       "      <td>01053</td>\n",
       "      <td>Bourg-en-Bresse</td>\n",
       "      <td>1</td>\n",
       "      <td>0</td>\n",
       "      <td>1.0</td>\n",
       "      <td>Maison</td>\n",
       "      <td>78.0</td>\n",
       "      <td>5</td>\n",
       "      <td>242.0</td>\n",
       "    </tr>\n",
       "    <tr>\n",
       "      <th>9</th>\n",
       "      <td>2020-01-16</td>\n",
       "      <td>Vente</td>\n",
       "      <td>207170.0</td>\n",
       "      <td>10</td>\n",
       "      <td>01000</td>\n",
       "      <td>01053</td>\n",
       "      <td>Bourg-en-Bresse</td>\n",
       "      <td>1</td>\n",
       "      <td>1</td>\n",
       "      <td>1.0</td>\n",
       "      <td>Maison</td>\n",
       "      <td>106.0</td>\n",
       "      <td>4</td>\n",
       "      <td>&lt;NA&gt;</td>\n",
       "    </tr>\n",
       "    <tr>\n",
       "      <th>20</th>\n",
       "      <td>2020-01-30</td>\n",
       "      <td>Vente</td>\n",
       "      <td>164650.0</td>\n",
       "      <td>37</td>\n",
       "      <td>01000</td>\n",
       "      <td>01053</td>\n",
       "      <td>Bourg-en-Bresse</td>\n",
       "      <td>1</td>\n",
       "      <td>0</td>\n",
       "      <td>1.0</td>\n",
       "      <td>Maison</td>\n",
       "      <td>90.0</td>\n",
       "      <td>4</td>\n",
       "      <td>212.0</td>\n",
       "    </tr>\n",
       "    <tr>\n",
       "      <th>44</th>\n",
       "      <td>2020-01-16</td>\n",
       "      <td>Vente</td>\n",
       "      <td>167490.0</td>\n",
       "      <td>5065</td>\n",
       "      <td>01340</td>\n",
       "      <td>01229</td>\n",
       "      <td>Malafretaz</td>\n",
       "      <td>1</td>\n",
       "      <td>0</td>\n",
       "      <td>1.0</td>\n",
       "      <td>Maison</td>\n",
       "      <td>160.0</td>\n",
       "      <td>5</td>\n",
       "      <td>1278.0</td>\n",
       "    </tr>\n",
       "    <tr>\n",
       "      <th>63</th>\n",
       "      <td>2020-01-13</td>\n",
       "      <td>Vente</td>\n",
       "      <td>153248.0</td>\n",
       "      <td>1671</td>\n",
       "      <td>01290</td>\n",
       "      <td>01334</td>\n",
       "      <td>Saint-André-d'Huiriat</td>\n",
       "      <td>1</td>\n",
       "      <td>0</td>\n",
       "      <td>1.0</td>\n",
       "      <td>Maison</td>\n",
       "      <td>203.0</td>\n",
       "      <td>6</td>\n",
       "      <td>1673.0</td>\n",
       "    </tr>\n",
       "  </tbody>\n",
       "</table>\n",
       "</div>"
      ],
      "text/plain": [
       "   date_mutation nature_mutation  valeur_fonciere  adresse_numero code_postal  \\\n",
       "4     2020-01-22           Vente         209950.0              11       01000   \n",
       "9     2020-01-16           Vente         207170.0              10       01000   \n",
       "20    2020-01-30           Vente         164650.0              37       01000   \n",
       "44    2020-01-16           Vente         167490.0            5065       01340   \n",
       "63    2020-01-13           Vente         153248.0            1671       01290   \n",
       "\n",
       "   Code INSEE            nom_commune code_departement  nombre_lots  \\\n",
       "4       01053        Bourg-en-Bresse                1            0   \n",
       "9       01053        Bourg-en-Bresse                1            1   \n",
       "20      01053        Bourg-en-Bresse                1            0   \n",
       "44      01229             Malafretaz                1            0   \n",
       "63      01334  Saint-André-d'Huiriat                1            0   \n",
       "\n",
       "    code_type_local type_local  surface_reelle_bati  \\\n",
       "4               1.0     Maison                 78.0   \n",
       "9               1.0     Maison                106.0   \n",
       "20              1.0     Maison                 90.0   \n",
       "44              1.0     Maison                160.0   \n",
       "63              1.0     Maison                203.0   \n",
       "\n",
       "    nombre_pieces_principales  surface_terrain  \n",
       "4                           5            242.0  \n",
       "9                           4             <NA>  \n",
       "20                          4            212.0  \n",
       "44                          5           1278.0  \n",
       "63                          6           1673.0  "
      ]
     },
     "execution_count": 73,
     "metadata": {},
     "output_type": "execute_result"
    }
   ],
   "source": [
    "# df_MA = maison + appartment\n",
    "df_geo_foncier.rename(columns={'code_commune':'Code INSEE'}, inplace=True)\n",
    "df_MA = df_geo_foncier[(df_geo_foncier['type_local'].isin(['Maison','Appartement']))&(df_geo_foncier['nature_mutation']=='Vente')]\n",
    "\n",
    "df_MA.head()"
   ]
  },
  {
   "cell_type": "markdown",
   "id": "collaborative-malta",
   "metadata": {},
   "source": [
    "# Clean data"
   ]
  },
  {
   "cell_type": "markdown",
   "id": "sexual-maldives",
   "metadata": {},
   "source": [
    "Présentation statistique les pourcentage des vides"
   ]
  },
  {
   "cell_type": "code",
   "execution_count": 74,
   "id": "hungarian-monaco",
   "metadata": {},
   "outputs": [],
   "source": [
    "# Missing assessment function \n",
    "def missing_values_assessment(df):\n",
    "    nan_values = df.isnull().sum().sum()\n",
    "    print('Nombre d\\'observations: {:,}'.format(len(df.index)))\n",
    "    print('Nombre de valeurs: {:,}'.format(df.size))\n",
    "    print('Valeurs manquantes: {:,}'.format(nan_values))\n",
    "    print('Qualité des données: {}%'.format(100-round((nan_values/df.size)*100,2)))\n",
    "    print('Type de données:\\n {}%'.format(df.dtypes.value_counts()))\n",
    "    analysis = {'Manquant': df.isnull().sum(),\n",
    "                'Manquant %':round((df.isnull().sum()/len(df))*100, 2),\n",
    "                'Type':df.dtypes\n",
    "               }\n",
    "    return pd.DataFrame(analysis)"
   ]
  },
  {
   "cell_type": "code",
   "execution_count": 75,
   "id": "filled-argentina",
   "metadata": {
    "scrolled": true
   },
   "outputs": [
    {
     "name": "stdout",
     "output_type": "stream",
     "text": [
      "Nombre d'observations: 531,070\n",
      "Nombre de valeurs: 7,434,980\n",
      "Valeurs manquantes: 244,803\n",
      "Qualité des données: 96.71%\n",
      "Type de données:\n",
      " object            5\n",
      "float64           2\n",
      "Float32           2\n",
      "string            1\n",
      "Int64             1\n",
      "Int16             1\n",
      "datetime64[ns]    1\n",
      "Int8              1\n",
      "dtype: int64%\n"
     ]
    },
    {
     "data": {
      "text/html": [
       "<div>\n",
       "<style scoped>\n",
       "    .dataframe tbody tr th:only-of-type {\n",
       "        vertical-align: middle;\n",
       "    }\n",
       "\n",
       "    .dataframe tbody tr th {\n",
       "        vertical-align: top;\n",
       "    }\n",
       "\n",
       "    .dataframe thead th {\n",
       "        text-align: right;\n",
       "    }\n",
       "</style>\n",
       "<table border=\"1\" class=\"dataframe\">\n",
       "  <thead>\n",
       "    <tr style=\"text-align: right;\">\n",
       "      <th></th>\n",
       "      <th>Manquant</th>\n",
       "      <th>Manquant %</th>\n",
       "      <th>Type</th>\n",
       "    </tr>\n",
       "  </thead>\n",
       "  <tbody>\n",
       "    <tr>\n",
       "      <th>surface_terrain</th>\n",
       "      <td>241090</td>\n",
       "      <td>45.40</td>\n",
       "      <td>Float32</td>\n",
       "    </tr>\n",
       "    <tr>\n",
       "      <th>adresse_numero</th>\n",
       "      <td>3460</td>\n",
       "      <td>0.65</td>\n",
       "      <td>Int64</td>\n",
       "    </tr>\n",
       "    <tr>\n",
       "      <th>code_postal</th>\n",
       "      <td>235</td>\n",
       "      <td>0.04</td>\n",
       "      <td>string</td>\n",
       "    </tr>\n",
       "    <tr>\n",
       "      <th>date_mutation</th>\n",
       "      <td>0</td>\n",
       "      <td>0.00</td>\n",
       "      <td>datetime64[ns]</td>\n",
       "    </tr>\n",
       "    <tr>\n",
       "      <th>nature_mutation</th>\n",
       "      <td>0</td>\n",
       "      <td>0.00</td>\n",
       "      <td>object</td>\n",
       "    </tr>\n",
       "    <tr>\n",
       "      <th>valeur_fonciere</th>\n",
       "      <td>0</td>\n",
       "      <td>0.00</td>\n",
       "      <td>float64</td>\n",
       "    </tr>\n",
       "    <tr>\n",
       "      <th>Code INSEE</th>\n",
       "      <td>0</td>\n",
       "      <td>0.00</td>\n",
       "      <td>object</td>\n",
       "    </tr>\n",
       "    <tr>\n",
       "      <th>nom_commune</th>\n",
       "      <td>0</td>\n",
       "      <td>0.00</td>\n",
       "      <td>object</td>\n",
       "    </tr>\n",
       "    <tr>\n",
       "      <th>code_departement</th>\n",
       "      <td>0</td>\n",
       "      <td>0.00</td>\n",
       "      <td>object</td>\n",
       "    </tr>\n",
       "    <tr>\n",
       "      <th>nombre_lots</th>\n",
       "      <td>0</td>\n",
       "      <td>0.00</td>\n",
       "      <td>Int16</td>\n",
       "    </tr>\n",
       "    <tr>\n",
       "      <th>code_type_local</th>\n",
       "      <td>0</td>\n",
       "      <td>0.00</td>\n",
       "      <td>float64</td>\n",
       "    </tr>\n",
       "    <tr>\n",
       "      <th>type_local</th>\n",
       "      <td>0</td>\n",
       "      <td>0.00</td>\n",
       "      <td>object</td>\n",
       "    </tr>\n",
       "    <tr>\n",
       "      <th>surface_reelle_bati</th>\n",
       "      <td>9</td>\n",
       "      <td>0.00</td>\n",
       "      <td>Float32</td>\n",
       "    </tr>\n",
       "    <tr>\n",
       "      <th>nombre_pieces_principales</th>\n",
       "      <td>9</td>\n",
       "      <td>0.00</td>\n",
       "      <td>Int8</td>\n",
       "    </tr>\n",
       "  </tbody>\n",
       "</table>\n",
       "</div>"
      ],
      "text/plain": [
       "                           Manquant  Manquant %            Type\n",
       "surface_terrain              241090       45.40         Float32\n",
       "adresse_numero                 3460        0.65           Int64\n",
       "code_postal                     235        0.04          string\n",
       "date_mutation                     0        0.00  datetime64[ns]\n",
       "nature_mutation                   0        0.00          object\n",
       "valeur_fonciere                   0        0.00         float64\n",
       "Code INSEE                        0        0.00          object\n",
       "nom_commune                       0        0.00          object\n",
       "code_departement                  0        0.00          object\n",
       "nombre_lots                       0        0.00           Int16\n",
       "code_type_local                   0        0.00         float64\n",
       "type_local                        0        0.00          object\n",
       "surface_reelle_bati               9        0.00         Float32\n",
       "nombre_pieces_principales         9        0.00            Int8"
      ]
     },
     "execution_count": 75,
     "metadata": {},
     "output_type": "execute_result"
    }
   ],
   "source": [
    "missing_values_assessment(df_MA).sort_values('Manquant %', ascending=False)"
   ]
  },
  {
   "cell_type": "markdown",
   "id": "raising-discretion",
   "metadata": {},
   "source": [
    "Supprimer les columns vides"
   ]
  },
  {
   "cell_type": "code",
   "execution_count": 76,
   "id": "golden-bride",
   "metadata": {},
   "outputs": [
    {
     "data": {
      "text/plain": [
       "<AxesSubplot:>"
      ]
     },
     "execution_count": 76,
     "metadata": {},
     "output_type": "execute_result"
    },
    {
     "data": {
      "image/png": "[encoded data removed]",
      "text/plain": [
       "<Figure size 1800x720 with 2 Axes>"
      ]
     },
     "metadata": {
      "needs_background": "light"
     },
     "output_type": "display_data"
    }
   ],
   "source": [
    "import missingno as msno\n",
    "msno.matrix(df_MA, sort='ascending')"
   ]
  },
  {
   "cell_type": "code",
   "execution_count": 77,
   "id": "competent-class",
   "metadata": {},
   "outputs": [
    {
     "name": "stderr",
     "output_type": "stream",
     "text": [
      "C:\\Users\\Administrateur\\anaconda3\\envs\\tf\\lib\\site-packages\\pandas\\core\\series.py:4433: SettingWithCopyWarning: \n",
      "A value is trying to be set on a copy of a slice from a DataFrame\n",
      "\n",
      "See the caveats in the documentation: https://pandas.pydata.org/pandas-docs/stable/user_guide/indexing.html#returning-a-view-versus-a-copy\n",
      "  return super().fillna(\n"
     ]
    }
   ],
   "source": [
    "df_MA['surface_terrain'].fillna(df_MA['surface_reelle_bati'], inplace=True)\n"
   ]
  },
  {
   "cell_type": "code",
   "execution_count": 78,
   "id": "manual-sweden",
   "metadata": {},
   "outputs": [
    {
     "data": {
      "text/plain": [
       "<AxesSubplot:>"
      ]
     },
     "execution_count": 78,
     "metadata": {},
     "output_type": "execute_result"
    },
    {
     "data": {
      "image/png": "[encoded data removed]",
      "text/plain": [
       "<Figure size 1800x720 with 2 Axes>"
      ]
     },
     "metadata": {
      "needs_background": "light"
     },
     "output_type": "display_data"
    }
   ],
   "source": [
    "import missingno as msno\n",
    "msno.matrix(df_MA, sort='ascending')"
   ]
  },
  {
   "cell_type": "markdown",
   "id": "featured-cannon",
   "metadata": {},
   "source": [
    "**Imputation**"
   ]
  },
  {
   "cell_type": "code",
   "execution_count": 81,
   "id": "recent-ideal",
   "metadata": {},
   "outputs": [
    {
     "name": "stderr",
     "output_type": "stream",
     "text": [
      "<ipython-input-81-136c1eddf08a>:1: SettingWithCopyWarning: \n",
      "A value is trying to be set on a copy of a slice from a DataFrame\n",
      "\n",
      "See the caveats in the documentation: https://pandas.pydata.org/pandas-docs/stable/user_guide/indexing.html#returning-a-view-versus-a-copy\n",
      "  df_MA.dropna(how='any', axis=0, inplace=True)\n"
     ]
    }
   ],
   "source": [
    "df_MA.dropna(how='any', axis=0, inplace=True)"
   ]
  },
  {
   "cell_type": "markdown",
   "id": "lyric-carter",
   "metadata": {},
   "source": [
    "Ajouter les columns Years et Months"
   ]
  },
  {
   "cell_type": "code",
   "execution_count": 82,
   "id": "headed-volume",
   "metadata": {},
   "outputs": [
    {
     "name": "stderr",
     "output_type": "stream",
     "text": [
      "<ipython-input-82-0f9b15301ea6>:1: SettingWithCopyWarning: \n",
      "A value is trying to be set on a copy of a slice from a DataFrame.\n",
      "Try using .loc[row_indexer,col_indexer] = value instead\n",
      "\n",
      "See the caveats in the documentation: https://pandas.pydata.org/pandas-docs/stable/user_guide/indexing.html#returning-a-view-versus-a-copy\n",
      "  df_MA['Year'] = pd.DatetimeIndex(df_MA['date_mutation']).year\n",
      "<ipython-input-82-0f9b15301ea6>:2: SettingWithCopyWarning: \n",
      "A value is trying to be set on a copy of a slice from a DataFrame.\n",
      "Try using .loc[row_indexer,col_indexer] = value instead\n",
      "\n",
      "See the caveats in the documentation: https://pandas.pydata.org/pandas-docs/stable/user_guide/indexing.html#returning-a-view-versus-a-copy\n",
      "  df_MA['Month'] = pd.DatetimeIndex(df_MA['date_mutation']).month\n"
     ]
    }
   ],
   "source": [
    "df_MA['Year'] = pd.DatetimeIndex(df_MA['date_mutation']).year\n",
    "df_MA['Month'] = pd.DatetimeIndex(df_MA['date_mutation']).month"
   ]
  },
  {
   "cell_type": "code",
   "execution_count": 83,
   "id": "meaningful-finish",
   "metadata": {},
   "outputs": [
    {
     "name": "stderr",
     "output_type": "stream",
     "text": [
      "<ipython-input-83-56450c4c6bbc>:1: SettingWithCopyWarning: \n",
      "A value is trying to be set on a copy of a slice from a DataFrame.\n",
      "Try using .loc[row_indexer,col_indexer] = value instead\n",
      "\n",
      "See the caveats in the documentation: https://pandas.pydata.org/pandas-docs/stable/user_guide/indexing.html#returning-a-view-versus-a-copy\n",
      "  df_MA['Prix_m2']=df_MA['valeur_fonciere']/df_MA['surface_reelle_bati']\n"
     ]
    }
   ],
   "source": [
    "df_MA['Prix_m2']=df_MA['valeur_fonciere']/df_MA['surface_reelle_bati']"
   ]
  },
  {
   "cell_type": "code",
   "execution_count": 84,
   "id": "nominated-blair",
   "metadata": {
    "scrolled": false
   },
   "outputs": [
    {
     "name": "stdout",
     "output_type": "stream",
     "text": [
      "<class 'pandas.core.frame.DataFrame'>\n",
      "Int64Index: 527366 entries, 4 to 2750297\n",
      "Data columns (total 17 columns):\n",
      " #   Column                     Non-Null Count   Dtype         \n",
      "---  ------                     --------------   -----         \n",
      " 0   date_mutation              527366 non-null  datetime64[ns]\n",
      " 1   nature_mutation            527366 non-null  object        \n",
      " 2   valeur_fonciere            527366 non-null  float64       \n",
      " 3   adresse_numero             527366 non-null  Int64         \n",
      " 4   code_postal                527366 non-null  string        \n",
      " 5   Code INSEE                 527366 non-null  object        \n",
      " 6   nom_commune                527366 non-null  object        \n",
      " 7   code_departement           527366 non-null  object        \n",
      " 8   nombre_lots                527366 non-null  Int16         \n",
      " 9   code_type_local            527366 non-null  float64       \n",
      " 10  type_local                 527366 non-null  object        \n",
      " 11  surface_reelle_bati        527366 non-null  Float32       \n",
      " 12  nombre_pieces_principales  527366 non-null  Int8          \n",
      " 13  surface_terrain            527366 non-null  Float32       \n",
      " 14  Year                       527366 non-null  int64         \n",
      " 15  Month                      527366 non-null  int64         \n",
      " 16  Prix_m2                    527366 non-null  Float64       \n",
      "dtypes: Float32(2), Float64(1), Int16(1), Int64(1), Int8(1), datetime64[ns](1), float64(2), int64(2), object(5), string(1)\n",
      "memory usage: 64.9+ MB\n"
     ]
    }
   ],
   "source": [
    "df_MA.info()"
   ]
  },
  {
   "cell_type": "markdown",
   "id": "complex-module",
   "metadata": {},
   "source": [
    "Export the data"
   ]
  },
  {
   "cell_type": "code",
   "execution_count": 21,
   "id": "finnish-relative",
   "metadata": {},
   "outputs": [],
   "source": [
    "df_MA.to_csv(r'datasets/fonciere_geo.csv', index = None, header=True)"
   ]
  },
  {
   "cell_type": "markdown",
   "id": "quiet-humanity",
   "metadata": {},
   "source": [
    "# EDA"
   ]
  },
  {
   "cell_type": "code",
   "execution_count": 85,
   "id": "ignored-responsibility",
   "metadata": {},
   "outputs": [
    {
     "data": {
      "text/plain": [
       "array([1, 2, 3, 4, 5, 6, 7, 8, 9, 10, 11, 12, 13, 14, 16, 17, 18, 19, 21,\n",
       "       22, 23, 24, 25, 26, 27, 28, '28', '29', '2A', '30', 30, 31, 32, 33,\n",
       "       34, 35, 36, 37, 38, 39, 40, 41, 42, 43, 44, 45, 46, 47, 48, 49, 50,\n",
       "       51, 52, 53, 54, 55, 56, 58, 59, 60, 61, 62, 63, 64, 65, 66, 69, 70,\n",
       "       71, 72, 73, 74, 76, 77, 78, 79, 80, 81, 82, 83, 84, 85, 86, 87, 88,\n",
       "       89, 90, 91, 92, 93, 94, 95, 971, 972, 973, 974, 75, 15, 29, '2B'],\n",
       "      dtype=object)"
      ]
     },
     "execution_count": 85,
     "metadata": {},
     "output_type": "execute_result"
    }
   ],
   "source": [
    "df_MA['code_departement'].unique()"
   ]
  },
  {
   "cell_type": "code",
   "execution_count": 86,
   "id": "neural-treaty",
   "metadata": {},
   "outputs": [
    {
     "data": {
      "text/html": [
       "<div>\n",
       "<style scoped>\n",
       "    .dataframe tbody tr th:only-of-type {\n",
       "        vertical-align: middle;\n",
       "    }\n",
       "\n",
       "    .dataframe tbody tr th {\n",
       "        vertical-align: top;\n",
       "    }\n",
       "\n",
       "    .dataframe thead th {\n",
       "        text-align: right;\n",
       "    }\n",
       "</style>\n",
       "<table border=\"1\" class=\"dataframe\">\n",
       "  <thead>\n",
       "    <tr style=\"text-align: right;\">\n",
       "      <th></th>\n",
       "      <th>date_mutation</th>\n",
       "      <th>nature_mutation</th>\n",
       "      <th>valeur_fonciere</th>\n",
       "      <th>adresse_numero</th>\n",
       "      <th>code_postal</th>\n",
       "      <th>Code INSEE</th>\n",
       "      <th>nom_commune</th>\n",
       "      <th>code_departement</th>\n",
       "      <th>nombre_lots</th>\n",
       "      <th>code_type_local</th>\n",
       "      <th>type_local</th>\n",
       "      <th>surface_reelle_bati</th>\n",
       "      <th>nombre_pieces_principales</th>\n",
       "      <th>surface_terrain</th>\n",
       "      <th>Year</th>\n",
       "      <th>Month</th>\n",
       "      <th>Prix_m2</th>\n",
       "    </tr>\n",
       "  </thead>\n",
       "  <tbody>\n",
       "    <tr>\n",
       "      <th>573719</th>\n",
       "      <td>2020-01-06</td>\n",
       "      <td>Vente</td>\n",
       "      <td>257000.0</td>\n",
       "      <td>17</td>\n",
       "      <td>77170</td>\n",
       "      <td>77450</td>\n",
       "      <td>Servon</td>\n",
       "      <td>77</td>\n",
       "      <td>1</td>\n",
       "      <td>1.0</td>\n",
       "      <td>Maison</td>\n",
       "      <td>107.0</td>\n",
       "      <td>5</td>\n",
       "      <td>107.0</td>\n",
       "      <td>2020</td>\n",
       "      <td>1</td>\n",
       "      <td>2401.869159</td>\n",
       "    </tr>\n",
       "    <tr>\n",
       "      <th>573720</th>\n",
       "      <td>2020-01-02</td>\n",
       "      <td>Vente</td>\n",
       "      <td>320500.0</td>\n",
       "      <td>15</td>\n",
       "      <td>77380</td>\n",
       "      <td>77122</td>\n",
       "      <td>Combs-la-Ville</td>\n",
       "      <td>77</td>\n",
       "      <td>0</td>\n",
       "      <td>1.0</td>\n",
       "      <td>Maison</td>\n",
       "      <td>85.0</td>\n",
       "      <td>5</td>\n",
       "      <td>347.0</td>\n",
       "      <td>2020</td>\n",
       "      <td>1</td>\n",
       "      <td>3770.588235</td>\n",
       "    </tr>\n",
       "    <tr>\n",
       "      <th>573723</th>\n",
       "      <td>2020-01-08</td>\n",
       "      <td>Vente</td>\n",
       "      <td>386700.0</td>\n",
       "      <td>20</td>\n",
       "      <td>77170</td>\n",
       "      <td>77053</td>\n",
       "      <td>Brie-Comte-Robert</td>\n",
       "      <td>77</td>\n",
       "      <td>0</td>\n",
       "      <td>1.0</td>\n",
       "      <td>Maison</td>\n",
       "      <td>129.0</td>\n",
       "      <td>6</td>\n",
       "      <td>507.0</td>\n",
       "      <td>2020</td>\n",
       "      <td>1</td>\n",
       "      <td>2997.674419</td>\n",
       "    </tr>\n",
       "    <tr>\n",
       "      <th>573728</th>\n",
       "      <td>2020-01-09</td>\n",
       "      <td>Vente</td>\n",
       "      <td>349000.0</td>\n",
       "      <td>55</td>\n",
       "      <td>77310</td>\n",
       "      <td>77040</td>\n",
       "      <td>Boissise-le-Roi</td>\n",
       "      <td>77</td>\n",
       "      <td>0</td>\n",
       "      <td>1.0</td>\n",
       "      <td>Maison</td>\n",
       "      <td>122.0</td>\n",
       "      <td>4</td>\n",
       "      <td>854.0</td>\n",
       "      <td>2020</td>\n",
       "      <td>1</td>\n",
       "      <td>2860.655738</td>\n",
       "    </tr>\n",
       "    <tr>\n",
       "      <th>573756</th>\n",
       "      <td>2020-01-07</td>\n",
       "      <td>Vente</td>\n",
       "      <td>608974.0</td>\n",
       "      <td>42</td>\n",
       "      <td>77310</td>\n",
       "      <td>77407</td>\n",
       "      <td>Saint-Fargeau-Ponthierry</td>\n",
       "      <td>77</td>\n",
       "      <td>0</td>\n",
       "      <td>1.0</td>\n",
       "      <td>Maison</td>\n",
       "      <td>172.0</td>\n",
       "      <td>6</td>\n",
       "      <td>2103.0</td>\n",
       "      <td>2020</td>\n",
       "      <td>1</td>\n",
       "      <td>3540.546512</td>\n",
       "    </tr>\n",
       "  </tbody>\n",
       "</table>\n",
       "</div>"
      ],
      "text/plain": [
       "       date_mutation nature_mutation  valeur_fonciere  adresse_numero  \\\n",
       "573719    2020-01-06           Vente         257000.0              17   \n",
       "573720    2020-01-02           Vente         320500.0              15   \n",
       "573723    2020-01-08           Vente         386700.0              20   \n",
       "573728    2020-01-09           Vente         349000.0              55   \n",
       "573756    2020-01-07           Vente         608974.0              42   \n",
       "\n",
       "       code_postal Code INSEE               nom_commune code_departement  \\\n",
       "573719       77170      77450                    Servon               77   \n",
       "573720       77380      77122            Combs-la-Ville               77   \n",
       "573723       77170      77053         Brie-Comte-Robert               77   \n",
       "573728       77310      77040           Boissise-le-Roi               77   \n",
       "573756       77310      77407  Saint-Fargeau-Ponthierry               77   \n",
       "\n",
       "        nombre_lots  code_type_local type_local  surface_reelle_bati  \\\n",
       "573719            1              1.0     Maison                107.0   \n",
       "573720            0              1.0     Maison                 85.0   \n",
       "573723            0              1.0     Maison                129.0   \n",
       "573728            0              1.0     Maison                122.0   \n",
       "573756            0              1.0     Maison                172.0   \n",
       "\n",
       "        nombre_pieces_principales  surface_terrain  Year  Month      Prix_m2  \n",
       "573719                          5            107.0  2020      1  2401.869159  \n",
       "573720                          5            347.0  2020      1  3770.588235  \n",
       "573723                          6            507.0  2020      1  2997.674419  \n",
       "573728                          4            854.0  2020      1  2860.655738  \n",
       "573756                          6           2103.0  2020      1  3540.546512  "
      ]
     },
     "execution_count": 86,
     "metadata": {},
     "output_type": "execute_result"
    }
   ],
   "source": [
    "df_MA_IDF=df_MA[(df_MA['code_departement'].isin([75,91,92,93,94,95,77,78]))]\n",
    "df_MA_IDF.head()"
   ]
  },
  {
   "cell_type": "markdown",
   "id": "moderate-ceramic",
   "metadata": {},
   "source": [
    "Distribution Valeur Fonciere"
   ]
  },
  {
   "cell_type": "code",
   "execution_count": 329,
   "id": "formal-poster",
   "metadata": {},
   "outputs": [
    {
     "data": {
      "image/png": "[encoded data removed]",
      "text/plain": [
       "<Figure size 720x504 with 2 Axes>"
      ]
     },
     "metadata": {
      "needs_background": "light"
     },
     "output_type": "display_data"
    }
   ],
   "source": [
    "#visualizing valeur_fonciere\n",
    "fig = plt.figure(figsize=(10,7))\n",
    "fig.add_subplot(2,1,1)\n",
    "sns.distplot(df_MA_IDF[df_MA_IDF['valeur_fonciere']<8000000]['valeur_fonciere'])\n",
    "fig.add_subplot(2,1,2)\n",
    "sns.boxplot(df_MA_IDF[df_MA_IDF['valeur_fonciere']<8000000]['valeur_fonciere'])\n",
    "plt.tight_layout()"
   ]
  },
  {
   "cell_type": "markdown",
   "id": "magnetic-handbook",
   "metadata": {},
   "source": [
    "Etude corrélation des features"
   ]
  },
  {
   "cell_type": "code",
   "execution_count": 87,
   "id": "toxic-cylinder",
   "metadata": {
    "scrolled": false
   },
   "outputs": [
    {
     "data": {
      "text/plain": [
       "<AxesSubplot:>"
      ]
     },
     "execution_count": 87,
     "metadata": {},
     "output_type": "execute_result"
    },
    {
     "data": {
      "image/png": "[encoded data removed]",
      "text/plain": [
       "<Figure size 720x432 with 2 Axes>"
      ]
     },
     "metadata": {
      "needs_background": "light"
     },
     "output_type": "display_data"
    }
   ],
   "source": [
    "#Quality correlation matrix\n",
    "k = 8 #number of variables for heatmap\n",
    "cols = df_MA_IDF.corr().nlargest(k, 'valeur_fonciere')['valeur_fonciere'].index\n",
    "cm = df_MA_IDF[cols].corr() \n",
    "plt.figure(figsize=(10,6))\n",
    "sns.heatmap(cm, annot=True, cmap = 'viridis')"
   ]
  },
  {
   "cell_type": "code",
   "execution_count": 337,
   "id": "french-tuition",
   "metadata": {
    "scrolled": false
   },
   "outputs": [
    {
     "data": {
      "text/plain": [
       "<AxesSubplot:xlabel='surface_terrain', ylabel='valeur_fonciere'>"
      ]
     },
     "execution_count": 337,
     "metadata": {},
     "output_type": "execute_result"
    },
    {
     "data": {
      "image/png": "[encoded data removed]",
      "text/plain": [
       "<Figure size 1152x360 with 2 Axes>"
      ]
     },
     "metadata": {
      "needs_background": "light"
     },
     "output_type": "display_data"
    }
   ],
   "source": [
    "\n",
    "fig = plt.figure(figsize=(16,5))\n",
    "fig.add_subplot(1,2,1)\n",
    "sns.scatterplot(df_MA_IDF['surface_reelle_bati'], df_MA_IDF['valeur_fonciere'])\n",
    "fig.add_subplot(1,2,2)\n",
    "sns.scatterplot(df_MA_IDF['surface_terrain'],df_MA_IDF['valeur_fonciere'])"
   ]
  },
  {
   "cell_type": "code",
   "execution_count": 334,
   "id": "informal-courtesy",
   "metadata": {},
   "outputs": [
    {
     "data": {
      "text/plain": [
       "<AxesSubplot:xlabel='nombre_pieces_principales', ylabel='count'>"
      ]
     },
     "execution_count": 334,
     "metadata": {},
     "output_type": "execute_result"
    },
    {
     "data": {
      "image/png": "[encoded data removed]",
      "text/plain": [
       "<Figure size 1152x504 with 4 Axes>"
      ]
     },
     "metadata": {
      "needs_background": "light"
     },
     "output_type": "display_data"
    }
   ],
   "source": [
    "\n",
    "\n",
    "fig = plt.figure(figsize=(16,7))\n",
    "fig.add_subplot(2,2,1)\n",
    "sns.countplot(df_MA_IDF['code_departement'])\n",
    "fig.add_subplot(2,2,2)\n",
    "sns.countplot(df_MA_IDF['nombre_lots'])\n",
    "fig.add_subplot(2,2,3)\n",
    "sns.countplot(df_MA_IDF['type_local'])\n",
    "fig.add_subplot(2,2,4)\n",
    "sns.countplot(df_MA_IDF['nombre_pieces_principales'])"
   ]
  },
  {
   "cell_type": "code",
   "execution_count": null,
   "id": "sexual-suffering",
   "metadata": {},
   "outputs": [],
   "source": [
    "fig, (ax1, ax2) = plt.subplots(2, 1, figsize=(10,10) , gridspec_kw={'hspace': 0.5})"
   ]
  },
  {
   "cell_type": "markdown",
   "id": "described-continent",
   "metadata": {},
   "source": [
    "Mutation par Mois"
   ]
  },
  {
   "cell_type": "code",
   "execution_count": 89,
   "id": "necessary-circus",
   "metadata": {},
   "outputs": [
    {
     "data": {
      "text/plain": [
       "Text(0, 0.5, 'Nombre de mutation')"
      ]
     },
     "execution_count": 89,
     "metadata": {},
     "output_type": "execute_result"
    },
    {
     "data": {
      "image/png": "[encoded data removed]",
      "text/plain": [
       "<Figure size 720x360 with 1 Axes>"
      ]
     },
     "metadata": {
      "needs_background": "light"
     },
     "output_type": "display_data"
    }
   ],
   "source": [
    "\n",
    "plt.figure(figsize=(10,5))\n",
    "ax = sns.countplot(x=df_MA_IDF.Month)\n",
    "ax.set_title('Nombre de mutation par mois')\n",
    "ax.set_xlabel('Mois')\n",
    "ax.set_ylabel('Nombre de mutation')"
   ]
  },
  {
   "cell_type": "code",
   "execution_count": 90,
   "id": "auburn-center",
   "metadata": {
    "scrolled": false
   },
   "outputs": [
    {
     "name": "stderr",
     "output_type": "stream",
     "text": [
      "<ipython-input-90-21168a352fac>:2: SettingWithCopyWarning: \n",
      "A value is trying to be set on a copy of a slice from a DataFrame.\n",
      "Try using .loc[row_indexer,col_indexer] = value instead\n",
      "\n",
      "See the caveats in the documentation: https://pandas.pydata.org/pandas-docs/stable/user_guide/indexing.html#returning-a-view-versus-a-copy\n",
      "  df_MA_IDF['jour_de_semaine'] = df_MA_IDF['date_mutation'].map(lambda x: x.dayofweek)\n"
     ]
    },
    {
     "data": {
      "text/plain": [
       "Text(0, 0.5, 'Nombre de mutation')"
      ]
     },
     "execution_count": 90,
     "metadata": {},
     "output_type": "execute_result"
    },
    {
     "data": {
      "image/png": "[encoded data removed]",
      "text/plain": [
       "<Figure size 648x360 with 1 Axes>"
      ]
     },
     "metadata": {
      "needs_background": "light"
     },
     "output_type": "display_data"
    }
   ],
   "source": [
    "plt.figure(figsize=(9,5))\n",
    "df_MA_IDF['jour_de_semaine'] = df_MA_IDF['date_mutation'].map(lambda x: x.dayofweek)\n",
    "ax = sns.countplot(x=df_MA_IDF['jour_de_semaine'])\n",
    "ax.set_title('Nombre de mutation par jour de semaine')\n",
    "ax.set_xlabel('Jour de semaine')\n",
    "ax.set_xticklabels(['Lundi','Mardi','Mercredi','Jeudi','Vendredi','Samedi','Dimanche'],rotation=45)\n",
    "ax.set_ylabel('Nombre de mutation')"
   ]
  },
  {
   "cell_type": "markdown",
   "id": "agreed-incident",
   "metadata": {},
   "source": [
    "Detect the outliers"
   ]
  },
  {
   "cell_type": "code",
   "execution_count": 102,
   "id": "boxed-excerpt",
   "metadata": {},
   "outputs": [
    {
     "name": "stdout",
     "output_type": "stream",
     "text": [
      "The \"Surface terrain\" where we reach the 90th/10th quantile is : 619.0 30.0 m2 \n",
      " The \"Surface reelle bati\" where we reach the 95th quantile is : 162.0 m2 \n",
      " The \"Nombre pieces principales\" where we reach the 99,95th quantile is : 11.0 piece \n",
      " The \"Valeur fonciere\" where we reach the 99,95th quantile is : 695000.0 euros\n"
     ]
    }
   ],
   "source": [
    "print('The \"Surface terrain\" where we reach the 90th/10th quantile is :',\n",
    "      df_MA_IDF['surface_terrain'].quantile(q=0.95),df_MA_IDF['surface_terrain'].quantile(q=0.10),'m2',\n",
    "      '\\n',\n",
    "      'The \"Surface reelle bati\" where we reach the 95th quantile is :',\n",
    "      df_MA_IDF['surface_reelle_bati'].quantile(q=0.95),'m2',\n",
    "      '\\n',\n",
    "     'The \"Nombre pieces principales\" where we reach the 99,95th quantile is :',\n",
    "      df_MA_IDF['nombre_pieces_principales'].quantile(q=0.9995),'piece',\n",
    "     '\\n',\n",
    "     'The \"Valeur fonciere\" where we reach the 99,95th quantile is :',\n",
    "      df_MA_IDF['valeur_fonciere'].quantile(q=0.8),'euros')"
   ]
  },
  {
   "cell_type": "code",
   "execution_count": 104,
   "id": "split-leeds",
   "metadata": {},
   "outputs": [
    {
     "data": {
      "text/plain": [
       "{'whiskers': [<matplotlib.lines.Line2D at 0x2e224b31730>,\n",
       "  <matplotlib.lines.Line2D at 0x2e224b40b50>],\n",
       " 'caps': [<matplotlib.lines.Line2D at 0x2e224b407f0>,\n",
       "  <matplotlib.lines.Line2D at 0x2e224b4f610>],\n",
       " 'boxes': [<matplotlib.lines.Line2D at 0x2e224b21e20>],\n",
       " 'medians': [<matplotlib.lines.Line2D at 0x2e224b5fd90>],\n",
       " 'fliers': [<matplotlib.lines.Line2D at 0x2e224b5f190>],\n",
       " 'means': []}"
      ]
     },
     "execution_count": 104,
     "metadata": {},
     "output_type": "execute_result"
    },
    {
     "data": {
      "image/png": "[encoded data removed]",
      "text/plain": [
       "<Figure size 432x288 with 1 Axes>"
      ]
     },
     "metadata": {
      "needs_background": "light"
     },
     "output_type": "display_data"
    }
   ],
   "source": [
    "df_test = df_MA_IDF[(df_MA_IDF['surface_terrain']<600.0)&(df_MA_IDF['surface_terrain']>50.0)]\n",
    "plt.boxplot(df_test['surface_terrain'])\n"
   ]
  },
  {
   "cell_type": "code",
   "execution_count": 105,
   "id": "pursuant-samoa",
   "metadata": {
    "scrolled": false
   },
   "outputs": [
    {
     "data": {
      "text/plain": [
       "{'whiskers': [<matplotlib.lines.Line2D at 0x2e224f83e20>,\n",
       "  <matplotlib.lines.Line2D at 0x2e224f83220>],\n",
       " 'caps': [<matplotlib.lines.Line2D at 0x2e224f936d0>,\n",
       "  <matplotlib.lines.Line2D at 0x2e224fa2f10>],\n",
       " 'boxes': [<matplotlib.lines.Line2D at 0x2e224f746a0>],\n",
       " 'medians': [<matplotlib.lines.Line2D at 0x2e224fa21f0>],\n",
       " 'fliers': [<matplotlib.lines.Line2D at 0x2e224fb28b0>],\n",
       " 'means': []}"
      ]
     },
     "execution_count": 105,
     "metadata": {},
     "output_type": "execute_result"
    },
    {
     "data": {
      "image/png": "[encoded data removed]",
      "text/plain": [
       "<Figure size 432x288 with 1 Axes>"
      ]
     },
     "metadata": {
      "needs_background": "light"
     },
     "output_type": "display_data"
    }
   ],
   "source": [
    "df_test = df_MA_IDF[(df_MA_IDF['surface_reelle_bati']<162)&(df_MA_IDF['surface_reelle_bati']>5)]\n",
    "plt.boxplot(df_test['surface_reelle_bati'])"
   ]
  },
  {
   "cell_type": "markdown",
   "id": "dependent-collar",
   "metadata": {},
   "source": [
    "Outliers pour Nombre pieces principales"
   ]
  },
  {
   "cell_type": "code",
   "execution_count": 106,
   "id": "demanding-realtor",
   "metadata": {},
   "outputs": [
    {
     "data": {
      "text/plain": [
       "{'whiskers': [<matplotlib.lines.Line2D at 0x2e2303adbe0>,\n",
       "  <matplotlib.lines.Line2D at 0x2e2303add00>],\n",
       " 'caps': [<matplotlib.lines.Line2D at 0x2e2303bc700>,\n",
       "  <matplotlib.lines.Line2D at 0x2e2303cbfd0>],\n",
       " 'boxes': [<matplotlib.lines.Line2D at 0x2e23039f4c0>],\n",
       " 'medians': [<matplotlib.lines.Line2D at 0x2e2303cb580>],\n",
       " 'fliers': [<matplotlib.lines.Line2D at 0x2e2303dbc40>],\n",
       " 'means': []}"
      ]
     },
     "execution_count": 106,
     "metadata": {},
     "output_type": "execute_result"
    },
    {
     "data": {
      "image/png": "[encoded data removed]",
      "text/plain": [
       "<Figure size 432x288 with 1 Axes>"
      ]
     },
     "metadata": {
      "needs_background": "light"
     },
     "output_type": "display_data"
    }
   ],
   "source": [
    "df_test = df_MA_IDF[(df_MA_IDF['nombre_pieces_principales']<11)&(df_MA_IDF['nombre_pieces_principales']>1)]\n",
    "plt.boxplot(df_test['nombre_pieces_principales'])"
   ]
  },
  {
   "cell_type": "code",
   "execution_count": 107,
   "id": "intelligent-eclipse",
   "metadata": {
    "scrolled": false
   },
   "outputs": [
    {
     "data": {
      "text/plain": [
       "{'whiskers': [<matplotlib.lines.Line2D at 0x2e230547280>,\n",
       "  <matplotlib.lines.Line2D at 0x2e230556940>],\n",
       " 'caps': [<matplotlib.lines.Line2D at 0x2e230556910>,\n",
       "  <matplotlib.lines.Line2D at 0x2e2305654c0>],\n",
       " 'boxes': [<matplotlib.lines.Line2D at 0x2e230538f40>],\n",
       " 'medians': [<matplotlib.lines.Line2D at 0x2e230574be0>],\n",
       " 'fliers': [<matplotlib.lines.Line2D at 0x2e230574490>],\n",
       " 'means': []}"
      ]
     },
     "execution_count": 107,
     "metadata": {},
     "output_type": "execute_result"
    },
    {
     "data": {
      "image/png": "[encoded data removed]",
      "text/plain": [
       "<Figure size 432x288 with 1 Axes>"
      ]
     },
     "metadata": {
      "needs_background": "light"
     },
     "output_type": "display_data"
    }
   ],
   "source": [
    "df_test = df_MA_IDF[(df_MA_IDF['valeur_fonciere']<695000)&(df_MA_IDF['valeur_fonciere']>50000)]\n",
    "plt.boxplot(df_test['valeur_fonciere'])"
   ]
  },
  {
   "cell_type": "markdown",
   "id": "controversial-parker",
   "metadata": {},
   "source": [
    "Construire le dataframe final"
   ]
  },
  {
   "cell_type": "markdown",
   "id": "loving-appointment",
   "metadata": {},
   "source": [
    "The \"Surface terrain\" where we reach the 90th/10th quantile is : 702.0 159.0 m2 \n",
    " The \"Surface reelle bati\" where we reach the 95th quantile is : 185.0 m2 \n",
    " The \"Nombre pieces principales\" where we reach the 99,95th quantile is : 13.0 piece \n",
    " The \"Valeur fonciere\" where we reach the 99,95th quantile is : 655119.9999999998 euros"
   ]
  },
  {
   "cell_type": "code",
   "execution_count": 108,
   "id": "average-participant",
   "metadata": {},
   "outputs": [
    {
     "data": {
      "text/html": [
       "<div>\n",
       "<style scoped>\n",
       "    .dataframe tbody tr th:only-of-type {\n",
       "        vertical-align: middle;\n",
       "    }\n",
       "\n",
       "    .dataframe tbody tr th {\n",
       "        vertical-align: top;\n",
       "    }\n",
       "\n",
       "    .dataframe thead th {\n",
       "        text-align: right;\n",
       "    }\n",
       "</style>\n",
       "<table border=\"1\" class=\"dataframe\">\n",
       "  <thead>\n",
       "    <tr style=\"text-align: right;\">\n",
       "      <th></th>\n",
       "      <th>date_mutation</th>\n",
       "      <th>nature_mutation</th>\n",
       "      <th>valeur_fonciere</th>\n",
       "      <th>adresse_numero</th>\n",
       "      <th>code_postal</th>\n",
       "      <th>Code INSEE</th>\n",
       "      <th>nom_commune</th>\n",
       "      <th>code_departement</th>\n",
       "      <th>nombre_lots</th>\n",
       "      <th>code_type_local</th>\n",
       "      <th>type_local</th>\n",
       "      <th>surface_reelle_bati</th>\n",
       "      <th>nombre_pieces_principales</th>\n",
       "      <th>surface_terrain</th>\n",
       "      <th>Year</th>\n",
       "      <th>Month</th>\n",
       "      <th>Prix_m2</th>\n",
       "      <th>jour_de_semaine</th>\n",
       "    </tr>\n",
       "  </thead>\n",
       "  <tbody>\n",
       "    <tr>\n",
       "      <th>573719</th>\n",
       "      <td>2020-01-06</td>\n",
       "      <td>Vente</td>\n",
       "      <td>257000.0</td>\n",
       "      <td>17</td>\n",
       "      <td>77170</td>\n",
       "      <td>77450</td>\n",
       "      <td>Servon</td>\n",
       "      <td>77</td>\n",
       "      <td>1</td>\n",
       "      <td>1.0</td>\n",
       "      <td>Maison</td>\n",
       "      <td>107.0</td>\n",
       "      <td>5</td>\n",
       "      <td>107.0</td>\n",
       "      <td>2020</td>\n",
       "      <td>1</td>\n",
       "      <td>2401.869159</td>\n",
       "      <td>0</td>\n",
       "    </tr>\n",
       "    <tr>\n",
       "      <th>573720</th>\n",
       "      <td>2020-01-02</td>\n",
       "      <td>Vente</td>\n",
       "      <td>320500.0</td>\n",
       "      <td>15</td>\n",
       "      <td>77380</td>\n",
       "      <td>77122</td>\n",
       "      <td>Combs-la-Ville</td>\n",
       "      <td>77</td>\n",
       "      <td>0</td>\n",
       "      <td>1.0</td>\n",
       "      <td>Maison</td>\n",
       "      <td>85.0</td>\n",
       "      <td>5</td>\n",
       "      <td>347.0</td>\n",
       "      <td>2020</td>\n",
       "      <td>1</td>\n",
       "      <td>3770.588235</td>\n",
       "      <td>3</td>\n",
       "    </tr>\n",
       "    <tr>\n",
       "      <th>573723</th>\n",
       "      <td>2020-01-08</td>\n",
       "      <td>Vente</td>\n",
       "      <td>386700.0</td>\n",
       "      <td>20</td>\n",
       "      <td>77170</td>\n",
       "      <td>77053</td>\n",
       "      <td>Brie-Comte-Robert</td>\n",
       "      <td>77</td>\n",
       "      <td>0</td>\n",
       "      <td>1.0</td>\n",
       "      <td>Maison</td>\n",
       "      <td>129.0</td>\n",
       "      <td>6</td>\n",
       "      <td>507.0</td>\n",
       "      <td>2020</td>\n",
       "      <td>1</td>\n",
       "      <td>2997.674419</td>\n",
       "      <td>2</td>\n",
       "    </tr>\n",
       "    <tr>\n",
       "      <th>573765</th>\n",
       "      <td>2020-01-09</td>\n",
       "      <td>Vente</td>\n",
       "      <td>239900.0</td>\n",
       "      <td>1</td>\n",
       "      <td>77380</td>\n",
       "      <td>77122</td>\n",
       "      <td>Combs-la-Ville</td>\n",
       "      <td>77</td>\n",
       "      <td>0</td>\n",
       "      <td>1.0</td>\n",
       "      <td>Maison</td>\n",
       "      <td>79.0</td>\n",
       "      <td>4</td>\n",
       "      <td>138.0</td>\n",
       "      <td>2020</td>\n",
       "      <td>1</td>\n",
       "      <td>3036.708861</td>\n",
       "      <td>3</td>\n",
       "    </tr>\n",
       "    <tr>\n",
       "      <th>573790</th>\n",
       "      <td>2020-01-02</td>\n",
       "      <td>Vente</td>\n",
       "      <td>356900.0</td>\n",
       "      <td>1</td>\n",
       "      <td>77127</td>\n",
       "      <td>77251</td>\n",
       "      <td>Lieusaint</td>\n",
       "      <td>77</td>\n",
       "      <td>0</td>\n",
       "      <td>1.0</td>\n",
       "      <td>Maison</td>\n",
       "      <td>110.0</td>\n",
       "      <td>5</td>\n",
       "      <td>404.0</td>\n",
       "      <td>2020</td>\n",
       "      <td>1</td>\n",
       "      <td>3244.545455</td>\n",
       "      <td>3</td>\n",
       "    </tr>\n",
       "  </tbody>\n",
       "</table>\n",
       "</div>"
      ],
      "text/plain": [
       "       date_mutation nature_mutation  valeur_fonciere  adresse_numero  \\\n",
       "573719    2020-01-06           Vente         257000.0              17   \n",
       "573720    2020-01-02           Vente         320500.0              15   \n",
       "573723    2020-01-08           Vente         386700.0              20   \n",
       "573765    2020-01-09           Vente         239900.0               1   \n",
       "573790    2020-01-02           Vente         356900.0               1   \n",
       "\n",
       "       code_postal Code INSEE        nom_commune code_departement  \\\n",
       "573719       77170      77450             Servon               77   \n",
       "573720       77380      77122     Combs-la-Ville               77   \n",
       "573723       77170      77053  Brie-Comte-Robert               77   \n",
       "573765       77380      77122     Combs-la-Ville               77   \n",
       "573790       77127      77251          Lieusaint               77   \n",
       "\n",
       "        nombre_lots  code_type_local type_local  surface_reelle_bati  \\\n",
       "573719            1              1.0     Maison                107.0   \n",
       "573720            0              1.0     Maison                 85.0   \n",
       "573723            0              1.0     Maison                129.0   \n",
       "573765            0              1.0     Maison                 79.0   \n",
       "573790            0              1.0     Maison                110.0   \n",
       "\n",
       "        nombre_pieces_principales  surface_terrain  Year  Month      Prix_m2  \\\n",
       "573719                          5            107.0  2020      1  2401.869159   \n",
       "573720                          5            347.0  2020      1  3770.588235   \n",
       "573723                          6            507.0  2020      1  2997.674419   \n",
       "573765                          4            138.0  2020      1  3036.708861   \n",
       "573790                          5            404.0  2020      1  3244.545455   \n",
       "\n",
       "        jour_de_semaine  \n",
       "573719                0  \n",
       "573720                3  \n",
       "573723                2  \n",
       "573765                3  \n",
       "573790                3  "
      ]
     },
     "execution_count": 108,
     "metadata": {},
     "output_type": "execute_result"
    }
   ],
   "source": [
    "df_fonciere_final = df_MA_IDF[(df_MA_IDF['valeur_fonciere']<695000)&(df_MA_IDF['valeur_fonciere']>50000)&\n",
    "                     (df_MA_IDF['nombre_pieces_principales']<11)&(df_MA_IDF['nombre_pieces_principales']>1)&\n",
    "                       (df_MA_IDF['surface_terrain']<600)&(df_MA_IDF['surface_terrain']>50)&\n",
    "                     (df_MA_IDF['surface_reelle_bati']<162)&(df_MA_IDF['surface_reelle_bati']>5)]\n",
    "\n",
    "df_fonciere_final.head()"
   ]
  },
  {
   "cell_type": "code",
   "execution_count": 109,
   "id": "ancient-stuff",
   "metadata": {},
   "outputs": [
    {
     "name": "stderr",
     "output_type": "stream",
     "text": [
      "C:\\Users\\Administrateur\\anaconda3\\envs\\tf\\lib\\site-packages\\pandas\\core\\frame.py:4305: SettingWithCopyWarning: \n",
      "A value is trying to be set on a copy of a slice from a DataFrame\n",
      "\n",
      "See the caveats in the documentation: https://pandas.pydata.org/pandas-docs/stable/user_guide/indexing.html#returning-a-view-versus-a-copy\n",
      "  return super().drop(\n"
     ]
    }
   ],
   "source": [
    "df_fonciere_final.drop(['date_mutation','nature_mutation','code_postal','type_local'],axis = 1, inplace = True)"
   ]
  },
  {
   "cell_type": "code",
   "execution_count": 110,
   "id": "organic-museum",
   "metadata": {
    "scrolled": true
   },
   "outputs": [
    {
     "data": {
      "text/html": [
       "<div>\n",
       "<style scoped>\n",
       "    .dataframe tbody tr th:only-of-type {\n",
       "        vertical-align: middle;\n",
       "    }\n",
       "\n",
       "    .dataframe tbody tr th {\n",
       "        vertical-align: top;\n",
       "    }\n",
       "\n",
       "    .dataframe thead th {\n",
       "        text-align: right;\n",
       "    }\n",
       "</style>\n",
       "<table border=\"1\" class=\"dataframe\">\n",
       "  <thead>\n",
       "    <tr style=\"text-align: right;\">\n",
       "      <th></th>\n",
       "      <th>valeur_fonciere</th>\n",
       "      <th>adresse_numero</th>\n",
       "      <th>Code INSEE</th>\n",
       "      <th>nom_commune</th>\n",
       "      <th>code_departement</th>\n",
       "      <th>nombre_lots</th>\n",
       "      <th>code_type_local</th>\n",
       "      <th>surface_reelle_bati</th>\n",
       "      <th>nombre_pieces_principales</th>\n",
       "      <th>surface_terrain</th>\n",
       "      <th>Year</th>\n",
       "      <th>Month</th>\n",
       "      <th>Prix_m2</th>\n",
       "      <th>jour_de_semaine</th>\n",
       "    </tr>\n",
       "  </thead>\n",
       "  <tbody>\n",
       "    <tr>\n",
       "      <th>573719</th>\n",
       "      <td>257000.0</td>\n",
       "      <td>17</td>\n",
       "      <td>77450</td>\n",
       "      <td>Servon</td>\n",
       "      <td>77</td>\n",
       "      <td>1</td>\n",
       "      <td>1.0</td>\n",
       "      <td>107.0</td>\n",
       "      <td>5</td>\n",
       "      <td>107.0</td>\n",
       "      <td>2020</td>\n",
       "      <td>1</td>\n",
       "      <td>2401.869159</td>\n",
       "      <td>0</td>\n",
       "    </tr>\n",
       "    <tr>\n",
       "      <th>573720</th>\n",
       "      <td>320500.0</td>\n",
       "      <td>15</td>\n",
       "      <td>77122</td>\n",
       "      <td>Combs-la-Ville</td>\n",
       "      <td>77</td>\n",
       "      <td>0</td>\n",
       "      <td>1.0</td>\n",
       "      <td>85.0</td>\n",
       "      <td>5</td>\n",
       "      <td>347.0</td>\n",
       "      <td>2020</td>\n",
       "      <td>1</td>\n",
       "      <td>3770.588235</td>\n",
       "      <td>3</td>\n",
       "    </tr>\n",
       "    <tr>\n",
       "      <th>573723</th>\n",
       "      <td>386700.0</td>\n",
       "      <td>20</td>\n",
       "      <td>77053</td>\n",
       "      <td>Brie-Comte-Robert</td>\n",
       "      <td>77</td>\n",
       "      <td>0</td>\n",
       "      <td>1.0</td>\n",
       "      <td>129.0</td>\n",
       "      <td>6</td>\n",
       "      <td>507.0</td>\n",
       "      <td>2020</td>\n",
       "      <td>1</td>\n",
       "      <td>2997.674419</td>\n",
       "      <td>2</td>\n",
       "    </tr>\n",
       "    <tr>\n",
       "      <th>573765</th>\n",
       "      <td>239900.0</td>\n",
       "      <td>1</td>\n",
       "      <td>77122</td>\n",
       "      <td>Combs-la-Ville</td>\n",
       "      <td>77</td>\n",
       "      <td>0</td>\n",
       "      <td>1.0</td>\n",
       "      <td>79.0</td>\n",
       "      <td>4</td>\n",
       "      <td>138.0</td>\n",
       "      <td>2020</td>\n",
       "      <td>1</td>\n",
       "      <td>3036.708861</td>\n",
       "      <td>3</td>\n",
       "    </tr>\n",
       "    <tr>\n",
       "      <th>573790</th>\n",
       "      <td>356900.0</td>\n",
       "      <td>1</td>\n",
       "      <td>77251</td>\n",
       "      <td>Lieusaint</td>\n",
       "      <td>77</td>\n",
       "      <td>0</td>\n",
       "      <td>1.0</td>\n",
       "      <td>110.0</td>\n",
       "      <td>5</td>\n",
       "      <td>404.0</td>\n",
       "      <td>2020</td>\n",
       "      <td>1</td>\n",
       "      <td>3244.545455</td>\n",
       "      <td>3</td>\n",
       "    </tr>\n",
       "  </tbody>\n",
       "</table>\n",
       "</div>"
      ],
      "text/plain": [
       "        valeur_fonciere  adresse_numero Code INSEE        nom_commune  \\\n",
       "573719         257000.0              17      77450             Servon   \n",
       "573720         320500.0              15      77122     Combs-la-Ville   \n",
       "573723         386700.0              20      77053  Brie-Comte-Robert   \n",
       "573765         239900.0               1      77122     Combs-la-Ville   \n",
       "573790         356900.0               1      77251          Lieusaint   \n",
       "\n",
       "       code_departement  nombre_lots  code_type_local  surface_reelle_bati  \\\n",
       "573719               77            1              1.0                107.0   \n",
       "573720               77            0              1.0                 85.0   \n",
       "573723               77            0              1.0                129.0   \n",
       "573765               77            0              1.0                 79.0   \n",
       "573790               77            0              1.0                110.0   \n",
       "\n",
       "        nombre_pieces_principales  surface_terrain  Year  Month      Prix_m2  \\\n",
       "573719                          5            107.0  2020      1  2401.869159   \n",
       "573720                          5            347.0  2020      1  3770.588235   \n",
       "573723                          6            507.0  2020      1  2997.674419   \n",
       "573765                          4            138.0  2020      1  3036.708861   \n",
       "573790                          5            404.0  2020      1  3244.545455   \n",
       "\n",
       "        jour_de_semaine  \n",
       "573719                0  \n",
       "573720                3  \n",
       "573723                2  \n",
       "573765                3  \n",
       "573790                3  "
      ]
     },
     "execution_count": 110,
     "metadata": {},
     "output_type": "execute_result"
    }
   ],
   "source": [
    "df_fonciere_final.head()"
   ]
  },
  {
   "cell_type": "markdown",
   "id": "regular-client",
   "metadata": {},
   "source": [
    "Concat data popu "
   ]
  },
  {
   "cell_type": "code",
   "execution_count": 111,
   "id": "worst-amount",
   "metadata": {},
   "outputs": [
    {
     "name": "stderr",
     "output_type": "stream",
     "text": [
      "C:\\Users\\Administrateur\\anaconda3\\envs\\tf\\lib\\site-packages\\IPython\\core\\interactiveshell.py:3146: DtypeWarning: Columns (0,1) have mixed types.Specify dtype option on import or set low_memory=False.\n",
      "  has_raised = await self.run_ast_nodes(code_ast.body, cell_name,\n"
     ]
    },
    {
     "data": {
      "text/html": [
       "<div>\n",
       "<style scoped>\n",
       "    .dataframe tbody tr th:only-of-type {\n",
       "        vertical-align: middle;\n",
       "    }\n",
       "\n",
       "    .dataframe tbody tr th {\n",
       "        vertical-align: top;\n",
       "    }\n",
       "\n",
       "    .dataframe thead th {\n",
       "        text-align: right;\n",
       "    }\n",
       "</style>\n",
       "<table border=\"1\" class=\"dataframe\">\n",
       "  <thead>\n",
       "    <tr style=\"text-align: right;\">\n",
       "      <th></th>\n",
       "      <th>Code INSEE</th>\n",
       "      <th>nom_comm</th>\n",
       "      <th>code_dept</th>\n",
       "      <th>code_reg</th>\n",
       "      <th>superficie_km2</th>\n",
       "      <th>lat</th>\n",
       "      <th>lng</th>\n",
       "      <th>age_mean</th>\n",
       "      <th>age_std</th>\n",
       "      <th>age_median</th>\n",
       "      <th>population</th>\n",
       "      <th>merge1</th>\n",
       "      <th>Foyer</th>\n",
       "      <th>Nbr_p_Foyer</th>\n",
       "      <th>revenue_median</th>\n",
       "      <th>revenue_inequalities</th>\n",
       "      <th>merge2</th>\n",
       "      <th>density</th>\n",
       "    </tr>\n",
       "  </thead>\n",
       "  <tbody>\n",
       "    <tr>\n",
       "      <th>0</th>\n",
       "      <td>91645</td>\n",
       "      <td>VERRIERES-LE-BUISSON</td>\n",
       "      <td>91.0</td>\n",
       "      <td>11.0</td>\n",
       "      <td>9.99</td>\n",
       "      <td>48.750443</td>\n",
       "      <td>2.251713</td>\n",
       "      <td>43.180904</td>\n",
       "      <td>25.055513</td>\n",
       "      <td>46.0</td>\n",
       "      <td>15434.0</td>\n",
       "      <td>both</td>\n",
       "      <td>6224.0</td>\n",
       "      <td>15843.0</td>\n",
       "      <td>34210.0</td>\n",
       "      <td>4.2</td>\n",
       "      <td>both</td>\n",
       "      <td>1544.944945</td>\n",
       "    </tr>\n",
       "    <tr>\n",
       "      <th>1</th>\n",
       "      <td>77133</td>\n",
       "      <td>COURCELLES-EN-BASSEE</td>\n",
       "      <td>77.0</td>\n",
       "      <td>11.0</td>\n",
       "      <td>10.82</td>\n",
       "      <td>48.412561</td>\n",
       "      <td>3.052941</td>\n",
       "      <td>46.291262</td>\n",
       "      <td>22.518442</td>\n",
       "      <td>51.0</td>\n",
       "      <td>219.0</td>\n",
       "      <td>both</td>\n",
       "      <td>89.0</td>\n",
       "      <td>217.0</td>\n",
       "      <td>25610.0</td>\n",
       "      <td>NaN</td>\n",
       "      <td>both</td>\n",
       "      <td>20.240296</td>\n",
       "    </tr>\n",
       "    <tr>\n",
       "      <th>2</th>\n",
       "      <td>91378</td>\n",
       "      <td>MAUCHAMPS</td>\n",
       "      <td>91.0</td>\n",
       "      <td>11.0</td>\n",
       "      <td>3.13</td>\n",
       "      <td>48.527268</td>\n",
       "      <td>2.197182</td>\n",
       "      <td>40.643885</td>\n",
       "      <td>22.728120</td>\n",
       "      <td>44.0</td>\n",
       "      <td>273.0</td>\n",
       "      <td>both</td>\n",
       "      <td>102.0</td>\n",
       "      <td>283.0</td>\n",
       "      <td>28080.0</td>\n",
       "      <td>NaN</td>\n",
       "      <td>both</td>\n",
       "      <td>87.220447</td>\n",
       "    </tr>\n",
       "    <tr>\n",
       "      <th>3</th>\n",
       "      <td>77243</td>\n",
       "      <td>LAGNY-SUR-MARNE</td>\n",
       "      <td>77.0</td>\n",
       "      <td>11.0</td>\n",
       "      <td>5.79</td>\n",
       "      <td>48.873070</td>\n",
       "      <td>2.709781</td>\n",
       "      <td>38.360069</td>\n",
       "      <td>23.270647</td>\n",
       "      <td>38.0</td>\n",
       "      <td>21264.0</td>\n",
       "      <td>both</td>\n",
       "      <td>9047.0</td>\n",
       "      <td>21301.0</td>\n",
       "      <td>23290.0</td>\n",
       "      <td>3.5</td>\n",
       "      <td>both</td>\n",
       "      <td>3672.538860</td>\n",
       "    </tr>\n",
       "    <tr>\n",
       "      <th>4</th>\n",
       "      <td>94003</td>\n",
       "      <td>ARCUEIL</td>\n",
       "      <td>94.0</td>\n",
       "      <td>11.0</td>\n",
       "      <td>2.32</td>\n",
       "      <td>48.805880</td>\n",
       "      <td>2.333510</td>\n",
       "      <td>37.410927</td>\n",
       "      <td>22.696750</td>\n",
       "      <td>36.0</td>\n",
       "      <td>21567.0</td>\n",
       "      <td>both</td>\n",
       "      <td>8811.0</td>\n",
       "      <td>20197.0</td>\n",
       "      <td>21750.0</td>\n",
       "      <td>4.0</td>\n",
       "      <td>both</td>\n",
       "      <td>9296.120690</td>\n",
       "    </tr>\n",
       "  </tbody>\n",
       "</table>\n",
       "</div>"
      ],
      "text/plain": [
       "  Code INSEE              nom_comm  code_dept  code_reg  superficie_km2  \\\n",
       "0      91645  VERRIERES-LE-BUISSON       91.0      11.0            9.99   \n",
       "1      77133  COURCELLES-EN-BASSEE       77.0      11.0           10.82   \n",
       "2      91378             MAUCHAMPS       91.0      11.0            3.13   \n",
       "3      77243       LAGNY-SUR-MARNE       77.0      11.0            5.79   \n",
       "4      94003               ARCUEIL       94.0      11.0            2.32   \n",
       "\n",
       "         lat       lng   age_mean    age_std  age_median  population merge1  \\\n",
       "0  48.750443  2.251713  43.180904  25.055513        46.0     15434.0   both   \n",
       "1  48.412561  3.052941  46.291262  22.518442        51.0       219.0   both   \n",
       "2  48.527268  2.197182  40.643885  22.728120        44.0       273.0   both   \n",
       "3  48.873070  2.709781  38.360069  23.270647        38.0     21264.0   both   \n",
       "4  48.805880  2.333510  37.410927  22.696750        36.0     21567.0   both   \n",
       "\n",
       "    Foyer  Nbr_p_Foyer  revenue_median  revenue_inequalities merge2  \\\n",
       "0  6224.0      15843.0         34210.0                   4.2   both   \n",
       "1    89.0        217.0         25610.0                   NaN   both   \n",
       "2   102.0        283.0         28080.0                   NaN   both   \n",
       "3  9047.0      21301.0         23290.0                   3.5   both   \n",
       "4  8811.0      20197.0         21750.0                   4.0   both   \n",
       "\n",
       "       density  \n",
       "0  1544.944945  \n",
       "1    20.240296  \n",
       "2    87.220447  \n",
       "3  3672.538860  \n",
       "4  9296.120690  "
      ]
     },
     "execution_count": 111,
     "metadata": {},
     "output_type": "execute_result"
    }
   ],
   "source": [
    "all_data=pd.read_csv('datasets/all_dataset.csv')\n",
    "all_data.head()"
   ]
  },
  {
   "cell_type": "code",
   "execution_count": 112,
   "id": "indian-carroll",
   "metadata": {
    "scrolled": true
   },
   "outputs": [
    {
     "data": {
      "text/html": [
       "<div>\n",
       "<style scoped>\n",
       "    .dataframe tbody tr th:only-of-type {\n",
       "        vertical-align: middle;\n",
       "    }\n",
       "\n",
       "    .dataframe tbody tr th {\n",
       "        vertical-align: top;\n",
       "    }\n",
       "\n",
       "    .dataframe thead th {\n",
       "        text-align: right;\n",
       "    }\n",
       "</style>\n",
       "<table border=\"1\" class=\"dataframe\">\n",
       "  <thead>\n",
       "    <tr style=\"text-align: right;\">\n",
       "      <th></th>\n",
       "      <th>valeur_fonciere</th>\n",
       "      <th>adresse_numero</th>\n",
       "      <th>Code INSEE</th>\n",
       "      <th>nom_commune</th>\n",
       "      <th>code_departement</th>\n",
       "      <th>nombre_lots</th>\n",
       "      <th>code_type_local</th>\n",
       "      <th>surface_reelle_bati</th>\n",
       "      <th>nombre_pieces_principales</th>\n",
       "      <th>surface_terrain</th>\n",
       "      <th>...</th>\n",
       "      <th>age_median</th>\n",
       "      <th>population</th>\n",
       "      <th>merge1</th>\n",
       "      <th>Foyer</th>\n",
       "      <th>Nbr_p_Foyer</th>\n",
       "      <th>revenue_median</th>\n",
       "      <th>revenue_inequalities</th>\n",
       "      <th>merge2</th>\n",
       "      <th>density</th>\n",
       "      <th>_merge</th>\n",
       "    </tr>\n",
       "  </thead>\n",
       "  <tbody>\n",
       "    <tr>\n",
       "      <th>0</th>\n",
       "      <td>257000.0</td>\n",
       "      <td>17</td>\n",
       "      <td>77450</td>\n",
       "      <td>Servon</td>\n",
       "      <td>77</td>\n",
       "      <td>1</td>\n",
       "      <td>1.0</td>\n",
       "      <td>107.0</td>\n",
       "      <td>5</td>\n",
       "      <td>107.0</td>\n",
       "      <td>...</td>\n",
       "      <td>40.0</td>\n",
       "      <td>3233.0</td>\n",
       "      <td>both</td>\n",
       "      <td>1225.0</td>\n",
       "      <td>3328.0</td>\n",
       "      <td>28500.0</td>\n",
       "      <td>2.8</td>\n",
       "      <td>both</td>\n",
       "      <td>438.075881</td>\n",
       "      <td>both</td>\n",
       "    </tr>\n",
       "    <tr>\n",
       "      <th>1</th>\n",
       "      <td>320500.0</td>\n",
       "      <td>15</td>\n",
       "      <td>77122</td>\n",
       "      <td>Combs-la-Ville</td>\n",
       "      <td>77</td>\n",
       "      <td>0</td>\n",
       "      <td>1.0</td>\n",
       "      <td>85.0</td>\n",
       "      <td>5</td>\n",
       "      <td>347.0</td>\n",
       "      <td>...</td>\n",
       "      <td>37.0</td>\n",
       "      <td>22212.0</td>\n",
       "      <td>both</td>\n",
       "      <td>8368.0</td>\n",
       "      <td>22173.0</td>\n",
       "      <td>23470.0</td>\n",
       "      <td>3.1</td>\n",
       "      <td>both</td>\n",
       "      <td>1525.549451</td>\n",
       "      <td>both</td>\n",
       "    </tr>\n",
       "    <tr>\n",
       "      <th>2</th>\n",
       "      <td>386700.0</td>\n",
       "      <td>20</td>\n",
       "      <td>77053</td>\n",
       "      <td>Brie-Comte-Robert</td>\n",
       "      <td>77</td>\n",
       "      <td>0</td>\n",
       "      <td>1.0</td>\n",
       "      <td>129.0</td>\n",
       "      <td>6</td>\n",
       "      <td>507.0</td>\n",
       "      <td>...</td>\n",
       "      <td>36.0</td>\n",
       "      <td>17200.0</td>\n",
       "      <td>both</td>\n",
       "      <td>7468.0</td>\n",
       "      <td>17477.0</td>\n",
       "      <td>23290.0</td>\n",
       "      <td>3.0</td>\n",
       "      <td>both</td>\n",
       "      <td>863.453815</td>\n",
       "      <td>both</td>\n",
       "    </tr>\n",
       "    <tr>\n",
       "      <th>3</th>\n",
       "      <td>239900.0</td>\n",
       "      <td>1</td>\n",
       "      <td>77122</td>\n",
       "      <td>Combs-la-Ville</td>\n",
       "      <td>77</td>\n",
       "      <td>0</td>\n",
       "      <td>1.0</td>\n",
       "      <td>79.0</td>\n",
       "      <td>4</td>\n",
       "      <td>138.0</td>\n",
       "      <td>...</td>\n",
       "      <td>37.0</td>\n",
       "      <td>22212.0</td>\n",
       "      <td>both</td>\n",
       "      <td>8368.0</td>\n",
       "      <td>22173.0</td>\n",
       "      <td>23470.0</td>\n",
       "      <td>3.1</td>\n",
       "      <td>both</td>\n",
       "      <td>1525.549451</td>\n",
       "      <td>both</td>\n",
       "    </tr>\n",
       "    <tr>\n",
       "      <th>4</th>\n",
       "      <td>356900.0</td>\n",
       "      <td>1</td>\n",
       "      <td>77251</td>\n",
       "      <td>Lieusaint</td>\n",
       "      <td>77</td>\n",
       "      <td>0</td>\n",
       "      <td>1.0</td>\n",
       "      <td>110.0</td>\n",
       "      <td>5</td>\n",
       "      <td>404.0</td>\n",
       "      <td>...</td>\n",
       "      <td>29.0</td>\n",
       "      <td>13363.0</td>\n",
       "      <td>both</td>\n",
       "      <td>4546.0</td>\n",
       "      <td>12673.0</td>\n",
       "      <td>22200.0</td>\n",
       "      <td>2.8</td>\n",
       "      <td>both</td>\n",
       "      <td>1121.998321</td>\n",
       "      <td>both</td>\n",
       "    </tr>\n",
       "  </tbody>\n",
       "</table>\n",
       "<p>5 rows × 32 columns</p>\n",
       "</div>"
      ],
      "text/plain": [
       "   valeur_fonciere  adresse_numero Code INSEE        nom_commune  \\\n",
       "0         257000.0              17      77450             Servon   \n",
       "1         320500.0              15      77122     Combs-la-Ville   \n",
       "2         386700.0              20      77053  Brie-Comte-Robert   \n",
       "3         239900.0               1      77122     Combs-la-Ville   \n",
       "4         356900.0               1      77251          Lieusaint   \n",
       "\n",
       "  code_departement  nombre_lots  code_type_local  surface_reelle_bati  \\\n",
       "0               77            1              1.0                107.0   \n",
       "1               77            0              1.0                 85.0   \n",
       "2               77            0              1.0                129.0   \n",
       "3               77            0              1.0                 79.0   \n",
       "4               77            0              1.0                110.0   \n",
       "\n",
       "   nombre_pieces_principales  surface_terrain  ...  age_median  population  \\\n",
       "0                          5            107.0  ...        40.0      3233.0   \n",
       "1                          5            347.0  ...        37.0     22212.0   \n",
       "2                          6            507.0  ...        36.0     17200.0   \n",
       "3                          4            138.0  ...        37.0     22212.0   \n",
       "4                          5            404.0  ...        29.0     13363.0   \n",
       "\n",
       "   merge1   Foyer Nbr_p_Foyer  revenue_median  revenue_inequalities  merge2  \\\n",
       "0    both  1225.0      3328.0         28500.0                   2.8    both   \n",
       "1    both  8368.0     22173.0         23470.0                   3.1    both   \n",
       "2    both  7468.0     17477.0         23290.0                   3.0    both   \n",
       "3    both  8368.0     22173.0         23470.0                   3.1    both   \n",
       "4    both  4546.0     12673.0         22200.0                   2.8    both   \n",
       "\n",
       "       density  _merge  \n",
       "0   438.075881    both  \n",
       "1  1525.549451    both  \n",
       "2   863.453815    both  \n",
       "3  1525.549451    both  \n",
       "4  1121.998321    both  \n",
       "\n",
       "[5 rows x 32 columns]"
      ]
     },
     "execution_count": 112,
     "metadata": {},
     "output_type": "execute_result"
    }
   ],
   "source": [
    "#test_df = df_final[df_final['Code INSEE']=='94003']\n",
    "\n",
    "df_merged = pd.merge(df_fonciere_final,all_data,on='Code INSEE',how='left', indicator=True)\n",
    "df_merged.head()"
   ]
  },
  {
   "cell_type": "code",
   "execution_count": 113,
   "id": "usual-dominant",
   "metadata": {},
   "outputs": [
    {
     "data": {
      "text/html": [
       "<div>\n",
       "<style scoped>\n",
       "    .dataframe tbody tr th:only-of-type {\n",
       "        vertical-align: middle;\n",
       "    }\n",
       "\n",
       "    .dataframe tbody tr th {\n",
       "        vertical-align: top;\n",
       "    }\n",
       "\n",
       "    .dataframe thead th {\n",
       "        text-align: right;\n",
       "    }\n",
       "</style>\n",
       "<table border=\"1\" class=\"dataframe\">\n",
       "  <thead>\n",
       "    <tr style=\"text-align: right;\">\n",
       "      <th></th>\n",
       "      <th>valeur_fonciere</th>\n",
       "      <th>adresse_numero</th>\n",
       "      <th>Code INSEE</th>\n",
       "      <th>nom_commune</th>\n",
       "      <th>code_departement</th>\n",
       "      <th>nombre_lots</th>\n",
       "      <th>code_type_local</th>\n",
       "      <th>surface_reelle_bati</th>\n",
       "      <th>nombre_pieces_principales</th>\n",
       "      <th>surface_terrain</th>\n",
       "      <th>...</th>\n",
       "      <th>age_median</th>\n",
       "      <th>population</th>\n",
       "      <th>merge1</th>\n",
       "      <th>Foyer</th>\n",
       "      <th>Nbr_p_Foyer</th>\n",
       "      <th>revenue_median</th>\n",
       "      <th>revenue_inequalities</th>\n",
       "      <th>merge2</th>\n",
       "      <th>density</th>\n",
       "      <th>_merge</th>\n",
       "    </tr>\n",
       "  </thead>\n",
       "  <tbody>\n",
       "    <tr>\n",
       "      <th>4331</th>\n",
       "      <td>544000.0</td>\n",
       "      <td>35</td>\n",
       "      <td>75101</td>\n",
       "      <td>Paris 1er Arrondissement</td>\n",
       "      <td>75</td>\n",
       "      <td>1</td>\n",
       "      <td>2.0</td>\n",
       "      <td>52.0</td>\n",
       "      <td>2</td>\n",
       "      <td>52.0</td>\n",
       "      <td>...</td>\n",
       "      <td>40.0</td>\n",
       "      <td>16252.0</td>\n",
       "      <td>both</td>\n",
       "      <td>8533.0</td>\n",
       "      <td>15560.0</td>\n",
       "      <td>32890.0</td>\n",
       "      <td>7.2</td>\n",
       "      <td>both</td>\n",
       "      <td>8979.005525</td>\n",
       "      <td>both</td>\n",
       "    </tr>\n",
       "    <tr>\n",
       "      <th>4332</th>\n",
       "      <td>605000.0</td>\n",
       "      <td>21</td>\n",
       "      <td>75108</td>\n",
       "      <td>Paris 8e Arrondissement</td>\n",
       "      <td>75</td>\n",
       "      <td>2</td>\n",
       "      <td>2.0</td>\n",
       "      <td>61.0</td>\n",
       "      <td>3</td>\n",
       "      <td>61.0</td>\n",
       "      <td>...</td>\n",
       "      <td>38.0</td>\n",
       "      <td>36453.0</td>\n",
       "      <td>both</td>\n",
       "      <td>17387.0</td>\n",
       "      <td>37343.0</td>\n",
       "      <td>41270.0</td>\n",
       "      <td>8.6</td>\n",
       "      <td>both</td>\n",
       "      <td>9468.311688</td>\n",
       "      <td>both</td>\n",
       "    </tr>\n",
       "    <tr>\n",
       "      <th>4333</th>\n",
       "      <td>632000.0</td>\n",
       "      <td>10</td>\n",
       "      <td>75101</td>\n",
       "      <td>Paris 1er Arrondissement</td>\n",
       "      <td>75</td>\n",
       "      <td>1</td>\n",
       "      <td>2.0</td>\n",
       "      <td>103.0</td>\n",
       "      <td>3</td>\n",
       "      <td>103.0</td>\n",
       "      <td>...</td>\n",
       "      <td>40.0</td>\n",
       "      <td>16252.0</td>\n",
       "      <td>both</td>\n",
       "      <td>8533.0</td>\n",
       "      <td>15560.0</td>\n",
       "      <td>32890.0</td>\n",
       "      <td>7.2</td>\n",
       "      <td>both</td>\n",
       "      <td>8979.005525</td>\n",
       "      <td>both</td>\n",
       "    </tr>\n",
       "    <tr>\n",
       "      <th>4334</th>\n",
       "      <td>625000.0</td>\n",
       "      <td>119</td>\n",
       "      <td>75101</td>\n",
       "      <td>Paris 1er Arrondissement</td>\n",
       "      <td>75</td>\n",
       "      <td>1</td>\n",
       "      <td>2.0</td>\n",
       "      <td>52.0</td>\n",
       "      <td>3</td>\n",
       "      <td>52.0</td>\n",
       "      <td>...</td>\n",
       "      <td>40.0</td>\n",
       "      <td>16252.0</td>\n",
       "      <td>both</td>\n",
       "      <td>8533.0</td>\n",
       "      <td>15560.0</td>\n",
       "      <td>32890.0</td>\n",
       "      <td>7.2</td>\n",
       "      <td>both</td>\n",
       "      <td>8979.005525</td>\n",
       "      <td>both</td>\n",
       "    </tr>\n",
       "    <tr>\n",
       "      <th>4335</th>\n",
       "      <td>51875.0</td>\n",
       "      <td>53</td>\n",
       "      <td>75108</td>\n",
       "      <td>Paris 8e Arrondissement</td>\n",
       "      <td>75</td>\n",
       "      <td>4</td>\n",
       "      <td>2.0</td>\n",
       "      <td>118.0</td>\n",
       "      <td>3</td>\n",
       "      <td>118.0</td>\n",
       "      <td>...</td>\n",
       "      <td>38.0</td>\n",
       "      <td>36453.0</td>\n",
       "      <td>both</td>\n",
       "      <td>17387.0</td>\n",
       "      <td>37343.0</td>\n",
       "      <td>41270.0</td>\n",
       "      <td>8.6</td>\n",
       "      <td>both</td>\n",
       "      <td>9468.311688</td>\n",
       "      <td>both</td>\n",
       "    </tr>\n",
       "    <tr>\n",
       "      <th>...</th>\n",
       "      <td>...</td>\n",
       "      <td>...</td>\n",
       "      <td>...</td>\n",
       "      <td>...</td>\n",
       "      <td>...</td>\n",
       "      <td>...</td>\n",
       "      <td>...</td>\n",
       "      <td>...</td>\n",
       "      <td>...</td>\n",
       "      <td>...</td>\n",
       "      <td>...</td>\n",
       "      <td>...</td>\n",
       "      <td>...</td>\n",
       "      <td>...</td>\n",
       "      <td>...</td>\n",
       "      <td>...</td>\n",
       "      <td>...</td>\n",
       "      <td>...</td>\n",
       "      <td>...</td>\n",
       "      <td>...</td>\n",
       "      <td>...</td>\n",
       "    </tr>\n",
       "    <tr>\n",
       "      <th>62951</th>\n",
       "      <td>510000.0</td>\n",
       "      <td>113</td>\n",
       "      <td>75104</td>\n",
       "      <td>Paris 4e Arrondissement</td>\n",
       "      <td>75</td>\n",
       "      <td>3</td>\n",
       "      <td>2.0</td>\n",
       "      <td>52.0</td>\n",
       "      <td>2</td>\n",
       "      <td>52.0</td>\n",
       "      <td>...</td>\n",
       "      <td>39.0</td>\n",
       "      <td>27487.0</td>\n",
       "      <td>both</td>\n",
       "      <td>14043.0</td>\n",
       "      <td>25626.0</td>\n",
       "      <td>31200.0</td>\n",
       "      <td>6.7</td>\n",
       "      <td>both</td>\n",
       "      <td>17179.375000</td>\n",
       "      <td>both</td>\n",
       "    </tr>\n",
       "    <tr>\n",
       "      <th>62952</th>\n",
       "      <td>504000.0</td>\n",
       "      <td>2</td>\n",
       "      <td>75104</td>\n",
       "      <td>Paris 4e Arrondissement</td>\n",
       "      <td>75</td>\n",
       "      <td>2</td>\n",
       "      <td>2.0</td>\n",
       "      <td>58.0</td>\n",
       "      <td>3</td>\n",
       "      <td>58.0</td>\n",
       "      <td>...</td>\n",
       "      <td>39.0</td>\n",
       "      <td>27487.0</td>\n",
       "      <td>both</td>\n",
       "      <td>14043.0</td>\n",
       "      <td>25626.0</td>\n",
       "      <td>31200.0</td>\n",
       "      <td>6.7</td>\n",
       "      <td>both</td>\n",
       "      <td>17179.375000</td>\n",
       "      <td>both</td>\n",
       "    </tr>\n",
       "    <tr>\n",
       "      <th>62953</th>\n",
       "      <td>613000.0</td>\n",
       "      <td>10</td>\n",
       "      <td>75102</td>\n",
       "      <td>Paris 2e Arrondissement</td>\n",
       "      <td>75</td>\n",
       "      <td>2</td>\n",
       "      <td>2.0</td>\n",
       "      <td>55.0</td>\n",
       "      <td>2</td>\n",
       "      <td>55.0</td>\n",
       "      <td>...</td>\n",
       "      <td>35.0</td>\n",
       "      <td>20260.0</td>\n",
       "      <td>both</td>\n",
       "      <td>11557.0</td>\n",
       "      <td>20803.0</td>\n",
       "      <td>31470.0</td>\n",
       "      <td>7.1</td>\n",
       "      <td>both</td>\n",
       "      <td>20464.646465</td>\n",
       "      <td>both</td>\n",
       "    </tr>\n",
       "    <tr>\n",
       "      <th>62954</th>\n",
       "      <td>507850.0</td>\n",
       "      <td>199</td>\n",
       "      <td>75102</td>\n",
       "      <td>Paris 2e Arrondissement</td>\n",
       "      <td>75</td>\n",
       "      <td>2</td>\n",
       "      <td>2.0</td>\n",
       "      <td>64.0</td>\n",
       "      <td>3</td>\n",
       "      <td>64.0</td>\n",
       "      <td>...</td>\n",
       "      <td>35.0</td>\n",
       "      <td>20260.0</td>\n",
       "      <td>both</td>\n",
       "      <td>11557.0</td>\n",
       "      <td>20803.0</td>\n",
       "      <td>31470.0</td>\n",
       "      <td>7.1</td>\n",
       "      <td>both</td>\n",
       "      <td>20464.646465</td>\n",
       "      <td>both</td>\n",
       "    </tr>\n",
       "    <tr>\n",
       "      <th>62955</th>\n",
       "      <td>642500.0</td>\n",
       "      <td>29</td>\n",
       "      <td>75104</td>\n",
       "      <td>Paris 4e Arrondissement</td>\n",
       "      <td>75</td>\n",
       "      <td>1</td>\n",
       "      <td>2.0</td>\n",
       "      <td>51.0</td>\n",
       "      <td>3</td>\n",
       "      <td>51.0</td>\n",
       "      <td>...</td>\n",
       "      <td>39.0</td>\n",
       "      <td>27487.0</td>\n",
       "      <td>both</td>\n",
       "      <td>14043.0</td>\n",
       "      <td>25626.0</td>\n",
       "      <td>31200.0</td>\n",
       "      <td>6.7</td>\n",
       "      <td>both</td>\n",
       "      <td>17179.375000</td>\n",
       "      <td>both</td>\n",
       "    </tr>\n",
       "  </tbody>\n",
       "</table>\n",
       "<p>12063 rows × 32 columns</p>\n",
       "</div>"
      ],
      "text/plain": [
       "       valeur_fonciere  adresse_numero Code INSEE               nom_commune  \\\n",
       "4331          544000.0              35      75101  Paris 1er Arrondissement   \n",
       "4332          605000.0              21      75108   Paris 8e Arrondissement   \n",
       "4333          632000.0              10      75101  Paris 1er Arrondissement   \n",
       "4334          625000.0             119      75101  Paris 1er Arrondissement   \n",
       "4335           51875.0              53      75108   Paris 8e Arrondissement   \n",
       "...                ...             ...        ...                       ...   \n",
       "62951         510000.0             113      75104   Paris 4e Arrondissement   \n",
       "62952         504000.0               2      75104   Paris 4e Arrondissement   \n",
       "62953         613000.0              10      75102   Paris 2e Arrondissement   \n",
       "62954         507850.0             199      75102   Paris 2e Arrondissement   \n",
       "62955         642500.0              29      75104   Paris 4e Arrondissement   \n",
       "\n",
       "      code_departement  nombre_lots  code_type_local  surface_reelle_bati  \\\n",
       "4331                75            1              2.0                 52.0   \n",
       "4332                75            2              2.0                 61.0   \n",
       "4333                75            1              2.0                103.0   \n",
       "4334                75            1              2.0                 52.0   \n",
       "4335                75            4              2.0                118.0   \n",
       "...                ...          ...              ...                  ...   \n",
       "62951               75            3              2.0                 52.0   \n",
       "62952               75            2              2.0                 58.0   \n",
       "62953               75            2              2.0                 55.0   \n",
       "62954               75            2              2.0                 64.0   \n",
       "62955               75            1              2.0                 51.0   \n",
       "\n",
       "       nombre_pieces_principales  surface_terrain  ...  age_median  \\\n",
       "4331                           2             52.0  ...        40.0   \n",
       "4332                           3             61.0  ...        38.0   \n",
       "4333                           3            103.0  ...        40.0   \n",
       "4334                           3             52.0  ...        40.0   \n",
       "4335                           3            118.0  ...        38.0   \n",
       "...                          ...              ...  ...         ...   \n",
       "62951                          2             52.0  ...        39.0   \n",
       "62952                          3             58.0  ...        39.0   \n",
       "62953                          2             55.0  ...        35.0   \n",
       "62954                          3             64.0  ...        35.0   \n",
       "62955                          3             51.0  ...        39.0   \n",
       "\n",
       "       population  merge1    Foyer Nbr_p_Foyer  revenue_median  \\\n",
       "4331      16252.0    both   8533.0     15560.0         32890.0   \n",
       "4332      36453.0    both  17387.0     37343.0         41270.0   \n",
       "4333      16252.0    both   8533.0     15560.0         32890.0   \n",
       "4334      16252.0    both   8533.0     15560.0         32890.0   \n",
       "4335      36453.0    both  17387.0     37343.0         41270.0   \n",
       "...           ...     ...      ...         ...             ...   \n",
       "62951     27487.0    both  14043.0     25626.0         31200.0   \n",
       "62952     27487.0    both  14043.0     25626.0         31200.0   \n",
       "62953     20260.0    both  11557.0     20803.0         31470.0   \n",
       "62954     20260.0    both  11557.0     20803.0         31470.0   \n",
       "62955     27487.0    both  14043.0     25626.0         31200.0   \n",
       "\n",
       "       revenue_inequalities  merge2       density  _merge  \n",
       "4331                    7.2    both   8979.005525    both  \n",
       "4332                    8.6    both   9468.311688    both  \n",
       "4333                    7.2    both   8979.005525    both  \n",
       "4334                    7.2    both   8979.005525    both  \n",
       "4335                    8.6    both   9468.311688    both  \n",
       "...                     ...     ...           ...     ...  \n",
       "62951                   6.7    both  17179.375000    both  \n",
       "62952                   6.7    both  17179.375000    both  \n",
       "62953                   7.1    both  20464.646465    both  \n",
       "62954                   7.1    both  20464.646465    both  \n",
       "62955                   6.7    both  17179.375000    both  \n",
       "\n",
       "[12063 rows x 32 columns]"
      ]
     },
     "execution_count": 113,
     "metadata": {},
     "output_type": "execute_result"
    }
   ],
   "source": [
    "df_merged[df_merged['code_departement']==75]"
   ]
  },
  {
   "cell_type": "code",
   "execution_count": 208,
   "id": "imported-accuracy",
   "metadata": {},
   "outputs": [
    {
     "name": "stderr",
     "output_type": "stream",
     "text": [
      "C:\\Users\\Administrateur\\anaconda3\\envs\\tf\\lib\\site-packages\\seaborn\\_decorators.py:36: FutureWarning: Pass the following variable as a keyword arg: x. From version 0.12, the only valid positional argument will be `data`, and passing other arguments without an explicit keyword will result in an error or misinterpretation.\n",
      "  warnings.warn(\n",
      "C:\\Users\\Administrateur\\anaconda3\\envs\\tf\\lib\\site-packages\\seaborn\\_decorators.py:36: FutureWarning: Pass the following variable as a keyword arg: x. From version 0.12, the only valid positional argument will be `data`, and passing other arguments without an explicit keyword will result in an error or misinterpretation.\n",
      "  warnings.warn(\n",
      "C:\\Users\\Administrateur\\anaconda3\\envs\\tf\\lib\\site-packages\\seaborn\\_decorators.py:36: FutureWarning: Pass the following variable as a keyword arg: x. From version 0.12, the only valid positional argument will be `data`, and passing other arguments without an explicit keyword will result in an error or misinterpretation.\n",
      "  warnings.warn(\n",
      "C:\\Users\\Administrateur\\anaconda3\\envs\\tf\\lib\\site-packages\\seaborn\\_decorators.py:36: FutureWarning: Pass the following variable as a keyword arg: x. From version 0.12, the only valid positional argument will be `data`, and passing other arguments without an explicit keyword will result in an error or misinterpretation.\n",
      "  warnings.warn(\n"
     ]
    },
    {
     "ename": "TypeError",
     "evalue": "ufunc 'isfinite' not supported for the input types, and the inputs could not be safely coerced to any supported types according to the casting rule ''safe''",
     "output_type": "error",
     "traceback": [
      "\u001b[1;31m---------------------------------------------------------------------------\u001b[0m",
      "\u001b[1;31mTypeError\u001b[0m                                 Traceback (most recent call last)",
      "\u001b[1;32m<ipython-input-208-4cefd8aad8f0>\u001b[0m in \u001b[0;36m<module>\u001b[1;34m\u001b[0m\n\u001b[0;32m     21\u001b[0m \u001b[1;33m\u001b[0m\u001b[0m\n\u001b[0;32m     22\u001b[0m \u001b[1;31m# Plot Prix_m2\u001b[0m\u001b[1;33m\u001b[0m\u001b[1;33m\u001b[0m\u001b[1;33m\u001b[0m\u001b[0m\n\u001b[1;32m---> 23\u001b[1;33m \u001b[0msns\u001b[0m\u001b[1;33m.\u001b[0m\u001b[0mboxenplot\u001b[0m\u001b[1;33m(\u001b[0m\u001b[0mdf_merged\u001b[0m\u001b[1;33m[\u001b[0m\u001b[1;34m'Prix_m2'\u001b[0m\u001b[1;33m]\u001b[0m\u001b[1;33m,\u001b[0m\u001b[0max\u001b[0m\u001b[1;33m=\u001b[0m\u001b[0max4\u001b[0m\u001b[1;33m)\u001b[0m\u001b[1;33m\u001b[0m\u001b[1;33m\u001b[0m\u001b[0m\n\u001b[0m\u001b[0;32m     24\u001b[0m \u001b[0max4\u001b[0m\u001b[1;33m.\u001b[0m\u001b[0mset_xlabel\u001b[0m\u001b[1;33m(\u001b[0m\u001b[1;34m'Distribution of the mean price of houses per m2 ( in €/m2). This plot was cropped '\u001b[0m\u001b[1;33m)\u001b[0m\u001b[1;33m\u001b[0m\u001b[1;33m\u001b[0m\u001b[0m\n\u001b[0;32m     25\u001b[0m \u001b[0max4\u001b[0m\u001b[1;33m.\u001b[0m\u001b[0mset_ylabel\u001b[0m\u001b[1;33m(\u001b[0m\u001b[1;34m'Commune \\n frequency'\u001b[0m\u001b[1;33m)\u001b[0m\u001b[1;33m\u001b[0m\u001b[1;33m\u001b[0m\u001b[0m\n",
      "\u001b[1;32m~\\anaconda3\\envs\\tf\\lib\\site-packages\\seaborn\\_decorators.py\u001b[0m in \u001b[0;36minner_f\u001b[1;34m(*args, **kwargs)\u001b[0m\n\u001b[0;32m     44\u001b[0m             )\n\u001b[0;32m     45\u001b[0m         \u001b[0mkwargs\u001b[0m\u001b[1;33m.\u001b[0m\u001b[0mupdate\u001b[0m\u001b[1;33m(\u001b[0m\u001b[1;33m{\u001b[0m\u001b[0mk\u001b[0m\u001b[1;33m:\u001b[0m \u001b[0marg\u001b[0m \u001b[1;32mfor\u001b[0m \u001b[0mk\u001b[0m\u001b[1;33m,\u001b[0m \u001b[0marg\u001b[0m \u001b[1;32min\u001b[0m \u001b[0mzip\u001b[0m\u001b[1;33m(\u001b[0m\u001b[0msig\u001b[0m\u001b[1;33m.\u001b[0m\u001b[0mparameters\u001b[0m\u001b[1;33m,\u001b[0m \u001b[0margs\u001b[0m\u001b[1;33m)\u001b[0m\u001b[1;33m}\u001b[0m\u001b[1;33m)\u001b[0m\u001b[1;33m\u001b[0m\u001b[1;33m\u001b[0m\u001b[0m\n\u001b[1;32m---> 46\u001b[1;33m         \u001b[1;32mreturn\u001b[0m \u001b[0mf\u001b[0m\u001b[1;33m(\u001b[0m\u001b[1;33m**\u001b[0m\u001b[0mkwargs\u001b[0m\u001b[1;33m)\u001b[0m\u001b[1;33m\u001b[0m\u001b[1;33m\u001b[0m\u001b[0m\n\u001b[0m\u001b[0;32m     47\u001b[0m     \u001b[1;32mreturn\u001b[0m \u001b[0minner_f\u001b[0m\u001b[1;33m\u001b[0m\u001b[1;33m\u001b[0m\u001b[0m\n\u001b[0;32m     48\u001b[0m \u001b[1;33m\u001b[0m\u001b[0m\n",
      "\u001b[1;32m~\\anaconda3\\envs\\tf\\lib\\site-packages\\seaborn\\categorical.py\u001b[0m in \u001b[0;36mboxenplot\u001b[1;34m(x, y, hue, data, order, hue_order, orient, color, palette, saturation, width, dodge, k_depth, linewidth, scale, outlier_prop, trust_alpha, showfliers, ax, **kwargs)\u001b[0m\n\u001b[0;32m   2637\u001b[0m         \u001b[0max\u001b[0m \u001b[1;33m=\u001b[0m \u001b[0mplt\u001b[0m\u001b[1;33m.\u001b[0m\u001b[0mgca\u001b[0m\u001b[1;33m(\u001b[0m\u001b[1;33m)\u001b[0m\u001b[1;33m\u001b[0m\u001b[1;33m\u001b[0m\u001b[0m\n\u001b[0;32m   2638\u001b[0m \u001b[1;33m\u001b[0m\u001b[0m\n\u001b[1;32m-> 2639\u001b[1;33m     \u001b[0mplotter\u001b[0m\u001b[1;33m.\u001b[0m\u001b[0mplot\u001b[0m\u001b[1;33m(\u001b[0m\u001b[0max\u001b[0m\u001b[1;33m,\u001b[0m \u001b[0mkwargs\u001b[0m\u001b[1;33m)\u001b[0m\u001b[1;33m\u001b[0m\u001b[1;33m\u001b[0m\u001b[0m\n\u001b[0m\u001b[0;32m   2640\u001b[0m     \u001b[1;32mreturn\u001b[0m \u001b[0max\u001b[0m\u001b[1;33m\u001b[0m\u001b[1;33m\u001b[0m\u001b[0m\n\u001b[0;32m   2641\u001b[0m \u001b[1;33m\u001b[0m\u001b[0m\n",
      "\u001b[1;32m~\\anaconda3\\envs\\tf\\lib\\site-packages\\seaborn\\categorical.py\u001b[0m in \u001b[0;36mplot\u001b[1;34m(self, ax, boxplot_kws)\u001b[0m\n\u001b[0;32m   2060\u001b[0m     \u001b[1;32mdef\u001b[0m \u001b[0mplot\u001b[0m\u001b[1;33m(\u001b[0m\u001b[0mself\u001b[0m\u001b[1;33m,\u001b[0m \u001b[0max\u001b[0m\u001b[1;33m,\u001b[0m \u001b[0mboxplot_kws\u001b[0m\u001b[1;33m)\u001b[0m\u001b[1;33m:\u001b[0m\u001b[1;33m\u001b[0m\u001b[1;33m\u001b[0m\u001b[0m\n\u001b[0;32m   2061\u001b[0m         \u001b[1;34m\"\"\"Make the plot.\"\"\"\u001b[0m\u001b[1;33m\u001b[0m\u001b[1;33m\u001b[0m\u001b[0m\n\u001b[1;32m-> 2062\u001b[1;33m         \u001b[0mself\u001b[0m\u001b[1;33m.\u001b[0m\u001b[0mdraw_letter_value_plot\u001b[0m\u001b[1;33m(\u001b[0m\u001b[0max\u001b[0m\u001b[1;33m,\u001b[0m \u001b[0mboxplot_kws\u001b[0m\u001b[1;33m)\u001b[0m\u001b[1;33m\u001b[0m\u001b[1;33m\u001b[0m\u001b[0m\n\u001b[0m\u001b[0;32m   2063\u001b[0m         \u001b[0mself\u001b[0m\u001b[1;33m.\u001b[0m\u001b[0mannotate_axes\u001b[0m\u001b[1;33m(\u001b[0m\u001b[0max\u001b[0m\u001b[1;33m)\u001b[0m\u001b[1;33m\u001b[0m\u001b[1;33m\u001b[0m\u001b[0m\n\u001b[0;32m   2064\u001b[0m         \u001b[1;32mif\u001b[0m \u001b[0mself\u001b[0m\u001b[1;33m.\u001b[0m\u001b[0morient\u001b[0m \u001b[1;33m==\u001b[0m \u001b[1;34m\"h\"\u001b[0m\u001b[1;33m:\u001b[0m\u001b[1;33m\u001b[0m\u001b[1;33m\u001b[0m\u001b[0m\n",
      "\u001b[1;32m~\\anaconda3\\envs\\tf\\lib\\site-packages\\seaborn\\categorical.py\u001b[0m in \u001b[0;36mdraw_letter_value_plot\u001b[1;34m(self, ax, kws)\u001b[0m\n\u001b[0;32m   2019\u001b[0m                 \u001b[0mcolor\u001b[0m \u001b[1;33m=\u001b[0m \u001b[0mself\u001b[0m\u001b[1;33m.\u001b[0m\u001b[0mcolors\u001b[0m\u001b[1;33m[\u001b[0m\u001b[0mi\u001b[0m\u001b[1;33m]\u001b[0m\u001b[1;33m\u001b[0m\u001b[1;33m\u001b[0m\u001b[0m\n\u001b[0;32m   2020\u001b[0m \u001b[1;33m\u001b[0m\u001b[0m\n\u001b[1;32m-> 2021\u001b[1;33m                 self._lvplot(box_data,\n\u001b[0m\u001b[0;32m   2022\u001b[0m                              \u001b[0mpositions\u001b[0m\u001b[1;33m=\u001b[0m\u001b[1;33m[\u001b[0m\u001b[0mi\u001b[0m\u001b[1;33m]\u001b[0m\u001b[1;33m,\u001b[0m\u001b[1;33m\u001b[0m\u001b[1;33m\u001b[0m\u001b[0m\n\u001b[0;32m   2023\u001b[0m                              \u001b[0mcolor\u001b[0m\u001b[1;33m=\u001b[0m\u001b[0mcolor\u001b[0m\u001b[1;33m,\u001b[0m\u001b[1;33m\u001b[0m\u001b[1;33m\u001b[0m\u001b[0m\n",
      "\u001b[1;32m~\\anaconda3\\envs\\tf\\lib\\site-packages\\seaborn\\categorical.py\u001b[0m in \u001b[0;36m_lvplot\u001b[1;34m(self, box_data, positions, color, widths, ax, **kws)\u001b[0m\n\u001b[0;32m   1913\u001b[0m             \u001b[1;31m# Get the number of data points and calculate \"depth\" of\u001b[0m\u001b[1;33m\u001b[0m\u001b[1;33m\u001b[0m\u001b[1;33m\u001b[0m\u001b[0m\n\u001b[0;32m   1914\u001b[0m             \u001b[1;31m# letter-value plot\u001b[0m\u001b[1;33m\u001b[0m\u001b[1;33m\u001b[0m\u001b[1;33m\u001b[0m\u001b[0m\n\u001b[1;32m-> 1915\u001b[1;33m             \u001b[0mbox_ends\u001b[0m\u001b[1;33m,\u001b[0m \u001b[0mk\u001b[0m \u001b[1;33m=\u001b[0m \u001b[0mself\u001b[0m\u001b[1;33m.\u001b[0m\u001b[0m_lv_box_ends\u001b[0m\u001b[1;33m(\u001b[0m\u001b[0mbox_data\u001b[0m\u001b[1;33m)\u001b[0m\u001b[1;33m\u001b[0m\u001b[1;33m\u001b[0m\u001b[0m\n\u001b[0m\u001b[0;32m   1916\u001b[0m \u001b[1;33m\u001b[0m\u001b[0m\n\u001b[0;32m   1917\u001b[0m             \u001b[1;31m# Anonymous functions for calculating the width and height\u001b[0m\u001b[1;33m\u001b[0m\u001b[1;33m\u001b[0m\u001b[1;33m\u001b[0m\u001b[0m\n",
      "\u001b[1;32m~\\anaconda3\\envs\\tf\\lib\\site-packages\\seaborn\\categorical.py\u001b[0m in \u001b[0;36m_lv_box_ends\u001b[1;34m(self, vals)\u001b[0m\n\u001b[0;32m   1843\u001b[0m         letter-value plot.\"\"\"\n\u001b[0;32m   1844\u001b[0m         \u001b[0mvals\u001b[0m \u001b[1;33m=\u001b[0m \u001b[0mnp\u001b[0m\u001b[1;33m.\u001b[0m\u001b[0masarray\u001b[0m\u001b[1;33m(\u001b[0m\u001b[0mvals\u001b[0m\u001b[1;33m)\u001b[0m\u001b[1;33m\u001b[0m\u001b[1;33m\u001b[0m\u001b[0m\n\u001b[1;32m-> 1845\u001b[1;33m         \u001b[0mvals\u001b[0m \u001b[1;33m=\u001b[0m \u001b[0mvals\u001b[0m\u001b[1;33m[\u001b[0m\u001b[0mnp\u001b[0m\u001b[1;33m.\u001b[0m\u001b[0misfinite\u001b[0m\u001b[1;33m(\u001b[0m\u001b[0mvals\u001b[0m\u001b[1;33m)\u001b[0m\u001b[1;33m]\u001b[0m\u001b[1;33m\u001b[0m\u001b[1;33m\u001b[0m\u001b[0m\n\u001b[0m\u001b[0;32m   1846\u001b[0m         \u001b[0mn\u001b[0m \u001b[1;33m=\u001b[0m \u001b[0mlen\u001b[0m\u001b[1;33m(\u001b[0m\u001b[0mvals\u001b[0m\u001b[1;33m)\u001b[0m\u001b[1;33m\u001b[0m\u001b[1;33m\u001b[0m\u001b[0m\n\u001b[0;32m   1847\u001b[0m         \u001b[0mp\u001b[0m \u001b[1;33m=\u001b[0m \u001b[0mself\u001b[0m\u001b[1;33m.\u001b[0m\u001b[0moutlier_prop\u001b[0m\u001b[1;33m\u001b[0m\u001b[1;33m\u001b[0m\u001b[0m\n",
      "\u001b[1;31mTypeError\u001b[0m: ufunc 'isfinite' not supported for the input types, and the inputs could not be safely coerced to any supported types according to the casting rule ''safe''"
     ]
    },
    {
     "data": {
      "image/png": "[encoded data removed]",
      "text/plain": [
       "<Figure size 720x720 with 4 Axes>"
      ]
     },
     "metadata": {
      "needs_background": "light"
     },
     "output_type": "display_data"
    }
   ],
   "source": [
    "# Define subplots object\n",
    "fig, (ax1, ax2, ax3, ax4) = plt.subplots(4, 1, figsize=(10,10) , gridspec_kw={'hspace': 0.5})\n",
    "\n",
    "fig.suptitle('Distribution of the Communes acrosss the studied features', fontsize=16)\n",
    "\n",
    "# Plot density\n",
    "sns.boxenplot(df_merged['density'],ax=ax1)\n",
    "ax1.set_xlabel('Distribution of the density of population (in uninhabitant/km2). This plot was cropped')\n",
    "ax1.set_ylabel('Commune \\n frequency')\n",
    "ax1.set_xlim(0,1000)\n",
    "\n",
    "# Plot revenue_median\n",
    "sns.boxenplot(df_merged['revenue_median'],ax=ax2)\n",
    "ax2.set_xlabel('Distribution of the median standard of living of households (in €/an)')\n",
    "ax2.set_ylabel('Commune \\n frequency')\n",
    "\n",
    "# Plot age_median\n",
    "sns.boxenplot(df_merged['age_median'],ax=ax3)\n",
    "ax3.set_xlabel('Distribution of the age median')\n",
    "ax3.set_ylabel('Commune \\n frequency')\n",
    "\n",
    "# Plot Prix_m2\n",
    "sns.boxenplot(df_merged['Prix_m2'],ax=ax4)\n",
    "ax4.set_xlabel('Distribution of the mean price of houses per m2 ( in €/m2). This plot was cropped ')\n",
    "ax4.set_ylabel('Commune \\n frequency')\n",
    "ax4.set_xlim(0,6000)"
   ]
  },
  {
   "cell_type": "code",
   "execution_count": 115,
   "id": "relative-arctic",
   "metadata": {},
   "outputs": [
    {
     "name": "stdout",
     "output_type": "stream",
     "text": [
      "(62956, 32)\n"
     ]
    }
   ],
   "source": [
    "print(df_merged.shape)"
   ]
  },
  {
   "cell_type": "code",
   "execution_count": 116,
   "id": "corrected-happening",
   "metadata": {},
   "outputs": [
    {
     "name": "stdout",
     "output_type": "stream",
     "text": [
      "(62956, 32)\n",
      "(61224, 32)\n"
     ]
    }
   ],
   "source": [
    "print(df_merged.shape)\n",
    "df_merged.dropna(how='any', axis=0, inplace=True)\n",
    "print(df_merged.shape)"
   ]
  },
  {
   "cell_type": "code",
   "execution_count": 117,
   "id": "mental-harrison",
   "metadata": {},
   "outputs": [],
   "source": [
    "df_merged.to_csv('datasets/df_merged_dataset.csv', index=False)"
   ]
  },
  {
   "cell_type": "markdown",
   "id": "human-order",
   "metadata": {},
   "source": [
    "**Encode**"
   ]
  },
  {
   "cell_type": "code",
   "execution_count": 118,
   "id": "certified-darwin",
   "metadata": {},
   "outputs": [
    {
     "data": {
      "text/plain": [
       "Index(['valeur_fonciere', 'adresse_numero', 'Code INSEE', 'nom_commune',\n",
       "       'code_departement', 'nombre_lots', 'code_type_local',\n",
       "       'surface_reelle_bati', 'nombre_pieces_principales', 'surface_terrain',\n",
       "       'Year', 'Month', 'Prix_m2', 'jour_de_semaine', 'nom_comm', 'code_dept',\n",
       "       'code_reg', 'superficie_km2', 'lat', 'lng', 'age_mean', 'age_std',\n",
       "       'age_median', 'population', 'merge1', 'Foyer', 'Nbr_p_Foyer',\n",
       "       'revenue_median', 'revenue_inequalities', 'merge2', 'density',\n",
       "       '_merge'],\n",
       "      dtype='object')"
      ]
     },
     "execution_count": 118,
     "metadata": {},
     "output_type": "execute_result"
    }
   ],
   "source": [
    "df_merged.columns"
   ]
  },
  {
   "cell_type": "markdown",
   "id": "reverse-costs",
   "metadata": {},
   "source": [
    "# Machine learning"
   ]
  },
  {
   "cell_type": "markdown",
   "id": "metallic-luxury",
   "metadata": {},
   "source": [
    "Dataset Preparation (Splitting and Scaling)"
   ]
  },
  {
   "cell_type": "code",
   "execution_count": 211,
   "id": "adaptive-secretariat",
   "metadata": {},
   "outputs": [],
   "source": [
    "from sklearn.model_selection import train_test_split\n",
    "\n",
    "numeric_features = ['nombre_lots','surface_reelle_bati','nombre_pieces_principales','surface_terrain','superficie_km2',\n",
    "                    'age_median','revenue_median','population','density']\n",
    "categorical_features = ['adresse_numero','code_type_local','Month','code_departement']\n",
    "\n",
    "col_X = numeric_features+categorical_features\n",
    "\n",
    "X = df_merged[col_X].values\n",
    "y = df_merged['valeur_fonciere'].values\n",
    "\n",
    "X_train, X_test, y_train, y_test = train_test_split(X, y, test_size=0.25)"
   ]
  },
  {
   "cell_type": "code",
   "execution_count": 156,
   "id": "settled-lloyd",
   "metadata": {},
   "outputs": [],
   "source": [
    "from sklearn.preprocessing import StandardScaler\n",
    "s_scaler = StandardScaler()\n",
    "X_train = s_scaler.fit_transform(X_train.astype(np.float))\n",
    "X_test = s_scaler.transform(X_test.astype(np.float))"
   ]
  },
  {
   "cell_type": "markdown",
   "id": "analyzed-insurance",
   "metadata": {},
   "source": [
    "LinearRegression"
   ]
  },
  {
   "cell_type": "code",
   "execution_count": 277,
   "id": "registered-argentina",
   "metadata": {},
   "outputs": [
    {
     "name": "stdout",
     "output_type": "stream",
     "text": [
      "389128.36400648445\n",
      "[  3497.30338554  48945.19614355  -5071.6817572    6603.82293599\n",
      "   3794.03271106  -3893.64326644  70736.71902169  40053.9908556\n",
      "  80291.29527865  -3535.4961149  -43389.61246607    897.01584355\n",
      "   7701.30393134]\n"
     ]
    }
   ],
   "source": [
    "# Multiple Liner Regression\n",
    "from sklearn.linear_model import LinearRegression\n",
    "model_regressor = LinearRegression()  \n",
    "model_regressor.fit(X_train, y_train)\n",
    "\n",
    "#evaluate the model (intercept and slope)\n",
    "print(regressor.intercept_)\n",
    "print(regressor.coef_)\n",
    "\n",
    "#predicting the test set result\n",
    "y_pred_model1 = model_regressor.predict(X_test)\n"
   ]
  },
  {
   "cell_type": "code",
   "execution_count": 279,
   "id": "loose-resolution",
   "metadata": {},
   "outputs": [
    {
     "name": "stdout",
     "output_type": "stream",
     "text": [
      "model R2 score: 0.533\n",
      "model regressor MSE is:  10849682314.1255\n"
     ]
    }
   ],
   "source": [
    "print(\"model R2 score: %.3f\" % model_regressor.score(X_test, y_test))\n",
    "\n",
    "from sklearn.metrics import mean_squared_error\n",
    "\n",
    "MSE = mean_squared_error(y_test, y_pred_model1)\n",
    "print('model regressor MSE is: ', MSE)\n"
   ]
  },
  {
   "cell_type": "code",
   "execution_count": 298,
   "id": "reliable-onion",
   "metadata": {},
   "outputs": [
    {
     "data": {
      "text/html": [
       "<div>\n",
       "<style scoped>\n",
       "    .dataframe tbody tr th:only-of-type {\n",
       "        vertical-align: middle;\n",
       "    }\n",
       "\n",
       "    .dataframe tbody tr th {\n",
       "        vertical-align: top;\n",
       "    }\n",
       "\n",
       "    .dataframe thead th {\n",
       "        text-align: right;\n",
       "    }\n",
       "</style>\n",
       "<table border=\"1\" class=\"dataframe\">\n",
       "  <thead>\n",
       "    <tr style=\"text-align: right;\">\n",
       "      <th></th>\n",
       "      <th>Model</th>\n",
       "      <th>R2</th>\n",
       "      <th>MSE</th>\n",
       "    </tr>\n",
       "  </thead>\n",
       "  <tbody>\n",
       "    <tr>\n",
       "      <th>0</th>\n",
       "      <td>LinearRegression</td>\n",
       "      <td>0.533473</td>\n",
       "      <td>1.084968e+10</td>\n",
       "    </tr>\n",
       "  </tbody>\n",
       "</table>\n",
       "</div>"
      ],
      "text/plain": [
       "              Model        R2           MSE\n",
       "0  LinearRegression  0.533473  1.084968e+10"
      ]
     },
     "execution_count": 298,
     "metadata": {},
     "output_type": "execute_result"
    }
   ],
   "source": [
    "#score collector\n",
    "score_data = {'Model':['LinearRegression'],'R2':[model_regressor.score(X_test, y_test)],'MSE':[MSE]}\n",
    "score_collector = pd.DataFrame(score_data)\n",
    "score_collector"
   ]
  },
  {
   "cell_type": "code",
   "execution_count": 165,
   "id": "applicable-queen",
   "metadata": {},
   "outputs": [
    {
     "name": "stderr",
     "output_type": "stream",
     "text": [
      "C:\\Users\\Administrateur\\anaconda3\\envs\\tf\\lib\\site-packages\\seaborn\\distributions.py:2557: FutureWarning: `distplot` is a deprecated function and will be removed in a future version. Please adapt your code to use either `displot` (a figure-level function with similar flexibility) or `histplot` (an axes-level function for histograms).\n",
      "  warnings.warn(msg, FutureWarning)\n"
     ]
    },
    {
     "data": {
      "text/plain": [
       "<AxesSubplot:ylabel='Density'>"
      ]
     },
     "execution_count": 165,
     "metadata": {},
     "output_type": "execute_result"
    },
    {
     "data": {
      "image/png": "[encoded data removed]",
      "text/plain": [
       "<Figure size 576x288 with 1 Axes>"
      ]
     },
     "metadata": {
      "needs_background": "light"
     },
     "output_type": "display_data"
    }
   ],
   "source": [
    "# visualizing residuals\n",
    "fig = plt.figure(figsize=(8,4))\n",
    "residuals = (y_test- y_pred_model1)\n",
    "sns.distplot(residuals)"
   ]
  },
  {
   "cell_type": "markdown",
   "id": "improved-undergraduate",
   "metadata": {},
   "source": [
    "Ensemble Learning -Boosting -Xgboost"
   ]
  },
  {
   "cell_type": "code",
   "execution_count": 170,
   "id": "primary-perth",
   "metadata": {},
   "outputs": [
    {
     "name": "stdout",
     "output_type": "stream",
     "text": [
      "model score: 0.694\n"
     ]
    }
   ],
   "source": [
    "import xgboost as xgb \n",
    "\n",
    "model_xgb = xgb.XGBRegressor(objective ='reg:squarederror', n_estimators = 200, verbosity=1)\n",
    "\n",
    "model_xgb.fit(X_train, y_train)\n",
    "print(\"model score: %.3f\" % model_xgb.score(X_test, y_test))"
   ]
  },
  {
   "cell_type": "markdown",
   "id": "directed-computer",
   "metadata": {},
   "source": [
    "XGBoosting with GridSearch"
   ]
  },
  {
   "cell_type": "code",
   "execution_count": 184,
   "id": "indian-penalty",
   "metadata": {},
   "outputs": [
    {
     "name": "stdout",
     "output_type": "stream",
     "text": [
      "-7138568635.188904\n",
      "{'n_estimators': 200}\n"
     ]
    }
   ],
   "source": [
    "from sklearn.model_selection import GridSearchCV\n",
    "\n",
    "# Round 1 Grid search for n_estimators\n",
    "xgb_model_r1 = xgb.XGBRegressor(max_depth=5,learning_rate= 0.1, verbosity=1, \n",
    "                              objective='reg:squarederror',random_state=1)\n",
    "\n",
    "grid_r1= GridSearchCV(xgb_model_r1, {'n_estimators': [20,50,100,150,200]}, scoring='neg_mean_squared_error', cv=10)\n",
    "grid_r1.fit(X_train,y_train)\n",
    "\n",
    "#get the best score and parameters\n",
    "\n",
    "print(grid_r1.best_score_)\n",
    "print(grid_r1.best_params_)\n",
    "\n"
   ]
  },
  {
   "cell_type": "code",
   "execution_count": 186,
   "id": "infectious-invitation",
   "metadata": {
    "scrolled": true
   },
   "outputs": [
    {
     "name": "stdout",
     "output_type": "stream",
     "text": [
      "-7025000191.570776\n",
      "{'max_depth': 7, 'min_child_weight': 1}\n"
     ]
    }
   ],
   "source": [
    "# Round 2 Grid search for max_depth and min_child_weight\n",
    "xgb_model_r2 = xgb.XGBRegressor(n_estimators=200, learning_rate= 0.1, verbosity=1,\n",
    "                                 objective='reg:squarederror',random_state=1)\n",
    "param_r2 = {\n",
    " 'max_depth':range(3,12,1),\n",
    " 'min_child_weight':range(1,6,2)}\n",
    "\n",
    "grid_r2= GridSearchCV(xgb_model_r2, param_grid = param_r2, scoring='neg_mean_squared_error', cv=10)\n",
    "grid_r2.fit(X_train,y_train)\n",
    "\n",
    "#get the best score and parameters\n",
    "print(grid_r2.best_score_)\n",
    "print(grid_r2.best_params_)"
   ]
  },
  {
   "cell_type": "code",
   "execution_count": 289,
   "id": "expressed-belarus",
   "metadata": {},
   "outputs": [
    {
     "name": "stdout",
     "output_type": "stream",
     "text": [
      "model R2 score: 0.700\n",
      "model xgboost MSE is:  6968045653.300115\n"
     ]
    }
   ],
   "source": [
    "xgb_model_final = xgb.XGBRegressor(n_estimators=200, max_depth=7, min_child_weight=1, learning_rate= 0.1, verbosity=1,\n",
    "                                   objective='reg:squarederror',random_state=1)\n",
    "\n",
    "xgb_model_final.fit(X_train,y_train)\n",
    "y_pred_final = xgb_model_final.predict(X_test)\n",
    "\n",
    "print(\"model R2 score: %.3f\" % xgb_model_final.score(X_test, y_test))\n",
    "MSE_xgb_test = mean_squared_error(y_test, y_pred_final)\n",
    "print('model xgboost MSE is: ', MSE_xgb_test)"
   ]
  },
  {
   "cell_type": "code",
   "execution_count": 299,
   "id": "enclosed-farmer",
   "metadata": {},
   "outputs": [
    {
     "data": {
      "text/html": [
       "<div>\n",
       "<style scoped>\n",
       "    .dataframe tbody tr th:only-of-type {\n",
       "        vertical-align: middle;\n",
       "    }\n",
       "\n",
       "    .dataframe tbody tr th {\n",
       "        vertical-align: top;\n",
       "    }\n",
       "\n",
       "    .dataframe thead th {\n",
       "        text-align: right;\n",
       "    }\n",
       "</style>\n",
       "<table border=\"1\" class=\"dataframe\">\n",
       "  <thead>\n",
       "    <tr style=\"text-align: right;\">\n",
       "      <th></th>\n",
       "      <th>Model</th>\n",
       "      <th>R2</th>\n",
       "      <th>MSE</th>\n",
       "    </tr>\n",
       "  </thead>\n",
       "  <tbody>\n",
       "    <tr>\n",
       "      <th>0</th>\n",
       "      <td>LinearRegression</td>\n",
       "      <td>0.533473</td>\n",
       "      <td>1.084968e+10</td>\n",
       "    </tr>\n",
       "    <tr>\n",
       "      <th>1</th>\n",
       "      <td>XGBRegressor</td>\n",
       "      <td>0.700380</td>\n",
       "      <td>6.968046e+09</td>\n",
       "    </tr>\n",
       "  </tbody>\n",
       "</table>\n",
       "</div>"
      ],
      "text/plain": [
       "              Model        R2           MSE\n",
       "0  LinearRegression  0.533473  1.084968e+10\n",
       "1      XGBRegressor  0.700380  6.968046e+09"
      ]
     },
     "execution_count": 299,
     "metadata": {},
     "output_type": "execute_result"
    }
   ],
   "source": [
    "#score collector\n",
    "\n",
    "score_collector=score_collector.append({'Model':'XGBRegressor','R2':xgb_model_final.score(X_test, y_test),'MSE':MSE_xgb_test}, ignore_index=True)\n",
    "\n",
    "score_collector"
   ]
  },
  {
   "cell_type": "code",
   "execution_count": 290,
   "id": "hybrid-windows",
   "metadata": {},
   "outputs": [
    {
     "name": "stderr",
     "output_type": "stream",
     "text": [
      "C:\\Users\\Administrateur\\anaconda3\\envs\\tf\\lib\\site-packages\\seaborn\\distributions.py:2557: FutureWarning: `distplot` is a deprecated function and will be removed in a future version. Please adapt your code to use either `displot` (a figure-level function with similar flexibility) or `histplot` (an axes-level function for histograms).\n",
      "  warnings.warn(msg, FutureWarning)\n"
     ]
    },
    {
     "data": {
      "text/plain": [
       "<AxesSubplot:ylabel='Density'>"
      ]
     },
     "execution_count": 290,
     "metadata": {},
     "output_type": "execute_result"
    },
    {
     "data": {
      "image/png": "[encoded data removed]",
      "text/plain": [
       "<Figure size 576x288 with 1 Axes>"
      ]
     },
     "metadata": {
      "needs_background": "light"
     },
     "output_type": "display_data"
    }
   ],
   "source": [
    "# visualizing residuals\n",
    "fig = plt.figure(figsize=(8,4))\n",
    "residuals = (y_test- y_pred_final)\n",
    "sns.distplot(residuals)"
   ]
  },
  {
   "cell_type": "markdown",
   "id": "classical-supervisor",
   "metadata": {},
   "source": [
    "Ensemble Learning -Bagging -RandomForestRegressor"
   ]
  },
  {
   "cell_type": "code",
   "execution_count": 196,
   "id": "confidential-stationery",
   "metadata": {},
   "outputs": [
    {
     "name": "stdout",
     "output_type": "stream",
     "text": [
      "Fitting 10 folds for each of 8 candidates, totalling 80 fits\n"
     ]
    },
    {
     "name": "stderr",
     "output_type": "stream",
     "text": [
      "[Parallel(n_jobs=1)]: Using backend SequentialBackend with 1 concurrent workers.\n",
      "[Parallel(n_jobs=1)]: Done  80 out of  80 | elapsed:  7.3min finished\n"
     ]
    },
    {
     "name": "stdout",
     "output_type": "stream",
     "text": [
      "-8017138025.032865\n",
      "{'n_estimators': 150}\n"
     ]
    }
   ],
   "source": [
    "from sklearn.ensemble import RandomForestRegressor\n",
    "\n",
    "#Grid CV round1\n",
    "param_test1 = {'n_estimators':[10,20,40,60,80,100,150,200]}\n",
    "gsearch1 = GridSearchCV(estimator = RandomForestRegressor(min_samples_split=100,min_samples_leaf=20,\n",
    "                                                          max_depth=8,max_features='auto' ,random_state=10), \n",
    "                        param_grid = param_test1, scoring='neg_mean_squared_error',cv=10, verbose=1)\n",
    "\n",
    "gsearch1.fit(X_train,y_train)\n",
    "\n",
    "#get the best score and parameters\n",
    "print(gsearch1.best_score_)\n",
    "print(gsearch1.best_params_)"
   ]
  },
  {
   "cell_type": "code",
   "execution_count": 199,
   "id": "humanitarian-miniature",
   "metadata": {},
   "outputs": [
    {
     "name": "stdout",
     "output_type": "stream",
     "text": [
      "Fitting 10 folds for each of 48 candidates, totalling 480 fits\n"
     ]
    },
    {
     "name": "stderr",
     "output_type": "stream",
     "text": [
      "[Parallel(n_jobs=1)]: Using backend SequentialBackend with 1 concurrent workers.\n",
      "[Parallel(n_jobs=1)]: Done 480 out of 480 | elapsed: 77.7min finished\n",
      "C:\\Users\\Administrateur\\anaconda3\\envs\\tf\\lib\\site-packages\\sklearn\\model_selection\\_search.py:847: FutureWarning: The parameter 'iid' is deprecated in 0.22 and will be removed in 0.24.\n",
      "  warnings.warn(\n"
     ]
    },
    {
     "name": "stdout",
     "output_type": "stream",
     "text": [
      "-7352528589.10351\n",
      "{'max_depth': 13, 'min_samples_split': 50}\n"
     ]
    },
    {
     "ename": "NameError",
     "evalue": "name 'RandomForestClassifier' is not defined",
     "output_type": "error",
     "traceback": [
      "\u001b[1;31m---------------------------------------------------------------------------\u001b[0m",
      "\u001b[1;31mNameError\u001b[0m                                 Traceback (most recent call last)",
      "\u001b[1;32m<ipython-input-199-2ca4d80a870b>\u001b[0m in \u001b[0;36m<module>\u001b[1;34m\u001b[0m\n\u001b[0;32m     12\u001b[0m \u001b[1;33m\u001b[0m\u001b[0m\n\u001b[0;32m     13\u001b[0m \u001b[1;31m#通过Grid search找到的最佳参数，查看模型的袋外分数(袋外样本可以用作validation data)\u001b[0m\u001b[1;33m\u001b[0m\u001b[1;33m\u001b[0m\u001b[1;33m\u001b[0m\u001b[0m\n\u001b[1;32m---> 14\u001b[1;33m rf1 = RandomForestClassifier(n_estimators= 60, max_depth=13, min_samples_split=110,\n\u001b[0m\u001b[0;32m     15\u001b[0m                                   min_samples_leaf=20,max_features='auto' ,oob_score=True, random_state=10)\n\u001b[0;32m     16\u001b[0m \u001b[0mrf1\u001b[0m\u001b[1;33m.\u001b[0m\u001b[0mfit\u001b[0m\u001b[1;33m(\u001b[0m\u001b[0mX\u001b[0m\u001b[1;33m,\u001b[0m\u001b[0my\u001b[0m\u001b[1;33m)\u001b[0m\u001b[1;33m\u001b[0m\u001b[1;33m\u001b[0m\u001b[0m\n",
      "\u001b[1;31mNameError\u001b[0m: name 'RandomForestClassifier' is not defined"
     ]
    }
   ],
   "source": [
    "#Grid CV round2\n",
    "param_test2 = {'max_depth':[3,5,7,9,11,13], 'min_samples_split':[50,70,90,110,130,150,170,190]}\n",
    "gsearch2 = GridSearchCV(estimator = RandomForestRegressor(n_estimators= 150, min_samples_leaf=20,\n",
    "                                                           max_features='auto',oob_score=True, random_state=10),\n",
    "                        param_grid = param_test2, scoring='neg_mean_squared_error',iid=False, cv=10, verbose=1)\n",
    "\n",
    "gsearch2.fit(X_train,y_train)\n",
    "\n",
    "#get the best score and parameters\n",
    "print(gsearch2.best_score_)\n",
    "print(gsearch2.best_params_)\n"
   ]
  },
  {
   "cell_type": "code",
   "execution_count": 201,
   "id": "cardiovascular-international",
   "metadata": {},
   "outputs": [
    {
     "name": "stdout",
     "output_type": "stream",
     "text": [
      "0.686145432811083\n"
     ]
    }
   ],
   "source": [
    "#validation data)\n",
    "rf1 = RandomForestRegressor(n_estimators= 150, max_depth=13, min_samples_split=50,\n",
    "                                  min_samples_leaf=20,max_features='auto' ,oob_score=True, random_state=10)\n",
    "rf1.fit(X_train,y_train)\n",
    "#\n",
    "print (rf1.oob_score_)"
   ]
  },
  {
   "cell_type": "code",
   "execution_count": 301,
   "id": "related-newspaper",
   "metadata": {},
   "outputs": [
    {
     "name": "stdout",
     "output_type": "stream",
     "text": [
      "model R2 score: 0.688\n",
      "model Random Forest MSE is:  7262022960.978384\n"
     ]
    }
   ],
   "source": [
    "rf_model_final = RandomForestRegressor(n_estimators= 150, max_depth=13 , min_samples_split=50,min_samples_leaf=20,\n",
    "                                       max_features='auto', random_state=10)\n",
    "\n",
    "rf_model_final.fit(X_train,y_train)\n",
    "y_pred_rf_final = rf_model_final.predict(X_test)\n",
    "\n",
    "print(\"model R2 score: %.3f\" % rf_model_final.score(X_test, y_test))\n",
    "MSE_rf_test = mean_squared_error(y_test, y_pred_rf_final)\n",
    "print('model Random Forest MSE is: ', MSE_rf_test)"
   ]
  },
  {
   "cell_type": "code",
   "execution_count": 303,
   "id": "inappropriate-snapshot",
   "metadata": {},
   "outputs": [
    {
     "data": {
      "text/html": [
       "<div>\n",
       "<style scoped>\n",
       "    .dataframe tbody tr th:only-of-type {\n",
       "        vertical-align: middle;\n",
       "    }\n",
       "\n",
       "    .dataframe tbody tr th {\n",
       "        vertical-align: top;\n",
       "    }\n",
       "\n",
       "    .dataframe thead th {\n",
       "        text-align: right;\n",
       "    }\n",
       "</style>\n",
       "<table border=\"1\" class=\"dataframe\">\n",
       "  <thead>\n",
       "    <tr style=\"text-align: right;\">\n",
       "      <th></th>\n",
       "      <th>Model</th>\n",
       "      <th>R2</th>\n",
       "      <th>MSE</th>\n",
       "    </tr>\n",
       "  </thead>\n",
       "  <tbody>\n",
       "    <tr>\n",
       "      <th>0</th>\n",
       "      <td>LinearRegression</td>\n",
       "      <td>0.533473</td>\n",
       "      <td>1.084968e+10</td>\n",
       "    </tr>\n",
       "    <tr>\n",
       "      <th>1</th>\n",
       "      <td>XGBRegressor</td>\n",
       "      <td>0.700380</td>\n",
       "      <td>6.968046e+09</td>\n",
       "    </tr>\n",
       "    <tr>\n",
       "      <th>2</th>\n",
       "      <td>RandomForestRegressor</td>\n",
       "      <td>0.687739</td>\n",
       "      <td>7.262023e+09</td>\n",
       "    </tr>\n",
       "  </tbody>\n",
       "</table>\n",
       "</div>"
      ],
      "text/plain": [
       "                   Model        R2           MSE\n",
       "0       LinearRegression  0.533473  1.084968e+10\n",
       "1           XGBRegressor  0.700380  6.968046e+09\n",
       "2  RandomForestRegressor  0.687739  7.262023e+09"
      ]
     },
     "execution_count": 303,
     "metadata": {},
     "output_type": "execute_result"
    }
   ],
   "source": [
    "#score collector\n",
    "\n",
    "score_collector=score_collector.append({'Model':'RandomForestRegressor','R2':rf_model_final.score(X_test, y_test),'MSE':MSE_rf_test}, ignore_index=True)\n",
    "\n",
    "score_collector"
   ]
  },
  {
   "cell_type": "markdown",
   "id": "guilty-carolina",
   "metadata": {},
   "source": [
    "# Deep Learning neural network model"
   ]
  },
  {
   "cell_type": "markdown",
   "id": "charged-threat",
   "metadata": {},
   "source": [
    "Split data in train, validation and test data"
   ]
  },
  {
   "cell_type": "code",
   "execution_count": 220,
   "id": "identified-rescue",
   "metadata": {},
   "outputs": [
    {
     "name": "stdout",
     "output_type": "stream",
     "text": [
      "(61224, 13)\n",
      "(36734, 13)\n",
      "(12245, 13)\n",
      "(12245, 13)\n"
     ]
    }
   ],
   "source": [
    "X = np.asarray(X).astype('float32')\n",
    "\n",
    "X_train_val, X_test, y_train_val, y_test = train_test_split(X, y, test_size=0.2, random_state=1)\n",
    "\n",
    "X_train, X_val, y_train, y_val = train_test_split(X_train_val, y_train_val, test_size=0.25, random_state=1) # 0.25 x 0.8 = 0.2\n",
    "    \n",
    "print(X.shape)\n",
    "print(X_train.shape)\n",
    "print(X_val.shape)\n",
    "print(X_test.shape)\n"
   ]
  },
  {
   "cell_type": "code",
   "execution_count": 221,
   "id": "transsexual-walker",
   "metadata": {},
   "outputs": [],
   "source": [
    "# Creating a Neural Network Model\n",
    "from tensorflow.keras.models import Sequential\n",
    "from keras import layers\n",
    "from tensorflow.keras.layers import Dense, Activation\n",
    "from tensorflow.keras.optimizers import Adam"
   ]
  },
  {
   "cell_type": "code",
   "execution_count": 274,
   "id": "polished-melbourne",
   "metadata": {},
   "outputs": [
    {
     "name": "stdout",
     "output_type": "stream",
     "text": [
      "Model: \"sequential_9\"\n",
      "_________________________________________________________________\n",
      "Layer (type)                 Output Shape              Param #   \n",
      "=================================================================\n",
      "dense_36 (Dense)             (None, 64)                896       \n",
      "_________________________________________________________________\n",
      "dense_37 (Dense)             (None, 64)                4160      \n",
      "_________________________________________________________________\n",
      "dense_38 (Dense)             (None, 64)                4160      \n",
      "_________________________________________________________________\n",
      "dense_39 (Dense)             (None, 1)                 65        \n",
      "=================================================================\n",
      "Total params: 9,281\n",
      "Trainable params: 9,281\n",
      "Non-trainable params: 0\n",
      "_________________________________________________________________\n"
     ]
    }
   ],
   "source": [
    "# Build neuron model\n",
    "model_dl = Sequential() \n",
    "model_dl.add(layers.Dense(64, activation='relu',input_shape=(X_train.shape[1],))) \n",
    "model_dl.add(layers.Dense(64, activation='relu'))\n",
    "model_dl.add(layers.Dense(64, activation='relu'))\n",
    "model_dl.add(layers.Dense(1))\n",
    "\n",
    "model_dl.summary()"
   ]
  },
  {
   "cell_type": "code",
   "execution_count": 275,
   "id": "ambient-recommendation",
   "metadata": {
    "scrolled": true
   },
   "outputs": [
    {
     "name": "stdout",
     "output_type": "stream",
     "text": [
      "Epoch 1/500\n",
      "287/287 [==============================] - 0s 1ms/step - loss: 36474077184.0000 - mae: 142951.2656 - val_loss: 14845579264.0000 - val_mae: 96032.9141\n",
      "Epoch 2/500\n",
      "287/287 [==============================] - 0s 995us/step - loss: 14657851392.0000 - mae: 95330.1484 - val_loss: 14610323456.0000 - val_mae: 95214.5859\n",
      "Epoch 3/500\n",
      "287/287 [==============================] - 0s 997us/step - loss: 14414210048.0000 - mae: 94416.3359 - val_loss: 14415974400.0000 - val_mae: 94236.7578\n",
      "Epoch 4/500\n",
      "287/287 [==============================] - 0s 984us/step - loss: 14219745280.0000 - mae: 93683.1172 - val_loss: 14128530432.0000 - val_mae: 93333.6406\n",
      "Epoch 5/500\n",
      "287/287 [==============================] - 0s 1ms/step - loss: 13950060544.0000 - mae: 92686.5156 - val_loss: 13803705344.0000 - val_mae: 91952.2422\n",
      "Epoch 6/500\n",
      "287/287 [==============================] - 0s 1ms/step - loss: 13614542848.0000 - mae: 91558.3125 - val_loss: 13374921728.0000 - val_mae: 90540.3359\n",
      "Epoch 7/500\n",
      "287/287 [==============================] - 0s 1ms/step - loss: 13159726080.0000 - mae: 89902.2656 - val_loss: 12919541760.0000 - val_mae: 89042.5781\n",
      "Epoch 8/500\n",
      "287/287 [==============================] - 0s 1ms/step - loss: 12859174912.0000 - mae: 88745.9844 - val_loss: 12694502400.0000 - val_mae: 88435.9375\n",
      "Epoch 9/500\n",
      "287/287 [==============================] - 0s 1ms/step - loss: 12692964352.0000 - mae: 88172.5391 - val_loss: 12540451840.0000 - val_mae: 87951.2266\n",
      "Epoch 10/500\n",
      "287/287 [==============================] - 0s 1ms/step - loss: 12571001856.0000 - mae: 87775.7109 - val_loss: 12450518016.0000 - val_mae: 87483.1797\n",
      "Epoch 11/500\n",
      "287/287 [==============================] - 0s 1ms/step - loss: 12509149184.0000 - mae: 87555.9688 - val_loss: 12394791936.0000 - val_mae: 87262.9766\n",
      "Epoch 12/500\n",
      "287/287 [==============================] - 0s 962us/step - loss: 12431811584.0000 - mae: 87261.0469 - val_loss: 12326520832.0000 - val_mae: 87074.5000\n",
      "Epoch 13/500\n",
      "287/287 [==============================] - 0s 1ms/step - loss: 12332735488.0000 - mae: 86876.5547 - val_loss: 12361359360.0000 - val_mae: 87348.0234\n",
      "Epoch 14/500\n",
      "287/287 [==============================] - 0s 958us/step - loss: 12269102080.0000 - mae: 86623.7812 - val_loss: 12249398272.0000 - val_mae: 86815.2500\n",
      "Epoch 15/500\n",
      "287/287 [==============================] - 0s 1ms/step - loss: 12251164672.0000 - mae: 86568.3438 - val_loss: 12194575360.0000 - val_mae: 86135.8438\n",
      "Epoch 16/500\n",
      "287/287 [==============================] - 0s 1ms/step - loss: 12141316096.0000 - mae: 86060.9609 - val_loss: 12019377152.0000 - val_mae: 85744.7188\n",
      "Epoch 17/500\n",
      "287/287 [==============================] - 0s 1ms/step - loss: 12103494656.0000 - mae: 85858.6875 - val_loss: 12306113536.0000 - val_mae: 86618.8047\n",
      "Epoch 18/500\n",
      "287/287 [==============================] - 0s 1ms/step - loss: 12028434432.0000 - mae: 85656.3516 - val_loss: 11870640128.0000 - val_mae: 85016.3906\n",
      "Epoch 19/500\n",
      "287/287 [==============================] - 0s 959us/step - loss: 11903045632.0000 - mae: 85053.6406 - val_loss: 11889423360.0000 - val_mae: 84653.6250\n",
      "Epoch 20/500\n",
      "287/287 [==============================] - 0s 979us/step - loss: 11822312448.0000 - mae: 84748.7500 - val_loss: 11740050432.0000 - val_mae: 85290.4062\n",
      "Epoch 21/500\n",
      "287/287 [==============================] - 0s 973us/step - loss: 11751377920.0000 - mae: 84413.6406 - val_loss: 12899902464.0000 - val_mae: 89771.2969\n",
      "Epoch 22/500\n",
      "287/287 [==============================] - 0s 1ms/step - loss: 11691964416.0000 - mae: 84074.8438 - val_loss: 11495149568.0000 - val_mae: 83065.1562\n",
      "Epoch 23/500\n",
      "287/287 [==============================] - 0s 961us/step - loss: 11512324096.0000 - mae: 83353.9844 - val_loss: 11299832832.0000 - val_mae: 82497.1875\n",
      "Epoch 24/500\n",
      "287/287 [==============================] - 0s 984us/step - loss: 11370835968.0000 - mae: 82723.8359 - val_loss: 11260368896.0000 - val_mae: 82199.4453\n",
      "Epoch 25/500\n",
      "287/287 [==============================] - 0s 979us/step - loss: 11328282624.0000 - mae: 82507.2031 - val_loss: 11099615232.0000 - val_mae: 81987.5391\n",
      "Epoch 26/500\n",
      "287/287 [==============================] - 0s 1ms/step - loss: 11146943488.0000 - mae: 81722.9688 - val_loss: 11137796096.0000 - val_mae: 82180.3516\n",
      "Epoch 27/500\n",
      "287/287 [==============================] - 0s 1ms/step - loss: 11012979712.0000 - mae: 81110.2656 - val_loss: 10979448832.0000 - val_mae: 81501.9062\n",
      "Epoch 28/500\n",
      "287/287 [==============================] - 0s 945us/step - loss: 11038141440.0000 - mae: 81105.5312 - val_loss: 10836262912.0000 - val_mae: 80197.5078\n",
      "Epoch 29/500\n",
      "287/287 [==============================] - 0s 994us/step - loss: 10957666304.0000 - mae: 80592.3125 - val_loss: 11141099520.0000 - val_mae: 81118.6562\n",
      "Epoch 30/500\n",
      "287/287 [==============================] - 0s 961us/step - loss: 10863254528.0000 - mae: 80070.6562 - val_loss: 10634258432.0000 - val_mae: 80212.7812\n",
      "Epoch 31/500\n",
      "287/287 [==============================] - 0s 966us/step - loss: 10636183552.0000 - mae: 79220.4219 - val_loss: 10500158464.0000 - val_mae: 79235.4688\n",
      "Epoch 32/500\n",
      "287/287 [==============================] - 0s 939us/step - loss: 10577642496.0000 - mae: 78790.3594 - val_loss: 10379834368.0000 - val_mae: 78487.0312\n",
      "Epoch 33/500\n",
      "287/287 [==============================] - 0s 1ms/step - loss: 10496529408.0000 - mae: 78331.1250 - val_loss: 10816247808.0000 - val_mae: 79422.3828\n",
      "Epoch 34/500\n",
      "287/287 [==============================] - 0s 1ms/step - loss: 10414267392.0000 - mae: 77966.7891 - val_loss: 10270804992.0000 - val_mae: 77834.8594\n",
      "Epoch 35/500\n",
      "287/287 [==============================] - 0s 947us/step - loss: 10432261120.0000 - mae: 77910.2109 - val_loss: 10204893184.0000 - val_mae: 76927.2812\n",
      "Epoch 36/500\n",
      "287/287 [==============================] - 0s 1ms/step - loss: 10343680000.0000 - mae: 77442.3203 - val_loss: 10261251072.0000 - val_mae: 77538.0859\n",
      "Epoch 37/500\n",
      "287/287 [==============================] - 0s 1ms/step - loss: 10203862016.0000 - mae: 76873.6562 - val_loss: 10213061632.0000 - val_mae: 76245.9375\n",
      "Epoch 38/500\n",
      "287/287 [==============================] - 0s 972us/step - loss: 10180786176.0000 - mae: 76561.0234 - val_loss: 10184143872.0000 - val_mae: 76881.3438\n",
      "Epoch 39/500\n",
      "287/287 [==============================] - 0s 979us/step - loss: 10195757056.0000 - mae: 76570.5000 - val_loss: 10849438720.0000 - val_mae: 79009.5234\n",
      "Epoch 40/500\n",
      "287/287 [==============================] - 0s 982us/step - loss: 10265631744.0000 - mae: 76874.4453 - val_loss: 9986353152.0000 - val_mae: 76168.0781\n",
      "Epoch 41/500\n",
      "287/287 [==============================] - 0s 975us/step - loss: 9993712640.0000 - mae: 75631.0938 - val_loss: 9930742784.0000 - val_mae: 75905.5703\n",
      "Epoch 42/500\n",
      "287/287 [==============================] - 0s 950us/step - loss: 10113464320.0000 - mae: 76022.9609 - val_loss: 9825774592.0000 - val_mae: 75010.7422\n",
      "Epoch 43/500\n",
      "287/287 [==============================] - 0s 958us/step - loss: 10031968256.0000 - mae: 75703.7578 - val_loss: 9814542336.0000 - val_mae: 75232.5703\n",
      "Epoch 44/500\n",
      "287/287 [==============================] - 0s 959us/step - loss: 9922172928.0000 - mae: 75055.0703 - val_loss: 9747692544.0000 - val_mae: 74916.7656\n",
      "Epoch 45/500\n",
      "287/287 [==============================] - 0s 989us/step - loss: 9979172864.0000 - mae: 75467.3672 - val_loss: 11339373568.0000 - val_mae: 80979.6250\n",
      "Epoch 46/500\n",
      "287/287 [==============================] - 0s 965us/step - loss: 9951551488.0000 - mae: 75194.0000 - val_loss: 9716319232.0000 - val_mae: 74469.5234\n",
      "Epoch 47/500\n",
      "287/287 [==============================] - 0s 971us/step - loss: 9852863488.0000 - mae: 74703.0469 - val_loss: 9914253312.0000 - val_mae: 75641.0781\n",
      "Epoch 48/500\n",
      "287/287 [==============================] - 0s 986us/step - loss: 9867122688.0000 - mae: 74836.3281 - val_loss: 9694091264.0000 - val_mae: 74738.7969\n",
      "Epoch 49/500\n",
      "287/287 [==============================] - 0s 986us/step - loss: 9870811136.0000 - mae: 74836.3125 - val_loss: 9798744064.0000 - val_mae: 75785.2891\n",
      "Epoch 50/500\n",
      "287/287 [==============================] - 0s 973us/step - loss: 9754030080.0000 - mae: 74270.4141 - val_loss: 9759531008.0000 - val_mae: 75269.2422\n",
      "Epoch 51/500\n"
     ]
    },
    {
     "name": "stdout",
     "output_type": "stream",
     "text": [
      "287/287 [==============================] - 0s 952us/step - loss: 9768346624.0000 - mae: 74372.8359 - val_loss: 9586931712.0000 - val_mae: 74355.0781\n",
      "Epoch 52/500\n",
      "287/287 [==============================] - 0s 1ms/step - loss: 9738439680.0000 - mae: 74122.4141 - val_loss: 9644236800.0000 - val_mae: 74857.9766\n",
      "Epoch 53/500\n",
      "287/287 [==============================] - 0s 965us/step - loss: 9701471232.0000 - mae: 74031.7969 - val_loss: 9508467712.0000 - val_mae: 73630.9766\n",
      "Epoch 54/500\n",
      "287/287 [==============================] - 0s 979us/step - loss: 9736043520.0000 - mae: 74176.7031 - val_loss: 9503383552.0000 - val_mae: 73325.3984\n",
      "Epoch 55/500\n",
      "287/287 [==============================] - 0s 1ms/step - loss: 9691322368.0000 - mae: 73860.9062 - val_loss: 9572718592.0000 - val_mae: 73533.1797\n",
      "Epoch 56/500\n",
      "287/287 [==============================] - 0s 984us/step - loss: 9685011456.0000 - mae: 73862.5078 - val_loss: 9861858304.0000 - val_mae: 74513.2109\n",
      "Epoch 57/500\n",
      "287/287 [==============================] - 0s 996us/step - loss: 9709799424.0000 - mae: 74007.2734 - val_loss: 9492937728.0000 - val_mae: 73478.9141\n",
      "Epoch 58/500\n",
      "287/287 [==============================] - 0s 1ms/step - loss: 9623185408.0000 - mae: 73553.1641 - val_loss: 9464980480.0000 - val_mae: 73266.2031\n",
      "Epoch 59/500\n",
      "287/287 [==============================] - 0s 1ms/step - loss: 9677242368.0000 - mae: 73684.2969 - val_loss: 9638149120.0000 - val_mae: 73698.7578\n",
      "Epoch 60/500\n",
      "287/287 [==============================] - 0s 1ms/step - loss: 9691460608.0000 - mae: 73799.3438 - val_loss: 9602659328.0000 - val_mae: 74607.8828\n",
      "Epoch 61/500\n",
      "287/287 [==============================] - 0s 940us/step - loss: 9698508800.0000 - mae: 73893.2734 - val_loss: 9718179840.0000 - val_mae: 74379.2734\n",
      "Epoch 62/500\n",
      "287/287 [==============================] - 0s 958us/step - loss: 9728052224.0000 - mae: 74047.7109 - val_loss: 9728278528.0000 - val_mae: 74324.3125\n",
      "Epoch 63/500\n",
      "287/287 [==============================] - 0s 965us/step - loss: 9700003840.0000 - mae: 73908.2109 - val_loss: 9934311424.0000 - val_mae: 75769.6094\n",
      "Epoch 64/500\n",
      "287/287 [==============================] - 0s 975us/step - loss: 9647029248.0000 - mae: 73653.6406 - val_loss: 9734525952.0000 - val_mae: 74731.9062\n",
      "Epoch 65/500\n",
      "287/287 [==============================] - 0s 980us/step - loss: 9644855296.0000 - mae: 73662.6953 - val_loss: 9510168576.0000 - val_mae: 73235.6016\n",
      "Epoch 66/500\n",
      "287/287 [==============================] - 0s 964us/step - loss: 9569343488.0000 - mae: 73214.2344 - val_loss: 9454720000.0000 - val_mae: 73093.9531\n",
      "Epoch 67/500\n",
      "287/287 [==============================] - 0s 976us/step - loss: 9590746112.0000 - mae: 73320.6641 - val_loss: 9494192128.0000 - val_mae: 73331.8125\n",
      "Epoch 68/500\n",
      "287/287 [==============================] - 0s 986us/step - loss: 9591098368.0000 - mae: 73390.9297 - val_loss: 9403688960.0000 - val_mae: 73240.0391\n",
      "Epoch 69/500\n",
      "287/287 [==============================] - 0s 970us/step - loss: 9625717760.0000 - mae: 73471.8594 - val_loss: 9460723712.0000 - val_mae: 73099.6016\n",
      "Epoch 70/500\n",
      "287/287 [==============================] - 0s 954us/step - loss: 9583015936.0000 - mae: 73230.6953 - val_loss: 9413151744.0000 - val_mae: 73139.0312\n",
      "Epoch 71/500\n",
      "287/287 [==============================] - 0s 999us/step - loss: 9491922944.0000 - mae: 72960.6641 - val_loss: 9757775872.0000 - val_mae: 74724.1953\n",
      "Epoch 72/500\n",
      "287/287 [==============================] - 0s 1ms/step - loss: 9656991744.0000 - mae: 73660.5469 - val_loss: 9401078784.0000 - val_mae: 72810.7188\n",
      "Epoch 73/500\n",
      "287/287 [==============================] - 0s 1ms/step - loss: 9467679744.0000 - mae: 72867.1406 - val_loss: 9518632960.0000 - val_mae: 73134.6250\n",
      "Epoch 74/500\n",
      "287/287 [==============================] - 0s 996us/step - loss: 9574694912.0000 - mae: 73433.3281 - val_loss: 10175982592.0000 - val_mae: 75943.7344\n",
      "Epoch 75/500\n",
      "287/287 [==============================] - 0s 940us/step - loss: 9523557376.0000 - mae: 73049.0469 - val_loss: 9591558144.0000 - val_mae: 74036.4844\n",
      "Epoch 76/500\n",
      "287/287 [==============================] - 0s 987us/step - loss: 9637965824.0000 - mae: 73544.1328 - val_loss: 9436199936.0000 - val_mae: 73245.6016\n",
      "Epoch 77/500\n",
      "287/287 [==============================] - 0s 1ms/step - loss: 9560604672.0000 - mae: 73173.4453 - val_loss: 9504233472.0000 - val_mae: 73278.1953\n",
      "Epoch 78/500\n",
      "287/287 [==============================] - 0s 995us/step - loss: 9491497984.0000 - mae: 72911.5547 - val_loss: 9534485504.0000 - val_mae: 72867.2188\n",
      "Epoch 79/500\n",
      "287/287 [==============================] - 0s 978us/step - loss: 9456788480.0000 - mae: 72701.8750 - val_loss: 9605578752.0000 - val_mae: 73656.0625\n",
      "Epoch 80/500\n",
      "287/287 [==============================] - 0s 987us/step - loss: 9587308544.0000 - mae: 73275.3047 - val_loss: 9380186112.0000 - val_mae: 72911.3359\n",
      "Epoch 81/500\n",
      "287/287 [==============================] - 0s 951us/step - loss: 9611030528.0000 - mae: 73410.1719 - val_loss: 9609489408.0000 - val_mae: 73108.1328\n",
      "Epoch 82/500\n",
      "287/287 [==============================] - 0s 959us/step - loss: 9570135040.0000 - mae: 73236.1094 - val_loss: 10339085312.0000 - val_mae: 76890.5391\n",
      "Epoch 83/500\n",
      "287/287 [==============================] - 0s 981us/step - loss: 9582680064.0000 - mae: 73224.6797 - val_loss: 9503068160.0000 - val_mae: 74006.8906\n",
      "Epoch 84/500\n",
      "287/287 [==============================] - 0s 976us/step - loss: 9467088896.0000 - mae: 72890.5000 - val_loss: 9428505600.0000 - val_mae: 72804.8516\n",
      "Epoch 85/500\n",
      "287/287 [==============================] - 0s 989us/step - loss: 9448658944.0000 - mae: 72662.2266 - val_loss: 9470404608.0000 - val_mae: 73227.6641\n",
      "Epoch 86/500\n",
      "287/287 [==============================] - 0s 990us/step - loss: 9579540480.0000 - mae: 73306.0781 - val_loss: 9512622080.0000 - val_mae: 72822.2969\n",
      "Epoch 87/500\n",
      "287/287 [==============================] - 0s 991us/step - loss: 9444035584.0000 - mae: 72708.1953 - val_loss: 9413257216.0000 - val_mae: 72532.2422\n",
      "Epoch 88/500\n",
      "287/287 [==============================] - 0s 973us/step - loss: 9492770816.0000 - mae: 73036.9062 - val_loss: 9912324096.0000 - val_mae: 75168.2969\n",
      "Epoch 89/500\n",
      "287/287 [==============================] - 0s 991us/step - loss: 9528278016.0000 - mae: 72969.3281 - val_loss: 10711205888.0000 - val_mae: 77314.0156\n",
      "Epoch 90/500\n",
      "287/287 [==============================] - 0s 980us/step - loss: 9531187200.0000 - mae: 73055.0078 - val_loss: 9695255552.0000 - val_mae: 74240.4062\n",
      "Epoch 91/500\n",
      "287/287 [==============================] - 0s 1ms/step - loss: 9480894464.0000 - mae: 72828.9531 - val_loss: 9484132352.0000 - val_mae: 72590.7812\n",
      "Epoch 92/500\n",
      "287/287 [==============================] - 0s 1ms/step - loss: 9383041024.0000 - mae: 72432.5938 - val_loss: 9301465088.0000 - val_mae: 72691.1406\n",
      "Epoch 93/500\n",
      "287/287 [==============================] - 0s 1ms/step - loss: 9501925376.0000 - mae: 73019.1328 - val_loss: 9491835904.0000 - val_mae: 72912.3906\n",
      "Epoch 94/500\n",
      "287/287 [==============================] - 0s 985us/step - loss: 9424328704.0000 - mae: 72572.7734 - val_loss: 9336457216.0000 - val_mae: 72794.7891\n",
      "Epoch 95/500\n",
      "287/287 [==============================] - 0s 985us/step - loss: 9436221440.0000 - mae: 72626.1328 - val_loss: 9902439424.0000 - val_mae: 75379.1797\n",
      "Epoch 96/500\n",
      "287/287 [==============================] - 0s 1ms/step - loss: 9437999104.0000 - mae: 72651.9219 - val_loss: 9667611648.0000 - val_mae: 73951.5625\n",
      "Epoch 97/500\n",
      "287/287 [==============================] - 0s 1ms/step - loss: 9428595712.0000 - mae: 72580.1094 - val_loss: 9877214208.0000 - val_mae: 74336.9219\n",
      "Epoch 98/500\n",
      "287/287 [==============================] - 0s 1ms/step - loss: 9404251136.0000 - mae: 72522.2344 - val_loss: 9362390016.0000 - val_mae: 73207.9688\n",
      "Epoch 99/500\n",
      "287/287 [==============================] - 0s 1ms/step - loss: 9496461312.0000 - mae: 72795.6250 - val_loss: 9303559168.0000 - val_mae: 72685.5312\n",
      "Epoch 100/500\n",
      "287/287 [==============================] - 0s 1ms/step - loss: 9475512320.0000 - mae: 72676.1562 - val_loss: 9450748928.0000 - val_mae: 73615.4453\n",
      "Epoch 101/500\n",
      "287/287 [==============================] - 0s 1ms/step - loss: 9382909952.0000 - mae: 72372.6797 - val_loss: 9263000576.0000 - val_mae: 72553.3125\n"
     ]
    },
    {
     "name": "stdout",
     "output_type": "stream",
     "text": [
      "Epoch 102/500\n",
      "287/287 [==============================] - 0s 985us/step - loss: 9392196608.0000 - mae: 72415.6172 - val_loss: 9379880960.0000 - val_mae: 72536.6094\n",
      "Epoch 103/500\n",
      "287/287 [==============================] - 0s 947us/step - loss: 9448941568.0000 - mae: 72755.1953 - val_loss: 9274144768.0000 - val_mae: 72236.8281\n",
      "Epoch 104/500\n",
      "287/287 [==============================] - 0s 951us/step - loss: 9468491776.0000 - mae: 72631.0391 - val_loss: 9271200768.0000 - val_mae: 72052.1719\n",
      "Epoch 105/500\n",
      "287/287 [==============================] - 0s 1ms/step - loss: 9458905088.0000 - mae: 72654.3047 - val_loss: 9208779776.0000 - val_mae: 72132.5078\n",
      "Epoch 106/500\n",
      "287/287 [==============================] - 0s 1ms/step - loss: 9460420608.0000 - mae: 72812.5000 - val_loss: 9469310976.0000 - val_mae: 72849.9453\n",
      "Epoch 107/500\n",
      "287/287 [==============================] - 0s 1ms/step - loss: 9431464960.0000 - mae: 72618.0078 - val_loss: 9391951872.0000 - val_mae: 73486.1875\n",
      "Epoch 108/500\n",
      "287/287 [==============================] - 0s 990us/step - loss: 9346953216.0000 - mae: 72192.2188 - val_loss: 9321443328.0000 - val_mae: 72528.3828\n",
      "Epoch 109/500\n",
      "287/287 [==============================] - 0s 984us/step - loss: 9460820992.0000 - mae: 72677.4297 - val_loss: 9227576320.0000 - val_mae: 72474.6953\n",
      "Epoch 110/500\n",
      "287/287 [==============================] - 0s 1ms/step - loss: 9357875200.0000 - mae: 72292.8984 - val_loss: 9203193856.0000 - val_mae: 71834.3438\n",
      "Epoch 111/500\n",
      "287/287 [==============================] - 0s 1ms/step - loss: 9295324160.0000 - mae: 71951.5781 - val_loss: 9336472576.0000 - val_mae: 72918.4688\n",
      "Epoch 112/500\n",
      "287/287 [==============================] - 0s 1ms/step - loss: 9403043840.0000 - mae: 72440.1016 - val_loss: 9559534592.0000 - val_mae: 74107.9531\n",
      "Epoch 113/500\n",
      "287/287 [==============================] - 0s 992us/step - loss: 9338982400.0000 - mae: 72128.6250 - val_loss: 9304284160.0000 - val_mae: 72595.0625\n",
      "Epoch 114/500\n",
      "287/287 [==============================] - 0s 997us/step - loss: 9373106176.0000 - mae: 72325.8438 - val_loss: 9599888384.0000 - val_mae: 73421.5391\n",
      "Epoch 115/500\n",
      "287/287 [==============================] - 0s 1ms/step - loss: 9340600320.0000 - mae: 72122.3672 - val_loss: 9191521280.0000 - val_mae: 71920.0625\n",
      "Epoch 116/500\n",
      "287/287 [==============================] - 0s 1ms/step - loss: 9372814336.0000 - mae: 72248.5156 - val_loss: 9381377024.0000 - val_mae: 73234.3438\n",
      "Epoch 117/500\n",
      "287/287 [==============================] - 0s 996us/step - loss: 9408522240.0000 - mae: 72494.0547 - val_loss: 9810503680.0000 - val_mae: 75232.2969\n",
      "Epoch 118/500\n",
      "287/287 [==============================] - 0s 979us/step - loss: 9401079808.0000 - mae: 72451.0938 - val_loss: 9263828992.0000 - val_mae: 72179.7422\n",
      "Epoch 119/500\n",
      "287/287 [==============================] - 0s 982us/step - loss: 9318174720.0000 - mae: 72015.7656 - val_loss: 9397788672.0000 - val_mae: 72778.8516\n",
      "Epoch 120/500\n",
      "287/287 [==============================] - 0s 984us/step - loss: 9316932608.0000 - mae: 71973.3438 - val_loss: 9345502208.0000 - val_mae: 72260.9531\n",
      "Epoch 121/500\n",
      "287/287 [==============================] - 0s 1ms/step - loss: 9277049856.0000 - mae: 71802.2578 - val_loss: 9373059072.0000 - val_mae: 72314.3750\n",
      "Epoch 122/500\n",
      "287/287 [==============================] - 0s 1ms/step - loss: 9269595136.0000 - mae: 71882.9453 - val_loss: 9389087744.0000 - val_mae: 73136.0938\n",
      "Epoch 123/500\n",
      "287/287 [==============================] - 0s 1ms/step - loss: 9284922368.0000 - mae: 71988.2344 - val_loss: 9240150016.0000 - val_mae: 72366.8906\n",
      "Epoch 124/500\n",
      "287/287 [==============================] - 0s 1ms/step - loss: 9332679680.0000 - mae: 72113.3984 - val_loss: 9350208512.0000 - val_mae: 72654.7266\n",
      "Epoch 125/500\n",
      "287/287 [==============================] - 0s 985us/step - loss: 9377215488.0000 - mae: 72293.8047 - val_loss: 9256019968.0000 - val_mae: 72115.2188\n",
      "Epoch 126/500\n",
      "287/287 [==============================] - 0s 1ms/step - loss: 9242756096.0000 - mae: 71742.8438 - val_loss: 9292871680.0000 - val_mae: 72529.5391\n",
      "Epoch 127/500\n",
      "287/287 [==============================] - 0s 1ms/step - loss: 9212845056.0000 - mae: 71522.4219 - val_loss: 9630441472.0000 - val_mae: 73934.9375\n",
      "Epoch 128/500\n",
      "287/287 [==============================] - 0s 1ms/step - loss: 9388289024.0000 - mae: 72304.1094 - val_loss: 9158603776.0000 - val_mae: 71824.2500\n",
      "Epoch 129/500\n",
      "287/287 [==============================] - 0s 1ms/step - loss: 9311744000.0000 - mae: 72032.4219 - val_loss: 9315568640.0000 - val_mae: 72076.3750\n",
      "Epoch 130/500\n",
      "287/287 [==============================] - 0s 1ms/step - loss: 9288299520.0000 - mae: 71826.1328 - val_loss: 9111293952.0000 - val_mae: 71442.4531\n",
      "Epoch 131/500\n",
      "287/287 [==============================] - 0s 982us/step - loss: 9286843392.0000 - mae: 71941.2969 - val_loss: 9179377664.0000 - val_mae: 72253.7344\n",
      "Epoch 132/500\n",
      "287/287 [==============================] - 0s 1ms/step - loss: 9277131776.0000 - mae: 71854.0547 - val_loss: 9303097344.0000 - val_mae: 72823.7188\n",
      "Epoch 133/500\n",
      "287/287 [==============================] - 0s 983us/step - loss: 9288567808.0000 - mae: 71815.6094 - val_loss: 10017758208.0000 - val_mae: 76059.8203\n",
      "Epoch 134/500\n",
      "287/287 [==============================] - 0s 1ms/step - loss: 9258659840.0000 - mae: 71752.9141 - val_loss: 9134919680.0000 - val_mae: 71507.9141\n",
      "Epoch 135/500\n",
      "287/287 [==============================] - 0s 992us/step - loss: 9244655616.0000 - mae: 71707.6797 - val_loss: 9080962048.0000 - val_mae: 71101.6719\n",
      "Epoch 136/500\n",
      "287/287 [==============================] - 0s 1ms/step - loss: 9292782592.0000 - mae: 71870.7812 - val_loss: 9348746240.0000 - val_mae: 72585.5391\n",
      "Epoch 137/500\n",
      "287/287 [==============================] - 0s 1ms/step - loss: 9244239872.0000 - mae: 71689.2266 - val_loss: 9187574784.0000 - val_mae: 72043.1953\n",
      "Epoch 138/500\n",
      "287/287 [==============================] - 0s 1ms/step - loss: 9281790976.0000 - mae: 72013.2422 - val_loss: 9163741184.0000 - val_mae: 71644.3203\n",
      "Epoch 139/500\n",
      "287/287 [==============================] - 0s 1ms/step - loss: 9342234624.0000 - mae: 72215.1328 - val_loss: 9356943360.0000 - val_mae: 73300.6250\n",
      "Epoch 140/500\n",
      "287/287 [==============================] - 0s 949us/step - loss: 9185176576.0000 - mae: 71476.2891 - val_loss: 9124055040.0000 - val_mae: 71183.0547\n",
      "Epoch 141/500\n",
      "287/287 [==============================] - 0s 969us/step - loss: 9347832832.0000 - mae: 72197.1562 - val_loss: 9397143552.0000 - val_mae: 72843.1328\n",
      "Epoch 142/500\n",
      "287/287 [==============================] - 0s 972us/step - loss: 9301604352.0000 - mae: 72082.8594 - val_loss: 9805015040.0000 - val_mae: 74870.2422\n",
      "Epoch 143/500\n",
      "287/287 [==============================] - 0s 958us/step - loss: 9240553472.0000 - mae: 71717.0703 - val_loss: 10410586112.0000 - val_mae: 77031.2422\n",
      "Epoch 144/500\n",
      "287/287 [==============================] - 0s 965us/step - loss: 9273451520.0000 - mae: 71783.9609 - val_loss: 9172334592.0000 - val_mae: 71395.3906\n",
      "Epoch 145/500\n",
      "287/287 [==============================] - 0s 968us/step - loss: 9239938048.0000 - mae: 71576.6797 - val_loss: 9102504960.0000 - val_mae: 71560.6328\n",
      "Epoch 146/500\n",
      "287/287 [==============================] - 0s 970us/step - loss: 9166532608.0000 - mae: 71283.1797 - val_loss: 9051031552.0000 - val_mae: 71229.1016\n",
      "Epoch 147/500\n",
      "287/287 [==============================] - 0s 989us/step - loss: 9276350464.0000 - mae: 71906.0547 - val_loss: 9171258368.0000 - val_mae: 71223.2578\n",
      "Epoch 148/500\n",
      "287/287 [==============================] - 0s 972us/step - loss: 9196068864.0000 - mae: 71469.2891 - val_loss: 9191499776.0000 - val_mae: 71914.6953\n",
      "Epoch 149/500\n",
      "287/287 [==============================] - 0s 962us/step - loss: 9144945664.0000 - mae: 71223.9141 - val_loss: 9216039936.0000 - val_mae: 71969.8672\n",
      "Epoch 150/500\n",
      "287/287 [==============================] - 0s 964us/step - loss: 9183455232.0000 - mae: 71516.6250 - val_loss: 9072389120.0000 - val_mae: 71220.7422\n",
      "Epoch 151/500\n",
      "287/287 [==============================] - 0s 975us/step - loss: 9206004736.0000 - mae: 71470.6016 - val_loss: 9600504832.0000 - val_mae: 73491.3516\n",
      "Epoch 152/500\n"
     ]
    },
    {
     "name": "stdout",
     "output_type": "stream",
     "text": [
      "287/287 [==============================] - 0s 968us/step - loss: 9287673856.0000 - mae: 71799.6719 - val_loss: 9086991360.0000 - val_mae: 71214.4453\n",
      "Epoch 153/500\n",
      "287/287 [==============================] - 0s 983us/step - loss: 9284971520.0000 - mae: 71772.5000 - val_loss: 9116828672.0000 - val_mae: 71075.1484\n",
      "Epoch 154/500\n",
      "287/287 [==============================] - 0s 972us/step - loss: 9160679424.0000 - mae: 71321.0625 - val_loss: 9483165696.0000 - val_mae: 72799.6719\n",
      "Epoch 155/500\n",
      "287/287 [==============================] - 0s 970us/step - loss: 9258584064.0000 - mae: 71727.0234 - val_loss: 9376984064.0000 - val_mae: 72636.5000\n",
      "Epoch 156/500\n",
      "287/287 [==============================] - 0s 956us/step - loss: 9174361088.0000 - mae: 71387.5938 - val_loss: 9276113920.0000 - val_mae: 72121.7422\n",
      "Epoch 157/500\n",
      "287/287 [==============================] - 0s 973us/step - loss: 9199446016.0000 - mae: 71485.1797 - val_loss: 9088512000.0000 - val_mae: 71609.5781\n",
      "Epoch 158/500\n",
      "287/287 [==============================] - 0s 993us/step - loss: 9158497280.0000 - mae: 71415.6406 - val_loss: 9026496512.0000 - val_mae: 71055.3594\n",
      "Epoch 159/500\n",
      "287/287 [==============================] - 0s 928us/step - loss: 9211365376.0000 - mae: 71566.6484 - val_loss: 9241199616.0000 - val_mae: 71361.4609\n",
      "Epoch 160/500\n",
      "287/287 [==============================] - 0s 981us/step - loss: 9179168768.0000 - mae: 71476.2891 - val_loss: 9195528192.0000 - val_mae: 72181.0391\n",
      "Epoch 161/500\n",
      "287/287 [==============================] - 0s 976us/step - loss: 9184945152.0000 - mae: 71326.5781 - val_loss: 9116985344.0000 - val_mae: 71591.7969\n",
      "Epoch 162/500\n",
      "287/287 [==============================] - 0s 967us/step - loss: 9175511040.0000 - mae: 71430.6953 - val_loss: 9292584960.0000 - val_mae: 71889.2891\n",
      "Epoch 163/500\n",
      "287/287 [==============================] - 0s 972us/step - loss: 9238395904.0000 - mae: 71602.6484 - val_loss: 9735751680.0000 - val_mae: 74404.5938\n",
      "Epoch 164/500\n",
      "287/287 [==============================] - 0s 996us/step - loss: 9103058944.0000 - mae: 71086.2031 - val_loss: 9016199168.0000 - val_mae: 70618.3906\n",
      "Epoch 165/500\n",
      "287/287 [==============================] - 0s 1ms/step - loss: 9238261760.0000 - mae: 71656.1484 - val_loss: 9192183808.0000 - val_mae: 72087.0781\n",
      "Epoch 166/500\n",
      "287/287 [==============================] - 0s 986us/step - loss: 9165677568.0000 - mae: 71333.5078 - val_loss: 9016374272.0000 - val_mae: 70787.2891\n",
      "Epoch 167/500\n",
      "287/287 [==============================] - 0s 991us/step - loss: 9098828800.0000 - mae: 71027.7734 - val_loss: 9302241280.0000 - val_mae: 72465.3047\n",
      "Epoch 168/500\n",
      "287/287 [==============================] - 0s 983us/step - loss: 9136184320.0000 - mae: 71218.0391 - val_loss: 9295726592.0000 - val_mae: 72560.3281\n",
      "Epoch 169/500\n",
      "287/287 [==============================] - 0s 1ms/step - loss: 9233128448.0000 - mae: 71626.3828 - val_loss: 9059477504.0000 - val_mae: 71012.9922\n",
      "Epoch 170/500\n",
      "287/287 [==============================] - 0s 1ms/step - loss: 9104468992.0000 - mae: 71101.7578 - val_loss: 9173332992.0000 - val_mae: 72458.5625\n",
      "Epoch 171/500\n",
      "287/287 [==============================] - 0s 937us/step - loss: 9098209280.0000 - mae: 70994.2344 - val_loss: 9142621184.0000 - val_mae: 71603.1406\n",
      "Epoch 172/500\n",
      "287/287 [==============================] - 0s 986us/step - loss: 9041775616.0000 - mae: 70658.5938 - val_loss: 9107331072.0000 - val_mae: 71829.4219\n",
      "Epoch 173/500\n",
      "287/287 [==============================] - 0s 964us/step - loss: 9140609024.0000 - mae: 71162.7188 - val_loss: 9205129216.0000 - val_mae: 71956.5156\n",
      "Epoch 174/500\n",
      "287/287 [==============================] - 0s 979us/step - loss: 9114182656.0000 - mae: 71030.4453 - val_loss: 9246084096.0000 - val_mae: 71957.0859\n",
      "Epoch 175/500\n",
      "287/287 [==============================] - 0s 1ms/step - loss: 9138924544.0000 - mae: 71286.4609 - val_loss: 9460533248.0000 - val_mae: 72467.2812\n",
      "Epoch 176/500\n",
      "287/287 [==============================] - 0s 984us/step - loss: 9098997760.0000 - mae: 70967.9766 - val_loss: 9033196544.0000 - val_mae: 71072.7188\n",
      "Epoch 177/500\n",
      "287/287 [==============================] - 0s 1ms/step - loss: 9095781376.0000 - mae: 70916.5781 - val_loss: 9250172928.0000 - val_mae: 72719.3281\n",
      "Epoch 178/500\n",
      "287/287 [==============================] - 0s 978us/step - loss: 9161817088.0000 - mae: 71246.8594 - val_loss: 9612873728.0000 - val_mae: 73161.1797\n",
      "Epoch 179/500\n",
      "287/287 [==============================] - 0s 977us/step - loss: 9136860160.0000 - mae: 71202.7031 - val_loss: 10563859456.0000 - val_mae: 76700.8281\n",
      "Epoch 180/500\n",
      "287/287 [==============================] - 0s 1ms/step - loss: 9077669888.0000 - mae: 70815.5156 - val_loss: 9070978048.0000 - val_mae: 70821.8125\n",
      "Epoch 181/500\n",
      "287/287 [==============================] - 0s 1ms/step - loss: 9134053376.0000 - mae: 71222.1172 - val_loss: 8952059904.0000 - val_mae: 70426.0859\n",
      "Epoch 182/500\n",
      "287/287 [==============================] - 0s 1ms/step - loss: 9064726528.0000 - mae: 70828.4688 - val_loss: 9541142528.0000 - val_mae: 73456.2734\n",
      "Epoch 183/500\n",
      "287/287 [==============================] - 0s 944us/step - loss: 9149508608.0000 - mae: 71163.9688 - val_loss: 9740760064.0000 - val_mae: 74086.9688\n",
      "Epoch 184/500\n",
      "287/287 [==============================] - 0s 942us/step - loss: 9065818112.0000 - mae: 70871.4766 - val_loss: 9073464320.0000 - val_mae: 71142.7578\n",
      "Epoch 185/500\n",
      "287/287 [==============================] - 0s 960us/step - loss: 9030019072.0000 - mae: 70749.2656 - val_loss: 9341888512.0000 - val_mae: 72591.8281\n",
      "Epoch 186/500\n",
      "287/287 [==============================] - 0s 993us/step - loss: 9158960128.0000 - mae: 71251.2656 - val_loss: 9046057984.0000 - val_mae: 70938.2188\n",
      "Epoch 187/500\n",
      "287/287 [==============================] - 0s 1ms/step - loss: 9105356800.0000 - mae: 70979.3281 - val_loss: 9049470976.0000 - val_mae: 71322.0469\n",
      "Epoch 188/500\n",
      "287/287 [==============================] - 0s 1ms/step - loss: 9121552384.0000 - mae: 71070.6875 - val_loss: 9010928640.0000 - val_mae: 70707.8828\n",
      "Epoch 189/500\n",
      "287/287 [==============================] - 0s 1ms/step - loss: 9036660736.0000 - mae: 70688.3438 - val_loss: 8947819520.0000 - val_mae: 70179.6719\n",
      "Epoch 190/500\n",
      "287/287 [==============================] - 0s 954us/step - loss: 9026935808.0000 - mae: 70616.9531 - val_loss: 9089160192.0000 - val_mae: 71834.2578\n",
      "Epoch 191/500\n",
      "287/287 [==============================] - 0s 1ms/step - loss: 9059658752.0000 - mae: 70620.7344 - val_loss: 8941706240.0000 - val_mae: 70443.9531\n",
      "Epoch 192/500\n",
      "287/287 [==============================] - 0s 1ms/step - loss: 9101634560.0000 - mae: 70950.6875 - val_loss: 9077070848.0000 - val_mae: 71652.9922\n",
      "Epoch 193/500\n",
      "287/287 [==============================] - 0s 991us/step - loss: 9161225216.0000 - mae: 71204.1016 - val_loss: 9086458880.0000 - val_mae: 71923.8828\n",
      "Epoch 194/500\n",
      "287/287 [==============================] - 0s 1ms/step - loss: 9064179712.0000 - mae: 70801.6172 - val_loss: 9340431360.0000 - val_mae: 72077.1094\n",
      "Epoch 195/500\n",
      "287/287 [==============================] - 0s 1ms/step - loss: 9073019904.0000 - mae: 70833.2109 - val_loss: 9369076736.0000 - val_mae: 72402.2188\n",
      "Epoch 196/500\n",
      "287/287 [==============================] - 0s 1ms/step - loss: 9060198400.0000 - mae: 70788.3750 - val_loss: 9050450944.0000 - val_mae: 71236.6484\n",
      "Epoch 197/500\n",
      "287/287 [==============================] - 0s 1ms/step - loss: 9026356224.0000 - mae: 70688.3516 - val_loss: 8998402048.0000 - val_mae: 70850.0547\n",
      "Epoch 198/500\n",
      "287/287 [==============================] - 0s 1ms/step - loss: 9084987392.0000 - mae: 70837.0781 - val_loss: 9286714368.0000 - val_mae: 71768.2812\n",
      "Epoch 199/500\n",
      "287/287 [==============================] - 0s 1ms/step - loss: 9043054592.0000 - mae: 70698.3125 - val_loss: 9128806400.0000 - val_mae: 71452.8672\n",
      "Epoch 200/500\n",
      "287/287 [==============================] - 0s 937us/step - loss: 9093427200.0000 - mae: 70851.3906 - val_loss: 8920262656.0000 - val_mae: 70432.9219\n",
      "Epoch 201/500\n",
      "287/287 [==============================] - 0s 963us/step - loss: 9015462912.0000 - mae: 70599.8750 - val_loss: 9095179264.0000 - val_mae: 70866.7891\n",
      "Epoch 202/500\n"
     ]
    },
    {
     "name": "stdout",
     "output_type": "stream",
     "text": [
      "287/287 [==============================] - 0s 1ms/step - loss: 9053313024.0000 - mae: 70745.5859 - val_loss: 8897842176.0000 - val_mae: 70297.9844\n",
      "Epoch 203/500\n",
      "287/287 [==============================] - 0s 954us/step - loss: 9028448256.0000 - mae: 70672.4297 - val_loss: 9427035136.0000 - val_mae: 73182.3281\n",
      "Epoch 204/500\n",
      "287/287 [==============================] - 0s 956us/step - loss: 9043867648.0000 - mae: 70767.2969 - val_loss: 9023715328.0000 - val_mae: 71224.2109\n",
      "Epoch 205/500\n",
      "287/287 [==============================] - 0s 1ms/step - loss: 9120935936.0000 - mae: 71141.5859 - val_loss: 9146017792.0000 - val_mae: 71368.7266\n",
      "Epoch 206/500\n",
      "287/287 [==============================] - 0s 939us/step - loss: 9023620096.0000 - mae: 70624.1562 - val_loss: 9100919808.0000 - val_mae: 72088.1250\n",
      "Epoch 207/500\n",
      "287/287 [==============================] - 0s 1ms/step - loss: 9005922304.0000 - mae: 70522.0547 - val_loss: 9102187520.0000 - val_mae: 71906.1250\n",
      "Epoch 208/500\n",
      "287/287 [==============================] - 0s 1ms/step - loss: 8996022272.0000 - mae: 70435.1172 - val_loss: 9015416832.0000 - val_mae: 70792.4375\n",
      "Epoch 209/500\n",
      "287/287 [==============================] - 0s 1ms/step - loss: 9031918592.0000 - mae: 70620.1875 - val_loss: 9110372352.0000 - val_mae: 70488.7031\n",
      "Epoch 210/500\n",
      "287/287 [==============================] - 0s 958us/step - loss: 9114872832.0000 - mae: 71111.1406 - val_loss: 8892511232.0000 - val_mae: 70514.0469\n",
      "Epoch 211/500\n",
      "287/287 [==============================] - 0s 990us/step - loss: 8987705344.0000 - mae: 70523.2969 - val_loss: 8965470208.0000 - val_mae: 70536.7109\n",
      "Epoch 212/500\n",
      "287/287 [==============================] - 0s 955us/step - loss: 9015514112.0000 - mae: 70598.1328 - val_loss: 9089678336.0000 - val_mae: 71058.5938\n",
      "Epoch 213/500\n",
      "287/287 [==============================] - 0s 979us/step - loss: 9027852288.0000 - mae: 70648.6797 - val_loss: 9196977152.0000 - val_mae: 72368.7109\n",
      "Epoch 214/500\n",
      "287/287 [==============================] - 0s 974us/step - loss: 9000578048.0000 - mae: 70557.7344 - val_loss: 8964995072.0000 - val_mae: 70375.9688\n",
      "Epoch 215/500\n",
      "287/287 [==============================] - 0s 982us/step - loss: 8963640320.0000 - mae: 70311.7422 - val_loss: 9092748288.0000 - val_mae: 71809.8984\n",
      "Epoch 216/500\n",
      "287/287 [==============================] - 0s 975us/step - loss: 8954997760.0000 - mae: 70273.9297 - val_loss: 9105503232.0000 - val_mae: 71524.5156\n",
      "Epoch 217/500\n",
      "287/287 [==============================] - 0s 980us/step - loss: 8993802240.0000 - mae: 70475.1016 - val_loss: 9125430272.0000 - val_mae: 71511.1875\n",
      "Epoch 218/500\n",
      "287/287 [==============================] - 0s 981us/step - loss: 9047185408.0000 - mae: 70629.6016 - val_loss: 9393114112.0000 - val_mae: 72588.0547\n",
      "Epoch 219/500\n",
      "287/287 [==============================] - 0s 965us/step - loss: 9030716416.0000 - mae: 70695.4219 - val_loss: 8861518848.0000 - val_mae: 69906.5156\n",
      "Epoch 220/500\n",
      "287/287 [==============================] - 0s 982us/step - loss: 9048073216.0000 - mae: 70703.7109 - val_loss: 8898998272.0000 - val_mae: 70327.8906\n",
      "Epoch 221/500\n",
      "287/287 [==============================] - 0s 946us/step - loss: 8906082304.0000 - mae: 70096.4609 - val_loss: 9073821696.0000 - val_mae: 71426.6719\n",
      "Epoch 222/500\n",
      "287/287 [==============================] - 0s 944us/step - loss: 8948653056.0000 - mae: 70160.6484 - val_loss: 9156983808.0000 - val_mae: 72074.9844\n",
      "Epoch 223/500\n",
      "287/287 [==============================] - 0s 978us/step - loss: 8984327168.0000 - mae: 70395.2109 - val_loss: 9351340032.0000 - val_mae: 72776.7188\n",
      "Epoch 224/500\n",
      "287/287 [==============================] - 0s 971us/step - loss: 8940699648.0000 - mae: 70145.7812 - val_loss: 9035950080.0000 - val_mae: 70959.4141\n",
      "Epoch 225/500\n",
      "287/287 [==============================] - 0s 955us/step - loss: 8942218240.0000 - mae: 70202.0000 - val_loss: 8874067968.0000 - val_mae: 70088.0703\n",
      "Epoch 226/500\n",
      "287/287 [==============================] - 0s 972us/step - loss: 9016299520.0000 - mae: 70506.9609 - val_loss: 9047922688.0000 - val_mae: 71034.6641\n",
      "Epoch 227/500\n",
      "287/287 [==============================] - 0s 969us/step - loss: 9051564032.0000 - mae: 70707.7031 - val_loss: 9999086592.0000 - val_mae: 75075.3594\n",
      "Epoch 228/500\n",
      "287/287 [==============================] - 0s 966us/step - loss: 8993077248.0000 - mae: 70422.2578 - val_loss: 8908292096.0000 - val_mae: 70024.1641\n",
      "Epoch 229/500\n",
      "287/287 [==============================] - 0s 957us/step - loss: 8964774912.0000 - mae: 70327.4141 - val_loss: 9492044800.0000 - val_mae: 73484.2734\n",
      "Epoch 230/500\n",
      "287/287 [==============================] - 0s 966us/step - loss: 8941287424.0000 - mae: 70288.1562 - val_loss: 8933409792.0000 - val_mae: 70065.0234\n",
      "Epoch 231/500\n",
      "287/287 [==============================] - 0s 993us/step - loss: 9109854208.0000 - mae: 71025.5078 - val_loss: 8967130112.0000 - val_mae: 71252.2188\n",
      "Epoch 232/500\n",
      "287/287 [==============================] - 0s 985us/step - loss: 8996811776.0000 - mae: 70521.8984 - val_loss: 9434602496.0000 - val_mae: 73043.9375\n",
      "Epoch 233/500\n",
      "287/287 [==============================] - 0s 975us/step - loss: 9036667904.0000 - mae: 70653.6953 - val_loss: 8929530880.0000 - val_mae: 70558.2656\n",
      "Epoch 234/500\n",
      "287/287 [==============================] - 0s 979us/step - loss: 8906890240.0000 - mae: 70042.3984 - val_loss: 8852722688.0000 - val_mae: 70247.2344\n",
      "Epoch 235/500\n",
      "287/287 [==============================] - 0s 1ms/step - loss: 8956895232.0000 - mae: 70376.5703 - val_loss: 9121478656.0000 - val_mae: 71802.5156\n",
      "Epoch 236/500\n",
      "287/287 [==============================] - 0s 1ms/step - loss: 9106837504.0000 - mae: 70902.6719 - val_loss: 9043188736.0000 - val_mae: 70485.8594\n",
      "Epoch 237/500\n",
      "287/287 [==============================] - 0s 1ms/step - loss: 8926081024.0000 - mae: 70198.2266 - val_loss: 8880885760.0000 - val_mae: 70058.8672\n",
      "Epoch 238/500\n",
      "287/287 [==============================] - 0s 960us/step - loss: 9004343296.0000 - mae: 70438.2109 - val_loss: 8825914368.0000 - val_mae: 69921.4531\n",
      "Epoch 239/500\n",
      "287/287 [==============================] - 0s 961us/step - loss: 8902489088.0000 - mae: 70020.1875 - val_loss: 9106527232.0000 - val_mae: 71889.7891\n",
      "Epoch 240/500\n",
      "287/287 [==============================] - 0s 961us/step - loss: 8890296320.0000 - mae: 69946.3438 - val_loss: 8925361152.0000 - val_mae: 70686.1797\n",
      "Epoch 241/500\n",
      "287/287 [==============================] - 0s 960us/step - loss: 8913723392.0000 - mae: 70111.7578 - val_loss: 8851944448.0000 - val_mae: 70173.5547\n",
      "Epoch 242/500\n",
      "287/287 [==============================] - 0s 974us/step - loss: 8999145472.0000 - mae: 70425.8672 - val_loss: 8969121792.0000 - val_mae: 71124.2969\n",
      "Epoch 243/500\n",
      "287/287 [==============================] - 0s 984us/step - loss: 8981889024.0000 - mae: 70404.7812 - val_loss: 9146543104.0000 - val_mae: 72302.2109\n",
      "Epoch 244/500\n",
      "287/287 [==============================] - 0s 976us/step - loss: 8863176704.0000 - mae: 69903.7188 - val_loss: 8965042176.0000 - val_mae: 70892.9609\n",
      "Epoch 245/500\n",
      "287/287 [==============================] - 0s 968us/step - loss: 8898311168.0000 - mae: 69939.1875 - val_loss: 9494459392.0000 - val_mae: 73584.5938\n",
      "Epoch 246/500\n",
      "287/287 [==============================] - 0s 963us/step - loss: 8928434176.0000 - mae: 70146.6562 - val_loss: 8913360896.0000 - val_mae: 70344.2812\n",
      "Epoch 247/500\n",
      "287/287 [==============================] - 0s 975us/step - loss: 8954967040.0000 - mae: 70220.9297 - val_loss: 9690266624.0000 - val_mae: 73931.6250\n",
      "Epoch 248/500\n",
      "287/287 [==============================] - 0s 977us/step - loss: 8898776064.0000 - mae: 69985.7344 - val_loss: 9072642048.0000 - val_mae: 71112.6953\n",
      "Epoch 249/500\n",
      "287/287 [==============================] - 0s 968us/step - loss: 8931487744.0000 - mae: 70146.2188 - val_loss: 9456110592.0000 - val_mae: 73449.7266\n",
      "Epoch 250/500\n",
      "287/287 [==============================] - 0s 969us/step - loss: 8950596608.0000 - mae: 70232.0625 - val_loss: 9377354752.0000 - val_mae: 72865.3125\n",
      "Epoch 251/500\n",
      "287/287 [==============================] - 0s 964us/step - loss: 8974851072.0000 - mae: 70311.1328 - val_loss: 8812797952.0000 - val_mae: 70150.3828\n",
      "Epoch 252/500\n"
     ]
    },
    {
     "name": "stdout",
     "output_type": "stream",
     "text": [
      "287/287 [==============================] - 0s 962us/step - loss: 8927664128.0000 - mae: 70232.5859 - val_loss: 8834271232.0000 - val_mae: 70385.5859\n",
      "Epoch 253/500\n",
      "287/287 [==============================] - 0s 966us/step - loss: 8943562752.0000 - mae: 70220.4297 - val_loss: 9022210048.0000 - val_mae: 71054.4531\n",
      "Epoch 254/500\n",
      "287/287 [==============================] - 0s 969us/step - loss: 8900339712.0000 - mae: 70070.4844 - val_loss: 8804994048.0000 - val_mae: 69908.5547\n",
      "Epoch 255/500\n",
      "287/287 [==============================] - 0s 948us/step - loss: 8957047808.0000 - mae: 70382.1719 - val_loss: 9391287296.0000 - val_mae: 72669.2656\n",
      "Epoch 256/500\n",
      "287/287 [==============================] - 0s 1ms/step - loss: 8903915520.0000 - mae: 69986.2344 - val_loss: 9133401088.0000 - val_mae: 71495.2109\n",
      "Epoch 257/500\n",
      "287/287 [==============================] - 0s 1ms/step - loss: 8927460352.0000 - mae: 70108.4375 - val_loss: 9219933184.0000 - val_mae: 72490.5078\n",
      "Epoch 258/500\n",
      "287/287 [==============================] - 0s 1ms/step - loss: 8878944256.0000 - mae: 69984.6016 - val_loss: 8863670272.0000 - val_mae: 69824.3828\n",
      "Epoch 259/500\n",
      "287/287 [==============================] - 0s 1ms/step - loss: 8865309696.0000 - mae: 69808.3125 - val_loss: 9294001152.0000 - val_mae: 72327.1484\n",
      "Epoch 260/500\n",
      "287/287 [==============================] - 0s 1ms/step - loss: 8957522944.0000 - mae: 70207.9453 - val_loss: 8871410688.0000 - val_mae: 70836.9688\n",
      "Epoch 261/500\n",
      "287/287 [==============================] - 0s 995us/step - loss: 8907087872.0000 - mae: 70035.2031 - val_loss: 8882369536.0000 - val_mae: 70539.1562\n",
      "Epoch 262/500\n",
      "287/287 [==============================] - 0s 1ms/step - loss: 8859461632.0000 - mae: 69815.2266 - val_loss: 8810098688.0000 - val_mae: 70066.1875\n",
      "Epoch 263/500\n",
      "287/287 [==============================] - 0s 1ms/step - loss: 8891226112.0000 - mae: 69929.3984 - val_loss: 8855639040.0000 - val_mae: 70660.1719\n",
      "Epoch 264/500\n",
      "287/287 [==============================] - 0s 1ms/step - loss: 8925827072.0000 - mae: 70178.5312 - val_loss: 8745219072.0000 - val_mae: 69647.7109\n",
      "Epoch 265/500\n",
      "287/287 [==============================] - 0s 1ms/step - loss: 8860713984.0000 - mae: 69833.9141 - val_loss: 8955939840.0000 - val_mae: 70197.9375\n",
      "Epoch 266/500\n",
      "287/287 [==============================] - 0s 1ms/step - loss: 8864405504.0000 - mae: 69795.6953 - val_loss: 9178189824.0000 - val_mae: 71546.0000\n",
      "Epoch 267/500\n",
      "287/287 [==============================] - 0s 944us/step - loss: 8924107776.0000 - mae: 70102.7109 - val_loss: 8804179968.0000 - val_mae: 69751.9375\n",
      "Epoch 268/500\n",
      "287/287 [==============================] - 0s 960us/step - loss: 8896603136.0000 - mae: 69842.1641 - val_loss: 8970750976.0000 - val_mae: 71106.8984\n",
      "Epoch 269/500\n",
      "287/287 [==============================] - 0s 994us/step - loss: 8897667072.0000 - mae: 69934.6875 - val_loss: 8844688384.0000 - val_mae: 69540.2344\n",
      "Epoch 270/500\n",
      "287/287 [==============================] - 0s 1ms/step - loss: 8905744384.0000 - mae: 70040.8828 - val_loss: 8838897664.0000 - val_mae: 70232.8125\n",
      "Epoch 271/500\n",
      "287/287 [==============================] - 0s 951us/step - loss: 8904486912.0000 - mae: 69980.3984 - val_loss: 9018502144.0000 - val_mae: 71636.8438\n",
      "Epoch 272/500\n",
      "287/287 [==============================] - 0s 972us/step - loss: 8834345984.0000 - mae: 69700.7031 - val_loss: 8772524032.0000 - val_mae: 69963.3125\n",
      "Epoch 273/500\n",
      "287/287 [==============================] - 0s 1ms/step - loss: 8806476800.0000 - mae: 69632.7422 - val_loss: 8829762560.0000 - val_mae: 70561.1406\n",
      "Epoch 274/500\n",
      "287/287 [==============================] - 0s 958us/step - loss: 8798560256.0000 - mae: 69486.2891 - val_loss: 9050201088.0000 - val_mae: 71457.4531\n",
      "Epoch 275/500\n",
      "287/287 [==============================] - 0s 1ms/step - loss: 8854014976.0000 - mae: 69744.3516 - val_loss: 8777052160.0000 - val_mae: 70131.6562\n",
      "Epoch 276/500\n",
      "287/287 [==============================] - 0s 1ms/step - loss: 8887897088.0000 - mae: 69900.6953 - val_loss: 8842580992.0000 - val_mae: 70236.9766\n",
      "Epoch 277/500\n",
      "287/287 [==============================] - 0s 1ms/step - loss: 8807984128.0000 - mae: 69524.7500 - val_loss: 8857348096.0000 - val_mae: 70209.4766\n",
      "Epoch 278/500\n",
      "287/287 [==============================] - 0s 1ms/step - loss: 8780084224.0000 - mae: 69455.8672 - val_loss: 9035573248.0000 - val_mae: 71365.0625\n",
      "Epoch 279/500\n",
      "287/287 [==============================] - 0s 992us/step - loss: 8853567488.0000 - mae: 69686.0859 - val_loss: 9023060992.0000 - val_mae: 71473.7031\n",
      "Epoch 280/500\n",
      "287/287 [==============================] - 0s 1ms/step - loss: 8947540992.0000 - mae: 70223.2109 - val_loss: 8836764672.0000 - val_mae: 70377.6016\n",
      "Epoch 281/500\n",
      "287/287 [==============================] - 0s 965us/step - loss: 8828440576.0000 - mae: 69632.6875 - val_loss: 9118089216.0000 - val_mae: 71778.5859\n",
      "Epoch 282/500\n",
      "287/287 [==============================] - 0s 980us/step - loss: 9011618816.0000 - mae: 70549.2812 - val_loss: 9091277824.0000 - val_mae: 71503.2578\n",
      "Epoch 283/500\n",
      "287/287 [==============================] - 0s 959us/step - loss: 8852293632.0000 - mae: 69868.2812 - val_loss: 8874088448.0000 - val_mae: 69761.1641\n",
      "Epoch 284/500\n",
      "287/287 [==============================] - 0s 1ms/step - loss: 8849276928.0000 - mae: 69671.1953 - val_loss: 8918196224.0000 - val_mae: 70278.4531\n",
      "Epoch 285/500\n",
      "287/287 [==============================] - 0s 977us/step - loss: 8824041472.0000 - mae: 69592.6797 - val_loss: 8997706752.0000 - val_mae: 70717.9141\n",
      "Epoch 286/500\n",
      "287/287 [==============================] - 0s 958us/step - loss: 8826114048.0000 - mae: 69707.9141 - val_loss: 8848038912.0000 - val_mae: 70478.4531\n",
      "Epoch 287/500\n",
      "287/287 [==============================] - 0s 997us/step - loss: 8902615040.0000 - mae: 70033.7188 - val_loss: 8962297856.0000 - val_mae: 70989.5078\n",
      "Epoch 288/500\n",
      "287/287 [==============================] - 0s 981us/step - loss: 8824350720.0000 - mae: 69575.3359 - val_loss: 8833948672.0000 - val_mae: 70204.4688\n",
      "Epoch 289/500\n",
      "287/287 [==============================] - 0s 1ms/step - loss: 8860600320.0000 - mae: 69738.7422 - val_loss: 8883112960.0000 - val_mae: 70344.3516\n",
      "Epoch 290/500\n",
      "287/287 [==============================] - 0s 1ms/step - loss: 8822296576.0000 - mae: 69554.0781 - val_loss: 8850129920.0000 - val_mae: 70707.2422\n",
      "Epoch 291/500\n",
      "287/287 [==============================] - 0s 1ms/step - loss: 8837775360.0000 - mae: 69706.5234 - val_loss: 8785462272.0000 - val_mae: 69833.9453\n",
      "Epoch 292/500\n",
      "287/287 [==============================] - 0s 958us/step - loss: 8849567744.0000 - mae: 69758.3516 - val_loss: 8827277312.0000 - val_mae: 70260.4375\n",
      "Epoch 293/500\n",
      "287/287 [==============================] - 0s 988us/step - loss: 8793333760.0000 - mae: 69487.1875 - val_loss: 8741996544.0000 - val_mae: 69385.9844\n",
      "Epoch 294/500\n",
      "287/287 [==============================] - 0s 968us/step - loss: 8837831680.0000 - mae: 69650.4219 - val_loss: 8831025152.0000 - val_mae: 70276.4766\n",
      "Epoch 295/500\n",
      "287/287 [==============================] - 0s 1ms/step - loss: 8817392640.0000 - mae: 69628.7734 - val_loss: 9094073344.0000 - val_mae: 71131.0547\n",
      "Epoch 296/500\n",
      "287/287 [==============================] - 0s 1ms/step - loss: 8796511232.0000 - mae: 69435.5156 - val_loss: 8689896448.0000 - val_mae: 69601.3281\n",
      "Epoch 297/500\n",
      "287/287 [==============================] - 0s 1ms/step - loss: 8767967232.0000 - mae: 69330.7969 - val_loss: 8815272960.0000 - val_mae: 69814.7422\n",
      "Epoch 298/500\n",
      "287/287 [==============================] - 0s 1ms/step - loss: 8934438912.0000 - mae: 70052.9531 - val_loss: 8760046592.0000 - val_mae: 69550.9531\n",
      "Epoch 299/500\n",
      "287/287 [==============================] - 0s 1ms/step - loss: 8817388544.0000 - mae: 69592.2266 - val_loss: 8774348800.0000 - val_mae: 69701.7812\n",
      "Epoch 300/500\n",
      "287/287 [==============================] - 0s 1ms/step - loss: 8846004224.0000 - mae: 69766.0391 - val_loss: 9403161600.0000 - val_mae: 72751.0312\n",
      "Epoch 301/500\n",
      "287/287 [==============================] - 0s 989us/step - loss: 8853704704.0000 - mae: 69703.3438 - val_loss: 8691668992.0000 - val_mae: 69705.8750\n",
      "Epoch 302/500\n",
      "287/287 [==============================] - 0s 991us/step - loss: 8777084928.0000 - mae: 69451.6797 - val_loss: 8935197696.0000 - val_mae: 70668.7812\n"
     ]
    },
    {
     "name": "stdout",
     "output_type": "stream",
     "text": [
      "Epoch 303/500\n",
      "287/287 [==============================] - 0s 999us/step - loss: 8914996224.0000 - mae: 70119.3750 - val_loss: 8887488512.0000 - val_mae: 70742.2188\n",
      "Epoch 304/500\n",
      "287/287 [==============================] - 0s 1ms/step - loss: 8837916672.0000 - mae: 69729.7188 - val_loss: 8762788864.0000 - val_mae: 69981.2422\n",
      "Epoch 305/500\n",
      "287/287 [==============================] - 0s 1ms/step - loss: 8776513536.0000 - mae: 69434.2969 - val_loss: 8969465856.0000 - val_mae: 71051.1406\n",
      "Epoch 306/500\n",
      "287/287 [==============================] - 0s 1ms/step - loss: 8797664256.0000 - mae: 69520.0000 - val_loss: 8815122432.0000 - val_mae: 69968.8125\n",
      "Epoch 307/500\n",
      "287/287 [==============================] - 0s 923us/step - loss: 8828466176.0000 - mae: 69541.2734 - val_loss: 8732075008.0000 - val_mae: 69396.9531\n",
      "Epoch 308/500\n",
      "287/287 [==============================] - 0s 944us/step - loss: 8779019264.0000 - mae: 69345.1875 - val_loss: 8738042880.0000 - val_mae: 69364.0000\n",
      "Epoch 309/500\n",
      "287/287 [==============================] - 0s 966us/step - loss: 8755166208.0000 - mae: 69285.6797 - val_loss: 8801997824.0000 - val_mae: 69876.4062\n",
      "Epoch 310/500\n",
      "287/287 [==============================] - 0s 996us/step - loss: 8789607424.0000 - mae: 69404.3672 - val_loss: 8719698944.0000 - val_mae: 69450.1953\n",
      "Epoch 311/500\n",
      "287/287 [==============================] - 0s 959us/step - loss: 8887305216.0000 - mae: 69963.9062 - val_loss: 8860097536.0000 - val_mae: 69817.2969\n",
      "Epoch 312/500\n",
      "287/287 [==============================] - 0s 972us/step - loss: 8833196032.0000 - mae: 69594.0156 - val_loss: 8720390144.0000 - val_mae: 69197.3672\n",
      "Epoch 313/500\n",
      "287/287 [==============================] - 0s 953us/step - loss: 8828554240.0000 - mae: 69620.9922 - val_loss: 8709309440.0000 - val_mae: 69493.5156\n",
      "Epoch 314/500\n",
      "287/287 [==============================] - 0s 970us/step - loss: 8729605120.0000 - mae: 69201.4062 - val_loss: 8719333376.0000 - val_mae: 69001.9922\n",
      "Epoch 315/500\n",
      "287/287 [==============================] - 0s 974us/step - loss: 8775383040.0000 - mae: 69347.7578 - val_loss: 8770003968.0000 - val_mae: 70041.2344\n",
      "Epoch 316/500\n",
      "287/287 [==============================] - 0s 953us/step - loss: 8755037184.0000 - mae: 69285.6094 - val_loss: 8777869312.0000 - val_mae: 70261.0938\n",
      "Epoch 317/500\n",
      "287/287 [==============================] - 0s 944us/step - loss: 8756395008.0000 - mae: 69212.3750 - val_loss: 8955471872.0000 - val_mae: 71071.1016\n",
      "Epoch 318/500\n",
      "287/287 [==============================] - 0s 969us/step - loss: 8745193472.0000 - mae: 69333.6797 - val_loss: 8916766720.0000 - val_mae: 70558.0859\n",
      "Epoch 319/500\n",
      "287/287 [==============================] - 0s 962us/step - loss: 8807464960.0000 - mae: 69506.3359 - val_loss: 8832544768.0000 - val_mae: 69930.8359\n",
      "Epoch 320/500\n",
      "287/287 [==============================] - 0s 953us/step - loss: 8787399680.0000 - mae: 69409.0703 - val_loss: 8680962048.0000 - val_mae: 69295.6250\n",
      "Epoch 321/500\n",
      "287/287 [==============================] - 0s 991us/step - loss: 8771289088.0000 - mae: 69358.3359 - val_loss: 9048181760.0000 - val_mae: 70319.9062\n",
      "Epoch 322/500\n",
      "287/287 [==============================] - 0s 984us/step - loss: 8890664960.0000 - mae: 69935.2734 - val_loss: 8959352832.0000 - val_mae: 71495.7422\n",
      "Epoch 323/500\n",
      "287/287 [==============================] - 0s 962us/step - loss: 8750865408.0000 - mae: 69343.3359 - val_loss: 9306742784.0000 - val_mae: 72158.0938\n",
      "Epoch 324/500\n",
      "287/287 [==============================] - 0s 951us/step - loss: 8757552128.0000 - mae: 69224.1484 - val_loss: 8728272896.0000 - val_mae: 68959.8594\n",
      "Epoch 325/500\n",
      "287/287 [==============================] - 0s 981us/step - loss: 8711104512.0000 - mae: 68999.3828 - val_loss: 8746599424.0000 - val_mae: 69389.8203\n",
      "Epoch 326/500\n",
      "287/287 [==============================] - 0s 1ms/step - loss: 8792214528.0000 - mae: 69498.6641 - val_loss: 8790090752.0000 - val_mae: 70058.3281\n",
      "Epoch 327/500\n",
      "287/287 [==============================] - 0s 969us/step - loss: 8743543808.0000 - mae: 69266.5391 - val_loss: 8888748032.0000 - val_mae: 70117.7422\n",
      "Epoch 328/500\n",
      "287/287 [==============================] - 0s 1ms/step - loss: 8790666240.0000 - mae: 69361.3828 - val_loss: 8642514944.0000 - val_mae: 69025.8438\n",
      "Epoch 329/500\n",
      "287/287 [==============================] - 0s 960us/step - loss: 8703138816.0000 - mae: 68958.9375 - val_loss: 9176316928.0000 - val_mae: 72095.6875\n",
      "Epoch 330/500\n",
      "287/287 [==============================] - 0s 984us/step - loss: 8745256960.0000 - mae: 69210.3047 - val_loss: 8649099264.0000 - val_mae: 68939.4531\n",
      "Epoch 331/500\n",
      "287/287 [==============================] - 0s 1ms/step - loss: 8762924032.0000 - mae: 69333.1641 - val_loss: 8816896000.0000 - val_mae: 70579.6094\n",
      "Epoch 332/500\n",
      "287/287 [==============================] - 0s 951us/step - loss: 8722628608.0000 - mae: 69150.5469 - val_loss: 8705020928.0000 - val_mae: 69731.2188\n",
      "Epoch 333/500\n",
      "287/287 [==============================] - 0s 978us/step - loss: 8866642944.0000 - mae: 69884.7422 - val_loss: 9511552000.0000 - val_mae: 72859.7656\n",
      "Epoch 334/500\n",
      "287/287 [==============================] - 0s 974us/step - loss: 8732418048.0000 - mae: 69239.1797 - val_loss: 8723361792.0000 - val_mae: 69870.6406\n",
      "Epoch 335/500\n",
      "287/287 [==============================] - 0s 971us/step - loss: 8781493248.0000 - mae: 69400.1719 - val_loss: 9343558656.0000 - val_mae: 72622.6484\n",
      "Epoch 336/500\n",
      "287/287 [==============================] - 0s 1ms/step - loss: 8746662912.0000 - mae: 69260.1172 - val_loss: 8961846272.0000 - val_mae: 70426.4062\n",
      "Epoch 337/500\n",
      "287/287 [==============================] - 0s 945us/step - loss: 8748334080.0000 - mae: 69184.9922 - val_loss: 8731749376.0000 - val_mae: 69815.4688\n",
      "Epoch 338/500\n",
      "287/287 [==============================] - 0s 990us/step - loss: 8716269568.0000 - mae: 68933.7031 - val_loss: 9073935360.0000 - val_mae: 71273.9141\n",
      "Epoch 339/500\n",
      "287/287 [==============================] - 0s 954us/step - loss: 8757757952.0000 - mae: 69315.1953 - val_loss: 9235432448.0000 - val_mae: 71826.6016\n",
      "Epoch 340/500\n",
      "287/287 [==============================] - 0s 972us/step - loss: 8789454848.0000 - mae: 69303.6094 - val_loss: 9771692032.0000 - val_mae: 74032.6094\n",
      "Epoch 341/500\n",
      "287/287 [==============================] - 0s 965us/step - loss: 8791890944.0000 - mae: 69476.5391 - val_loss: 8735401984.0000 - val_mae: 69912.5625\n",
      "Epoch 342/500\n",
      "287/287 [==============================] - 0s 977us/step - loss: 8680279040.0000 - mae: 68920.7344 - val_loss: 8735034368.0000 - val_mae: 68719.2969\n",
      "Epoch 343/500\n",
      "287/287 [==============================] - 0s 978us/step - loss: 8671718400.0000 - mae: 68824.5078 - val_loss: 9590609920.0000 - val_mae: 73623.3203\n",
      "Epoch 344/500\n",
      "287/287 [==============================] - 0s 1ms/step - loss: 8735123456.0000 - mae: 69264.5469 - val_loss: 8664286208.0000 - val_mae: 68797.7188\n",
      "Epoch 345/500\n",
      "287/287 [==============================] - 0s 1ms/step - loss: 8734227456.0000 - mae: 69083.4766 - val_loss: 8606405632.0000 - val_mae: 68848.6797\n",
      "Epoch 346/500\n",
      "287/287 [==============================] - 0s 1ms/step - loss: 8732573696.0000 - mae: 69183.0469 - val_loss: 8786624512.0000 - val_mae: 70547.2422\n",
      "Epoch 347/500\n",
      "287/287 [==============================] - 0s 958us/step - loss: 8781430784.0000 - mae: 69470.0781 - val_loss: 8771165184.0000 - val_mae: 69393.5703\n",
      "Epoch 348/500\n",
      "287/287 [==============================] - 0s 964us/step - loss: 8713635840.0000 - mae: 69095.4141 - val_loss: 8678751232.0000 - val_mae: 69071.6172\n",
      "Epoch 349/500\n",
      "287/287 [==============================] - 0s 976us/step - loss: 8689171456.0000 - mae: 68975.3594 - val_loss: 8693307392.0000 - val_mae: 69778.8438\n",
      "Epoch 350/500\n",
      "287/287 [==============================] - 0s 988us/step - loss: 8728489984.0000 - mae: 69134.2500 - val_loss: 8626215936.0000 - val_mae: 69118.1641\n",
      "Epoch 351/500\n",
      "287/287 [==============================] - 0s 987us/step - loss: 8687862784.0000 - mae: 68807.8281 - val_loss: 8561406464.0000 - val_mae: 68863.1172\n",
      "Epoch 352/500\n",
      "287/287 [==============================] - 0s 969us/step - loss: 8674572288.0000 - mae: 68934.1562 - val_loss: 8628434944.0000 - val_mae: 68783.5703\n",
      "Epoch 353/500\n"
     ]
    },
    {
     "name": "stdout",
     "output_type": "stream",
     "text": [
      "287/287 [==============================] - 0s 1ms/step - loss: 8690358272.0000 - mae: 68983.6484 - val_loss: 8605199360.0000 - val_mae: 68789.8203\n",
      "Epoch 354/500\n",
      "287/287 [==============================] - 0s 1ms/step - loss: 8674032640.0000 - mae: 68939.4922 - val_loss: 8696603648.0000 - val_mae: 69430.8516\n",
      "Epoch 355/500\n",
      "287/287 [==============================] - 0s 978us/step - loss: 8700911616.0000 - mae: 68976.9688 - val_loss: 8630086656.0000 - val_mae: 69434.6641\n",
      "Epoch 356/500\n",
      "287/287 [==============================] - 0s 990us/step - loss: 8709714944.0000 - mae: 69018.2422 - val_loss: 8651716608.0000 - val_mae: 69152.6406\n",
      "Epoch 357/500\n",
      "287/287 [==============================] - 0s 961us/step - loss: 8650871808.0000 - mae: 68699.8047 - val_loss: 8693280768.0000 - val_mae: 69331.7109\n",
      "Epoch 358/500\n",
      "287/287 [==============================] - 0s 1ms/step - loss: 8638306304.0000 - mae: 68704.9062 - val_loss: 8735312896.0000 - val_mae: 68799.9141\n",
      "Epoch 359/500\n",
      "287/287 [==============================] - 0s 971us/step - loss: 8628142080.0000 - mae: 68684.9766 - val_loss: 9009342464.0000 - val_mae: 71398.8125\n",
      "Epoch 360/500\n",
      "287/287 [==============================] - 0s 991us/step - loss: 8782573568.0000 - mae: 69391.5312 - val_loss: 8562944512.0000 - val_mae: 68575.7109\n",
      "Epoch 361/500\n",
      "287/287 [==============================] - 0s 996us/step - loss: 8704236544.0000 - mae: 69046.1250 - val_loss: 8621566976.0000 - val_mae: 69433.2812\n",
      "Epoch 362/500\n",
      "287/287 [==============================] - 0s 1ms/step - loss: 8667181056.0000 - mae: 68858.2266 - val_loss: 8746942464.0000 - val_mae: 68778.7344\n",
      "Epoch 363/500\n",
      "287/287 [==============================] - 0s 975us/step - loss: 8660273152.0000 - mae: 68862.4375 - val_loss: 8643716096.0000 - val_mae: 68610.0938\n",
      "Epoch 364/500\n",
      "287/287 [==============================] - 0s 997us/step - loss: 8639982592.0000 - mae: 68659.6484 - val_loss: 8613875712.0000 - val_mae: 68538.6719\n",
      "Epoch 365/500\n",
      "287/287 [==============================] - 0s 976us/step - loss: 8637423616.0000 - mae: 68840.6641 - val_loss: 8556215808.0000 - val_mae: 68771.1094\n",
      "Epoch 366/500\n",
      "287/287 [==============================] - 0s 982us/step - loss: 8605035520.0000 - mae: 68568.6562 - val_loss: 8515100160.0000 - val_mae: 68698.4062\n",
      "Epoch 367/500\n",
      "287/287 [==============================] - 0s 976us/step - loss: 8726727680.0000 - mae: 69203.1406 - val_loss: 8896092160.0000 - val_mae: 69693.6406\n",
      "Epoch 368/500\n",
      "287/287 [==============================] - 0s 982us/step - loss: 8650288128.0000 - mae: 68870.4062 - val_loss: 8618545152.0000 - val_mae: 68625.1094\n",
      "Epoch 369/500\n",
      "287/287 [==============================] - 0s 958us/step - loss: 8661394432.0000 - mae: 68753.0781 - val_loss: 8614136832.0000 - val_mae: 69118.8984\n",
      "Epoch 370/500\n",
      "287/287 [==============================] - 0s 1ms/step - loss: 8677477376.0000 - mae: 68996.1250 - val_loss: 8615591936.0000 - val_mae: 68659.6406\n",
      "Epoch 371/500\n",
      "287/287 [==============================] - 0s 1ms/step - loss: 8676354048.0000 - mae: 68932.8125 - val_loss: 8682665984.0000 - val_mae: 69269.5312\n",
      "Epoch 372/500\n",
      "287/287 [==============================] - 0s 1ms/step - loss: 8669560832.0000 - mae: 68818.7188 - val_loss: 8547612160.0000 - val_mae: 68622.7422\n",
      "Epoch 373/500\n",
      "287/287 [==============================] - 0s 1ms/step - loss: 8591625216.0000 - mae: 68489.6719 - val_loss: 9078291456.0000 - val_mae: 70954.9141\n",
      "Epoch 374/500\n",
      "287/287 [==============================] - 0s 999us/step - loss: 8637707264.0000 - mae: 68761.5000 - val_loss: 8520352768.0000 - val_mae: 68660.1797\n",
      "Epoch 375/500\n",
      "287/287 [==============================] - 0s 986us/step - loss: 8718517248.0000 - mae: 69177.6641 - val_loss: 8526133760.0000 - val_mae: 68479.4844\n",
      "Epoch 376/500\n",
      "287/287 [==============================] - 0s 1ms/step - loss: 8563538944.0000 - mae: 68289.7422 - val_loss: 8594287616.0000 - val_mae: 68822.0469\n",
      "Epoch 377/500\n",
      "287/287 [==============================] - 0s 980us/step - loss: 8660400128.0000 - mae: 68727.1328 - val_loss: 8857782272.0000 - val_mae: 69905.9219\n",
      "Epoch 378/500\n",
      "287/287 [==============================] - 0s 1ms/step - loss: 8661586944.0000 - mae: 68890.7188 - val_loss: 8518468608.0000 - val_mae: 68854.4688\n",
      "Epoch 379/500\n",
      "287/287 [==============================] - 0s 961us/step - loss: 8607709184.0000 - mae: 68557.9922 - val_loss: 8737966080.0000 - val_mae: 69388.3828\n",
      "Epoch 380/500\n",
      "287/287 [==============================] - 0s 995us/step - loss: 8655287296.0000 - mae: 68855.7031 - val_loss: 8511649792.0000 - val_mae: 68372.6172\n",
      "Epoch 381/500\n",
      "287/287 [==============================] - 0s 958us/step - loss: 8623729664.0000 - mae: 68558.0703 - val_loss: 8568805888.0000 - val_mae: 68925.7188\n",
      "Epoch 382/500\n",
      "287/287 [==============================] - 0s 988us/step - loss: 8616556544.0000 - mae: 68598.4531 - val_loss: 8852612096.0000 - val_mae: 70127.9062\n",
      "Epoch 383/500\n",
      "287/287 [==============================] - 0s 975us/step - loss: 8595318784.0000 - mae: 68435.2344 - val_loss: 8616548352.0000 - val_mae: 69233.3359\n",
      "Epoch 384/500\n",
      "287/287 [==============================] - 0s 981us/step - loss: 8653977600.0000 - mae: 68822.6094 - val_loss: 8506300416.0000 - val_mae: 68438.4453\n",
      "Epoch 385/500\n",
      "287/287 [==============================] - 0s 959us/step - loss: 8603684864.0000 - mae: 68592.7188 - val_loss: 8904519680.0000 - val_mae: 69911.2656\n",
      "Epoch 386/500\n",
      "287/287 [==============================] - 0s 973us/step - loss: 8579347968.0000 - mae: 68428.1875 - val_loss: 8588424192.0000 - val_mae: 69084.4609\n",
      "Epoch 387/500\n",
      "287/287 [==============================] - 0s 971us/step - loss: 8601370624.0000 - mae: 68496.1406 - val_loss: 8577924608.0000 - val_mae: 69008.7656\n",
      "Epoch 388/500\n",
      "287/287 [==============================] - 0s 976us/step - loss: 8653672448.0000 - mae: 68804.6484 - val_loss: 8764326912.0000 - val_mae: 70387.5234\n",
      "Epoch 389/500\n",
      "287/287 [==============================] - 0s 962us/step - loss: 8563753472.0000 - mae: 68352.1016 - val_loss: 8997508096.0000 - val_mae: 70474.1172\n",
      "Epoch 390/500\n",
      "287/287 [==============================] - 0s 976us/step - loss: 8558441984.0000 - mae: 68356.3672 - val_loss: 8572719104.0000 - val_mae: 68472.8281\n",
      "Epoch 391/500\n",
      "287/287 [==============================] - 0s 983us/step - loss: 8579544064.0000 - mae: 68388.3359 - val_loss: 8501144064.0000 - val_mae: 68580.4219\n",
      "Epoch 392/500\n",
      "287/287 [==============================] - 0s 986us/step - loss: 8633532416.0000 - mae: 68640.1406 - val_loss: 8627312640.0000 - val_mae: 68524.6641\n",
      "Epoch 393/500\n",
      "287/287 [==============================] - 0s 976us/step - loss: 8590807040.0000 - mae: 68452.5938 - val_loss: 8607640576.0000 - val_mae: 69332.5234\n",
      "Epoch 394/500\n",
      "287/287 [==============================] - 0s 993us/step - loss: 8698174464.0000 - mae: 69056.1328 - val_loss: 8622231552.0000 - val_mae: 68283.6094\n",
      "Epoch 395/500\n",
      "287/287 [==============================] - 0s 958us/step - loss: 8604603392.0000 - mae: 68562.9141 - val_loss: 8623138816.0000 - val_mae: 69190.2344\n",
      "Epoch 396/500\n",
      "287/287 [==============================] - 0s 961us/step - loss: 8570015232.0000 - mae: 68419.6562 - val_loss: 8595124224.0000 - val_mae: 69496.7656\n",
      "Epoch 397/500\n",
      "287/287 [==============================] - 0s 980us/step - loss: 8533906944.0000 - mae: 68213.5938 - val_loss: 8872176640.0000 - val_mae: 69776.7266\n",
      "Epoch 398/500\n",
      "287/287 [==============================] - 0s 975us/step - loss: 8519537152.0000 - mae: 68052.0000 - val_loss: 8515448832.0000 - val_mae: 68769.2578\n",
      "Epoch 399/500\n",
      "287/287 [==============================] - 0s 1ms/step - loss: 8631373824.0000 - mae: 68697.9922 - val_loss: 8635098112.0000 - val_mae: 69431.5625\n",
      "Epoch 400/500\n",
      "287/287 [==============================] - 0s 1ms/step - loss: 8637643776.0000 - mae: 68862.6406 - val_loss: 8505265664.0000 - val_mae: 68480.7188\n",
      "Epoch 401/500\n",
      "287/287 [==============================] - 0s 1ms/step - loss: 8586669056.0000 - mae: 68574.2266 - val_loss: 8562638848.0000 - val_mae: 68544.9219\n",
      "Epoch 402/500\n",
      "287/287 [==============================] - 0s 1ms/step - loss: 8555170816.0000 - mae: 68389.0391 - val_loss: 8706619392.0000 - val_mae: 69807.7578\n",
      "Epoch 403/500\n"
     ]
    },
    {
     "name": "stdout",
     "output_type": "stream",
     "text": [
      "287/287 [==============================] - 0s 1ms/step - loss: 8616905728.0000 - mae: 68735.9688 - val_loss: 8602024960.0000 - val_mae: 68402.4141\n",
      "Epoch 404/500\n",
      "287/287 [==============================] - 0s 969us/step - loss: 8537662976.0000 - mae: 68176.9609 - val_loss: 8543028736.0000 - val_mae: 67880.1406\n",
      "Epoch 405/500\n",
      "287/287 [==============================] - 0s 1ms/step - loss: 8563607552.0000 - mae: 68412.7812 - val_loss: 8519393792.0000 - val_mae: 68939.2188\n",
      "Epoch 406/500\n",
      "287/287 [==============================] - 0s 988us/step - loss: 8573490688.0000 - mae: 68398.6719 - val_loss: 9100813312.0000 - val_mae: 71941.7266\n",
      "Epoch 407/500\n",
      "287/287 [==============================] - 0s 997us/step - loss: 8600953856.0000 - mae: 68608.0469 - val_loss: 8871825408.0000 - val_mae: 69996.1094\n",
      "Epoch 408/500\n",
      "287/287 [==============================] - 0s 977us/step - loss: 8592276480.0000 - mae: 68502.7969 - val_loss: 8547424768.0000 - val_mae: 68372.0156\n",
      "Epoch 409/500\n",
      "287/287 [==============================] - 0s 968us/step - loss: 8569416704.0000 - mae: 68417.4062 - val_loss: 8479596032.0000 - val_mae: 68289.9219\n",
      "Epoch 410/500\n",
      "287/287 [==============================] - 0s 987us/step - loss: 8522273280.0000 - mae: 68145.3047 - val_loss: 8595505152.0000 - val_mae: 68580.5312\n",
      "Epoch 411/500\n",
      "287/287 [==============================] - 0s 965us/step - loss: 8511460864.0000 - mae: 68040.5312 - val_loss: 9050560512.0000 - val_mae: 71183.5391\n",
      "Epoch 412/500\n",
      "287/287 [==============================] - 0s 978us/step - loss: 8548280832.0000 - mae: 68335.2891 - val_loss: 8525169152.0000 - val_mae: 67828.7344\n",
      "Epoch 413/500\n",
      "287/287 [==============================] - 0s 934us/step - loss: 8595110912.0000 - mae: 68539.1016 - val_loss: 8489094656.0000 - val_mae: 68150.4062\n",
      "Epoch 414/500\n",
      "287/287 [==============================] - 0s 959us/step - loss: 8502992896.0000 - mae: 68097.4531 - val_loss: 8481777152.0000 - val_mae: 68258.2969\n",
      "Epoch 415/500\n",
      "287/287 [==============================] - 0s 1ms/step - loss: 8527561216.0000 - mae: 68164.2422 - val_loss: 8710100992.0000 - val_mae: 69644.2969\n",
      "Epoch 416/500\n",
      "287/287 [==============================] - 0s 1ms/step - loss: 8550395392.0000 - mae: 68327.6953 - val_loss: 8956070912.0000 - val_mae: 69718.4844\n",
      "Epoch 417/500\n",
      "287/287 [==============================] - 0s 1ms/step - loss: 8582716416.0000 - mae: 68477.6562 - val_loss: 8797194240.0000 - val_mae: 69274.4922\n",
      "Epoch 418/500\n",
      "287/287 [==============================] - 0s 1ms/step - loss: 8547359744.0000 - mae: 68371.3047 - val_loss: 8682450944.0000 - val_mae: 68505.9922\n",
      "Epoch 419/500\n",
      "287/287 [==============================] - 0s 953us/step - loss: 8519236608.0000 - mae: 68186.0625 - val_loss: 8505888768.0000 - val_mae: 68345.9297\n",
      "Epoch 420/500\n",
      "287/287 [==============================] - 0s 959us/step - loss: 8609584128.0000 - mae: 68604.1172 - val_loss: 9000644608.0000 - val_mae: 70604.2969\n",
      "Epoch 421/500\n",
      "287/287 [==============================] - 0s 1ms/step - loss: 8544007680.0000 - mae: 68197.4453 - val_loss: 8864292864.0000 - val_mae: 70649.5000\n",
      "Epoch 422/500\n",
      "287/287 [==============================] - 0s 1ms/step - loss: 8472931840.0000 - mae: 67971.5938 - val_loss: 8517122560.0000 - val_mae: 68166.2969\n",
      "Epoch 423/500\n",
      "287/287 [==============================] - 0s 1ms/step - loss: 8509314048.0000 - mae: 68163.1641 - val_loss: 8581852160.0000 - val_mae: 68801.8906\n",
      "Epoch 424/500\n",
      "287/287 [==============================] - 0s 1ms/step - loss: 8501198336.0000 - mae: 68133.2188 - val_loss: 8688068608.0000 - val_mae: 69909.0703\n",
      "Epoch 425/500\n",
      "287/287 [==============================] - 0s 1ms/step - loss: 8533889536.0000 - mae: 68191.2734 - val_loss: 8683408384.0000 - val_mae: 68575.6172\n",
      "Epoch 426/500\n",
      "287/287 [==============================] - 0s 1ms/step - loss: 8550309376.0000 - mae: 68336.0000 - val_loss: 8527153152.0000 - val_mae: 69031.9766\n",
      "Epoch 427/500\n",
      "287/287 [==============================] - 0s 1ms/step - loss: 8595888128.0000 - mae: 68558.0312 - val_loss: 8529892864.0000 - val_mae: 68678.8125\n",
      "Epoch 428/500\n",
      "287/287 [==============================] - 0s 951us/step - loss: 8472550912.0000 - mae: 67983.9453 - val_loss: 8791103488.0000 - val_mae: 69674.5859\n",
      "Epoch 429/500\n",
      "287/287 [==============================] - 0s 955us/step - loss: 8579223552.0000 - mae: 68382.1406 - val_loss: 8846411776.0000 - val_mae: 69486.5703\n",
      "Epoch 430/500\n",
      "287/287 [==============================] - 0s 1ms/step - loss: 8530697728.0000 - mae: 68226.2578 - val_loss: 8598614016.0000 - val_mae: 68414.7422\n",
      "Epoch 431/500\n",
      "287/287 [==============================] - 0s 943us/step - loss: 8490779136.0000 - mae: 67953.9375 - val_loss: 8998418432.0000 - val_mae: 70737.7344\n",
      "Epoch 432/500\n",
      "287/287 [==============================] - 0s 961us/step - loss: 8439821824.0000 - mae: 67743.0156 - val_loss: 8701671424.0000 - val_mae: 69356.6719\n",
      "Epoch 433/500\n",
      "287/287 [==============================] - 0s 948us/step - loss: 8513522176.0000 - mae: 68178.2578 - val_loss: 8682789888.0000 - val_mae: 69724.6016\n",
      "Epoch 434/500\n",
      "287/287 [==============================] - 0s 966us/step - loss: 8548353536.0000 - mae: 68346.2031 - val_loss: 8514712576.0000 - val_mae: 68928.1250\n",
      "Epoch 435/500\n",
      "287/287 [==============================] - 0s 980us/step - loss: 8486130176.0000 - mae: 67956.6719 - val_loss: 8493003776.0000 - val_mae: 68341.3203\n",
      "Epoch 436/500\n",
      "287/287 [==============================] - 0s 1ms/step - loss: 8537069056.0000 - mae: 68271.9922 - val_loss: 8462235136.0000 - val_mae: 68604.8750\n",
      "Epoch 437/500\n",
      "287/287 [==============================] - 0s 1ms/step - loss: 8477149696.0000 - mae: 67945.7969 - val_loss: 8446640640.0000 - val_mae: 68040.0469\n",
      "Epoch 438/500\n",
      "287/287 [==============================] - 0s 950us/step - loss: 8452097024.0000 - mae: 67785.8906 - val_loss: 8440733696.0000 - val_mae: 67817.6641\n",
      "Epoch 439/500\n",
      "287/287 [==============================] - 0s 1ms/step - loss: 8506808320.0000 - mae: 68168.5859 - val_loss: 8661110784.0000 - val_mae: 68738.6719\n",
      "Epoch 440/500\n",
      "287/287 [==============================] - 0s 953us/step - loss: 8468545024.0000 - mae: 67932.1484 - val_loss: 8638957568.0000 - val_mae: 68494.1406\n",
      "Epoch 441/500\n",
      "287/287 [==============================] - 0s 969us/step - loss: 8551570944.0000 - mae: 68347.2656 - val_loss: 8613192704.0000 - val_mae: 68207.7812\n",
      "Epoch 442/500\n",
      "287/287 [==============================] - 0s 979us/step - loss: 8463886848.0000 - mae: 67891.7344 - val_loss: 8437037056.0000 - val_mae: 68454.9922\n",
      "Epoch 443/500\n",
      "287/287 [==============================] - 0s 996us/step - loss: 8468473344.0000 - mae: 67871.6172 - val_loss: 8390408192.0000 - val_mae: 67598.2812\n",
      "Epoch 444/500\n",
      "287/287 [==============================] - 0s 988us/step - loss: 8464610816.0000 - mae: 67894.1797 - val_loss: 8528776704.0000 - val_mae: 67993.0078\n",
      "Epoch 445/500\n",
      "287/287 [==============================] - 0s 981us/step - loss: 8553288192.0000 - mae: 68472.2500 - val_loss: 9174456320.0000 - val_mae: 72104.1797\n",
      "Epoch 446/500\n",
      "287/287 [==============================] - 0s 973us/step - loss: 8461570048.0000 - mae: 67832.5703 - val_loss: 8485899264.0000 - val_mae: 68859.5234\n",
      "Epoch 447/500\n",
      "287/287 [==============================] - 0s 985us/step - loss: 8507407872.0000 - mae: 68222.7422 - val_loss: 8772121600.0000 - val_mae: 70038.4688\n",
      "Epoch 448/500\n",
      "287/287 [==============================] - 0s 982us/step - loss: 8460008448.0000 - mae: 67780.3594 - val_loss: 8439458816.0000 - val_mae: 67878.1719\n",
      "Epoch 449/500\n",
      "287/287 [==============================] - 0s 971us/step - loss: 8490929152.0000 - mae: 68071.7578 - val_loss: 9064571904.0000 - val_mae: 70418.6719\n",
      "Epoch 450/500\n",
      "287/287 [==============================] - 0s 986us/step - loss: 8451809280.0000 - mae: 67809.2422 - val_loss: 8944247808.0000 - val_mae: 71150.6641\n",
      "Epoch 451/500\n",
      "287/287 [==============================] - 0s 983us/step - loss: 8533056512.0000 - mae: 68158.9453 - val_loss: 8703592448.0000 - val_mae: 70126.9766\n",
      "Epoch 452/500\n",
      "287/287 [==============================] - 0s 973us/step - loss: 8443804672.0000 - mae: 67787.5469 - val_loss: 8978421760.0000 - val_mae: 70919.8594\n",
      "Epoch 453/500\n"
     ]
    },
    {
     "name": "stdout",
     "output_type": "stream",
     "text": [
      "287/287 [==============================] - 0s 975us/step - loss: 8451514880.0000 - mae: 67911.4844 - val_loss: 8410414080.0000 - val_mae: 67505.4297\n",
      "Epoch 454/500\n",
      "287/287 [==============================] - 0s 1ms/step - loss: 8438655488.0000 - mae: 67741.0625 - val_loss: 8427926528.0000 - val_mae: 67519.8828\n",
      "Epoch 455/500\n",
      "287/287 [==============================] - 0s 1ms/step - loss: 8453961216.0000 - mae: 67814.8828 - val_loss: 8543932416.0000 - val_mae: 68597.1250\n",
      "Epoch 456/500\n",
      "287/287 [==============================] - 0s 1ms/step - loss: 8470721024.0000 - mae: 67861.7578 - val_loss: 8498371072.0000 - val_mae: 68190.6484\n",
      "Epoch 457/500\n",
      "287/287 [==============================] - 0s 960us/step - loss: 8479093760.0000 - mae: 67889.4141 - val_loss: 8613797888.0000 - val_mae: 68775.1562\n",
      "Epoch 458/500\n",
      "287/287 [==============================] - 0s 971us/step - loss: 8418891264.0000 - mae: 67652.0703 - val_loss: 8385389056.0000 - val_mae: 67773.1250\n",
      "Epoch 459/500\n",
      "287/287 [==============================] - 0s 974us/step - loss: 8444933632.0000 - mae: 67843.2109 - val_loss: 8461884928.0000 - val_mae: 68170.6797\n",
      "Epoch 460/500\n",
      "287/287 [==============================] - 0s 959us/step - loss: 8429639680.0000 - mae: 67747.4922 - val_loss: 8557683200.0000 - val_mae: 68326.4766\n",
      "Epoch 461/500\n",
      "287/287 [==============================] - 0s 968us/step - loss: 8472809472.0000 - mae: 67874.0703 - val_loss: 8608332800.0000 - val_mae: 67857.3047\n",
      "Epoch 462/500\n",
      "287/287 [==============================] - 0s 1ms/step - loss: 8460878848.0000 - mae: 67856.6250 - val_loss: 8587790336.0000 - val_mae: 68540.3438\n",
      "Epoch 463/500\n",
      "287/287 [==============================] - 0s 984us/step - loss: 8406265856.0000 - mae: 67636.9922 - val_loss: 9188887552.0000 - val_mae: 71639.1875\n",
      "Epoch 464/500\n",
      "287/287 [==============================] - 0s 1ms/step - loss: 8462748672.0000 - mae: 67911.5547 - val_loss: 9353551872.0000 - val_mae: 72049.4609\n",
      "Epoch 465/500\n",
      "287/287 [==============================] - 0s 1ms/step - loss: 8458960384.0000 - mae: 67799.8828 - val_loss: 8625914880.0000 - val_mae: 68169.2344\n",
      "Epoch 466/500\n",
      "287/287 [==============================] - 0s 975us/step - loss: 8407986688.0000 - mae: 67631.9453 - val_loss: 8756512768.0000 - val_mae: 69393.5391\n",
      "Epoch 467/500\n",
      "287/287 [==============================] - 0s 947us/step - loss: 8500021760.0000 - mae: 68104.2266 - val_loss: 8535186432.0000 - val_mae: 69017.4375\n",
      "Epoch 468/500\n",
      "287/287 [==============================] - 0s 979us/step - loss: 8457960960.0000 - mae: 67799.1719 - val_loss: 8489755648.0000 - val_mae: 68426.9766\n",
      "Epoch 469/500\n",
      "287/287 [==============================] - 0s 1ms/step - loss: 8423391744.0000 - mae: 67701.6406 - val_loss: 8320215552.0000 - val_mae: 67272.1875\n",
      "Epoch 470/500\n",
      "287/287 [==============================] - 0s 999us/step - loss: 8396893184.0000 - mae: 67589.1016 - val_loss: 9170154496.0000 - val_mae: 71248.3359\n",
      "Epoch 471/500\n",
      "287/287 [==============================] - 0s 965us/step - loss: 8444677120.0000 - mae: 67787.0625 - val_loss: 8412630016.0000 - val_mae: 68277.1328\n",
      "Epoch 472/500\n",
      "287/287 [==============================] - 0s 999us/step - loss: 8402402816.0000 - mae: 67506.6406 - val_loss: 8443507200.0000 - val_mae: 67111.1406\n",
      "Epoch 473/500\n",
      "287/287 [==============================] - 0s 979us/step - loss: 8404381184.0000 - mae: 67591.2031 - val_loss: 8755751936.0000 - val_mae: 69730.1562\n",
      "Epoch 474/500\n",
      "287/287 [==============================] - 0s 997us/step - loss: 8530237440.0000 - mae: 68256.7969 - val_loss: 8498691584.0000 - val_mae: 67995.0859\n",
      "Epoch 475/500\n",
      "287/287 [==============================] - 0s 992us/step - loss: 8431364608.0000 - mae: 67791.2969 - val_loss: 8598748160.0000 - val_mae: 68329.6172\n",
      "Epoch 476/500\n",
      "287/287 [==============================] - 0s 989us/step - loss: 8435668480.0000 - mae: 67739.5625 - val_loss: 8578935296.0000 - val_mae: 69328.1172\n",
      "Epoch 477/500\n",
      "287/287 [==============================] - 0s 979us/step - loss: 8402928128.0000 - mae: 67635.3984 - val_loss: 8555867648.0000 - val_mae: 68838.1875\n",
      "Epoch 478/500\n",
      "287/287 [==============================] - 0s 968us/step - loss: 8354481664.0000 - mae: 67279.0000 - val_loss: 8391272448.0000 - val_mae: 67778.8359\n",
      "Epoch 479/500\n",
      "287/287 [==============================] - 0s 966us/step - loss: 8372936192.0000 - mae: 67417.5781 - val_loss: 8387883008.0000 - val_mae: 68072.4844\n",
      "Epoch 480/500\n",
      "287/287 [==============================] - 0s 968us/step - loss: 8466361344.0000 - mae: 67898.9922 - val_loss: 8461115904.0000 - val_mae: 68433.5312\n",
      "Epoch 481/500\n",
      "287/287 [==============================] - 0s 965us/step - loss: 8433786880.0000 - mae: 67858.3125 - val_loss: 8439791104.0000 - val_mae: 68075.7969\n",
      "Epoch 482/500\n",
      "287/287 [==============================] - 0s 980us/step - loss: 8432153600.0000 - mae: 67728.2344 - val_loss: 8532383232.0000 - val_mae: 68005.2422\n",
      "Epoch 483/500\n",
      "287/287 [==============================] - 0s 973us/step - loss: 8478309888.0000 - mae: 67929.1875 - val_loss: 8553905152.0000 - val_mae: 68242.3750\n",
      "Epoch 484/500\n",
      "287/287 [==============================] - 0s 953us/step - loss: 8443681280.0000 - mae: 67772.7422 - val_loss: 8443153408.0000 - val_mae: 67179.8984\n",
      "Epoch 485/500\n",
      "287/287 [==============================] - 0s 947us/step - loss: 8363496448.0000 - mae: 67384.6875 - val_loss: 8333732352.0000 - val_mae: 67396.0547\n",
      "Epoch 486/500\n",
      "287/287 [==============================] - 0s 959us/step - loss: 8374953984.0000 - mae: 67374.1172 - val_loss: 8332118528.0000 - val_mae: 67311.2812\n",
      "Epoch 487/500\n",
      "287/287 [==============================] - 0s 957us/step - loss: 8337539072.0000 - mae: 67236.5938 - val_loss: 8506186752.0000 - val_mae: 68145.3672\n",
      "Epoch 488/500\n",
      "287/287 [==============================] - 0s 981us/step - loss: 8409918464.0000 - mae: 67662.0234 - val_loss: 8529384960.0000 - val_mae: 68726.4922\n",
      "Epoch 489/500\n",
      "287/287 [==============================] - 0s 948us/step - loss: 8426648576.0000 - mae: 67580.0859 - val_loss: 8423408128.0000 - val_mae: 67735.3750\n",
      "Epoch 490/500\n",
      "287/287 [==============================] - 0s 970us/step - loss: 8388581376.0000 - mae: 67608.2188 - val_loss: 8465246208.0000 - val_mae: 67841.4375\n",
      "Epoch 491/500\n",
      "287/287 [==============================] - 0s 940us/step - loss: 8458824192.0000 - mae: 67841.4531 - val_loss: 8367612928.0000 - val_mae: 67666.1797\n",
      "Epoch 492/500\n",
      "287/287 [==============================] - 0s 978us/step - loss: 8435762688.0000 - mae: 67668.3281 - val_loss: 8411145728.0000 - val_mae: 67549.9297\n",
      "Epoch 493/500\n",
      "287/287 [==============================] - 0s 996us/step - loss: 8401400832.0000 - mae: 67532.5234 - val_loss: 8604179456.0000 - val_mae: 67889.8984\n",
      "Epoch 494/500\n",
      "287/287 [==============================] - 0s 965us/step - loss: 8352269312.0000 - mae: 67345.4766 - val_loss: 8344570880.0000 - val_mae: 67882.4219\n",
      "Epoch 495/500\n",
      "287/287 [==============================] - 0s 961us/step - loss: 8419136000.0000 - mae: 67647.7031 - val_loss: 8433007104.0000 - val_mae: 67856.1953\n",
      "Epoch 496/500\n",
      "287/287 [==============================] - 0s 964us/step - loss: 8450408960.0000 - mae: 67873.5938 - val_loss: 8392985088.0000 - val_mae: 67434.5000\n",
      "Epoch 497/500\n",
      "287/287 [==============================] - 0s 963us/step - loss: 8425526784.0000 - mae: 67723.4922 - val_loss: 8378154496.0000 - val_mae: 66892.6016\n",
      "Epoch 498/500\n",
      "287/287 [==============================] - 0s 955us/step - loss: 8417039872.0000 - mae: 67654.0781 - val_loss: 8473512960.0000 - val_mae: 67681.6875\n",
      "Epoch 499/500\n",
      "287/287 [==============================] - 0s 1ms/step - loss: 8328421376.0000 - mae: 67153.6641 - val_loss: 8718845952.0000 - val_mae: 70016.2578\n",
      "Epoch 500/500\n",
      "287/287 [==============================] - 0s 980us/step - loss: 8418982912.0000 - mae: 67726.5859 - val_loss: 8698588160.0000 - val_mae: 69068.4141\n"
     ]
    },
    {
     "data": {
      "text/plain": [
       "<tensorflow.python.keras.callbacks.History at 0x2e260f9fca0>"
      ]
     },
     "execution_count": 275,
     "metadata": {},
     "output_type": "execute_result"
    }
   ],
   "source": [
    "# Adam optimiser MAE loss，mean absolute error)\n",
    "model_dl.compile(optimizer='Adam', loss='mse', metrics=['mae'])\n",
    "\n",
    "#fit\n",
    "model_dl.fit(x=X_train, y=y_train, validation_data=(X_val, y_val),\n",
    "             epochs=500, batch_size=128, verbose=1)\n"
   ]
  },
  {
   "cell_type": "code",
   "execution_count": 304,
   "id": "figured-horizontal",
   "metadata": {
    "scrolled": false
   },
   "outputs": [
    {
     "data": {
      "text/plain": [
       "Text(0, 0.5, 'Metric')"
      ]
     },
     "execution_count": 304,
     "metadata": {},
     "output_type": "execute_result"
    },
    {
     "data": {
      "image/png": "[encoded data removed]",
      "text/plain": [
       "<Figure size 1224x360 with 2 Axes>"
      ]
     },
     "metadata": {
      "needs_background": "light"
     },
     "output_type": "display_data"
    }
   ],
   "source": [
    "#history curve\n",
    "history_df = pd.DataFrame(model_dl.history.history) \n",
    "\n",
    "\n",
    "fig, (ax1, ax2) = plt.subplots(1, 2, figsize=(17,5) , gridspec_kw={'hspace': 0.5})\n",
    "\n",
    "history_df.loc[:,['loss','val_loss']].plot(ax=ax1)\n",
    "ax1.set_xlabel('nombre epoch')\n",
    "ax1.set_ylabel('Loss')\n",
    "\n",
    "history_df.loc[:,['mae','val_mae']].plot(ax=ax2)\n",
    "ax2.set_xlabel('nombre epoch')\n",
    "ax2.set_ylabel('Metric')"
   ]
  },
  {
   "cell_type": "code",
   "execution_count": 306,
   "id": "anticipated-ticket",
   "metadata": {},
   "outputs": [
    {
     "name": "stdout",
     "output_type": "stream",
     "text": [
      "MAE: 68228.49841606268\n",
      "MSE: 8659530583.37168\n",
      "RMSE: 93056.59881691185\n",
      "R2: 0.6276478172552586\n"
     ]
    }
   ],
   "source": [
    "y_pred = model_dl.predict(X_test)\n",
    "from sklearn import metrics\n",
    "from sklearn.metrics import r2_score\n",
    "\n",
    "print('MAE:', metrics.mean_absolute_error(y_test, y_pred))  \n",
    "print('MSE:', metrics.mean_squared_error(y_test, y_pred))  \n",
    "print('RMSE:', np.sqrt(metrics.mean_squared_error(y_test, y_pred)))\n",
    "print('R2:', metrics.r2_score(y_test, y_pred))\n"
   ]
  },
  {
   "cell_type": "code",
   "execution_count": 307,
   "id": "allied-haven",
   "metadata": {},
   "outputs": [
    {
     "data": {
      "text/html": [
       "<div>\n",
       "<style scoped>\n",
       "    .dataframe tbody tr th:only-of-type {\n",
       "        vertical-align: middle;\n",
       "    }\n",
       "\n",
       "    .dataframe tbody tr th {\n",
       "        vertical-align: top;\n",
       "    }\n",
       "\n",
       "    .dataframe thead th {\n",
       "        text-align: right;\n",
       "    }\n",
       "</style>\n",
       "<table border=\"1\" class=\"dataframe\">\n",
       "  <thead>\n",
       "    <tr style=\"text-align: right;\">\n",
       "      <th></th>\n",
       "      <th>Model</th>\n",
       "      <th>R2</th>\n",
       "      <th>MSE</th>\n",
       "    </tr>\n",
       "  </thead>\n",
       "  <tbody>\n",
       "    <tr>\n",
       "      <th>0</th>\n",
       "      <td>LinearRegression</td>\n",
       "      <td>0.533473</td>\n",
       "      <td>1.084968e+10</td>\n",
       "    </tr>\n",
       "    <tr>\n",
       "      <th>1</th>\n",
       "      <td>XGBRegressor</td>\n",
       "      <td>0.700380</td>\n",
       "      <td>6.968046e+09</td>\n",
       "    </tr>\n",
       "    <tr>\n",
       "      <th>2</th>\n",
       "      <td>RandomForestRegressor</td>\n",
       "      <td>0.687739</td>\n",
       "      <td>7.262023e+09</td>\n",
       "    </tr>\n",
       "    <tr>\n",
       "      <th>3</th>\n",
       "      <td>Neural network</td>\n",
       "      <td>0.627648</td>\n",
       "      <td>8.659531e+09</td>\n",
       "    </tr>\n",
       "  </tbody>\n",
       "</table>\n",
       "</div>"
      ],
      "text/plain": [
       "                   Model        R2           MSE\n",
       "0       LinearRegression  0.533473  1.084968e+10\n",
       "1           XGBRegressor  0.700380  6.968046e+09\n",
       "2  RandomForestRegressor  0.687739  7.262023e+09\n",
       "3         Neural network  0.627648  8.659531e+09"
      ]
     },
     "execution_count": 307,
     "metadata": {},
     "output_type": "execute_result"
    }
   ],
   "source": [
    "#score collector\n",
    "\n",
    "score_collector=score_collector.append({'Model':'Neural network','R2':metrics.r2_score(y_test, y_pred),\n",
    "                                        'MSE':metrics.mean_squared_error(y_test, y_pred)}, ignore_index=True)\n",
    "\n",
    "score_collector"
   ]
  },
  {
   "cell_type": "code",
   "execution_count": null,
   "id": "polar-temperature",
   "metadata": {},
   "outputs": [],
   "source": []
  },
  {
   "cell_type": "code",
   "execution_count": null,
   "id": "central-groove",
   "metadata": {},
   "outputs": [],
   "source": []
  },
  {
   "cell_type": "code",
   "execution_count": null,
   "id": "permanent-cornell",
   "metadata": {},
   "outputs": [],
   "source": []
  },
  {
   "cell_type": "code",
   "execution_count": null,
   "id": "neither-treasury",
   "metadata": {},
   "outputs": [],
   "source": []
  }
 ],
 "metadata": {
  "kernelspec": {
   "display_name": "Python 3",
   "language": "python",
   "name": "python3"
  },
  "language_info": {
   "codemirror_mode": {
    "name": "ipython",
    "version": 3
   },
   "file_extension": ".py",
   "mimetype": "text/x-python",
   "name": "python",
   "nbconvert_exporter": "python",
   "pygments_lexer": "ipython3",
   "version": "3.8.5"
  },
  "toc": {
   "base_numbering": 1,
   "nav_menu": {},
   "number_sections": true,
   "sideBar": true,
   "skip_h1_title": false,
   "title_cell": "Table of Contents",
   "title_sidebar": "Contents",
   "toc_cell": false,
   "toc_position": {},
   "toc_section_display": true,
   "toc_window_display": true
  }
 },
 "nbformat": 4,
 "nbformat_minor": 5
}
